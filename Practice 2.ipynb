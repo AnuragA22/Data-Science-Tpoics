{
 "cells": [
  {
   "cell_type": "code",
   "execution_count": 1,
   "metadata": {},
   "outputs": [
    {
     "name": "stdout",
     "output_type": "stream",
     "text": [
      "23\n",
      "42\n",
      "12\n",
      "42\n",
      "21\n"
     ]
    }
   ],
   "source": [
    "l= [23,42,12,42,21]\n",
    "for var in l:\n",
    "    print(var)"
   ]
  },
  {
   "cell_type": "code",
   "execution_count": 3,
   "metadata": {},
   "outputs": [
    {
     "name": "stdout",
     "output_type": "stream",
     "text": [
      "A\n",
      "n\n",
      "u\n",
      "r\n",
      "a\n",
      "g\n",
      " \n",
      "A\n"
     ]
    }
   ],
   "source": [
    "s= \"Anurag A\"\n",
    "for char in s:\n",
    "    print(char)"
   ]
  },
  {
   "cell_type": "code",
   "execution_count": 5,
   "metadata": {},
   "outputs": [
    {
     "name": "stdout",
     "output_type": "stream",
     "text": [
      "A n u r a g   A "
     ]
    }
   ],
   "source": [
    "s= \"Anurag A\"\n",
    "for char in s:\n",
    "    print(char, end = \" \")"
   ]
  },
  {
   "cell_type": "code",
   "execution_count": 6,
   "metadata": {},
   "outputs": [],
   "source": [
    "L1 = [10, 20, 30, 24, 18]\n",
    "L2 = [8, 14, 15, 20, 10]\n",
    "L3 = [0, 1, 2, 3, 4]\n",
    "\n",
    "for i in L3:\n",
    "    L3[i] = L1[i] - L2[i]"
   ]
  },
  {
   "cell_type": "code",
   "execution_count": 7,
   "metadata": {},
   "outputs": [
    {
     "data": {
      "text/plain": [
       "[1, 2, 3, 4, 5, 6, 7, 8]"
      ]
     },
     "execution_count": 7,
     "metadata": {},
     "output_type": "execute_result"
    }
   ],
   "source": [
    "l = list(range(1,9))\n",
    "l"
   ]
  },
  {
   "cell_type": "code",
   "execution_count": 12,
   "metadata": {},
   "outputs": [
    {
     "name": "stdout",
     "output_type": "stream",
     "text": [
      "1 2 3 4 5 6 7 8 "
     ]
    }
   ],
   "source": [
    "for i in range(1,9):\n",
    "    print(i, end = \" \")"
   ]
  },
  {
   "cell_type": "code",
   "execution_count": 18,
   "metadata": {},
   "outputs": [
    {
     "name": "stdout",
     "output_type": "stream",
     "text": [
      "[1, 6, 11, 16, 21, 26, 31, 36, 41, 46, 51, 56, 61, 66, 71, 76, 81, 86, 91, 96]\n"
     ]
    }
   ],
   "source": [
    "print(list(range (1,100,5)))"
   ]
  },
  {
   "cell_type": "code",
   "execution_count": 17,
   "metadata": {},
   "outputs": [
    {
     "name": "stdout",
     "output_type": "stream",
     "text": [
      "[100, 97, 94, 91, 88, 85, 82, 79, 76, 73, 70, 67, 64, 61, 58, 55, 52, 49, 46, 43, 40, 37, 34, 31, 28, 25, 22, 19, 16, 13, 10, 7, 4, 1]\n"
     ]
    }
   ],
   "source": [
    "print(list(range (100,0,-3)))"
   ]
  },
  {
   "cell_type": "code",
   "execution_count": null,
   "metadata": {},
   "outputs": [],
   "source": [
    "L1 = [10, 20, 30, 24, 18]\n",
    "L2 = [8, 14, 15, 20, 10]\n",
    "L3 = [0, 1, 2, 3, 4]\n",
    "\n",
    "for i in L3:"
   ]
  },
  {
   "cell_type": "code",
   "execution_count": 32,
   "metadata": {},
   "outputs": [],
   "source": [
    "for n in range (1,50):\n",
    "    flag = True\n",
    "    for i in range (2,n):\n",
    "        if n % i == 0:\n",
    "            flag = False\n",
    "            break\n",
    "            if flag == True:\n",
    "                print(n)"
   ]
  },
  {
   "cell_type": "code",
   "execution_count": null,
   "metadata": {},
   "outputs": [],
   "source": []
  },
  {
   "cell_type": "code",
   "execution_count": null,
   "metadata": {},
   "outputs": [],
   "source": []
  },
  {
   "cell_type": "code",
   "execution_count": 28,
   "metadata": {},
   "outputs": [
    {
     "name": "stdout",
     "output_type": "stream",
     "text": [
      "19\n"
     ]
    }
   ],
   "source": [
    "for n in range (1,20):\n",
    "    flag = True\n",
    "    for i in range (2,n):\n",
    "        if n % i == 0:\n",
    "            flag = False\n",
    "            break\n",
    "if flag == True:\n",
    "    print(n)"
   ]
  },
  {
   "cell_type": "code",
   "execution_count": 24,
   "metadata": {},
   "outputs": [
    {
     "name": "stdout",
     "output_type": "stream",
     "text": [
      "1\n",
      "2\n",
      "3\n",
      "5\n",
      "7\n",
      "11\n",
      "13\n",
      "17\n",
      "19\n"
     ]
    }
   ],
   "source": [
    "for n in range(1, 20):\n",
    "    flag = True\n",
    "    for i in range(2, n):\n",
    "        if n % i == 0:\n",
    "            flag = False\n",
    "            break   \n",
    "    if flag :\n",
    "        print(n)"
   ]
  },
  {
   "cell_type": "code",
   "execution_count": 29,
   "metadata": {},
   "outputs": [
    {
     "name": "stdout",
     "output_type": "stream",
     "text": [
      "1\n",
      "2\n",
      "3\n",
      "5\n",
      "7\n",
      "11\n",
      "13\n",
      "17\n",
      "19\n"
     ]
    }
   ],
   "source": [
    "for n in range(1, 20):\n",
    "    flag = True\n",
    "    for i in range(2, n):\n",
    "        if n % i == 0:\n",
    "            flag = False\n",
    "            break   \n",
    "    if flag :\n",
    "        print(n)"
   ]
  },
  {
   "cell_type": "code",
   "execution_count": 30,
   "metadata": {},
   "outputs": [
    {
     "name": "stdout",
     "output_type": "stream",
     "text": [
      "1\n",
      "2\n",
      "3\n",
      "5\n",
      "7\n",
      "11\n",
      "13\n",
      "17\n",
      "19\n",
      "23\n",
      "29\n"
     ]
    }
   ],
   "source": [
    "for n in range(1, 30):\n",
    "    flag = True\n",
    "    for i in range(2, n):\n",
    "        if n % i == 0:\n",
    "            flag = False\n",
    "            break   \n",
    "    if flag :\n",
    "        print(n)"
   ]
  },
  {
   "cell_type": "code",
   "execution_count": 41,
   "metadata": {},
   "outputs": [
    {
     "name": "stdout",
     "output_type": "stream",
     "text": [
      "1 is a prime\n",
      "2 is a prime\n",
      "3 is a prime\n",
      "5 is a prime\n",
      "7 is a prime\n",
      "11 is a prime\n",
      "13 is a prime\n",
      "17 is a prime\n",
      "19 is a prime\n"
     ]
    }
   ],
   "source": [
    "for n in range(1, 20):\n",
    "    flag = True\n",
    "    for i in range(2, n):\n",
    "        if n % i == 0:\n",
    "            flag = False\n",
    "            break   \n",
    "    if flag :\n",
    "        print(n , \"is a prime\")"
   ]
  },
  {
   "cell_type": "code",
   "execution_count": 43,
   "metadata": {},
   "outputs": [
    {
     "name": "stdout",
     "output_type": "stream",
     "text": [
      "1 is a prime\n",
      "2 is a prime\n",
      "3 is not prime 2\n",
      "3 is a prime\n",
      "4 is not prime 2\n",
      "5 is not prime 2\n",
      "5 is not prime 3\n",
      "5 is not prime 4\n",
      "5 is a prime\n",
      "6 is not prime 2\n",
      "7 is not prime 2\n",
      "7 is not prime 3\n",
      "7 is not prime 4\n",
      "7 is not prime 5\n",
      "7 is not prime 6\n",
      "7 is a prime\n",
      "8 is not prime 2\n",
      "9 is not prime 2\n",
      "9 is not prime 3\n"
     ]
    }
   ],
   "source": [
    "for n in range(1,10):\n",
    "    flag = True\n",
    "    for i in range(2, n):\n",
    "        print( n, \"is not prime\", i)\n",
    "        if n % i == 0:\n",
    "            flag = False\n",
    "            break   \n",
    "    if flag :\n",
    "        print(n , \"is a prime\")"
   ]
  },
  {
   "cell_type": "code",
   "execution_count": 46,
   "metadata": {},
   "outputs": [
    {
     "name": "stdout",
     "output_type": "stream",
     "text": [
      "3\n"
     ]
    }
   ],
   "source": [
    "l = list(range(0, -101,2))\n",
    "print(i)"
   ]
  },
  {
   "cell_type": "code",
   "execution_count": 49,
   "metadata": {},
   "outputs": [
    {
     "ename": "SyntaxError",
     "evalue": "unexpected EOF while parsing (<ipython-input-49-b8f81d7505d1>, line 2)",
     "output_type": "error",
     "traceback": [
      "\u001b[1;36m  File \u001b[1;32m\"<ipython-input-49-b8f81d7505d1>\"\u001b[1;36m, line \u001b[1;32m2\u001b[0m\n\u001b[1;33m    for val in l:\u001b[0m\n\u001b[1;37m                 ^\u001b[0m\n\u001b[1;31mSyntaxError\u001b[0m\u001b[1;31m:\u001b[0m unexpected EOF while parsing\n"
     ]
    }
   ],
   "source": [
    "l = list(range(0, -101,2))\n",
    "for val in l:"
   ]
  },
  {
   "cell_type": "code",
   "execution_count": null,
   "metadata": {},
   "outputs": [],
   "source": []
  },
  {
   "cell_type": "code",
   "execution_count": 48,
   "metadata": {},
   "outputs": [
    {
     "name": "stdout",
     "output_type": "stream",
     "text": [
      "3\n"
     ]
    }
   ],
   "source": [
    "l = list(range(-100, -1,2))\n",
    "print(i)"
   ]
  },
  {
   "cell_type": "code",
   "execution_count": 53,
   "metadata": {},
   "outputs": [],
   "source": [
    "l= list(range(0, -101, 2))\n",
    "for i in range(0, -101, 2):\n",
    "    print(i)"
   ]
  },
  {
   "cell_type": "code",
   "execution_count": 54,
   "metadata": {},
   "outputs": [],
   "source": [
    "l= list(range(0, -101, 2))\n",
    "for i in range(0, -101, 2):\n",
    "    print(i)"
   ]
  },
  {
   "cell_type": "code",
   "execution_count": 55,
   "metadata": {},
   "outputs": [
    {
     "name": "stdout",
     "output_type": "stream",
     "text": [
      "0\n",
      "1\n",
      "2\n"
     ]
    }
   ],
   "source": [
    "d = {0: 'Fish', 1: 'Bird', 2: 'Mammal'}\n",
    "for i in d:\n",
    "    print(i)"
   ]
  },
  {
   "cell_type": "code",
   "execution_count": 3,
   "metadata": {},
   "outputs": [
    {
     "data": {
      "text/plain": [
       "[]"
      ]
     },
     "execution_count": 3,
     "metadata": {},
     "output_type": "execute_result"
    }
   ],
   "source": [
    "l= [\"benz\", \"toyota\", \"honda\", \"audi\", \"tata\", \" mahindra\"]\n",
    "l1 =[]\n",
    "for word in l1:\n",
    "    l1.append(len(word))\n",
    "l1"
   ]
  },
  {
   "cell_type": "code",
   "execution_count": 5,
   "metadata": {},
   "outputs": [
    {
     "data": {
      "text/plain": [
       "[]"
      ]
     },
     "execution_count": 5,
     "metadata": {},
     "output_type": "execute_result"
    }
   ],
   "source": [
    "l= [\"benz\", \"toyota\", \"honda\", \"audi\", \"tata\", \" mahindra\"]\n",
    "l1 =[]\n",
    "for word in l1:\n",
    "    l1.append(len(word))\n",
    "l1"
   ]
  },
  {
   "cell_type": "code",
   "execution_count": 11,
   "metadata": {},
   "outputs": [
    {
     "data": {
      "text/plain": [
       "[4, 6, 5, 4, 4, 9]"
      ]
     },
     "execution_count": 11,
     "metadata": {},
     "output_type": "execute_result"
    }
   ],
   "source": [
    "l = [\"benz\", \"toyota\", \"honda\", \"audi\", \"tata\", \" mahindra\"]\n",
    "l1 = []\n",
    "for i in l:\n",
    "    l1.append(len(i))\n",
    "l1"
   ]
  },
  {
   "cell_type": "code",
   "execution_count": 8,
   "metadata": {},
   "outputs": [
    {
     "data": {
      "text/plain": [
       "[11, 5, 4, 6, 14]"
      ]
     },
     "execution_count": 8,
     "metadata": {},
     "output_type": "execute_result"
    }
   ],
   "source": [
    "l1 = [\"automobiles\", \"Honda\", \"Benz\", \"Suzuki\", \"Morris Garages\" ]\n",
    "\n",
    "l2 = []\n",
    "\n",
    "for i in l1 :\n",
    "    l2.append(len(i))\n",
    "    \n",
    "l2 "
   ]
  },
  {
   "cell_type": "code",
   "execution_count": 12,
   "metadata": {},
   "outputs": [
    {
     "data": {
      "text/plain": [
       "[6, 7, 8, 4, 5, 5]"
      ]
     },
     "execution_count": 12,
     "metadata": {},
     "output_type": "execute_result"
    }
   ],
   "source": [
    "l = [\"Anurag\", \"Akshita\", \"Sangeeta\", \"kuhu\", \"tashi\", \" titu\"]\n",
    "l1 = []\n",
    "for i in l:\n",
    "    l1.append(len(i))\n",
    "l1"
   ]
  },
  {
   "cell_type": "code",
   "execution_count": 13,
   "metadata": {},
   "outputs": [
    {
     "data": {
      "text/plain": [
       "[14, 7, 8, 4, 5, 5]"
      ]
     },
     "execution_count": 13,
     "metadata": {},
     "output_type": "execute_result"
    }
   ],
   "source": [
    "l = [\"Anurag Agarwal\", \"Akshita\", \"Sangeeta\", \"kuhu\", \"tashi\", \" titu\"]\n",
    "l1 = []\n",
    "for i in l:\n",
    "    l1.append(len(i))\n",
    "l1"
   ]
  },
  {
   "cell_type": "code",
   "execution_count": 17,
   "metadata": {},
   "outputs": [
    {
     "data": {
      "text/plain": [
       "[14, 7, 8, 4, 5, 5]"
      ]
     },
     "execution_count": 17,
     "metadata": {},
     "output_type": "execute_result"
    }
   ],
   "source": [
    "l = [\"Anurag Agarwal\", \"Akshita\", \"Sangeeta\", \"kuhu\", \"tashi\", \" titu\"]\n",
    "l2 =[len(i) for i in l]\n",
    "l2"
   ]
  },
  {
   "cell_type": "code",
   "execution_count": 14,
   "metadata": {},
   "outputs": [
    {
     "ename": "TypeError",
     "evalue": "object of type 'int' has no len()",
     "output_type": "error",
     "traceback": [
      "\u001b[1;31m---------------------------------------------------------------------------\u001b[0m",
      "\u001b[1;31mTypeError\u001b[0m                                 Traceback (most recent call last)",
      "\u001b[1;32m<ipython-input-14-3e124995b49c>\u001b[0m in \u001b[0;36m<module>\u001b[1;34m\u001b[0m\n\u001b[1;32m----> 1\u001b[1;33m \u001b[0ml2\u001b[0m \u001b[1;33m=\u001b[0m\u001b[1;33m[\u001b[0m\u001b[0mlen\u001b[0m\u001b[1;33m(\u001b[0m\u001b[0mi\u001b[0m\u001b[1;33m)\u001b[0m \u001b[1;32mfor\u001b[0m \u001b[0mi\u001b[0m \u001b[1;32min\u001b[0m \u001b[0ml1\u001b[0m \u001b[1;33m]\u001b[0m\u001b[1;33m\u001b[0m\u001b[1;33m\u001b[0m\u001b[0m\n\u001b[0m",
      "\u001b[1;32m<ipython-input-14-3e124995b49c>\u001b[0m in \u001b[0;36m<listcomp>\u001b[1;34m(.0)\u001b[0m\n\u001b[1;32m----> 1\u001b[1;33m \u001b[0ml2\u001b[0m \u001b[1;33m=\u001b[0m\u001b[1;33m[\u001b[0m\u001b[0mlen\u001b[0m\u001b[1;33m(\u001b[0m\u001b[0mi\u001b[0m\u001b[1;33m)\u001b[0m \u001b[1;32mfor\u001b[0m \u001b[0mi\u001b[0m \u001b[1;32min\u001b[0m \u001b[0ml1\u001b[0m \u001b[1;33m]\u001b[0m\u001b[1;33m\u001b[0m\u001b[1;33m\u001b[0m\u001b[0m\n\u001b[0m",
      "\u001b[1;31mTypeError\u001b[0m: object of type 'int' has no len()"
     ]
    }
   ],
   "source": [
    "l2 =[len(i) for i in l1 ]"
   ]
  },
  {
   "cell_type": "code",
   "execution_count": 19,
   "metadata": {},
   "outputs": [
    {
     "data": {
      "text/plain": [
       "[14, 7, 8, 4, 5, 5]"
      ]
     },
     "execution_count": 19,
     "metadata": {},
     "output_type": "execute_result"
    }
   ],
   "source": [
    "l = [\"Anurag Agarwal\", \"Akshita\", \"Sangeeta\", \"kuhu\", \"tashi\", \" titu\" ]\n",
    "l2 =[len(i) for i in l]\n",
    "l2"
   ]
  },
  {
   "cell_type": "code",
   "execution_count": 20,
   "metadata": {},
   "outputs": [
    {
     "data": {
      "text/plain": [
       "[2, 6, 15, 4, 8]"
      ]
     },
     "execution_count": 20,
     "metadata": {},
     "output_type": "execute_result"
    }
   ],
   "source": [
    "L1 = [10, 20, 30, 24, 18]\n",
    "L2 = [8, 14, 15, 20, 10]\n",
    "L3 = []\n",
    "for  i in range(len(L1)):\n",
    "    L3.append(L1[i] - L2[i])\n",
    "L3"
   ]
  },
  {
   "cell_type": "code",
   "execution_count": 24,
   "metadata": {},
   "outputs": [
    {
     "data": {
      "text/plain": [
       "[14, 7, 8, 4, 5, 5]"
      ]
     },
     "execution_count": 24,
     "metadata": {},
     "output_type": "execute_result"
    }
   ],
   "source": [
    "l = [\"Anurag Agarwal\", \"Akshita\", \"Sangeeta\", \"kuhu\", \"tashi\", \" titu\" ]\n",
    "l2 =[len(i) for i in l]\n",
    "l2\n",
    "\n"
   ]
  },
  {
   "cell_type": "code",
   "execution_count": 26,
   "metadata": {},
   "outputs": [
    {
     "name": "stdout",
     "output_type": "stream",
     "text": [
      "Anurag Agarwal  -  14\n",
      "Akshita  -  7\n",
      "Sangeeta  -  8\n",
      "kuhu  -  4\n",
      "tashi  -  5\n",
      " titu  -  5\n"
     ]
    }
   ],
   "source": [
    "for i ,j in zip(l,l2):\n",
    "    print(i, \" - \", j)"
   ]
  },
  {
   "cell_type": "code",
   "execution_count": 29,
   "metadata": {},
   "outputs": [
    {
     "data": {
      "text/plain": [
       "{'Anurag Agarwal': 14,\n",
       " 'Akshita': 7,\n",
       " 'Sangeeta': 8,\n",
       " 'kuhu': 4,\n",
       " 'tashi': 5,\n",
       " ' titu': 5}"
      ]
     },
     "execution_count": 29,
     "metadata": {},
     "output_type": "execute_result"
    }
   ],
   "source": [
    "l = [\"Anurag Agarwal\", \"Akshita\", \"Sangeeta\", \"kuhu\", \"tashi\", \" titu\" ]\n",
    "d= {word: len(word) for word in l}\n",
    "d"
   ]
  },
  {
   "cell_type": "code",
   "execution_count": 30,
   "metadata": {},
   "outputs": [
    {
     "name": "stdout",
     "output_type": "stream",
     "text": [
      "{2: 4, 4: 16, 6: 36, 8: 64, 10: 100, 12: 144, 14: 196, 16: 256, 18: 324, 20: 400}\n"
     ]
    }
   ],
   "source": [
    "ordinary_dict ={}\n",
    "\n",
    "for i in range(2,21):\n",
    "    if i % 2 == 0:\n",
    "        ordinary_dict[i] = i**2\n",
    "\n",
    "print(ordinary_dict)"
   ]
  },
  {
   "cell_type": "code",
   "execution_count": 31,
   "metadata": {},
   "outputs": [
    {
     "name": "stdout",
     "output_type": "stream",
     "text": [
      "{2: 4, 4: 16, 6: 36, 8: 64, 10: 100, 12: 144, 14: 196, 16: 256, 18: 324, 20: 400}\n"
     ]
    }
   ],
   "source": [
    "updated_dict = {i : i**2 for i in range(2,21) if i % 2 ==0}\n",
    "print(updated_dict)"
   ]
  },
  {
   "cell_type": "code",
   "execution_count": 34,
   "metadata": {},
   "outputs": [
    {
     "name": "stdout",
     "output_type": "stream",
     "text": [
      "enter a word:anurag weds sangeeta in june\n"
     ]
    }
   ],
   "source": [
    "w= input(\"enter a word:\")"
   ]
  },
  {
   "cell_type": "code",
   "execution_count": 35,
   "metadata": {},
   "outputs": [
    {
     "name": "stdout",
     "output_type": "stream",
     "text": [
      "enter a word:anurag weds sangeeta in june\n",
      "a\n",
      "u\n",
      "a\n",
      "e\n",
      "a\n",
      "e\n",
      "e\n",
      "a\n",
      "i\n",
      "u\n",
      "e\n"
     ]
    }
   ],
   "source": [
    "w= input(\"enter a word:\")\n",
    "for i in w:\n",
    "    if i in \"aeiou\":\n",
    "        print(i)"
   ]
  },
  {
   "cell_type": "code",
   "execution_count": 42,
   "metadata": {},
   "outputs": [
    {
     "name": "stdout",
     "output_type": "stream",
     "text": [
      "enter a word:anurag\n"
     ]
    },
    {
     "data": {
      "text/plain": [
       "'aeiou'"
      ]
     },
     "execution_count": 42,
     "metadata": {},
     "output_type": "execute_result"
    }
   ],
   "source": [
    "w= input(\"enter a word:\")\n",
    "vowel =(i for i in w if i is \"aeiou\")\n",
    "vowels = \"aeiou\"\n",
    "vowels"
   ]
  },
  {
   "cell_type": "code",
   "execution_count": 75,
   "metadata": {},
   "outputs": [
    {
     "name": "stdout",
     "output_type": "stream",
     "text": [
      "67\n",
      "{16, 1, 4, 9}\n"
     ]
    }
   ],
   "source": [
    "n= input()\n",
    "n  = {i**2 for i in range(1,5) if i % 1 ==0}\n",
    "print(n)"
   ]
  },
  {
   "cell_type": "code",
   "execution_count": 76,
   "metadata": {},
   "outputs": [],
   "source": [
    "input_list = list(range(1,100))\n",
    "output_dict = {}\n",
    "\n",
    "for val in input_list:\n",
    "    if val % 3 == 0:\n",
    "        output_dict[val] = val**3"
   ]
  },
  {
   "cell_type": "code",
   "execution_count": 51,
   "metadata": {},
   "outputs": [
    {
     "ename": "SyntaxError",
     "evalue": "invalid syntax (<ipython-input-51-26f72538bc60>, line 1)",
     "output_type": "error",
     "traceback": [
      "\u001b[1;36m  File \u001b[1;32m\"<ipython-input-51-26f72538bc60>\"\u001b[1;36m, line \u001b[1;32m1\u001b[0m\n\u001b[1;33m    help(%)\u001b[0m\n\u001b[1;37m         ^\u001b[0m\n\u001b[1;31mSyntaxError\u001b[0m\u001b[1;31m:\u001b[0m invalid syntax\n"
     ]
    }
   ],
   "source": []
  },
  {
   "cell_type": "code",
   "execution_count": 81,
   "metadata": {},
   "outputs": [],
   "source": [
    "input_list = list(range(1,100))\n",
    "output_dict = {val : val**3 for val in input_list if val % 3 == 0}\n",
    "\n",
    "for val in input_list:\n",
    "    if val % 3 == 0:\n",
    "        output_dict[val] = val**3"
   ]
  },
  {
   "cell_type": "code",
   "execution_count": null,
   "metadata": {},
   "outputs": [],
   "source": []
  },
  {
   "cell_type": "code",
   "execution_count": null,
   "metadata": {},
   "outputs": [],
   "source": []
  },
  {
   "cell_type": "code",
   "execution_count": null,
   "metadata": {},
   "outputs": [],
   "source": []
  },
  {
   "cell_type": "code",
   "execution_count": 46,
   "metadata": {},
   "outputs": [
    {
     "name": "stdout",
     "output_type": "stream",
     "text": [
      "{}\n"
     ]
    }
   ],
   "source": [
    "n1 ={}\n",
    "\n",
    "for i in range(2,9):\n",
    "    if i % 2 == 0:\n",
    "        ordinary_dict[i] = i**2\n",
    "\n",
    "print(n1)"
   ]
  },
  {
   "cell_type": "code",
   "execution_count": 86,
   "metadata": {},
   "outputs": [],
   "source": [
    "\n",
    "a= (list(range(1,100)))\n",
    "d = {val : val**3 for val in input_list if val % 3 == 0}\n",
    "\n",
    "for val in input_list:\n",
    "    if val % 3 == 0:\n",
    "        d[val] = val**3"
   ]
  },
  {
   "cell_type": "code",
   "execution_count": 87,
   "metadata": {},
   "outputs": [],
   "source": [
    "a= (list(range(1,100)))\n",
    "d = {val : val**3 for val in input_list if val % 3 == 0}\n",
    "\n",
    "for val in input_list:\n",
    "    if val % 3 == 0:\n",
    "        d[val] = val**3"
   ]
  },
  {
   "cell_type": "code",
   "execution_count": 88,
   "metadata": {},
   "outputs": [
    {
     "name": "stdout",
     "output_type": "stream",
     "text": [
      "['ad', 'ae', 'af', 'bd', 'be', 'bf', 'cd', 'ce', 'cf']\n"
     ]
    }
   ],
   "source": [
    "print([i+j for i in \"abc\" for j in \"def\"])"
   ]
  },
  {
   "cell_type": "code",
   "execution_count": 89,
   "metadata": {},
   "outputs": [
    {
     "name": "stdout",
     "output_type": "stream",
     "text": [
      "['12', '11', '13', '15', '32', '31', '33', '35', '22', '21', '23', '25', '42', '41', '43', '45']\n"
     ]
    }
   ],
   "source": [
    "print([i+j for i in \"1324\" for j in \"2135\"])"
   ]
  },
  {
   "cell_type": "code",
   "execution_count": 96,
   "metadata": {},
   "outputs": [
    {
     "name": "stdout",
     "output_type": "stream",
     "text": [
      "['21', '11', '31', '51', '23', '13', '33', '53', '22', '12', '32', '52', '24', '14', '34', '54']\n"
     ]
    }
   ],
   "source": [
    "print([j+i for i in \"1324\" for j in \"2135\"])"
   ]
  },
  {
   "cell_type": "code",
   "execution_count": 98,
   "metadata": {},
   "outputs": [
    {
     "name": "stdout",
     "output_type": "stream",
     "text": [
      "['as', 'aa', 'an', 'ag', 'ns', 'na', 'nn', 'ng', 'us', 'ua', 'un', 'ug']\n"
     ]
    }
   ],
   "source": [
    "print([i+j for i in \"anu\" for j in \"sang\"])"
   ]
  },
  {
   "cell_type": "code",
   "execution_count": 99,
   "metadata": {},
   "outputs": [
    {
     "name": "stdout",
     "output_type": "stream",
     "text": [
      "{'A': 'aaa', 'C': 'ccc', 'B': 'bbb', 'D': 'ddd'}\n"
     ]
    }
   ],
   "source": [
    "d = {x.upper(): x*3 for x in 'acbd'}\n",
    "print(d)"
   ]
  },
  {
   "cell_type": "code",
   "execution_count": 101,
   "metadata": {},
   "outputs": [
    {
     "name": "stdout",
     "output_type": "stream",
     "text": [
      "{'A': 'AAA', 'B': 'BBB', 'C': 'ccc'}\n"
     ]
    }
   ],
   "source": [
    "d = {x.upper(): x*3 for x in 'ABc'}\n",
    "print(d)"
   ]
  },
  {
   "cell_type": "code",
   "execution_count": 104,
   "metadata": {},
   "outputs": [
    {
     "name": "stdout",
     "output_type": "stream",
     "text": [
      "{'a': 'AA', 'b': 'bb', 'c': 'CC', 'd': 'dd'}\n"
     ]
    }
   ],
   "source": [
    "d = {x.lower(): x*2 for x in 'AbCd'}\n",
    "print(d)"
   ]
  },
  {
   "cell_type": "code",
   "execution_count": 106,
   "metadata": {},
   "outputs": [
    {
     "name": "stdout",
     "output_type": "stream",
     "text": [
      "{'a': 'AAAA', 'b': 'bbbb', 'c': 'CCCC', 'd': 'dddd'}\n"
     ]
    }
   ],
   "source": [
    "d = {x.lower(): x*4 for x in 'AbCd'}\n",
    "print(d)"
   ]
  },
  {
   "cell_type": "code",
   "execution_count": 109,
   "metadata": {},
   "outputs": [],
   "source": [
    "l= ['wood','old','apple','big','item','euphoria']\n",
    "for i in l:\n",
    "    if i in \"aeiou\":\n",
    "        print(i)\n"
   ]
  },
  {
   "cell_type": "code",
   "execution_count": 112,
   "metadata": {},
   "outputs": [
    {
     "name": "stdout",
     "output_type": "stream",
     "text": [
      "wood','old','apple','big','item','euphoria'\n",
      "o\n",
      "o\n",
      "o\n",
      "a\n",
      "e\n",
      "i\n",
      "i\n",
      "e\n",
      "e\n",
      "u\n",
      "o\n",
      "i\n",
      "a\n"
     ]
    }
   ],
   "source": [
    "\n",
    "a= input()\n",
    "l= a\n",
    "for i in l:\n",
    "    if i in \"aeiou\":\n",
    "        print(i)\n"
   ]
  },
  {
   "cell_type": "code",
   "execution_count": 113,
   "metadata": {},
   "outputs": [
    {
     "ename": "SyntaxError",
     "evalue": "invalid syntax (<ipython-input-113-1769cbaaeee1>, line 1)",
     "output_type": "error",
     "traceback": [
      "\u001b[1;36m  File \u001b[1;32m\"<ipython-input-113-1769cbaaeee1>\"\u001b[1;36m, line \u001b[1;32m1\u001b[0m\n\u001b[1;33m    n= 5:\u001b[0m\n\u001b[1;37m        ^\u001b[0m\n\u001b[1;31mSyntaxError\u001b[0m\u001b[1;31m:\u001b[0m invalid syntax\n"
     ]
    }
   ],
   "source": [
    "n= 5:\n",
    "    n"
   ]
  },
  {
   "cell_type": "code",
   "execution_count": 118,
   "metadata": {},
   "outputs": [
    {
     "data": {
      "text/plain": [
       "2"
      ]
     },
     "execution_count": 118,
     "metadata": {},
     "output_type": "execute_result"
    }
   ],
   "source": [
    "def factorial(n):\n",
    "    fact=1\n",
    "    for i in range(n, n+1):\n",
    "        fact = fact+1\n",
    "    return fact\n",
    "factorial(5)"
   ]
  },
  {
   "cell_type": "code",
   "execution_count": 126,
   "metadata": {},
   "outputs": [
    {
     "data": {
      "text/plain": [
       "720"
      ]
     },
     "execution_count": 126,
     "metadata": {},
     "output_type": "execute_result"
    }
   ],
   "source": [
    "def factorial(n):\n",
    "    \n",
    "    fact=1\n",
    "    \n",
    "    for i in range(1, n+1):\n",
    "         fact*= i\n",
    "        \n",
    "    return fact\n",
    "\n",
    "factorial(6)"
   ]
  },
  {
   "cell_type": "code",
   "execution_count": 123,
   "metadata": {},
   "outputs": [
    {
     "data": {
      "text/plain": [
       "120"
      ]
     },
     "execution_count": 123,
     "metadata": {},
     "output_type": "execute_result"
    }
   ],
   "source": [
    "def factorial(n):\n",
    "    \n",
    "    fact = 1\n",
    "    \n",
    "    for i in range(1, n+1):\n",
    "        fact *= i\n",
    "    \n",
    "    return fact\n",
    "\n",
    "factorial(5)"
   ]
  },
  {
   "cell_type": "code",
   "execution_count": 127,
   "metadata": {},
   "outputs": [
    {
     "data": {
      "text/plain": [
       "120"
      ]
     },
     "execution_count": 127,
     "metadata": {},
     "output_type": "execute_result"
    }
   ],
   "source": [
    "factorial(5)"
   ]
  },
  {
   "cell_type": "code",
   "execution_count": 128,
   "metadata": {},
   "outputs": [
    {
     "data": {
      "text/plain": [
       "39916800"
      ]
     },
     "execution_count": 128,
     "metadata": {},
     "output_type": "execute_result"
    }
   ],
   "source": [
    "factorial(11)"
   ]
  },
  {
   "cell_type": "code",
   "execution_count": 150,
   "metadata": {},
   "outputs": [
    {
     "name": "stdout",
     "output_type": "stream",
     "text": [
      "6\n",
      "7\n"
     ]
    }
   ],
   "source": [
    "x= int(input())\n",
    "y= int(input())\n",
    "n= (x**y)\n",
    "def squared(n):\n",
    "    fact=1\n",
    "    for i in range (1,10):\n",
    "        fact=i\n",
    "        return fact\n",
    "    squared(n)\n"
   ]
  },
  {
   "cell_type": "code",
   "execution_count": null,
   "metadata": {},
   "outputs": [],
   "source": [
    "x= int(input())\n",
    "y= int(input())\n",
    "n= (x**y)\n",
    "print(n)"
   ]
  },
  {
   "cell_type": "code",
   "execution_count": null,
   "metadata": {},
   "outputs": [],
   "source": [
    "x= input()\n",
    "y= input()\n",
    "n= (x**y)\n",
    "n"
   ]
  },
  {
   "cell_type": "code",
   "execution_count": null,
   "metadata": {},
   "outputs": [],
   "source": [
    "x= input()\n",
    "y= input()\n",
    "n= (x**y)\n",
    "n"
   ]
  },
  {
   "cell_type": "code",
   "execution_count": 3,
   "metadata": {},
   "outputs": [
    {
     "ename": "SyntaxError",
     "evalue": "invalid syntax (<ipython-input-3-7def51206d55>, line 3)",
     "output_type": "error",
     "traceback": [
      "\u001b[1;36m  File \u001b[1;32m\"<ipython-input-3-7def51206d55>\"\u001b[1;36m, line \u001b[1;32m3\u001b[0m\n\u001b[1;33m    func(x, y):\u001b[0m\n\u001b[1;37m               ^\u001b[0m\n\u001b[1;31mSyntaxError\u001b[0m\u001b[1;31m:\u001b[0m invalid syntax\n"
     ]
    }
   ],
   "source": [
    "\n",
    "func(x, y):\n",
    "    z = x * y + x + y\n",
    "\n",
    "func(2)"
   ]
  },
  {
   "cell_type": "code",
   "execution_count": null,
   "metadata": {},
   "outputs": [],
   "source": []
  },
  {
   "cell_type": "code",
   "execution_count": null,
   "metadata": {},
   "outputs": [],
   "source": []
  },
  {
   "cell_type": "code",
   "execution_count": null,
   "metadata": {},
   "outputs": [],
   "source": []
  },
  {
   "cell_type": "code",
   "execution_count": 4,
   "metadata": {},
   "outputs": [
    {
     "ename": "TypeError",
     "evalue": "func() missing 1 required positional argument: 'y'",
     "output_type": "error",
     "traceback": [
      "\u001b[1;31m---------------------------------------------------------------------------\u001b[0m",
      "\u001b[1;31mTypeError\u001b[0m                                 Traceback (most recent call last)",
      "\u001b[1;32m<ipython-input-4-81165dfba48f>\u001b[0m in \u001b[0;36m<module>\u001b[1;34m\u001b[0m\n\u001b[0;32m      2\u001b[0m     \u001b[0mz\u001b[0m \u001b[1;33m=\u001b[0m \u001b[0mx\u001b[0m \u001b[1;33m*\u001b[0m \u001b[0my\u001b[0m \u001b[1;33m+\u001b[0m \u001b[0mx\u001b[0m \u001b[1;33m+\u001b[0m \u001b[0my\u001b[0m\u001b[1;33m\u001b[0m\u001b[1;33m\u001b[0m\u001b[0m\n\u001b[0;32m      3\u001b[0m \u001b[1;33m\u001b[0m\u001b[0m\n\u001b[1;32m----> 4\u001b[1;33m \u001b[0mfunc\u001b[0m\u001b[1;33m(\u001b[0m\u001b[1;36m2\u001b[0m\u001b[1;33m)\u001b[0m\u001b[1;33m\u001b[0m\u001b[1;33m\u001b[0m\u001b[0m\n\u001b[0m",
      "\u001b[1;31mTypeError\u001b[0m: func() missing 1 required positional argument: 'y'"
     ]
    }
   ],
   "source": [
    "def func(x, y):\n",
    "    z = x * y + x + y\n",
    "\n",
    "func(2)"
   ]
  },
  {
   "cell_type": "code",
   "execution_count": null,
   "metadata": {},
   "outputs": [],
   "source": []
  },
  {
   "cell_type": "code",
   "execution_count": 1,
   "metadata": {},
   "outputs": [
    {
     "name": "stdout",
     "output_type": "stream",
     "text": [
      "['old', 'apple', 'item', 'euphoria']\n"
     ]
    }
   ],
   "source": [
    "input_list = ['wood','old','apple','big','item','euphoria']\n",
    "\n",
    "list_vowel = [i for i in input_list if i.lower().startswith(('a','e','i','o','u'))]\n",
    "\n",
    "print(list_vowel)"
   ]
  },
  {
   "cell_type": "code",
   "execution_count": 14,
   "metadata": {},
   "outputs": [],
   "source": [
    "def func( name, age= 41):\n",
    "    print(\"name:\", name)\n",
    "    print(\"age:\", age)"
   ]
  },
  {
   "cell_type": "code",
   "execution_count": null,
   "metadata": {},
   "outputs": [],
   "source": []
  },
  {
   "cell_type": "code",
   "execution_count": 13,
   "metadata": {},
   "outputs": [
    {
     "name": "stdout",
     "output_type": "stream",
     "text": [
      "name: anurag\n",
      "age: 41\n"
     ]
    }
   ],
   "source": [
    "func(\"anurag\")"
   ]
  },
  {
   "cell_type": "code",
   "execution_count": 15,
   "metadata": {},
   "outputs": [
    {
     "name": "stdout",
     "output_type": "stream",
     "text": [
      "name: sangeeta\n",
      "age: 41\n",
      "name: sangeeta\n",
      "age: 41\n",
      "name: sangeeta\n",
      "age: 41\n",
      "name: sangeeta\n",
      "age: 41\n",
      "name: sangeeta\n",
      "age: 41\n",
      "name: sangeeta\n",
      "age: 41\n",
      "name: sangeeta\n",
      "age: 41\n",
      "name: sangeeta\n",
      "age: 41\n",
      "name: sangeeta\n",
      "age: 41\n",
      "name: sangeeta\n",
      "age: 41\n",
      "name: sangeeta\n",
      "age: 41\n",
      "name: sangeeta\n",
      "age: 41\n",
      "name: sangeeta\n",
      "age: 41\n",
      "name: sangeeta\n",
      "age: 41\n",
      "name: sangeeta\n",
      "age: 41\n",
      "name: sangeeta\n",
      "age: 41\n",
      "name: sangeeta\n",
      "age: 41\n",
      "name: sangeeta\n",
      "age: 41\n",
      "name: sangeeta\n",
      "age: 41\n",
      "name: sangeeta\n",
      "age: 41\n",
      "name: sangeeta\n",
      "age: 41\n",
      "name: sangeeta\n",
      "age: 41\n",
      "name: sangeeta\n",
      "age: 41\n",
      "name: sangeeta\n",
      "age: 41\n",
      "name: sangeeta\n",
      "age: 41\n",
      "name: sangeeta\n",
      "age: 41\n",
      "name: sangeeta\n",
      "age: 41\n",
      "name: sangeeta\n",
      "age: 41\n",
      "name: sangeeta\n",
      "age: 41\n",
      "name: sangeeta\n",
      "age: 41\n",
      "name: sangeeta\n",
      "age: 41\n",
      "name: sangeeta\n",
      "age: 41\n",
      "name: sangeeta\n",
      "age: 41\n",
      "name: sangeeta\n",
      "age: 41\n",
      "name: sangeeta\n",
      "age: 41\n",
      "name: sangeeta\n",
      "age: 41\n",
      "name: sangeeta\n",
      "age: 41\n",
      "name: sangeeta\n",
      "age: 41\n",
      "name: sangeeta\n",
      "age: 41\n",
      "name: sangeeta\n",
      "age: 41\n",
      "name: sangeeta\n",
      "age: 41\n",
      "name: sangeeta\n",
      "age: 41\n",
      "name: sangeeta\n",
      "age: 41\n",
      "name: sangeeta\n",
      "age: 41\n",
      "name: sangeeta\n",
      "age: 41\n",
      "name: sangeeta\n",
      "age: 41\n",
      "name: sangeeta\n",
      "age: 41\n",
      "name: sangeeta\n",
      "age: 41\n",
      "name: sangeeta\n",
      "age: 41\n",
      "name: sangeeta\n",
      "age: 41\n",
      "name: sangeeta\n",
      "age: 41\n",
      "name: sangeeta\n",
      "age: 41\n",
      "name: sangeeta\n",
      "age: 41\n",
      "name: sangeeta\n",
      "age: 41\n",
      "name: sangeeta\n",
      "age: 41\n",
      "name: sangeeta\n",
      "age: 41\n",
      "name: sangeeta\n",
      "age: 41\n",
      "name: sangeeta\n",
      "age: 41\n",
      "name: sangeeta\n",
      "age: 41\n",
      "name: sangeeta\n",
      "age: 41\n",
      "name: sangeeta\n",
      "age: 41\n",
      "name: sangeeta\n",
      "age: 41\n",
      "name: sangeeta\n",
      "age: 41\n",
      "name: sangeeta\n",
      "age: 41\n",
      "name: sangeeta\n",
      "age: 41\n",
      "name: sangeeta\n",
      "age: 41\n",
      "name: sangeeta\n",
      "age: 41\n",
      "name: sangeeta\n",
      "age: 41\n",
      "name: sangeeta\n",
      "age: 41\n",
      "name: sangeeta\n",
      "age: 41\n",
      "name: sangeeta\n",
      "age: 41\n",
      "name: sangeeta\n",
      "age: 41\n",
      "name: sangeeta\n",
      "age: 41\n",
      "name: sangeeta\n",
      "age: 41\n",
      "name: sangeeta\n",
      "age: 41\n",
      "name: sangeeta\n",
      "age: 41\n",
      "name: sangeeta\n",
      "age: 41\n",
      "name: sangeeta\n",
      "age: 41\n",
      "name: sangeeta\n",
      "age: 41\n",
      "name: sangeeta\n",
      "age: 41\n",
      "name: sangeeta\n",
      "age: 41\n",
      "name: sangeeta\n",
      "age: 41\n",
      "name: sangeeta\n",
      "age: 41\n",
      "name: sangeeta\n",
      "age: 41\n",
      "name: sangeeta\n",
      "age: 41\n",
      "name: sangeeta\n",
      "age: 41\n",
      "name: sangeeta\n",
      "age: 41\n",
      "name: sangeeta\n",
      "age: 41\n",
      "name: sangeeta\n",
      "age: 41\n",
      "name: sangeeta\n",
      "age: 41\n",
      "name: sangeeta\n",
      "age: 41\n",
      "name: sangeeta\n",
      "age: 41\n",
      "name: sangeeta\n",
      "age: 41\n",
      "name: sangeeta\n",
      "age: 41\n",
      "name: sangeeta\n",
      "age: 41\n",
      "name: sangeeta\n",
      "age: 41\n",
      "name: sangeeta\n",
      "age: 41\n",
      "name: sangeeta\n",
      "age: 41\n",
      "name: sangeeta\n",
      "age: 41\n",
      "name: sangeeta\n",
      "age: 41\n",
      "name: sangeeta\n",
      "age: 41\n",
      "name: sangeeta\n",
      "age: 41\n",
      "name: sangeeta\n",
      "age: 41\n",
      "name: sangeeta\n",
      "age: 41\n",
      "name: sangeeta\n",
      "age: 41\n",
      "name: sangeeta\n",
      "age: 41\n",
      "name: sangeeta\n",
      "age: 41\n",
      "name: sangeeta\n",
      "age: 41\n",
      "name: sangeeta\n",
      "age: 41\n",
      "name: sangeeta\n",
      "age: 41\n",
      "name: sangeeta\n",
      "age: 41\n",
      "name: sangeeta\n",
      "age: 41\n",
      "name: sangeeta\n",
      "age: 41\n",
      "name: sangeeta\n",
      "age: 41\n",
      "name: sangeeta\n",
      "age: 41\n",
      "name: sangeeta\n",
      "age: 41\n",
      "name: sangeeta\n",
      "age: 41\n",
      "name: sangeeta\n",
      "age: 41\n",
      "name: sangeeta\n",
      "age: 41\n",
      "name: sangeeta\n",
      "age: 41\n",
      "name: sangeeta\n",
      "age: 41\n",
      "name: sangeeta\n",
      "age: 41\n",
      "name: sangeeta\n",
      "age: 41\n",
      "name: sangeeta\n",
      "age: 41\n",
      "name: sangeeta\n",
      "age: 41\n",
      "name: sangeeta\n",
      "age: 41\n",
      "name: sangeeta\n",
      "age: 41\n",
      "name: sangeeta\n",
      "age: 41\n",
      "name: sangeeta\n",
      "age: 41\n",
      "name: sangeeta\n",
      "age: 41\n",
      "name: sangeeta\n",
      "age: 41\n",
      "name: sangeeta\n",
      "age: 41\n",
      "name: sangeeta\n",
      "age: 41\n",
      "name: sangeeta\n",
      "age: 41\n",
      "name: sangeeta\n",
      "age: 41\n",
      "name: sangeeta\n",
      "age: 41\n",
      "name: sangeeta\n",
      "age: 41\n",
      "name: sangeeta\n",
      "age: 41\n",
      "name: sangeeta\n",
      "age: 41\n",
      "name: sangeeta\n",
      "age: 41\n",
      "name: sangeeta\n",
      "age: 41\n",
      "name: sangeeta\n",
      "age: 41\n",
      "name: sangeeta\n",
      "age: 41\n",
      "name: sangeeta\n",
      "age: 41\n",
      "name: sangeeta\n",
      "age: 41\n",
      "name: sangeeta\n",
      "age: 41\n",
      "name: sangeeta\n",
      "age: 41\n",
      "name: sangeeta\n",
      "age: 41\n",
      "name: sangeeta\n",
      "age: 41\n",
      "name: sangeeta\n",
      "age: 41\n",
      "name: sangeeta\n",
      "age: 41\n",
      "name: sangeeta\n",
      "age: 41\n",
      "name: sangeeta\n",
      "age: 41\n",
      "name: sangeeta\n",
      "age: 41\n",
      "name: sangeeta\n",
      "age: 41\n",
      "name: sangeeta\n",
      "age: 41\n",
      "name: sangeeta\n",
      "age: 41\n",
      "name: sangeeta\n",
      "age: 41\n",
      "name: sangeeta\n",
      "age: 41\n",
      "name: sangeeta\n",
      "age: 41\n",
      "name: sangeeta\n",
      "age: 41\n",
      "name: sangeeta\n",
      "age: 41\n",
      "name: sangeeta\n",
      "age: 41\n",
      "name: sangeeta\n",
      "age: 41\n",
      "name: sangeeta\n",
      "age: 41\n",
      "name: sangeeta\n",
      "age: 41\n",
      "name: sangeeta\n",
      "age: 41\n",
      "name: sangeeta\n",
      "age: 41\n",
      "name: sangeeta\n",
      "age: 41\n",
      "name: sangeeta\n",
      "age: 41\n",
      "name: sangeeta\n",
      "age: 41\n",
      "name: sangeeta\n",
      "age: 41\n",
      "name: sangeeta\n",
      "age: 41\n",
      "name: sangeeta\n",
      "age: 41\n",
      "name: sangeeta\n",
      "age: 41\n",
      "name: sangeeta\n",
      "age: 41\n",
      "name: sangeeta\n",
      "age: 41\n",
      "name: sangeeta\n",
      "age: 41\n",
      "name: sangeeta\n",
      "age: 41\n",
      "name: sangeeta\n",
      "age: 41\n",
      "name: sangeeta\n",
      "age: 41\n",
      "name: sangeeta\n",
      "age: 41\n",
      "name: sangeeta\n",
      "age: 41\n",
      "name: sangeeta\n",
      "age: 41\n",
      "name: sangeeta\n",
      "age: 41\n",
      "name: sangeeta\n",
      "age: 41\n",
      "name: sangeeta\n",
      "age: 41\n",
      "name: sangeeta\n",
      "age: 41\n",
      "name: sangeeta\n",
      "age: 41\n",
      "name: sangeeta\n",
      "age: 41\n",
      "name: sangeeta\n",
      "age: 41\n",
      "name: sangeeta\n",
      "age: 41\n",
      "name: sangeeta\n",
      "age: 41\n",
      "name: sangeeta\n",
      "age: 41\n",
      "name: sangeeta\n",
      "age: 41\n",
      "name: sangeeta\n",
      "age: 41\n",
      "name: sangeeta\n",
      "age: 41\n",
      "name: sangeeta\n",
      "age: 41\n",
      "name: sangeeta\n",
      "age: 41\n",
      "name: sangeeta\n",
      "age: 41\n",
      "name: sangeeta\n",
      "age: 41\n",
      "name: sangeeta\n",
      "age: 41\n",
      "name: sangeeta\n",
      "age: 41\n",
      "name: sangeeta\n",
      "age: 41\n",
      "name: sangeeta\n",
      "age: 41\n",
      "name: sangeeta\n",
      "age: 41\n",
      "name: sangeeta\n",
      "age: 41\n",
      "name: sangeeta\n",
      "age: 41\n",
      "name: sangeeta\n",
      "age: 41\n",
      "name: sangeeta\n",
      "age: 41\n",
      "name: sangeeta\n",
      "age: 41\n",
      "name: sangeeta\n",
      "age: 41\n",
      "name: sangeeta\n",
      "age: 41\n",
      "name: sangeeta\n",
      "age: 41\n",
      "name: sangeeta\n",
      "age: 41\n",
      "name: sangeeta\n",
      "age: 41\n",
      "name: sangeeta\n",
      "age: 41\n",
      "name: sangeeta\n",
      "age: 41\n",
      "name: sangeeta\n",
      "age: 41\n",
      "name: sangeeta\n",
      "age: 41\n",
      "name: sangeeta\n",
      "age: 41\n",
      "name: sangeeta\n",
      "age: 41\n",
      "name: sangeeta\n",
      "age: 41\n",
      "name: sangeeta\n",
      "age: 41\n",
      "name: sangeeta\n",
      "age: 41\n",
      "name: sangeeta\n",
      "age: 41\n",
      "name: sangeeta\n",
      "age: 41\n",
      "name: sangeeta\n",
      "age: 41\n",
      "name: sangeeta\n",
      "age: 41\n",
      "name: sangeeta\n",
      "age: 41\n",
      "name: sangeeta\n",
      "age: 41\n",
      "name: sangeeta\n",
      "age: 41\n",
      "name: sangeeta\n",
      "age: 41\n",
      "name: sangeeta\n",
      "age: 41\n",
      "name: sangeeta\n",
      "age: 41\n",
      "name: sangeeta\n",
      "age: 41\n",
      "name: sangeeta\n",
      "age: 41\n",
      "name: sangeeta\n",
      "age: 41\n",
      "name: sangeeta\n",
      "age: 41\n",
      "name: sangeeta\n",
      "age: 41\n",
      "name: sangeeta\n",
      "age: 41\n",
      "name: sangeeta\n",
      "age: 41\n",
      "name: sangeeta\n",
      "age: 41\n",
      "name: sangeeta\n",
      "age: 41\n",
      "name: sangeeta\n",
      "age: 41\n",
      "name: sangeeta\n",
      "age: 41\n",
      "name: sangeeta\n",
      "age: 41\n",
      "name: sangeeta\n",
      "age: 41\n",
      "name: sangeeta\n",
      "age: 41\n",
      "name: sangeeta\n",
      "age: 41\n",
      "name: sangeeta\n",
      "age: 41\n",
      "name: sangeeta\n",
      "age: 41\n",
      "name: sangeeta\n",
      "age: 41\n",
      "name: sangeeta\n",
      "age: 41\n",
      "name: sangeeta\n",
      "age: 41\n",
      "name: sangeeta\n",
      "age: 41\n",
      "name: sangeeta\n",
      "age: 41\n",
      "name: sangeeta\n",
      "age: 41\n",
      "name: sangeeta\n",
      "age: 41\n",
      "name: sangeeta\n",
      "age: 41\n",
      "name: sangeeta\n",
      "age: 41\n",
      "name: sangeeta\n",
      "age: 41\n",
      "name: sangeeta\n",
      "age: 41\n",
      "name: sangeeta\n",
      "age: 41\n",
      "name: sangeeta\n",
      "age: 41\n",
      "name: sangeeta\n",
      "age: 41\n",
      "name: sangeeta\n",
      "age: 41\n",
      "name: sangeeta\n",
      "age: 41\n",
      "name: sangeeta\n",
      "age: 41\n",
      "name: sangeeta\n",
      "age: 41\n",
      "name: sangeeta\n",
      "age: 41\n",
      "name: sangeeta\n",
      "age: 41\n",
      "name: sangeeta\n",
      "age: 41\n",
      "name: sangeeta\n",
      "age: 41\n",
      "name: sangeeta\n",
      "age: 41\n",
      "name: sangeeta\n",
      "age: 41\n",
      "name: sangeeta\n",
      "age: 41\n",
      "name: sangeeta\n",
      "age: 41\n",
      "name: sangeeta\n",
      "age: 41\n",
      "name: sangeeta\n",
      "age: 41\n",
      "name: sangeeta\n",
      "age: 41\n",
      "name: sangeeta\n",
      "age: 41\n",
      "name: sangeeta\n",
      "age: 41\n",
      "name: sangeeta\n",
      "age: 41\n",
      "name: sangeeta\n",
      "age: 41\n",
      "name: sangeeta\n",
      "age: 41\n",
      "name: sangeeta\n",
      "age: 41\n",
      "name: sangeeta\n",
      "age: 41\n",
      "name: sangeeta\n",
      "age: 41\n",
      "name: sangeeta\n",
      "age: 41\n",
      "name: sangeeta\n",
      "age: 41\n",
      "name: sangeeta\n",
      "age: 41\n",
      "name: sangeeta\n",
      "age: 41\n",
      "name: sangeeta\n",
      "age: 41\n",
      "name: sangeeta\n",
      "age: 41\n",
      "name: sangeeta\n",
      "age: 41\n",
      "name: sangeeta\n",
      "age: 41\n",
      "name: sangeeta\n",
      "age: 41\n",
      "name: sangeeta\n",
      "age: 41\n",
      "name: sangeeta\n",
      "age: 41\n",
      "name: sangeeta\n",
      "age: 41\n",
      "name: sangeeta\n",
      "age: 41\n",
      "name: sangeeta\n",
      "age: 41\n",
      "name: sangeeta\n",
      "age: 41\n",
      "name: sangeeta\n",
      "age: 41\n",
      "name: sangeeta\n",
      "age: 41\n",
      "name: sangeeta\n",
      "age: 41\n",
      "name: sangeeta\n",
      "age: 41\n",
      "name: sangeeta\n",
      "age: 41\n",
      "name: sangeeta\n",
      "age: 41\n",
      "name: sangeeta\n",
      "age: 41\n",
      "name: sangeeta\n",
      "age: 41\n",
      "name: sangeeta\n",
      "age: 41\n",
      "name: sangeeta\n",
      "age: 41\n",
      "name: sangeeta\n",
      "age: 41\n",
      "name: sangeeta\n",
      "age: 41\n",
      "name: sangeeta\n",
      "age: 41\n",
      "name: sangeeta\n",
      "age: 41\n",
      "name: sangeeta\n",
      "age: 41\n",
      "name: sangeeta\n",
      "age: 41\n",
      "name: sangeeta\n",
      "age: 41\n",
      "name: sangeeta\n",
      "age: 41\n",
      "name: sangeeta\n",
      "age: 41\n",
      "name: sangeeta\n",
      "age: 41\n",
      "name: sangeeta\n",
      "age: 41\n",
      "name: sangeeta\n",
      "age: 41\n",
      "name: sangeeta\n",
      "age: 41\n",
      "name: sangeeta\n",
      "age: 41\n",
      "name: sangeeta\n",
      "age: 41\n",
      "name: sangeeta\n",
      "age: 41\n",
      "name: sangeeta\n",
      "age: 41\n",
      "name: sangeeta\n",
      "age: 41\n",
      "name: sangeeta\n",
      "age: 41\n",
      "name: sangeeta\n",
      "age: 41\n",
      "name: sangeeta\n",
      "age: 41\n",
      "name: sangeeta\n",
      "age: 41\n",
      "name: sangeeta\n",
      "age: 41\n",
      "name: sangeeta\n",
      "age: 41\n",
      "name: sangeeta\n",
      "age: 41\n",
      "name: sangeeta\n",
      "age: 41\n",
      "name: sangeeta\n",
      "age: 41\n",
      "name: sangeeta\n",
      "age: 41\n",
      "name: sangeeta\n",
      "age: 41\n",
      "name: sangeeta\n",
      "age: 41\n",
      "name: sangeeta\n",
      "age: 41\n",
      "name: sangeeta\n",
      "age: 41\n",
      "name: sangeeta\n",
      "age: 41\n",
      "name: sangeeta\n",
      "age: 41\n",
      "name: sangeeta\n",
      "age: 41\n",
      "name: sangeeta\n",
      "age: 41\n",
      "name: sangeeta\n",
      "age: 41\n",
      "name: sangeeta\n",
      "age: 41\n",
      "name: sangeeta\n",
      "age: 41\n",
      "name: sangeeta\n",
      "age: 41\n",
      "name: sangeeta\n",
      "age: 41\n",
      "name: sangeeta\n",
      "age: 41\n",
      "name: sangeeta\n",
      "age: 41\n",
      "name: sangeeta\n",
      "age: 41\n",
      "name: sangeeta\n",
      "age: 41\n",
      "name: sangeeta\n",
      "age: 41\n",
      "name: sangeeta\n",
      "age: 41\n",
      "name: sangeeta\n",
      "age: 41\n",
      "name: sangeeta\n",
      "age: 41\n",
      "name: sangeeta\n",
      "age: 41\n",
      "name: sangeeta\n",
      "age: 41\n",
      "name: sangeeta\n",
      "age: 41\n",
      "name: sangeeta\n",
      "age: 41\n",
      "name: sangeeta\n",
      "age: 41\n",
      "name: sangeeta\n",
      "age: 41\n",
      "name: sangeeta\n",
      "age: 41\n",
      "name: sangeeta\n",
      "age: 41\n",
      "name: sangeeta\n",
      "age: 41\n",
      "name: sangeeta\n",
      "age: 41\n",
      "name: sangeeta\n",
      "age: 41\n",
      "name: sangeeta\n",
      "age: 41\n",
      "name: sangeeta\n",
      "age: 41\n",
      "name: sangeeta\n",
      "age: 41\n",
      "name: sangeeta\n",
      "age: 41\n",
      "name: sangeeta\n",
      "age: 41\n",
      "name: sangeeta\n",
      "age: 41\n",
      "name: sangeeta\n",
      "age: 41\n",
      "name: sangeeta\n",
      "age: 41\n",
      "name: sangeeta\n",
      "age: 41\n",
      "name: sangeeta\n",
      "age: 41\n",
      "name: sangeeta\n",
      "age: 41\n",
      "name: sangeeta\n",
      "age: 41\n",
      "name: sangeeta\n",
      "age: 41\n",
      "name: sangeeta\n",
      "age: 41\n",
      "name: sangeeta\n",
      "age: 41\n",
      "name: sangeeta\n",
      "age: 41\n",
      "name: sangeeta\n",
      "age: 41\n",
      "name: sangeeta\n",
      "age: 41\n",
      "name: sangeeta\n",
      "age: 41\n",
      "name: sangeeta\n",
      "age: 41\n",
      "name: sangeeta\n",
      "age: 41\n",
      "name: sangeeta\n",
      "age: 41\n",
      "name: sangeeta\n",
      "age: 41\n",
      "name: sangeeta\n",
      "age: 41\n",
      "name: sangeeta\n",
      "age: 41\n",
      "name: sangeeta\n",
      "age: 41\n",
      "name: sangeeta\n",
      "age: 41\n",
      "name: sangeeta\n",
      "age: 41\n",
      "name: sangeeta\n",
      "age: 41\n",
      "name: sangeeta\n",
      "age: 41\n",
      "name: sangeeta\n",
      "age: 41\n",
      "name: sangeeta\n",
      "age: 41\n",
      "name: sangeeta\n",
      "age: 41\n",
      "name: sangeeta\n",
      "age: 41\n",
      "name: sangeeta\n",
      "age: 41\n",
      "name: sangeeta\n",
      "age: 41\n",
      "name: sangeeta\n",
      "age: 41\n",
      "name: sangeeta\n",
      "age: 41\n",
      "name: sangeeta\n",
      "age: 41\n",
      "name: sangeeta\n",
      "age: 41\n",
      "name: sangeeta\n",
      "age: 41\n",
      "name: sangeeta\n",
      "age: 41\n",
      "name: sangeeta\n",
      "age: 41\n",
      "name: sangeeta\n",
      "age: 41\n",
      "name: sangeeta\n",
      "age: 41\n",
      "name: sangeeta\n",
      "age: 41\n",
      "name: sangeeta\n",
      "age: 41\n",
      "name: sangeeta\n",
      "age: 41\n",
      "name: sangeeta\n",
      "age: 41\n",
      "name: sangeeta\n",
      "age: 41\n",
      "name: sangeeta\n",
      "age: 41\n",
      "name: sangeeta\n",
      "age: 41\n",
      "name: sangeeta\n",
      "age: 41\n",
      "name: sangeeta\n",
      "age: 41\n",
      "name: sangeeta\n",
      "age: 41\n",
      "name: sangeeta\n",
      "age: 41\n",
      "name: sangeeta\n",
      "age: 41\n",
      "name: sangeeta\n",
      "age: 41\n",
      "name: sangeeta\n",
      "age: 41\n",
      "name: sangeeta\n",
      "age: 41\n",
      "name: sangeeta\n",
      "age: 41\n",
      "name: sangeeta\n",
      "age: 41\n",
      "name: sangeeta\n",
      "age: 41\n",
      "name: sangeeta\n",
      "age: 41\n",
      "name: sangeeta\n",
      "age: 41\n",
      "name: sangeeta\n",
      "age: 41\n",
      "name: sangeeta\n",
      "age: 41\n",
      "name: sangeeta\n",
      "age: 41\n",
      "name: sangeeta\n",
      "age: 41\n",
      "name: sangeeta\n",
      "age: 41\n",
      "name: sangeeta\n",
      "age: 41\n",
      "name: sangeeta\n",
      "age: 41\n",
      "name: sangeeta\n",
      "age: 41\n",
      "name: sangeeta\n",
      "age: 41\n",
      "name: sangeeta\n",
      "age: 41\n",
      "name: sangeeta\n",
      "age: 41\n",
      "name: sangeeta\n",
      "age: 41\n",
      "name: sangeeta\n",
      "age: 41\n",
      "name: sangeeta\n",
      "age: 41\n",
      "name: sangeeta\n",
      "age: 41\n",
      "name: sangeeta\n",
      "age: 41\n",
      "name: sangeeta\n",
      "age: 41\n",
      "name: sangeeta\n",
      "age: 41\n",
      "name: sangeeta\n",
      "age: 41\n",
      "name: sangeeta\n",
      "age: 41\n",
      "name: sangeeta\n",
      "age: 41\n",
      "name: sangeeta\n",
      "age: 41\n",
      "name: sangeeta\n",
      "age: 41\n",
      "name: sangeeta\n",
      "age: 41\n",
      "name: sangeeta\n",
      "age: 41\n",
      "name: sangeeta\n",
      "age: 41\n",
      "name: sangeeta\n",
      "age: 41\n",
      "name: sangeeta\n",
      "age: 41\n",
      "name: sangeeta\n",
      "age: 41\n",
      "name: sangeeta\n",
      "age: 41\n",
      "name: sangeeta\n",
      "age: 41\n",
      "name: sangeeta\n",
      "age: 41\n",
      "name: sangeeta\n",
      "age: 41\n",
      "name: sangeeta\n",
      "age: 41\n",
      "name: sangeeta\n",
      "age: 41\n",
      "name: sangeeta\n",
      "age: 41\n",
      "name: sangeeta\n",
      "age: 41\n",
      "name: sangeeta\n",
      "age: 41\n",
      "name: sangeeta\n",
      "age: 41\n",
      "name: sangeeta\n",
      "age: 41\n",
      "name: sangeeta\n",
      "age: 41\n",
      "name: sangeeta\n",
      "age: 41\n",
      "name: sangeeta\n",
      "age: 41\n",
      "name: sangeeta\n",
      "age: 41\n",
      "name: sangeeta\n",
      "age: 41\n",
      "name: sangeeta\n",
      "age: 41\n",
      "name: sangeeta\n",
      "age: 41\n",
      "name: sangeeta\n",
      "age: 41\n",
      "name: sangeeta\n",
      "age: 41\n",
      "name: sangeeta\n",
      "age: 41\n",
      "name: sangeeta\n",
      "age: 41\n",
      "name: sangeeta\n",
      "age: 41\n",
      "name: sangeeta\n",
      "age: 41\n",
      "name: sangeeta\n",
      "age: 41\n",
      "name: sangeeta\n",
      "age: 41\n",
      "name: sangeeta\n",
      "age: 41\n",
      "name: sangeeta\n",
      "age: 41\n",
      "name: sangeeta\n",
      "age: 41\n",
      "name: sangeeta\n",
      "age: 41\n",
      "name: sangeeta\n",
      "age: 41\n",
      "name: sangeeta\n",
      "age: 41\n",
      "name: sangeeta\n",
      "age: 41\n",
      "name: sangeeta\n",
      "age: 41\n",
      "name: sangeeta\n",
      "age: 41\n",
      "name: sangeeta\n",
      "age: 41\n",
      "name: sangeeta\n",
      "age: 41\n",
      "name: sangeeta\n",
      "age: 41\n",
      "name: sangeeta\n",
      "age: 41\n",
      "name: sangeeta\n",
      "age: 41\n",
      "name: sangeeta\n",
      "age: 41\n",
      "name: sangeeta\n",
      "age: 41\n",
      "name: sangeeta\n",
      "age: 41\n",
      "name: sangeeta\n",
      "age: 41\n",
      "name: sangeeta\n",
      "age: 41\n",
      "name: sangeeta\n",
      "age: 41\n",
      "name: sangeeta\n",
      "age: 41\n",
      "name: sangeeta\n",
      "age: 41\n",
      "name: sangeeta\n",
      "age: 41\n",
      "name: sangeeta\n",
      "age: 41\n",
      "name: sangeeta\n",
      "age: 41\n",
      "name: sangeeta\n",
      "age: 41\n",
      "name: sangeeta\n",
      "age: 41\n",
      "name: sangeeta\n",
      "age: 41\n",
      "name: sangeeta\n",
      "age: 41\n",
      "name: sangeeta\n",
      "age: 41\n",
      "name: sangeeta\n",
      "age: 41\n",
      "name: sangeeta\n",
      "age: 41\n",
      "name: sangeeta\n",
      "age: 41\n",
      "name: sangeeta\n",
      "age: 41\n",
      "name: sangeeta\n",
      "age: 41\n",
      "name: sangeeta\n",
      "age: 41\n",
      "name: sangeeta\n",
      "age: 41\n",
      "name: sangeeta\n",
      "age: 41\n",
      "name: sangeeta\n",
      "age: 41\n",
      "name: sangeeta\n",
      "age: 41\n",
      "name: sangeeta\n",
      "age: 41\n",
      "name: sangeeta\n",
      "age: 41\n",
      "name: sangeeta\n",
      "age: 41\n",
      "name: sangeeta\n",
      "age: 41\n",
      "name: sangeeta\n",
      "age: 41\n",
      "name: sangeeta\n",
      "age: 41\n",
      "name: sangeeta\n",
      "age: 41\n",
      "name: sangeeta\n",
      "age: 41\n",
      "name: sangeeta\n",
      "age: 41\n",
      "name: sangeeta\n",
      "age: 41\n",
      "name: sangeeta\n",
      "age: 41\n",
      "name: sangeeta\n",
      "age: 41\n",
      "name: sangeeta\n",
      "age: 41\n",
      "name: sangeeta\n",
      "age: 41\n",
      "name: sangeeta\n",
      "age: 41\n",
      "name: sangeeta\n",
      "age: 41\n",
      "name: sangeeta\n",
      "age: 41\n",
      "name: sangeeta\n",
      "age: 41\n",
      "name: sangeeta\n",
      "age: 41\n",
      "name: sangeeta\n",
      "age: 41\n",
      "name: sangeeta\n",
      "age: 41\n",
      "name: sangeeta\n",
      "age: 41\n",
      "name: sangeeta\n",
      "age: 41\n",
      "name: sangeeta\n",
      "age: 41\n",
      "name: sangeeta\n",
      "age: 41\n",
      "name: sangeeta\n",
      "age: 41\n",
      "name: sangeeta\n",
      "age: 41\n",
      "name: sangeeta\n",
      "age: 41\n",
      "name: sangeeta\n",
      "age: 41\n",
      "name: sangeeta\n",
      "age: 41\n",
      "name: sangeeta\n",
      "age: 41\n",
      "name: sangeeta\n",
      "age: 41\n",
      "name: sangeeta\n",
      "age: 41\n",
      "name: sangeeta\n",
      "age: 41\n",
      "name: sangeeta\n",
      "age: 41\n",
      "name: sangeeta\n",
      "age: 41\n",
      "name: sangeeta\n",
      "age: 41\n",
      "name: sangeeta\n",
      "age: 41\n",
      "name: sangeeta\n",
      "age: 41\n",
      "name: sangeeta\n",
      "age: 41\n",
      "name: sangeeta\n",
      "age: 41\n",
      "name: sangeeta\n",
      "age: 41\n",
      "name: sangeeta\n",
      "age: 41\n",
      "name: sangeeta\n",
      "age: 41\n",
      "name: sangeeta\n",
      "age: 41\n",
      "name: sangeeta\n",
      "age: 41\n",
      "name: sangeeta\n",
      "age: 41\n",
      "name: sangeeta\n",
      "age: 41\n",
      "name: sangeeta\n",
      "age: 41\n",
      "name: sangeeta\n",
      "age: 41\n",
      "name: sangeeta\n",
      "age: 41\n",
      "name: sangeeta\n",
      "age: 41\n",
      "name: sangeeta\n",
      "age: 41\n",
      "name: sangeeta\n",
      "age: 41\n",
      "name: sangeeta\n",
      "age: 41\n",
      "name: sangeeta\n",
      "age: 41\n",
      "name: sangeeta\n",
      "age: 41\n",
      "name: sangeeta\n",
      "age: 41\n",
      "name: sangeeta\n",
      "age: 41\n",
      "name: sangeeta\n",
      "age: 41\n",
      "name: sangeeta\n",
      "age: 41\n",
      "name: sangeeta\n",
      "age: 41\n",
      "name: sangeeta\n",
      "age: 41\n",
      "name: sangeeta\n",
      "age: 41\n",
      "name: sangeeta\n",
      "age: 41\n",
      "name: sangeeta\n",
      "age: 41\n",
      "name: sangeeta\n",
      "age: 41\n",
      "name: sangeeta\n",
      "age: 41\n",
      "name: sangeeta\n",
      "age: 41\n",
      "name: sangeeta\n",
      "age: 41\n",
      "name: sangeeta\n",
      "age: 41\n",
      "name: sangeeta\n",
      "age: 41\n",
      "name: sangeeta\n",
      "age: 41\n",
      "name: sangeeta\n",
      "age: 41\n",
      "name: sangeeta\n",
      "age: 41\n",
      "name: sangeeta\n",
      "age: 41\n",
      "name: sangeeta\n",
      "age: 41\n",
      "name: sangeeta\n",
      "age: 41\n",
      "name: sangeeta\n",
      "age: 41\n",
      "name: sangeeta\n",
      "age: 41\n",
      "name: sangeeta\n",
      "age: 41\n",
      "name: sangeeta\n",
      "age: 41\n",
      "name: sangeeta\n",
      "age: 41\n",
      "name: sangeeta\n",
      "age: 41\n",
      "name: sangeeta\n",
      "age: 41\n",
      "name: sangeeta\n",
      "age: 41\n",
      "name: sangeeta\n",
      "age: 41\n",
      "name: sangeeta\n",
      "age: 41\n",
      "name: sangeeta\n",
      "age: 41\n",
      "name: sangeeta\n",
      "age: 41\n",
      "name: sangeeta\n",
      "age: 41\n",
      "name: sangeeta\n",
      "age: 41\n",
      "name: sangeeta\n",
      "age: 41\n",
      "name: sangeeta\n",
      "age: 41\n",
      "name: sangeeta\n",
      "age: 41\n",
      "name: sangeeta\n",
      "age: 41\n",
      "name: sangeeta\n",
      "age: 41\n",
      "name: sangeeta\n",
      "age: 41\n",
      "name: sangeeta\n",
      "age: 41\n",
      "name: sangeeta\n",
      "age: 41\n",
      "name: sangeeta\n",
      "age: 41\n",
      "name: sangeeta\n",
      "age: 41\n",
      "name: sangeeta\n",
      "age: 41\n",
      "name: sangeeta\n",
      "age: 41\n",
      "name: sangeeta\n",
      "age: 41\n",
      "name: sangeeta\n",
      "age: 41\n",
      "name: sangeeta\n",
      "age: 41\n",
      "name: sangeeta\n",
      "age: 41\n",
      "name: sangeeta\n",
      "age: 41\n",
      "name: sangeeta\n",
      "age: 41\n",
      "name: sangeeta\n",
      "age: 41\n",
      "name: sangeeta\n",
      "age: 41\n",
      "name: sangeeta\n",
      "age: 41\n",
      "name: sangeeta\n",
      "age: 41\n",
      "name: sangeeta\n",
      "age: 41\n",
      "name: sangeeta\n",
      "age: 41\n",
      "name: sangeeta\n",
      "age: 41\n",
      "name: sangeeta\n",
      "age: 41\n",
      "name: sangeeta\n",
      "age: 41\n",
      "name: sangeeta\n",
      "age: 41\n",
      "name: sangeeta\n",
      "age: 41\n",
      "name: sangeeta\n",
      "age: 41\n",
      "name: sangeeta\n",
      "age: 41\n",
      "name: sangeeta\n",
      "age: 41\n",
      "name: sangeeta\n",
      "age: 41\n",
      "name: sangeeta\n",
      "age: 41\n",
      "name: sangeeta\n",
      "age: 41\n",
      "name: sangeeta\n",
      "age: 41\n",
      "name: sangeeta\n",
      "age: 41\n",
      "name: sangeeta\n",
      "age: 41\n",
      "name: sangeeta\n",
      "age: 41\n",
      "name: sangeeta\n",
      "age: 41\n",
      "name: sangeeta\n",
      "age: 41\n",
      "name: sangeeta\n",
      "age: 41\n",
      "name: sangeeta\n",
      "age: 41\n",
      "name: sangeeta\n",
      "age: 41\n",
      "name: sangeeta\n",
      "age: 41\n",
      "name: sangeeta\n",
      "age: 41\n",
      "name: sangeeta\n",
      "age: 41\n",
      "name: sangeeta\n",
      "age: 41\n",
      "name: sangeeta\n",
      "age: 41\n",
      "name: sangeeta\n",
      "age: 41\n",
      "name: sangeeta\n",
      "age: 41\n",
      "name: sangeeta\n",
      "age: 41\n",
      "name: sangeeta\n",
      "age: 41\n",
      "name: sangeeta\n",
      "age: 41\n",
      "name: sangeeta\n",
      "age: 41\n",
      "name: sangeeta\n",
      "age: 41\n",
      "name: sangeeta\n",
      "age: 41\n",
      "name: sangeeta\n",
      "age: 41\n",
      "name: sangeeta\n",
      "age: 41\n",
      "name: sangeeta\n",
      "age: 41\n",
      "name: sangeeta\n",
      "age: 41\n",
      "name: sangeeta\n",
      "age: 41\n",
      "name: sangeeta\n",
      "age: 41\n",
      "name: sangeeta\n",
      "age: 41\n",
      "name: sangeeta\n",
      "age: 41\n",
      "name: sangeeta\n",
      "age: 41\n",
      "name: sangeeta\n",
      "age: 41\n",
      "name: sangeeta\n",
      "age: 41\n",
      "name: sangeeta\n",
      "age: 41\n",
      "name: sangeeta\n",
      "age: 41\n",
      "name: sangeeta\n",
      "age: 41\n",
      "name: sangeeta\n",
      "age: 41\n",
      "name: sangeeta\n",
      "age: 41\n",
      "name: sangeeta\n",
      "age: 41\n",
      "name: sangeeta\n",
      "age: 41\n",
      "name: sangeeta\n",
      "age: 41\n",
      "name: sangeeta\n",
      "age: 41\n",
      "name: sangeeta\n",
      "age: 41\n",
      "name: sangeeta\n",
      "age: 41\n",
      "name: sangeeta\n",
      "age: 41\n",
      "name: sangeeta\n",
      "age: 41\n",
      "name: sangeeta\n",
      "age: 41\n",
      "name: sangeeta\n",
      "age: 41\n",
      "name: sangeeta\n",
      "age: 41\n",
      "name: sangeeta\n",
      "age: 41\n",
      "name: sangeeta\n",
      "age: 41\n",
      "name: sangeeta\n",
      "age: 41\n",
      "name: sangeeta\n",
      "age: 41\n",
      "name: sangeeta\n",
      "age: 41\n",
      "name: sangeeta\n",
      "age: 41\n",
      "name: sangeeta\n",
      "age: 41\n",
      "name: sangeeta\n",
      "age: 41\n",
      "name: sangeeta\n",
      "age: 41\n",
      "name: sangeeta\n",
      "age: 41\n",
      "name: sangeeta\n",
      "age: 41\n",
      "name: sangeeta\n",
      "age: 41\n",
      "name: sangeeta\n",
      "age: 41\n",
      "name: sangeeta\n",
      "age: 41\n",
      "name: sangeeta\n",
      "age: 41\n",
      "name: sangeeta\n",
      "age: 41\n",
      "name: sangeeta\n",
      "age: 41\n",
      "name: sangeeta\n",
      "age: 41\n",
      "name: sangeeta\n",
      "age: 41\n",
      "name: sangeeta\n",
      "age: 41\n",
      "name: sangeeta\n",
      "age: 41\n",
      "name: sangeeta\n",
      "age: 41\n",
      "name: sangeeta\n",
      "age: 41\n",
      "name: sangeeta\n",
      "age: 41\n",
      "name: sangeeta\n",
      "age: 41\n",
      "name: sangeeta\n",
      "age: 41\n",
      "name: sangeeta\n",
      "age: 41\n",
      "name: sangeeta\n",
      "age: 41\n",
      "name: sangeeta\n",
      "age: 41\n",
      "name: sangeeta\n",
      "age: 41\n",
      "name: sangeeta\n",
      "age: 41\n",
      "name: sangeeta\n",
      "age: 41\n",
      "name: sangeeta\n",
      "age: 41\n",
      "name: sangeeta\n",
      "age: 41\n",
      "name: sangeeta\n",
      "age: 41\n",
      "name: sangeeta\n",
      "age: 41\n",
      "name: sangeeta\n",
      "age: 41\n",
      "name: sangeeta\n",
      "age: 41\n",
      "name: sangeeta\n",
      "age: 41\n",
      "name: sangeeta\n",
      "age: 41\n",
      "name: sangeeta\n",
      "age: 41\n",
      "name: sangeeta\n",
      "age: 41\n",
      "name: sangeeta\n",
      "age: 41\n",
      "name: sangeeta\n",
      "age: 41\n",
      "name: sangeeta\n",
      "age: 41\n",
      "name: sangeeta\n",
      "age: 41\n",
      "name: sangeeta\n",
      "age: 41\n",
      "name: sangeeta\n",
      "age: 41\n",
      "name: sangeeta\n",
      "age: 41\n",
      "name: sangeeta\n",
      "age: 41\n",
      "name: sangeeta\n",
      "age: 41\n",
      "name: sangeeta\n",
      "age: 41\n",
      "name: sangeeta\n",
      "age: 41\n",
      "name: sangeeta\n",
      "age: 41\n",
      "name: sangeeta\n",
      "age: 41\n",
      "name: sangeeta\n",
      "age: 41\n",
      "name: sangeeta\n",
      "age: 41\n",
      "name: sangeeta\n",
      "age: 41\n",
      "name: sangeeta\n",
      "age: 41\n",
      "name: sangeeta\n",
      "age: 41\n",
      "name: sangeeta\n",
      "age: 41\n",
      "name: sangeeta\n",
      "age: 41\n",
      "name: sangeeta\n",
      "age: 41\n",
      "name: sangeeta\n",
      "age: 41\n",
      "name: sangeeta\n",
      "age: 41\n",
      "name: sangeeta\n",
      "age: 41\n",
      "name: sangeeta\n",
      "age: 41\n",
      "name: sangeeta\n",
      "age: 41\n",
      "name: sangeeta\n",
      "age: 41\n",
      "name: sangeeta\n",
      "age: 41\n",
      "name: sangeeta\n",
      "age: 41\n",
      "name: sangeeta\n",
      "age: 41\n",
      "name: sangeeta\n",
      "age: 41\n",
      "name: sangeeta\n",
      "age: 41\n",
      "name: sangeeta\n",
      "age: 41\n",
      "name: sangeeta\n",
      "age: 41\n",
      "name: sangeeta\n",
      "age: 41\n",
      "name: sangeeta\n",
      "age: 41\n",
      "name: sangeeta\n",
      "age: 41\n",
      "name: sangeeta\n",
      "age: 41\n",
      "name: sangeeta\n",
      "age: 41\n",
      "name: sangeeta\n",
      "age: 41\n",
      "name: sangeeta\n",
      "age: 41\n",
      "name: sangeeta\n",
      "age: 41\n",
      "name: sangeeta\n",
      "age: 41\n",
      "name: sangeeta\n",
      "age: 41\n",
      "name: sangeeta\n",
      "age: 41\n",
      "name: sangeeta\n",
      "age: 41\n",
      "name: sangeeta\n",
      "age: 41\n",
      "name: sangeeta\n",
      "age: 41\n",
      "name: sangeeta\n",
      "age: 41\n",
      "name: sangeeta\n",
      "age: 41\n",
      "name: sangeeta\n",
      "age: 41\n",
      "name: sangeeta\n",
      "age: 41\n",
      "name: sangeeta\n",
      "age: 41\n",
      "name: sangeeta\n",
      "age: 41\n",
      "name: sangeeta\n",
      "age: 41\n",
      "name: sangeeta\n",
      "age: 41\n",
      "name: sangeeta\n",
      "age: 41\n",
      "name: sangeeta\n",
      "age: 41\n",
      "name: sangeeta\n",
      "age: 41\n",
      "name: sangeeta\n",
      "age: 41\n",
      "name: sangeeta\n",
      "age: 41\n",
      "name: sangeeta\n",
      "age: 41\n",
      "name: sangeeta\n",
      "age: 41\n",
      "name: sangeeta\n",
      "age: 41\n",
      "name: sangeeta\n",
      "age: 41\n",
      "name: sangeeta\n",
      "age: 41\n",
      "name: sangeeta\n",
      "age: 41\n",
      "name: sangeeta\n",
      "age: 41\n",
      "name: sangeeta\n",
      "age: 41\n",
      "name: sangeeta\n",
      "age: 41\n",
      "name: sangeeta\n",
      "age: 41\n",
      "name: sangeeta\n",
      "age: 41\n",
      "name: sangeeta\n",
      "age: 41\n",
      "name: sangeeta\n",
      "age: 41\n",
      "name: sangeeta\n",
      "age: 41\n",
      "name: sangeeta\n",
      "age: 41\n",
      "name: sangeeta\n",
      "age: 41\n",
      "name: sangeeta\n",
      "age: 41\n",
      "name: sangeeta\n",
      "age: 41\n",
      "name: sangeeta\n",
      "age: 41\n",
      "name: sangeeta\n",
      "age: 41\n",
      "name: sangeeta\n",
      "age: 41\n",
      "name: sangeeta\n",
      "age: 41\n",
      "name: sangeeta\n",
      "age: 41\n",
      "name: sangeeta\n",
      "age: 41\n",
      "name: sangeeta\n",
      "age: 41\n",
      "name: sangeeta\n",
      "age: 41\n",
      "name: sangeeta\n",
      "age: 41\n",
      "name: sangeeta\n",
      "age: 41\n",
      "name: sangeeta\n",
      "age: 41\n",
      "name: sangeeta\n",
      "age: 41\n",
      "name: sangeeta\n",
      "age: 41\n",
      "name: sangeeta\n",
      "age: 41\n",
      "name: sangeeta\n",
      "age: 41\n",
      "name: sangeeta\n",
      "age: 41\n",
      "name: sangeeta\n",
      "age: 41\n",
      "name: sangeeta\n",
      "age: 41\n",
      "name: sangeeta\n",
      "age: 41\n",
      "name: sangeeta\n",
      "age: 41\n",
      "name: sangeeta\n",
      "age: 41\n",
      "name: sangeeta\n",
      "age: 41\n",
      "name: sangeeta\n",
      "age: 41\n",
      "name: sangeeta\n",
      "age: 41\n",
      "name: sangeeta\n",
      "age: 41\n",
      "name: sangeeta\n",
      "age: 41\n",
      "name: sangeeta\n",
      "age: 41\n",
      "name: sangeeta\n",
      "age: 41\n",
      "name: sangeeta\n",
      "age: 41\n",
      "name: sangeeta\n",
      "age: 41\n",
      "name: sangeeta\n",
      "age: 41\n",
      "name: sangeeta\n",
      "age: 41\n",
      "name: sangeeta\n",
      "age: 41\n",
      "name: sangeeta\n",
      "age: 41\n",
      "name: sangeeta\n",
      "age: 41\n",
      "name: sangeeta\n",
      "age: 41\n",
      "name: sangeeta\n",
      "age: 41\n",
      "name: sangeeta\n",
      "age: 41\n",
      "name: sangeeta\n",
      "age: 41\n",
      "name: sangeeta\n",
      "age: 41\n",
      "name: sangeeta\n",
      "age: 41\n",
      "name: sangeeta\n",
      "age: 41\n",
      "name: sangeeta\n",
      "age: 41\n",
      "name: sangeeta\n",
      "age: 41\n",
      "name: sangeeta\n",
      "age: 41\n",
      "name: sangeeta\n",
      "age: 41\n",
      "name: sangeeta\n",
      "age: 41\n",
      "name: sangeeta\n",
      "age: 41\n",
      "name: sangeeta\n",
      "age: 41\n",
      "name: sangeeta\n",
      "age: 41\n",
      "name: sangeeta\n",
      "age: 41\n",
      "name: sangeeta\n",
      "age: 41\n",
      "name: sangeeta\n",
      "age: 41\n",
      "name: sangeeta\n",
      "age: 41\n",
      "name: sangeeta\n",
      "age: 41\n",
      "name: sangeeta\n",
      "age: 41\n",
      "name: sangeeta\n",
      "age: 41\n",
      "name: sangeeta\n",
      "age: 41\n",
      "name: sangeeta\n",
      "age: 41\n",
      "name: sangeeta\n",
      "age: 41\n",
      "name: sangeeta\n",
      "age: 41\n",
      "name: sangeeta\n",
      "age: 41\n",
      "name: sangeeta\n",
      "age: 41\n",
      "name: sangeeta\n",
      "age: 41\n",
      "name: sangeeta\n",
      "age: 41\n",
      "name: sangeeta\n",
      "age: 41\n",
      "name: sangeeta\n",
      "age: 41\n",
      "name: sangeeta\n",
      "age: 41\n",
      "name: sangeeta\n",
      "age: 41\n",
      "name: sangeeta\n",
      "age: 41\n",
      "name: sangeeta\n",
      "age: 41\n",
      "name: sangeeta\n",
      "age: 41\n",
      "name: sangeeta\n",
      "age: 41\n",
      "name: sangeeta\n",
      "age: 41\n",
      "name: sangeeta\n",
      "age: 41\n",
      "name: sangeeta\n",
      "age: 41\n",
      "name: sangeeta\n",
      "age: 41\n",
      "name: sangeeta\n",
      "age: 41\n",
      "name: sangeeta\n",
      "age: 41\n",
      "name: sangeeta\n",
      "age: 41\n",
      "name: sangeeta\n",
      "age: 41\n",
      "name: sangeeta\n",
      "age: 41\n",
      "name: sangeeta\n",
      "age: 41\n",
      "name: sangeeta\n",
      "age: 41\n",
      "name: sangeeta\n",
      "age: 41\n",
      "name: sangeeta\n",
      "age: 41\n",
      "name: sangeeta\n",
      "age: 41\n",
      "name: sangeeta\n",
      "age: 41\n",
      "name: sangeeta\n",
      "age: 41\n",
      "name: sangeeta\n",
      "age: 41\n",
      "name: sangeeta\n",
      "age: 41\n",
      "name: sangeeta\n",
      "age: 41\n",
      "name: sangeeta\n",
      "age: 41\n",
      "name: sangeeta\n",
      "age: 41\n",
      "name: sangeeta\n",
      "age: 41\n",
      "name: sangeeta\n",
      "age: 41\n",
      "name: sangeeta\n",
      "age: 41\n",
      "name: sangeeta\n",
      "age: 41\n",
      "name: sangeeta\n",
      "age: 41\n",
      "name: sangeeta\n",
      "age: 41\n",
      "name: sangeeta\n",
      "age: 41\n",
      "name: sangeeta\n",
      "age: 41\n",
      "name: sangeeta\n",
      "age: 41\n",
      "name: sangeeta\n",
      "age: 41\n",
      "name: sangeeta\n",
      "age: 41\n",
      "name: sangeeta\n",
      "age: 41\n",
      "name: sangeeta\n",
      "age: 41\n",
      "name: sangeeta\n",
      "age: 41\n",
      "name: sangeeta\n",
      "age: 41\n",
      "name: sangeeta\n",
      "age: 41\n",
      "name: sangeeta\n",
      "age: 41\n",
      "name: sangeeta\n",
      "age: 41\n",
      "name: sangeeta\n",
      "age: 41\n",
      "name: sangeeta\n",
      "age: 41\n",
      "name: sangeeta\n",
      "age: 41\n",
      "name: sangeeta\n",
      "age: 41\n",
      "name: sangeeta\n",
      "age: 41\n",
      "name: sangeeta\n",
      "age: 41\n",
      "name: sangeeta\n",
      "age: 41\n",
      "name: sangeeta\n",
      "age: 41\n",
      "name: sangeeta\n",
      "age: 41\n",
      "name: sangeeta\n",
      "age: 41\n",
      "name: sangeeta\n",
      "age: 41\n",
      "name: sangeeta\n",
      "age: 41\n",
      "name: sangeeta\n",
      "age: 41\n",
      "name: sangeeta\n",
      "age: 41\n",
      "name: sangeeta\n",
      "age: 41\n",
      "name: sangeeta\n",
      "age: 41\n",
      "name: sangeeta\n",
      "age: 41\n",
      "name: sangeeta\n",
      "age: 41\n",
      "name: sangeeta\n",
      "age: 41\n",
      "name: sangeeta\n",
      "age: 41\n",
      "name: sangeeta\n",
      "age: 41\n",
      "name: sangeeta\n",
      "age: 41\n",
      "name: sangeeta\n",
      "age: 41\n",
      "name: sangeeta\n",
      "age: 41\n",
      "name: sangeeta\n",
      "age: 41\n",
      "name: sangeeta\n",
      "age: 41\n",
      "name: sangeeta\n",
      "age: 41\n",
      "name: sangeeta\n",
      "age: 41\n",
      "name: sangeeta\n",
      "age: 41\n",
      "name: sangeeta\n",
      "age: 41\n",
      "name: sangeeta\n",
      "age: 41\n",
      "name: sangeeta\n",
      "age: 41\n",
      "name: sangeeta\n",
      "age: 41\n",
      "name: sangeeta\n",
      "age: 41\n",
      "name: sangeeta\n",
      "age: 41\n",
      "name: sangeeta\n",
      "age: 41\n",
      "name: sangeeta\n",
      "age: 41\n",
      "name: sangeeta\n",
      "age: 41\n",
      "name: sangeeta\n",
      "age: 41\n",
      "name: sangeeta\n",
      "age: 41\n",
      "name: sangeeta\n",
      "age: 41\n",
      "name: sangeeta\n",
      "age: 41\n",
      "name: sangeeta\n",
      "age: 41\n",
      "name: sangeeta\n",
      "age: 41\n",
      "name: sangeeta\n",
      "age: 41\n",
      "name: sangeeta\n",
      "age: 41\n",
      "name: sangeeta\n",
      "age: 41\n",
      "name: sangeeta\n",
      "age: 41\n",
      "name: sangeeta\n",
      "age: 41\n",
      "name: sangeeta\n",
      "age: 41\n",
      "name: sangeeta\n",
      "age: 41\n",
      "name: sangeeta\n",
      "age: 41\n",
      "name: sangeeta\n",
      "age: 41\n",
      "name: sangeeta\n",
      "age: 41\n",
      "name: sangeeta\n",
      "age: 41\n",
      "name: sangeeta\n",
      "age: 41\n",
      "name: sangeeta\n",
      "age: 41\n",
      "name: sangeeta\n",
      "age: 41\n",
      "name: sangeeta\n",
      "age: 41\n",
      "name: sangeeta\n",
      "age: 41\n",
      "name: sangeeta\n",
      "age: 41\n",
      "name: sangeeta\n",
      "age: 41\n",
      "name: sangeeta\n",
      "age: 41\n",
      "name: sangeeta\n",
      "age: 41\n",
      "name: sangeeta\n",
      "age: 41\n",
      "name: sangeeta\n",
      "age: 41\n",
      "name: sangeeta\n",
      "age: 41\n",
      "name: sangeeta\n",
      "age: 41\n",
      "name: sangeeta\n",
      "age: 41\n",
      "name: sangeeta\n",
      "age: 41\n",
      "name: sangeeta\n",
      "age: 41\n",
      "name: sangeeta\n",
      "age: 41\n",
      "name: sangeeta\n",
      "age: 41\n",
      "name: sangeeta\n",
      "age: 41\n",
      "name: sangeeta\n",
      "age: 41\n",
      "name: sangeeta\n",
      "age: 41\n",
      "name: sangeeta\n",
      "age: 41\n",
      "name: sangeeta\n",
      "age: 41\n",
      "name: sangeeta\n",
      "age: 41\n",
      "name: sangeeta\n",
      "age: 41\n",
      "name: sangeeta\n",
      "age: 41\n",
      "name: sangeeta\n",
      "age: 41\n",
      "name: sangeeta\n",
      "age: 41\n",
      "name: sangeeta\n",
      "age: 41\n",
      "name: sangeeta\n",
      "age: 41\n",
      "name: sangeeta\n",
      "age: 41\n",
      "name: sangeeta\n",
      "age: 41\n",
      "name: sangeeta\n",
      "age: 41\n",
      "name: sangeeta\n",
      "age: 41\n",
      "name: sangeeta\n",
      "age: 41\n",
      "name: sangeeta\n",
      "age: 41\n",
      "name: sangeeta\n",
      "age: 41\n",
      "name: sangeeta\n",
      "age: 41\n",
      "name: sangeeta\n",
      "age: 41\n",
      "name: sangeeta\n",
      "age: 41\n",
      "name: sangeeta\n",
      "age: 41\n",
      "name: sangeeta\n",
      "age: 41\n",
      "name: sangeeta\n",
      "age: 41\n",
      "name: sangeeta\n",
      "age: 41\n",
      "name: sangeeta\n",
      "age: 41\n",
      "name: sangeeta\n",
      "age: 41\n",
      "name: sangeeta\n",
      "age: 41\n",
      "name: sangeeta\n",
      "age: 41\n",
      "name: sangeeta\n",
      "age: 41\n",
      "name: sangeeta\n",
      "age: 41\n",
      "name: sangeeta\n",
      "age: 41\n",
      "name: sangeeta\n",
      "age: 41\n",
      "name: sangeeta\n",
      "age: 41\n",
      "name: sangeeta\n",
      "age: 41\n",
      "name: sangeeta\n",
      "age: 41\n",
      "name: sangeeta\n",
      "age: 41\n",
      "name: sangeeta\n",
      "age: 41\n",
      "name: sangeeta\n",
      "age: 41\n",
      "name: sangeeta\n",
      "age: 41\n",
      "name: sangeeta\n",
      "age: 41\n",
      "name: sangeeta\n",
      "age: 41\n",
      "name: sangeeta\n",
      "age: 41\n",
      "name: sangeeta\n",
      "age: 41\n",
      "name: sangeeta\n",
      "age: 41\n",
      "name: sangeeta\n",
      "age: 41\n",
      "name: sangeeta\n",
      "age: 41\n",
      "name: sangeeta\n",
      "age: 41\n",
      "name: sangeeta\n",
      "age: 41\n",
      "name: sangeeta\n",
      "age: 41\n",
      "name: sangeeta\n",
      "age: 41\n",
      "name: sangeeta\n",
      "age: 41\n",
      "name: sangeeta\n",
      "age: 41\n",
      "name: sangeeta\n",
      "age: 41\n",
      "name: sangeeta\n",
      "age: 41\n",
      "name: sangeeta\n",
      "age: 41\n",
      "name: sangeeta\n",
      "age: 41\n",
      "name: sangeeta\n",
      "age: 41\n",
      "name: sangeeta\n",
      "age: 41\n",
      "name: sangeeta\n",
      "age: 41\n",
      "name: sangeeta\n",
      "age: 41\n",
      "name: sangeeta\n",
      "age: 41\n",
      "name: sangeeta\n",
      "age: 41\n",
      "name: sangeeta\n",
      "age: 41\n",
      "name: sangeeta\n",
      "age: 41\n",
      "name: sangeeta\n",
      "age: 41\n",
      "name: sangeeta\n",
      "age: 41\n",
      "name: sangeeta\n",
      "age: 41\n",
      "name: sangeeta\n",
      "age: 41\n",
      "name: sangeeta\n",
      "age: 41\n",
      "name: sangeeta\n",
      "age: 41\n",
      "name: sangeeta\n",
      "age: 41\n",
      "name: sangeeta\n",
      "age: 41\n",
      "name: sangeeta\n",
      "age: 41\n",
      "name: sangeeta\n",
      "age: 41\n",
      "name: sangeeta\n",
      "age: 41\n",
      "name: sangeeta\n",
      "age: 41\n",
      "name: sangeeta\n",
      "age: 41\n",
      "name: sangeeta\n",
      "age: 41\n",
      "name: sangeeta\n",
      "age: 41\n",
      "name: sangeeta\n",
      "age: 41\n",
      "name: sangeeta\n",
      "age: 41\n",
      "name: sangeeta\n",
      "age: 41\n",
      "name: sangeeta\n",
      "age: 41\n",
      "name: sangeeta\n",
      "age: 41\n",
      "name: sangeeta\n",
      "age: 41\n",
      "name: sangeeta\n",
      "age: 41\n",
      "name: sangeeta\n",
      "age: 41\n",
      "name: sangeeta\n",
      "age: 41\n",
      "name: sangeeta\n",
      "age: 41\n",
      "name: sangeeta\n",
      "age: 41\n",
      "name: sangeeta\n",
      "age: 41\n",
      "name: sangeeta\n",
      "age: 41\n",
      "name: sangeeta\n",
      "age: 41\n",
      "name: sangeeta\n",
      "age: 41\n",
      "name: sangeeta\n",
      "age: 41\n",
      "name: sangeeta\n",
      "age: 41\n",
      "name: sangeeta\n",
      "age: 41\n",
      "name: sangeeta\n",
      "age: 41\n",
      "name: sangeeta\n",
      "age: 41\n",
      "name: sangeeta\n",
      "age: 41\n",
      "name: sangeeta\n",
      "age: 41\n",
      "name: sangeeta\n",
      "age: 41\n",
      "name: sangeeta\n",
      "age: 41\n",
      "name: sangeeta\n",
      "age: 41\n",
      "name: sangeeta\n",
      "age: 41\n",
      "name: sangeeta\n",
      "age: 41\n",
      "name: sangeeta\n",
      "age: 41\n",
      "name: sangeeta\n",
      "age: 41\n",
      "name: sangeeta\n",
      "age: 41\n",
      "name: sangeeta\n",
      "age: 41\n",
      "name: sangeeta\n",
      "age: 41\n",
      "name: sangeeta\n",
      "age: 41\n",
      "name: sangeeta\n",
      "age: 41\n",
      "name: sangeeta\n",
      "age: 41\n",
      "name: sangeeta\n",
      "age: 41\n",
      "name: sangeeta\n",
      "age: 41\n",
      "name: sangeeta\n",
      "age: 41\n",
      "name: sangeeta\n",
      "age: 41\n",
      "name: sangeeta\n",
      "age: 41\n",
      "name: sangeeta\n",
      "age: 41\n",
      "name: sangeeta\n",
      "age: 41\n",
      "name: sangeeta\n",
      "age: 41\n",
      "name: sangeeta\n",
      "age: 41\n",
      "name: sangeeta\n",
      "age: 41\n",
      "name: sangeeta\n",
      "age: 41\n",
      "name: sangeeta\n",
      "age: 41\n",
      "name: sangeeta\n",
      "age: 41\n",
      "name: sangeeta\n",
      "age: 41\n",
      "name: sangeeta\n",
      "age: 41\n",
      "name: sangeeta\n",
      "age: 41\n",
      "name: sangeeta\n",
      "age: 41\n",
      "name: sangeeta\n",
      "age: 41\n",
      "name: sangeeta\n",
      "age: 41\n",
      "name: sangeeta\n",
      "age: 41\n",
      "name: sangeeta\n",
      "age: 41\n",
      "name: sangeeta\n",
      "age: 41\n",
      "name: sangeeta\n",
      "age: 41\n",
      "name: sangeeta\n",
      "age: 41\n",
      "name: sangeeta\n",
      "age: 41\n",
      "name: sangeeta\n",
      "age: 41\n",
      "name: sangeeta\n",
      "age: 41\n",
      "name: sangeeta\n",
      "age: 41\n",
      "name: sangeeta\n",
      "age: 41\n",
      "name: sangeeta\n",
      "age: 41\n",
      "name: sangeeta\n",
      "age: 41\n",
      "name: sangeeta\n",
      "age: 41\n",
      "name: sangeeta\n",
      "age: 41\n",
      "name: sangeeta\n",
      "age: 41\n",
      "name: sangeeta\n",
      "age: 41\n",
      "name: sangeeta\n",
      "age: 41\n",
      "name: sangeeta\n",
      "age: 41\n",
      "name: sangeeta\n",
      "age: 41\n",
      "name: sangeeta\n",
      "age: 41\n",
      "name: sangeeta\n",
      "age: 41\n",
      "name: sangeeta\n",
      "age: 41\n",
      "name: sangeeta\n",
      "age: 41\n",
      "name: sangeeta\n",
      "age: 41\n",
      "name: sangeeta\n",
      "age: 41\n",
      "name: sangeeta\n",
      "age: 41\n",
      "name: sangeeta\n",
      "age: 41\n",
      "name: sangeeta\n",
      "age: 41\n",
      "name: sangeeta\n",
      "age: 41\n",
      "name: sangeeta\n",
      "age: 41\n",
      "name: sangeeta\n",
      "age: 41\n",
      "name: sangeeta\n",
      "age: 41\n",
      "name: sangeeta\n",
      "age: 41\n",
      "name: sangeeta\n",
      "age: 41\n",
      "name: sangeeta\n",
      "age: 41\n",
      "name: sangeeta\n",
      "age: 41\n",
      "name: sangeeta\n",
      "age: 41\n",
      "name: sangeeta\n",
      "age: 41\n",
      "name: sangeeta\n",
      "age: 41\n",
      "name: sangeeta\n",
      "age: 41\n",
      "name: sangeeta\n",
      "age: 41\n",
      "name: sangeeta\n",
      "age: 41\n",
      "name: sangeeta\n",
      "age: 41\n",
      "name: sangeeta\n",
      "age: 41\n",
      "name: sangeeta\n",
      "age: 41\n",
      "name: sangeeta\n",
      "age: 41\n",
      "name: sangeeta\n",
      "age: 41\n",
      "name: sangeeta\n",
      "age: 41\n",
      "name: sangeeta\n",
      "age: 41\n",
      "name: sangeeta\n",
      "age: 41\n",
      "name: sangeeta\n",
      "age: 41\n",
      "name: sangeeta\n",
      "age: 41\n",
      "name: sangeeta\n",
      "age: 41\n",
      "name: sangeeta\n",
      "age: 41\n",
      "name: sangeeta\n",
      "age: 41\n",
      "name: sangeeta\n",
      "age: 41\n",
      "name: sangeeta\n",
      "age: 41\n",
      "name: sangeeta\n",
      "age: 41\n",
      "name: sangeeta\n",
      "age: 41\n",
      "name: sangeeta\n",
      "age: 41\n",
      "name: sangeeta\n",
      "age: 41\n",
      "name: sangeeta\n",
      "age: 41\n",
      "name: sangeeta\n",
      "age: 41\n",
      "name: sangeeta\n",
      "age: 41\n",
      "name: sangeeta\n",
      "age: 41\n",
      "name: sangeeta\n",
      "age: 41\n",
      "name: sangeeta\n",
      "age: 41\n",
      "name: sangeeta\n",
      "age: 41\n",
      "name: sangeeta\n",
      "age: 41\n",
      "name: sangeeta\n",
      "age: 41\n",
      "name: sangeeta\n",
      "age: 41\n",
      "name: sangeeta\n",
      "age: 41\n",
      "name: sangeeta\n",
      "age: 41\n",
      "name: sangeeta\n",
      "age: 41\n",
      "name: sangeeta\n",
      "age: 41\n",
      "name: sangeeta\n",
      "age: 41\n",
      "name: sangeeta\n",
      "age: 41\n",
      "name: sangeeta\n",
      "age: 41\n",
      "name: sangeeta\n",
      "age: 41\n",
      "name: sangeeta\n",
      "age: 41\n",
      "name: sangeeta\n",
      "age: 41\n",
      "name: sangeeta\n",
      "age: 41\n",
      "name: sangeeta\n",
      "age: 41\n",
      "name: sangeeta\n",
      "age: 41\n",
      "name: sangeeta\n",
      "age: 41\n",
      "name: sangeeta\n",
      "age: 41\n",
      "name: sangeeta\n",
      "age: 41\n",
      "name: sangeeta\n",
      "age: 41\n",
      "name: sangeeta\n",
      "age: 41\n",
      "name: sangeeta\n",
      "age: 41\n",
      "name: sangeeta\n",
      "age: 41\n",
      "name: sangeeta\n",
      "age: 41\n",
      "name: sangeeta\n",
      "age: 41\n",
      "name: sangeeta\n",
      "age: 41\n",
      "name: sangeeta\n",
      "age: 41\n",
      "name: sangeeta\n",
      "age: 41\n",
      "name: sangeeta\n",
      "age: 41\n",
      "name: sangeeta\n",
      "age: 41\n",
      "name: sangeeta\n",
      "age: 41\n",
      "name: sangeeta\n",
      "age: 41\n",
      "name: sangeeta\n",
      "age: 41\n",
      "name: sangeeta\n",
      "age: 41\n",
      "name: sangeeta\n",
      "age: 41\n",
      "name: sangeeta\n",
      "age: 41\n",
      "name: sangeeta\n",
      "age: 41\n",
      "name: sangeeta\n",
      "age: 41\n",
      "name: sangeeta\n",
      "age: 41\n",
      "name: sangeeta\n",
      "age: 41\n",
      "name: sangeeta\n",
      "age: 41\n",
      "name: sangeeta\n",
      "age: 41\n",
      "name: sangeeta\n",
      "age: 41\n",
      "name: sangeeta\n",
      "age: 41\n",
      "name: sangeeta\n",
      "age: 41\n",
      "name: sangeeta\n",
      "age: 41\n",
      "name: sangeeta\n",
      "age: 41\n",
      "name: sangeeta\n",
      "age: 41\n",
      "name: sangeeta\n",
      "age: 41\n",
      "name: sangeeta\n",
      "age: 41\n",
      "name: sangeeta\n",
      "age: 41\n",
      "name: sangeeta\n",
      "age: 41\n",
      "name: sangeeta\n",
      "age: 41\n",
      "name: sangeeta\n",
      "age: 41\n",
      "name: sangeeta\n",
      "age: 41\n",
      "name: sangeeta\n",
      "age: 41\n",
      "name: sangeeta\n",
      "age: 41\n",
      "name: sangeeta\n",
      "age: 41\n",
      "name: sangeeta\n",
      "age: 41\n",
      "name: sangeeta\n",
      "age: 41\n",
      "name: sangeeta\n",
      "age: 41\n",
      "name: sangeeta\n",
      "age: 41\n",
      "name: sangeeta\n",
      "age: 41\n",
      "name: sangeeta\n",
      "age: 41\n",
      "name: sangeeta\n",
      "age: 41\n",
      "name: sangeeta\n",
      "age: 41\n",
      "name: sangeeta\n",
      "age: 41\n",
      "name: sangeeta\n",
      "age: 41\n",
      "name: sangeeta\n",
      "age: 41\n",
      "name: sangeeta\n",
      "age: 41\n",
      "name: sangeeta\n",
      "age: 41\n",
      "name: sangeeta\n",
      "age: 41\n",
      "name: sangeeta\n",
      "age: 41\n",
      "name: sangeeta\n",
      "age: 41\n",
      "name: sangeeta\n",
      "age: 41\n",
      "name: sangeeta\n",
      "age: 41\n",
      "name: sangeeta\n",
      "age: 41\n",
      "name: sangeeta\n",
      "age: 41\n",
      "name: sangeeta\n",
      "age: 41\n",
      "name: sangeeta\n",
      "age: 41\n",
      "name: sangeeta\n",
      "age: 41\n",
      "name: sangeeta\n",
      "age: 41\n",
      "name: sangeeta\n",
      "age: 41\n",
      "name: sangeeta\n",
      "age: 41\n",
      "name: sangeeta\n",
      "age: 41\n",
      "name: sangeeta\n",
      "age: 41\n",
      "name: sangeeta\n",
      "age: 41\n",
      "name: sangeeta\n",
      "age: 41\n",
      "name: sangeeta\n",
      "age: 41\n",
      "name: sangeeta\n",
      "age: 41\n",
      "name: sangeeta\n",
      "age: 41\n",
      "name: sangeeta\n",
      "age: 41\n",
      "name: sangeeta\n",
      "age: 41\n",
      "name: sangeeta\n",
      "age: 41\n",
      "name: sangeeta\n",
      "age: 41\n",
      "name: sangeeta\n",
      "age: 41\n",
      "name: sangeeta\n",
      "age: 41\n",
      "name: sangeeta\n",
      "age: 41\n",
      "name: sangeeta\n",
      "age: 41\n",
      "name: sangeeta\n",
      "age: 41\n",
      "name: sangeeta\n",
      "age: 41\n",
      "name: sangeeta\n",
      "age: 41\n",
      "name: sangeeta\n",
      "age: 41\n",
      "name: sangeeta\n",
      "age: 41\n",
      "name: sangeeta\n",
      "age: 41\n",
      "name: sangeeta\n",
      "age: 41\n",
      "name: sangeeta\n",
      "age: 41\n",
      "name: sangeeta\n",
      "age: 41\n",
      "name: sangeeta\n",
      "age: 41\n",
      "name: sangeeta\n",
      "age: 41\n",
      "name: sangeeta\n",
      "age: 41\n",
      "name: sangeeta\n",
      "age: 41\n",
      "name: sangeeta\n",
      "age: 41\n",
      "name: sangeeta\n",
      "age: 41\n",
      "name: sangeeta\n",
      "age: 41\n",
      "name: sangeeta\n",
      "age: 41\n",
      "name: sangeeta\n",
      "age: 41\n",
      "name: sangeeta\n",
      "age: 41\n",
      "name: sangeeta\n",
      "age: 41\n",
      "name: sangeeta\n",
      "age: 41\n",
      "name: sangeeta\n",
      "age: 41\n",
      "name: sangeeta\n",
      "age: 41\n",
      "name: sangeeta\n",
      "age: 41\n",
      "name: sangeeta\n",
      "age: 41\n",
      "name: sangeeta\n",
      "age: 41\n",
      "name: sangeeta\n",
      "age: 41\n",
      "name: sangeeta\n",
      "age: 41\n",
      "name: sangeeta\n",
      "age: 41\n",
      "name: sangeeta\n",
      "age: 41\n",
      "name: sangeeta\n",
      "age: 41\n",
      "name: sangeeta\n",
      "age: 41\n",
      "name: sangeeta\n",
      "age: 41\n",
      "name: sangeeta\n",
      "age: 41\n",
      "name: sangeeta\n",
      "age: 41\n",
      "name: sangeeta\n",
      "age: 41\n",
      "name: sangeeta\n",
      "age: 41\n",
      "name: sangeeta\n",
      "age: 41\n",
      "name: sangeeta\n",
      "age: 41\n",
      "name: sangeeta\n",
      "age: 41\n",
      "name: sangeeta\n",
      "age: 41\n",
      "name: sangeeta\n",
      "age: 41\n",
      "name: sangeeta\n",
      "age: 41\n",
      "name: sangeeta\n",
      "age: 41\n",
      "name: sangeeta\n",
      "age: 41\n",
      "name: sangeeta\n",
      "age: 41\n",
      "name: sangeeta\n",
      "age: 41\n",
      "name: sangeeta\n",
      "age: 41\n",
      "name: sangeeta\n",
      "age: 41\n",
      "name: sangeeta\n",
      "age: 41\n",
      "name: sangeeta\n",
      "age: 41\n",
      "name: sangeeta\n",
      "age: 41\n",
      "name: sangeeta\n",
      "age: 41\n",
      "name: sangeeta\n",
      "age: 41\n",
      "name: sangeeta\n",
      "age: 41\n",
      "name: sangeeta\n",
      "age: 41\n",
      "name: sangeeta\n",
      "age: 41\n",
      "name: sangeeta\n",
      "age: 41\n",
      "name: sangeeta\n",
      "age: 41\n",
      "name: sangeeta\n",
      "age: 41\n",
      "name: sangeeta\n",
      "age: 41\n",
      "name: sangeeta\n",
      "age: 41\n",
      "name: sangeeta\n",
      "age: 41\n",
      "name: sangeeta\n",
      "age: 41\n",
      "name: sangeeta\n",
      "age: 41\n",
      "name: sangeeta\n",
      "age: 41\n",
      "name: sangeeta\n",
      "age: 41\n",
      "name: sangeeta\n",
      "age: 41\n",
      "name: sangeeta\n",
      "age: 41\n",
      "name: sangeeta\n",
      "age: 41\n",
      "name: sangeeta\n",
      "age: 41\n",
      "name: sangeeta\n",
      "age: 41\n",
      "name: sangeeta\n",
      "age: 41\n",
      "name: sangeeta\n",
      "age: 41\n",
      "name: sangeeta\n",
      "age: 41\n",
      "name: sangeeta\n",
      "age: 41\n",
      "name: sangeeta\n",
      "age: 41\n",
      "name: sangeeta\n",
      "age: 41\n",
      "name: sangeeta\n",
      "age: 41\n",
      "name: sangeeta\n",
      "age: 41\n",
      "name: sangeeta\n",
      "age: 41\n",
      "name: sangeeta\n",
      "age: 41\n",
      "name: sangeeta\n",
      "age: 41\n",
      "name: sangeeta\n",
      "age: 41\n",
      "name: sangeeta\n",
      "age: 41\n",
      "name: sangeeta\n",
      "age: 41\n",
      "name: sangeeta\n",
      "age: 41\n",
      "name: sangeeta\n",
      "age: 41\n",
      "name: sangeeta\n",
      "age: 41\n",
      "name: sangeeta\n",
      "age: 41\n",
      "name: sangeeta\n",
      "age: 41\n",
      "name: sangeeta\n",
      "age: 41\n",
      "name: sangeeta\n",
      "age: 41\n",
      "name: sangeeta\n",
      "age: 41\n",
      "name: sangeeta\n",
      "age: 41\n",
      "name: sangeeta\n",
      "age: 41\n",
      "name: sangeeta\n",
      "age: 41\n",
      "name: sangeeta\n",
      "age: 41\n",
      "name: sangeeta\n",
      "age: 41\n",
      "name: sangeeta\n",
      "age: 41\n",
      "name: sangeeta\n",
      "age: 41\n",
      "name: sangeeta\n",
      "age: 41\n",
      "name: sangeeta\n",
      "age: 41\n",
      "name: sangeeta\n",
      "age: 41\n",
      "name: sangeeta\n",
      "age: 41\n",
      "name: sangeeta\n",
      "age: 41\n",
      "name: sangeeta\n",
      "age: 41\n",
      "name: sangeeta\n",
      "age: 41\n",
      "name: sangeeta\n",
      "age: 41\n",
      "name: sangeeta\n",
      "age: 41\n",
      "name: sangeeta\n",
      "age: 41\n",
      "name: sangeeta\n",
      "age: 41\n",
      "name: sangeeta\n",
      "age: 41\n",
      "name: sangeeta\n",
      "age: 41\n",
      "name: sangeeta\n",
      "age: 41\n",
      "name: sangeeta\n",
      "age: 41\n",
      "name: sangeeta\n",
      "age: 41\n",
      "name: sangeeta\n",
      "age: 41\n",
      "name: sangeeta\n",
      "age: 41\n",
      "name: sangeeta\n",
      "age: 41\n",
      "name: sangeeta\n",
      "age: 41\n",
      "name: sangeeta\n",
      "age: 41\n",
      "name: sangeeta\n",
      "age: 41\n",
      "name: sangeeta\n",
      "age: 41\n",
      "name: sangeeta\n",
      "age: 41\n",
      "name: sangeeta\n",
      "age: 41\n",
      "name: sangeeta\n",
      "age: 41\n",
      "name: sangeeta\n",
      "age: 41\n",
      "name: sangeeta\n",
      "age: 41\n",
      "name: sangeeta\n",
      "age: 41\n",
      "name: sangeeta\n",
      "age: 41\n",
      "name: sangeeta\n",
      "age: 41\n",
      "name: sangeeta\n",
      "age: 41\n",
      "name: sangeeta\n",
      "age: 41\n",
      "name: sangeeta\n",
      "age: 41\n",
      "name: sangeeta\n",
      "age: 41\n",
      "name: sangeeta\n",
      "age: 41\n",
      "name: sangeeta\n",
      "age: 41\n",
      "name: sangeeta\n",
      "age: 41\n",
      "name: sangeeta\n",
      "age: 41\n",
      "name: sangeeta\n",
      "age: 41\n",
      "name: sangeeta\n",
      "age: 41\n",
      "name: sangeeta\n",
      "age: 41\n",
      "name: sangeeta\n",
      "age: 41\n",
      "name: sangeeta\n",
      "age: 41\n",
      "name: sangeeta\n",
      "age: 41\n",
      "name: sangeeta\n",
      "age: 41\n",
      "name: sangeeta\n",
      "age: 41\n",
      "name: sangeeta\n",
      "age: 41\n",
      "name: sangeeta\n",
      "age: 41\n",
      "name: sangeeta\n",
      "age: 41\n",
      "name: sangeeta\n",
      "age: 41\n",
      "name: sangeeta\n",
      "age: 41\n",
      "name: sangeeta\n",
      "age: 41\n",
      "name: sangeeta\n",
      "age: 41\n",
      "name: sangeeta\n",
      "age: 41\n",
      "name: sangeeta\n",
      "age: 41\n",
      "name: sangeeta\n",
      "age: 41\n",
      "name: sangeeta\n",
      "age: 41\n",
      "name: sangeeta\n",
      "age: 41\n",
      "name: sangeeta\n",
      "age: 41\n",
      "name: sangeeta\n",
      "age: 41\n",
      "name: sangeeta\n",
      "age: 41\n",
      "name: sangeeta\n",
      "age: 41\n",
      "name: sangeeta\n",
      "age: 41\n",
      "name: sangeeta\n",
      "age: 41\n",
      "name: sangeeta\n",
      "age: 41\n",
      "name: sangeeta\n",
      "age: 41\n",
      "name: sangeeta\n",
      "age: 41\n",
      "name: sangeeta\n",
      "age: 41\n",
      "name: sangeeta\n",
      "age: 41\n",
      "name: sangeeta\n",
      "age: 41\n",
      "name: sangeeta\n",
      "age: 41\n",
      "name: sangeeta\n",
      "age: 41\n",
      "name: sangeeta\n",
      "age: 41\n",
      "name: sangeeta\n",
      "age: 41\n",
      "name: sangeeta\n",
      "age: 41\n",
      "name: sangeeta\n",
      "age: 41\n",
      "name: sangeeta\n",
      "age: 41\n",
      "name: sangeeta\n",
      "age: 41\n",
      "name: sangeeta\n",
      "age: 41\n",
      "name: sangeeta\n",
      "age: 41\n",
      "name: sangeeta\n",
      "age: 41\n",
      "name: sangeeta\n",
      "age: 41\n",
      "name: sangeeta\n",
      "age: 41\n",
      "name: sangeeta\n",
      "age: 41\n",
      "name: sangeeta\n",
      "age: 41\n",
      "name: sangeeta\n",
      "age: 41\n",
      "name: sangeeta\n",
      "age: 41\n",
      "name: sangeeta\n",
      "age: 41\n",
      "name: sangeeta\n",
      "age: 41\n",
      "name: sangeeta\n",
      "age: 41\n",
      "name: sangeeta\n",
      "age: 41\n",
      "name: sangeeta\n",
      "age: 41\n",
      "name: sangeeta\n",
      "age: 41\n",
      "name: sangeeta\n",
      "age: 41\n",
      "name: sangeeta\n",
      "age: 41\n",
      "name: sangeeta\n",
      "age: 41\n",
      "name: sangeeta\n",
      "age: 41\n",
      "name: sangeeta\n",
      "age: 41\n",
      "name: sangeeta\n",
      "age: 41\n",
      "name: sangeeta\n",
      "age: 41\n",
      "name: sangeeta\n",
      "age: 41\n",
      "name: sangeeta\n",
      "age: 41\n",
      "name: sangeeta\n",
      "age: 41\n",
      "name: sangeeta\n",
      "age: 41\n",
      "name: sangeeta\n",
      "age: 41\n",
      "name: sangeeta\n",
      "age: 41\n",
      "name: sangeeta\n",
      "age: 41\n",
      "name: sangeeta\n",
      "age: 41\n",
      "name: sangeeta\n",
      "age: 41\n",
      "name: sangeeta\n",
      "age: 41\n",
      "name: sangeeta\n",
      "age: 41\n",
      "name: sangeeta\n",
      "age: 41\n",
      "name: sangeeta\n",
      "age: 41\n",
      "name: sangeeta\n",
      "age: 41\n",
      "name: sangeeta\n",
      "age: 41\n",
      "name: sangeeta\n",
      "age: 41\n",
      "name: sangeeta\n",
      "age: 41\n",
      "name: sangeeta\n",
      "age: 41\n",
      "name: sangeeta\n",
      "age: 41\n",
      "name: sangeeta\n",
      "age: 41\n",
      "name: sangeeta\n",
      "age: 41\n",
      "name: sangeeta\n",
      "age: 41\n",
      "name: sangeeta\n",
      "age: 41\n",
      "name: sangeeta\n",
      "age: 41\n",
      "name: sangeeta\n",
      "age: 41\n",
      "name: sangeeta\n",
      "age: 41\n",
      "name: sangeeta\n",
      "age: 41\n",
      "name: sangeeta\n",
      "age: 41\n",
      "name: sangeeta\n",
      "age: 41\n",
      "name: sangeeta\n",
      "age: 41\n",
      "name: sangeeta\n",
      "age: 41\n",
      "name: sangeeta\n",
      "age: 41\n",
      "name: sangeeta\n",
      "age: 41\n",
      "name: sangeeta\n",
      "age: 41\n",
      "name: sangeeta\n",
      "age: 41\n",
      "name: sangeeta\n",
      "age: 41\n",
      "name: sangeeta\n",
      "age: 41\n",
      "name: sangeeta\n",
      "age: 41\n",
      "name: sangeeta\n",
      "age: 41\n",
      "name: sangeeta\n",
      "age: 41\n",
      "name: sangeeta\n",
      "age: 41\n",
      "name: sangeeta\n",
      "age: 41\n",
      "name: sangeeta\n",
      "age: 41\n",
      "name: sangeeta\n",
      "age: 41\n",
      "name: sangeeta\n",
      "age: 41\n",
      "name: sangeeta\n",
      "age: 41\n",
      "name: sangeeta\n",
      "age: 41\n",
      "name: sangeeta\n",
      "age: 41\n",
      "name: sangeeta\n",
      "age: 41\n",
      "name: sangeeta\n",
      "age: 41\n",
      "name: sangeeta\n",
      "age: 41\n",
      "name: sangeeta\n",
      "age: 41\n",
      "name: sangeeta\n",
      "age: 41\n",
      "name: sangeeta\n",
      "age: 41\n",
      "name: sangeeta\n",
      "age: 41\n",
      "name: sangeeta\n",
      "age: 41\n",
      "name: sangeeta\n",
      "age: 41\n",
      "name: sangeeta\n",
      "age: 41\n",
      "name: sangeeta\n",
      "age: 41\n",
      "name: sangeeta\n",
      "age: 41\n",
      "name: sangeeta\n",
      "age: 41\n",
      "name: sangeeta\n",
      "age: 41\n",
      "name: sangeeta\n",
      "age: 41\n",
      "name: sangeeta\n",
      "age: 41\n",
      "name: sangeeta\n",
      "age: 41\n",
      "name: sangeeta\n",
      "age: 41\n",
      "name: sangeeta\n",
      "age: 41\n",
      "name: sangeeta\n",
      "age: 41\n",
      "name: sangeeta\n",
      "age: 41\n",
      "name: sangeeta\n",
      "age: 41\n",
      "name: sangeeta\n",
      "age: 41\n",
      "name: sangeeta\n",
      "age: 41\n",
      "name: sangeeta\n",
      "age: 41\n",
      "name: sangeeta\n",
      "age: 41\n",
      "name: sangeeta\n",
      "age: 41\n",
      "name: sangeeta\n",
      "age: 41\n",
      "name: sangeeta\n",
      "age: 41\n",
      "name: sangeeta\n",
      "age: 41\n",
      "name: sangeeta\n",
      "age: 41\n",
      "name: sangeeta\n",
      "age: 41\n",
      "name: sangeeta\n",
      "age: 41\n",
      "name: sangeeta\n",
      "age: 41\n",
      "name: sangeeta\n",
      "age: 41\n",
      "name: sangeeta\n",
      "age: 41\n",
      "name: sangeeta\n",
      "age: 41\n",
      "name: sangeeta\n",
      "age: 41\n",
      "name: sangeeta\n",
      "age: 41\n",
      "name: sangeeta\n",
      "age: 41\n",
      "name: sangeeta\n",
      "age: 41\n",
      "name: sangeeta\n",
      "age: 41\n",
      "name: sangeeta\n",
      "age: 41\n",
      "name: sangeeta\n",
      "age: 41\n",
      "name: sangeeta\n",
      "age: 41\n",
      "name: sangeeta\n",
      "age: 41\n",
      "name: sangeeta\n",
      "age: 41\n",
      "name: sangeeta\n",
      "age: 41\n",
      "name: sangeeta\n",
      "age: 41\n",
      "name: sangeeta\n",
      "age: 41\n",
      "name: sangeeta\n",
      "age: 41\n",
      "name: sangeeta\n",
      "age: 41\n",
      "name: sangeeta\n",
      "age: 41\n",
      "name: sangeeta\n",
      "age: 41\n",
      "name: sangeeta\n",
      "age: 41\n",
      "name: sangeeta\n",
      "age: 41\n",
      "name: sangeeta\n",
      "age: 41\n",
      "name: sangeeta\n",
      "age: 41\n",
      "name: sangeeta\n",
      "age: 41\n",
      "name: sangeeta\n",
      "age: 41\n",
      "name: sangeeta\n",
      "age: 41\n",
      "name: sangeeta\n",
      "age: 41\n",
      "name: sangeeta\n",
      "age: 41\n",
      "name: sangeeta\n",
      "age: 41\n",
      "name: sangeeta\n",
      "age: 41\n",
      "name: sangeeta\n",
      "age: 41\n",
      "name: sangeeta\n",
      "age: 41\n",
      "name: sangeeta\n",
      "age: 41\n",
      "name: sangeeta\n",
      "age: 41\n",
      "name: sangeeta\n",
      "age: 41\n",
      "name: sangeeta\n",
      "age: 41\n",
      "name: sangeeta\n",
      "age: 41\n",
      "name: sangeeta\n",
      "age: 41\n",
      "name: sangeeta\n",
      "age: 41\n",
      "name: sangeeta\n",
      "age: 41\n",
      "name: sangeeta\n",
      "age: 41\n",
      "name: sangeeta\n",
      "age: 41\n",
      "name: sangeeta\n",
      "age: 41\n",
      "name: sangeeta\n",
      "age: 41\n",
      "name: sangeeta\n",
      "age: 41\n",
      "name: sangeeta\n",
      "age: 41\n",
      "name: sangeeta\n",
      "age: 41\n",
      "name: sangeeta\n",
      "age: 41\n",
      "name: sangeeta\n",
      "age: 41\n",
      "name: sangeeta\n",
      "age: 41\n",
      "name: sangeeta\n",
      "age: 41\n",
      "name: sangeeta\n",
      "age: 41\n",
      "name: sangeeta\n",
      "age: 41\n",
      "name: sangeeta\n",
      "age: 41\n",
      "name: sangeeta\n",
      "age: 41\n",
      "name: sangeeta\n",
      "age: 41\n",
      "name: sangeeta\n",
      "age: 41\n",
      "name: sangeeta\n",
      "age: 41\n",
      "name: sangeeta\n",
      "age: 41\n",
      "name: sangeeta\n",
      "age: 41\n",
      "name: sangeeta\n",
      "age: 41\n",
      "name: sangeeta\n",
      "age: 41\n",
      "name: sangeeta\n",
      "age: 41\n",
      "name: sangeeta\n",
      "age: 41\n",
      "name: sangeeta\n",
      "age: 41\n",
      "name: sangeeta\n",
      "age: 41\n",
      "name: sangeeta\n",
      "age: 41\n",
      "name: sangeeta\n",
      "age: 41\n",
      "name: sangeeta\n",
      "age: 41\n",
      "name: sangeeta\n",
      "age: 41\n",
      "name: sangeeta\n",
      "age: 41\n",
      "name: sangeeta\n",
      "age: 41\n",
      "name: sangeeta\n",
      "age: 41\n",
      "name: sangeeta\n",
      "age: 41\n",
      "name: sangeeta\n",
      "age: 41\n",
      "name: sangeeta\n",
      "age: 41\n",
      "name: sangeeta\n",
      "age: 41\n",
      "name: sangeeta\n",
      "age: 41\n",
      "name: sangeeta\n",
      "age: 41\n",
      "name: sangeeta\n",
      "age: 41\n",
      "name: sangeeta\n",
      "age: 41\n",
      "name: sangeeta\n",
      "age: 41\n",
      "name: sangeeta\n",
      "age: 41\n",
      "name: sangeeta\n",
      "age: 41\n",
      "name: sangeeta\n",
      "age: 41\n",
      "name: sangeeta\n",
      "age: 41\n",
      "name: sangeeta\n",
      "age: 41\n",
      "name: sangeeta\n",
      "age: 41\n",
      "name: sangeeta\n",
      "age: 41\n",
      "name: sangeeta\n",
      "age: 41\n",
      "name: sangeeta\n",
      "age: 41\n",
      "name: sangeeta\n",
      "age: 41\n",
      "name: sangeeta\n",
      "age: 41\n",
      "name: sangeeta\n",
      "age: 41\n",
      "name: sangeeta\n",
      "age: 41\n",
      "name: sangeeta\n",
      "age: 41\n",
      "name: sangeeta\n",
      "age: 41\n",
      "name: sangeeta\n",
      "age: 41\n",
      "name: sangeeta\n",
      "age: 41\n",
      "name: sangeeta\n",
      "age: 41\n",
      "name: sangeeta\n",
      "age: 41\n",
      "name: sangeeta\n",
      "age: 41\n",
      "name: sangeeta\n",
      "age: 41\n",
      "name: sangeeta\n",
      "age: 41\n",
      "name: sangeeta\n",
      "age: 41\n",
      "name: sangeeta\n",
      "age: 41\n",
      "name: sangeeta\n",
      "age: 41\n",
      "name: sangeeta\n",
      "age: 41\n",
      "name: sangeeta\n",
      "age: 41\n",
      "name: sangeeta\n",
      "age: 41\n",
      "name: sangeeta\n",
      "age: 41\n",
      "name: sangeeta\n",
      "age: 41\n",
      "name: sangeeta\n",
      "age: 41\n",
      "name: sangeeta\n",
      "age: 41\n",
      "name: sangeeta\n",
      "age: 41\n",
      "name: sangeeta\n",
      "age: 41\n",
      "name: sangeeta\n",
      "age: 41\n",
      "name: sangeeta\n",
      "age: 41\n",
      "name: sangeeta\n",
      "age: 41\n",
      "name: sangeeta\n",
      "age: 41\n",
      "name: sangeeta\n",
      "age: 41\n",
      "name: sangeeta\n",
      "age: 41\n",
      "name: sangeeta\n",
      "age: 41\n",
      "name: sangeeta\n",
      "age: 41\n",
      "name: sangeeta\n",
      "age: 41\n",
      "name: sangeeta\n",
      "age: 41\n",
      "name: sangeeta\n",
      "age: 41\n",
      "name: sangeeta\n",
      "age: 41\n",
      "name: sangeeta\n",
      "age: 41\n",
      "name: sangeeta\n",
      "age: 41\n",
      "name: sangeeta\n",
      "age: 41\n",
      "name: sangeeta\n",
      "age: 41\n",
      "name: sangeeta\n",
      "age: 41\n",
      "name: sangeeta\n",
      "age: 41\n",
      "name: sangeeta\n",
      "age: 41\n",
      "name: sangeeta\n",
      "age: 41\n",
      "name: sangeeta\n",
      "age: 41\n",
      "name: sangeeta\n",
      "age: 41\n",
      "name: sangeeta\n",
      "age: 41\n",
      "name: sangeeta\n",
      "age: 41\n",
      "name: sangeeta\n",
      "age: 41\n",
      "name: sangeeta\n",
      "age: 41\n",
      "name: sangeeta\n",
      "age: 41\n",
      "name: sangeeta\n",
      "age: 41\n",
      "name: sangeeta\n",
      "age: 41\n",
      "name: sangeeta\n",
      "age: 41\n",
      "name: sangeeta\n",
      "age: 41\n",
      "name: sangeeta\n",
      "age: 41\n",
      "name: sangeeta\n",
      "age: 41\n",
      "name: sangeeta\n",
      "age: 41\n",
      "name: sangeeta\n",
      "age: 41\n",
      "name: sangeeta\n",
      "age: 41\n",
      "name: sangeeta\n",
      "age: 41\n",
      "name: sangeeta\n",
      "age: 41\n",
      "name: sangeeta\n",
      "age: 41\n",
      "name: sangeeta\n",
      "age: 41\n",
      "name: sangeeta\n",
      "age: 41\n",
      "name: sangeeta\n",
      "age: 41\n",
      "name: sangeeta\n",
      "age: 41\n",
      "name: sangeeta\n",
      "age: 41\n",
      "name: sangeeta\n",
      "age: 41\n",
      "name: sangeeta\n",
      "age: 41\n",
      "name: sangeeta\n",
      "age: 41\n",
      "name: sangeeta\n",
      "age: 41\n",
      "name: sangeeta\n",
      "age: 41\n",
      "name: sangeeta\n",
      "age: 41\n",
      "name: sangeeta\n",
      "age: 41\n",
      "name: sangeeta\n",
      "age: 41\n",
      "name: sangeeta\n",
      "age: 41\n",
      "name: sangeeta\n",
      "age: 41\n",
      "name: sangeeta\n",
      "age: 41\n",
      "name: sangeeta\n",
      "age: 41\n",
      "name: sangeeta\n",
      "age: 41\n",
      "name: sangeeta\n",
      "age: 41\n",
      "name: sangeeta\n",
      "age: 41\n",
      "name: sangeeta\n",
      "age: 41\n",
      "name: sangeeta\n",
      "age: 41\n",
      "name: sangeeta\n",
      "age: 41\n",
      "name: sangeeta\n",
      "age: 41\n",
      "name: sangeeta\n",
      "age: 41\n",
      "name: sangeeta\n",
      "age: 41\n",
      "name: sangeeta\n",
      "age: 41\n",
      "name: sangeeta\n",
      "age: 41\n",
      "name: sangeeta\n",
      "age: 41\n",
      "name: sangeeta\n",
      "age: 41\n",
      "name: sangeeta\n",
      "age: 41\n",
      "name: sangeeta\n",
      "age: 41\n",
      "name: sangeeta\n",
      "age: 41\n",
      "name: sangeeta\n",
      "age: 41\n",
      "name: sangeeta\n",
      "age: 41\n",
      "name: sangeeta\n",
      "age: 41\n",
      "name: sangeeta\n",
      "age: 41\n",
      "name: sangeeta\n",
      "age: 41\n",
      "name: sangeeta\n",
      "age: 41\n",
      "name: sangeeta\n",
      "age: 41\n",
      "name: sangeeta\n",
      "age: 41\n",
      "name: sangeeta\n",
      "age: 41\n",
      "name: sangeeta\n",
      "age: 41\n",
      "name: sangeeta\n",
      "age: 41\n",
      "name: sangeeta\n",
      "age: 41\n",
      "name: sangeeta\n",
      "age: 41\n",
      "name: sangeeta\n",
      "age: 41\n",
      "name: sangeeta\n",
      "age: 41\n",
      "name: sangeeta\n",
      "age: 41\n",
      "name: sangeeta\n",
      "age: 41\n",
      "name: sangeeta\n",
      "age: 41\n",
      "name: sangeeta\n",
      "age: 41\n",
      "name: sangeeta\n",
      "age: 41\n",
      "name: sangeeta\n",
      "age: 41\n",
      "name: sangeeta\n",
      "age: 41\n",
      "name: sangeeta\n",
      "age: 41\n",
      "name: sangeeta\n",
      "age: 41\n",
      "name: sangeeta\n",
      "age: 41\n",
      "name: sangeeta\n",
      "age: 41\n",
      "name: sangeeta\n",
      "age: 41\n",
      "name: sangeeta\n",
      "age: 41\n",
      "name: sangeeta\n",
      "age: 41\n",
      "name: sangeeta\n",
      "age: 41\n",
      "name: sangeeta\n",
      "age: 41\n",
      "name: sangeeta\n",
      "age: 41\n",
      "name: sangeeta\n",
      "age: 41\n",
      "name: sangeeta\n",
      "age: 41\n",
      "name: sangeeta\n",
      "age: 41\n",
      "name: sangeeta\n",
      "age: 41\n",
      "name: sangeeta\n",
      "age: 41\n",
      "name: sangeeta\n",
      "age: 41\n",
      "name: sangeeta\n",
      "age: 41\n",
      "name: sangeeta\n",
      "age: 41\n",
      "name: sangeeta\n",
      "age: 41\n",
      "name: sangeeta\n",
      "age: 41\n",
      "name: sangeeta\n",
      "age: 41\n",
      "name: sangeeta\n",
      "age: 41\n",
      "name: sangeeta\n",
      "age: 41\n",
      "name: sangeeta\n",
      "age: 41\n",
      "name: sangeeta\n",
      "age: 41\n",
      "name: sangeeta\n",
      "age: 41\n",
      "name: sangeeta\n",
      "age: 41\n",
      "name: sangeeta\n",
      "age: 41\n",
      "name: sangeeta\n",
      "age: 41\n",
      "name: sangeeta\n",
      "age: 41\n",
      "name: sangeeta\n",
      "age: 41\n",
      "name: sangeeta\n",
      "age: 41\n",
      "name: sangeeta\n",
      "age: 41\n",
      "name: sangeeta\n",
      "age: 41\n",
      "name: sangeeta\n",
      "age: 41\n",
      "name: sangeeta\n",
      "age: 41\n",
      "name: sangeeta\n",
      "age: 41\n",
      "name: sangeeta\n",
      "age: 41\n",
      "name: sangeeta\n",
      "age: 41\n",
      "name: sangeeta\n",
      "age: 41\n",
      "name: sangeeta\n",
      "age: 41\n",
      "name: sangeeta\n",
      "age: 41\n",
      "name: sangeeta\n",
      "age: 41\n",
      "name: sangeeta\n",
      "age: 41\n",
      "name: sangeeta\n",
      "age: 41\n",
      "name: sangeeta\n",
      "age: 41\n",
      "name: sangeeta\n",
      "age: 41\n",
      "name: sangeeta\n",
      "age: 41\n",
      "name: sangeeta\n",
      "age: 41\n",
      "name: sangeeta\n",
      "age: 41\n",
      "name: sangeeta\n",
      "age: 41\n",
      "name: sangeeta\n",
      "age: 41\n",
      "name: sangeeta\n",
      "age: 41\n",
      "name: sangeeta\n",
      "age: 41\n",
      "name: sangeeta\n",
      "age: 41\n",
      "name: sangeeta\n",
      "age: 41\n",
      "name: sangeeta\n",
      "age: 41\n",
      "name: sangeeta\n",
      "age: 41\n",
      "name: sangeeta\n",
      "age: 41\n",
      "name: sangeeta\n",
      "age: 41\n",
      "name: sangeeta\n",
      "age: 41\n",
      "name: sangeeta\n",
      "age: 41\n",
      "name: sangeeta\n",
      "age: 41\n",
      "name: sangeeta\n",
      "age: 41\n",
      "name: sangeeta\n",
      "age: 41\n",
      "name: sangeeta\n",
      "age: 41\n",
      "name: sangeeta\n",
      "age: 41\n",
      "name: sangeeta\n",
      "age: 41\n",
      "name: sangeeta\n",
      "age: 41\n",
      "name: sangeeta\n",
      "age: 41\n",
      "name: sangeeta\n",
      "age: 41\n",
      "name: sangeeta\n",
      "age: 41\n",
      "name: sangeeta\n",
      "age: 41\n",
      "name: sangeeta\n",
      "age: 41\n",
      "name: sangeeta\n",
      "age: 41\n",
      "name: sangeeta\n",
      "age: 41\n",
      "name: sangeeta\n",
      "age: 41\n",
      "name: sangeeta\n",
      "age: 41\n",
      "name: sangeeta\n",
      "age: 41\n",
      "name: sangeeta\n",
      "age: 41\n",
      "name: sangeeta\n",
      "age: 41\n",
      "name: sangeeta\n",
      "age: 41\n",
      "name: sangeeta\n",
      "age: 41\n",
      "name: sangeeta\n",
      "age: 41\n",
      "name: sangeeta\n",
      "age: 41\n",
      "name: sangeeta\n",
      "age: 41\n",
      "name: sangeeta\n",
      "age: 41\n",
      "name: sangeeta\n",
      "age: 41\n",
      "name: sangeeta\n",
      "age: 41\n",
      "name: sangeeta\n",
      "age: 41\n",
      "name: sangeeta\n",
      "age: 41\n",
      "name: sangeeta\n",
      "age: 41\n",
      "name: sangeeta\n",
      "age: 41\n",
      "name: sangeeta\n",
      "age: 41\n",
      "name: sangeeta\n",
      "age: 41\n",
      "name: sangeeta\n",
      "age: 41\n",
      "name: sangeeta\n",
      "age: 41\n",
      "name: sangeeta\n",
      "age: 41\n",
      "name: sangeeta\n",
      "age: 41\n",
      "name: sangeeta\n",
      "age: 41\n",
      "name: sangeeta\n",
      "age: 41\n",
      "name: sangeeta\n",
      "age: 41\n",
      "name: sangeeta\n",
      "age: 41\n",
      "name: sangeeta\n",
      "age: 41\n",
      "name: sangeeta\n",
      "age: 41\n",
      "name: sangeeta\n",
      "age: 41\n",
      "name: sangeeta\n",
      "age: 41\n",
      "name: sangeeta\n",
      "age: 41\n",
      "name: sangeeta\n",
      "age: 41\n",
      "name: sangeeta\n",
      "age: 41\n",
      "name: sangeeta\n",
      "age: 41\n",
      "name: sangeeta\n",
      "age: 41\n",
      "name: sangeeta\n",
      "age: 41\n",
      "name: sangeeta\n",
      "age: 41\n",
      "name: sangeeta\n",
      "age: 41\n",
      "name: sangeeta\n",
      "age: 41\n",
      "name: sangeeta\n",
      "age: 41\n",
      "name: sangeeta\n",
      "age: 41\n",
      "name: sangeeta\n",
      "age: 41\n",
      "name: sangeeta\n",
      "age: 41\n",
      "name: sangeeta\n",
      "age: 41\n",
      "name: sangeeta\n",
      "age: 41\n",
      "name: sangeeta\n",
      "age: 41\n",
      "name: sangeeta\n",
      "age: 41\n",
      "name: sangeeta\n",
      "age: 41\n",
      "name: sangeeta\n",
      "age: 41\n",
      "name: sangeeta\n",
      "age: 41\n",
      "name: sangeeta\n",
      "age: 41\n",
      "name: sangeeta\n",
      "age: 41\n",
      "name: sangeeta\n",
      "age: 41\n",
      "name: sangeeta\n",
      "age: 41\n",
      "name: sangeeta\n",
      "age: 41\n",
      "name: sangeeta\n",
      "age: 41\n",
      "name: sangeeta\n",
      "age: 41\n",
      "name: sangeeta\n",
      "age: 41\n",
      "name: sangeeta\n",
      "age: 41\n",
      "name: sangeeta\n",
      "age: 41\n",
      "name: sangeeta\n",
      "age: 41\n",
      "name: sangeeta\n",
      "age: 41\n",
      "name: sangeeta\n",
      "age: 41\n",
      "name: sangeeta\n",
      "age: 41\n",
      "name: sangeeta\n",
      "age: 41\n",
      "name: sangeeta\n",
      "age: 41\n",
      "name: sangeeta\n",
      "age: 41\n",
      "name: sangeeta\n",
      "age: 41\n",
      "name: sangeeta\n",
      "age: 41\n",
      "name: sangeeta\n",
      "age: 41\n",
      "name: sangeeta\n",
      "age: 41\n",
      "name: sangeeta\n",
      "age: 41\n",
      "name: sangeeta\n",
      "age: 41\n",
      "name: sangeeta\n",
      "age: 41\n",
      "name: sangeeta\n",
      "age: 41\n",
      "name: sangeeta\n",
      "age: 41\n",
      "name: sangeeta\n",
      "age: 41\n",
      "name: sangeeta\n",
      "age: 41\n",
      "name: sangeeta\n",
      "age: 41\n",
      "name: sangeeta\n",
      "age: 41\n",
      "name: sangeeta\n",
      "age: 41\n",
      "name: sangeeta\n",
      "age: 41\n",
      "name: sangeeta\n",
      "age: 41\n",
      "name: sangeeta\n",
      "age: 41\n",
      "name: sangeeta\n",
      "age: 41\n",
      "name: sangeeta\n",
      "age: 41\n",
      "name: sangeeta\n",
      "age: 41\n",
      "name: sangeeta\n",
      "age: 41\n",
      "name: sangeeta\n",
      "age: 41\n",
      "name: sangeeta\n",
      "age: 41\n",
      "name: sangeeta\n",
      "age: 41\n",
      "name: sangeeta\n",
      "age: 41\n",
      "name: sangeeta\n",
      "age: 41\n",
      "name: sangeeta\n",
      "age: 41\n",
      "name: sangeeta\n",
      "age: 41\n",
      "name: sangeeta\n",
      "age: 41\n",
      "name: sangeeta\n",
      "age: 41\n",
      "name: sangeeta\n",
      "age: 41\n",
      "name: sangeeta\n",
      "age: 41\n",
      "name: sangeeta\n",
      "age: 41\n",
      "name: sangeeta\n",
      "age: 41\n",
      "name: sangeeta\n",
      "age: 41\n",
      "name: sangeeta\n",
      "age: 41\n",
      "name: sangeeta\n",
      "age: 41\n",
      "name: sangeeta\n",
      "age: 41\n",
      "name: sangeeta\n",
      "age: 41\n",
      "name: sangeeta\n",
      "age: 41\n",
      "name: sangeeta\n",
      "age: 41\n",
      "name: sangeeta\n",
      "age: 41\n",
      "name: sangeeta\n",
      "age: 41\n",
      "name: sangeeta\n",
      "age: 41\n",
      "name: sangeeta\n",
      "age: 41\n",
      "name: sangeeta\n",
      "age: 41\n",
      "name: sangeeta\n",
      "age: 41\n",
      "name: sangeeta\n",
      "age: 41\n",
      "name: sangeeta\n",
      "age: 41\n",
      "name: sangeeta\n",
      "age: 41\n",
      "name: sangeeta\n",
      "age: 41\n",
      "name: sangeeta\n",
      "age: 41\n",
      "name: sangeeta\n",
      "age: 41\n",
      "name: sangeeta\n",
      "age: 41\n",
      "name: sangeeta\n",
      "age: 41\n",
      "name: sangeeta\n",
      "age: 41\n",
      "name: sangeeta\n",
      "age: 41\n",
      "name: sangeeta\n",
      "age: 41\n",
      "name: sangeeta\n",
      "age: 41\n",
      "name: sangeeta\n",
      "age: 41\n",
      "name: sangeeta\n",
      "age: 41\n",
      "name: sangeeta\n",
      "age: 41\n",
      "name: sangeeta\n",
      "age: 41\n",
      "name: sangeeta\n",
      "age: 41\n",
      "name: sangeeta\n",
      "age: 41\n",
      "name: sangeeta\n",
      "age: 41\n",
      "name: sangeeta\n",
      "age: 41\n",
      "name: sangeeta\n",
      "age: 41\n",
      "name: sangeeta\n",
      "age: 41\n",
      "name: sangeeta\n",
      "age: 41\n",
      "name: sangeeta\n",
      "age: 41\n",
      "name: sangeeta\n",
      "age: 41\n",
      "name: sangeeta\n",
      "age: 41\n",
      "name: sangeeta\n",
      "age: 41\n",
      "name: sangeeta\n",
      "age: 41\n",
      "name: sangeeta\n",
      "age: 41\n",
      "name: sangeeta\n",
      "age: 41\n",
      "name: sangeeta\n",
      "age: 41\n",
      "name: sangeeta\n",
      "age: 41\n",
      "name: sangeeta\n",
      "age: 41\n",
      "name: sangeeta\n",
      "age: 41\n",
      "name: sangeeta\n",
      "age: 41\n",
      "name: sangeeta\n",
      "age: 41\n",
      "name: sangeeta\n",
      "age: 41\n",
      "name: sangeeta\n",
      "age: 41\n",
      "name: sangeeta\n",
      "age: 41\n",
      "name: sangeeta\n",
      "age: 41\n",
      "name: sangeeta\n",
      "age: 41\n",
      "name: sangeeta\n",
      "age: 41\n",
      "name: sangeeta\n",
      "age: 41\n",
      "name: sangeeta\n",
      "age: 41\n",
      "name: sangeeta\n",
      "age: 41\n",
      "name: sangeeta\n",
      "age: 41\n",
      "name: sangeeta\n",
      "age: 41\n",
      "name: sangeeta\n",
      "age: 41\n",
      "name: sangeeta\n",
      "age: 41\n",
      "name: sangeeta\n",
      "age: 41\n",
      "name: sangeeta\n",
      "age: 41\n",
      "name: sangeeta\n",
      "age: 41\n",
      "name: sangeeta\n",
      "age: 41\n",
      "name: sangeeta\n",
      "age: 41\n",
      "name: sangeeta\n",
      "age: 41\n",
      "name: sangeeta\n",
      "age: 41\n",
      "name: sangeeta\n",
      "age: 41\n",
      "name: sangeeta\n",
      "age: 41\n",
      "name: sangeeta\n",
      "age: 41\n",
      "name: sangeeta\n",
      "age: 41\n",
      "name: sangeeta\n",
      "age: 41\n",
      "name: sangeeta\n",
      "age: 41\n",
      "name: sangeeta\n",
      "age: 41\n",
      "name: sangeeta\n",
      "age: 41\n",
      "name: sangeeta\n",
      "age: 41\n",
      "name: sangeeta\n",
      "age: 41\n",
      "name: sangeeta\n",
      "age: 41\n",
      "name: sangeeta\n",
      "age: 41\n",
      "name: sangeeta\n",
      "age: 41\n",
      "name: sangeeta\n",
      "age: 41\n",
      "name: sangeeta\n",
      "age: 41\n",
      "name: sangeeta\n",
      "age: 41\n",
      "name: sangeeta\n",
      "age: 41\n",
      "name: sangeeta\n",
      "age: 41\n",
      "name: sangeeta\n",
      "age: 41\n",
      "name: sangeeta\n",
      "age: 41\n",
      "name: sangeeta\n",
      "age: 41\n",
      "name: sangeeta\n",
      "age: 41\n",
      "name: sangeeta\n",
      "age: 41\n",
      "name: sangeeta\n",
      "age: 41\n",
      "name: sangeeta\n",
      "age: 41\n",
      "name: sangeeta\n",
      "age: 41\n",
      "name: sangeeta\n",
      "age: 41\n",
      "name: sangeeta\n",
      "age: 41\n",
      "name: sangeeta\n",
      "age: 41\n",
      "name: sangeeta\n",
      "age: 41\n",
      "name: sangeeta\n",
      "age: 41\n",
      "name: sangeeta\n",
      "age: 41\n",
      "name: sangeeta\n",
      "age: 41\n",
      "name: sangeeta\n",
      "age: 41\n",
      "name: sangeeta\n",
      "age: 41\n",
      "name: sangeeta\n",
      "age: 41\n",
      "name: sangeeta\n",
      "age: 41\n",
      "name: sangeeta\n",
      "age: 41\n",
      "name: sangeeta\n",
      "age: 41\n",
      "name: sangeeta\n",
      "age: 41\n",
      "name: sangeeta\n",
      "age: 41\n",
      "name: sangeeta\n",
      "age: 41\n",
      "name: sangeeta\n",
      "age: 41\n",
      "name: sangeeta\n",
      "age: 41\n",
      "name: sangeeta\n",
      "age: 41\n",
      "name: sangeeta\n",
      "age: 41\n",
      "name: sangeeta\n",
      "age: 41\n",
      "name: sangeeta\n",
      "age: 41\n",
      "name: sangeeta\n",
      "age: 41\n",
      "name: sangeeta\n",
      "age: 41\n",
      "name: sangeeta\n",
      "age: 41\n",
      "name: sangeeta\n",
      "age: 41\n",
      "name: sangeeta\n",
      "age: 41\n",
      "name: sangeeta\n",
      "age: 41\n",
      "name: sangeeta\n",
      "age: 41\n",
      "name: sangeeta\n",
      "age: 41\n",
      "name: sangeeta\n",
      "age: 41\n",
      "name: sangeeta\n",
      "age: 41\n",
      "name: sangeeta\n",
      "age: 41\n",
      "name: sangeeta\n",
      "age: 41\n",
      "name: sangeeta\n",
      "age: 41\n",
      "name: sangeeta\n",
      "age: 41\n",
      "name: sangeeta\n",
      "age: 41\n",
      "name: sangeeta\n",
      "age: 41\n",
      "name: sangeeta\n",
      "age: 41\n",
      "name: sangeeta\n",
      "age: 41\n",
      "name: sangeeta\n",
      "age: 41\n",
      "name: sangeeta\n",
      "age: 41\n",
      "name: sangeeta\n",
      "age: 41\n",
      "name: sangeeta\n",
      "age: 41\n",
      "name: sangeeta\n",
      "age: 41\n",
      "name: sangeeta\n",
      "age: 41\n",
      "name: sangeeta\n",
      "age: 41\n",
      "name: sangeeta\n",
      "age: 41\n",
      "name: sangeeta\n",
      "age: 41\n",
      "name: sangeeta\n",
      "age: 41\n",
      "name: sangeeta\n",
      "age: 41\n",
      "name: sangeeta\n",
      "age: 41\n",
      "name: sangeeta\n",
      "age: 41\n",
      "name: sangeeta\n",
      "age: 41\n",
      "name: sangeeta\n",
      "age: 41\n",
      "name: sangeeta\n",
      "age: 41\n",
      "name: sangeeta\n",
      "age: 41\n",
      "name: sangeeta\n",
      "age: 41\n",
      "name: sangeeta\n",
      "age: 41\n",
      "name: sangeeta\n",
      "age: 41\n",
      "name: sangeeta\n",
      "age: 41\n",
      "name: sangeeta\n",
      "age: 41\n",
      "name: sangeeta\n",
      "age: 41\n",
      "name: sangeeta\n",
      "age: 41\n",
      "name: sangeeta\n",
      "age: 41\n",
      "name: sangeeta\n",
      "age: 41\n",
      "name: sangeeta\n",
      "age: 41\n",
      "name: sangeeta\n",
      "age: 41\n",
      "name: sangeeta\n",
      "age: 41\n",
      "name: sangeeta\n",
      "age: 41\n",
      "name: sangeeta\n",
      "age: 41\n",
      "name: sangeeta\n",
      "age: 41\n",
      "name: sangeeta\n",
      "age: 41\n",
      "name: sangeeta\n",
      "age: 41\n",
      "name: sangeeta\n",
      "age: 41\n",
      "name: sangeeta\n",
      "age: 41\n",
      "name: sangeeta\n",
      "age: 41\n",
      "name: sangeeta\n",
      "age: 41\n",
      "name: sangeeta\n",
      "age: 41\n",
      "name: sangeeta\n",
      "age: 41\n",
      "name: sangeeta\n",
      "age: 41\n",
      "name: sangeeta\n",
      "age: 41\n",
      "name: sangeeta\n",
      "age: 41\n",
      "name: sangeeta\n",
      "age: 41\n",
      "name: sangeeta\n",
      "age: 41\n",
      "name: sangeeta\n",
      "age: 41\n",
      "name: sangeeta\n",
      "age: 41\n",
      "name: sangeeta\n",
      "age: 41\n",
      "name: sangeeta\n",
      "age: 41\n",
      "name: sangeeta\n",
      "age: 41\n",
      "name: sangeeta\n",
      "age: 41\n",
      "name: sangeeta\n",
      "age: 41\n",
      "name: sangeeta\n",
      "age: 41\n",
      "name: sangeeta\n",
      "age: 41\n",
      "name: sangeeta\n",
      "age: 41\n",
      "name: sangeeta\n",
      "age: 41\n",
      "name: sangeeta\n",
      "age: 41\n",
      "name: sangeeta\n",
      "age: 41\n",
      "name: sangeeta\n",
      "age: 41\n",
      "name: sangeeta\n",
      "age: 41\n",
      "name: sangeeta\n",
      "age: 41\n",
      "name: sangeeta\n",
      "age: 41\n",
      "name: sangeeta\n",
      "age: 41\n",
      "name: sangeeta\n",
      "age: 41\n",
      "name: sangeeta\n",
      "age: 41\n",
      "name: sangeeta\n",
      "age: 41\n",
      "name: sangeeta\n",
      "age: 41\n",
      "name: sangeeta\n",
      "age: 41\n",
      "name: sangeeta\n",
      "age: 41\n",
      "name: sangeeta\n",
      "age: 41\n",
      "name: sangeeta\n",
      "age: 41\n",
      "name: sangeeta\n",
      "age: 41\n",
      "name: sangeeta\n",
      "age: 41\n",
      "name: sangeeta\n",
      "age: 41\n",
      "name: sangeeta\n",
      "age: 41\n",
      "name: sangeeta\n",
      "age: 41\n",
      "name: sangeeta\n",
      "age: 41\n",
      "name: sangeeta\n",
      "age: 41\n",
      "name: sangeeta\n",
      "age: 41\n",
      "name: sangeeta\n",
      "age: 41\n",
      "name: sangeeta\n",
      "age: 41\n",
      "name: sangeeta\n",
      "age: 41\n",
      "name: sangeeta\n",
      "age: 41\n",
      "name: sangeeta\n",
      "age: 41\n",
      "name: sangeeta\n",
      "age: 41\n",
      "name: sangeeta\n",
      "age: 41\n",
      "name: sangeeta\n",
      "age: 41\n",
      "name: sangeeta\n",
      "age: 41\n",
      "name: sangeeta\n",
      "age: 41\n",
      "name: sangeeta\n",
      "age: 41\n",
      "name: sangeeta\n",
      "age: 41\n",
      "name: sangeeta\n",
      "age: 41\n",
      "name: sangeeta\n",
      "age: 41\n",
      "name: sangeeta\n",
      "age: 41\n",
      "name: sangeeta\n",
      "age: 41\n",
      "name: sangeeta\n",
      "age: 41\n",
      "name: sangeeta\n",
      "age: 41\n",
      "name: sangeeta\n",
      "age: 41\n",
      "name: sangeeta\n",
      "age: 41\n",
      "name: sangeeta\n",
      "age: 41\n",
      "name: sangeeta\n",
      "age: 41\n",
      "name: sangeeta\n",
      "age: 41\n",
      "name: sangeeta\n",
      "age: 41\n",
      "name: sangeeta\n",
      "age: 41\n",
      "name: sangeeta\n",
      "age: 41\n",
      "name: sangeeta\n",
      "age: 41\n",
      "name: sangeeta\n",
      "age: 41\n",
      "name: sangeeta\n",
      "age: 41\n",
      "name: sangeeta\n",
      "age: 41\n",
      "name: sangeeta\n",
      "age: 41\n",
      "name: sangeeta\n",
      "age: 41\n",
      "name: sangeeta\n",
      "age: 41\n",
      "name: sangeeta\n",
      "age: 41\n",
      "name: sangeeta\n",
      "age: 41\n",
      "name: sangeeta\n",
      "age: 41\n",
      "name: sangeeta\n",
      "age: 41\n",
      "name: sangeeta\n",
      "age: 41\n",
      "name: sangeeta\n",
      "age: 41\n",
      "name: sangeeta\n",
      "age: 41\n",
      "name: sangeeta\n",
      "age: 41\n",
      "name: sangeeta\n",
      "age: 41\n",
      "name: sangeeta\n",
      "age: 41\n",
      "name: sangeeta\n",
      "age: 41\n",
      "name: sangeeta\n",
      "age: 41\n",
      "name: sangeeta\n",
      "age: 41\n",
      "name: sangeeta\n",
      "age: 41\n",
      "name: sangeeta\n",
      "age: 41\n",
      "name: sangeeta\n",
      "age: 41\n",
      "name: sangeeta\n",
      "age: 41\n",
      "name: sangeeta\n",
      "age: 41\n",
      "name: sangeeta\n",
      "age: 41\n",
      "name: sangeeta\n",
      "age: 41\n",
      "name: sangeeta\n",
      "age: 41\n",
      "name: sangeeta\n",
      "age: 41\n",
      "name: sangeeta\n",
      "age: 41\n",
      "name: sangeeta\n",
      "age: 41\n",
      "name: sangeeta\n",
      "age: 41\n",
      "name: sangeeta\n",
      "age: 41\n",
      "name: sangeeta\n",
      "age: 41\n",
      "name: sangeeta\n",
      "age: 41\n",
      "name: sangeeta\n",
      "age: 41\n",
      "name: sangeeta\n",
      "age: 41\n",
      "name: sangeeta\n",
      "age: 41\n",
      "name: sangeeta\n",
      "age: 41\n",
      "name: sangeeta\n",
      "age: 41\n",
      "name: sangeeta\n",
      "age: 41\n",
      "name: sangeeta\n",
      "age: 41\n",
      "name: sangeeta\n",
      "age: 41\n",
      "name: sangeeta\n",
      "age: 41\n",
      "name: sangeeta\n",
      "age: 41\n",
      "name: sangeeta\n",
      "age: 41\n",
      "name: sangeeta\n",
      "age: 41\n",
      "name: sangeeta\n",
      "age: 41\n",
      "name: sangeeta\n",
      "age: 41\n",
      "name: sangeeta\n",
      "age: 41\n",
      "name: sangeeta\n",
      "age: 41\n",
      "name: sangeeta\n",
      "age: 41\n",
      "name: sangeeta\n",
      "age: 41\n",
      "name: sangeeta\n",
      "age: 41\n",
      "name: sangeeta\n",
      "age: 41\n",
      "name: sangeeta\n",
      "age: 41\n",
      "name: sangeeta\n",
      "age: 41\n",
      "name: sangeeta\n",
      "age: 41\n",
      "name: sangeeta\n",
      "age: 41\n",
      "name: sangeeta\n",
      "age: 41\n",
      "name: sangeeta\n",
      "age: 41\n",
      "name: sangeeta\n",
      "age: 41\n",
      "name: sangeeta\n",
      "age: 41\n",
      "name: sangeeta\n",
      "age: 41\n",
      "name: sangeeta\n",
      "age: 41\n",
      "name: sangeeta\n",
      "age: 41\n",
      "name: sangeeta\n",
      "age: 41\n",
      "name: sangeeta\n",
      "age: 41\n",
      "name: sangeeta\n",
      "age: 41\n",
      "name: sangeeta\n",
      "age: 41\n",
      "name: sangeeta\n",
      "age: 41\n",
      "name: sangeeta\n",
      "age: 41\n",
      "name: sangeeta\n",
      "age: 41\n",
      "name: sangeeta\n",
      "age: 41\n",
      "name: sangeeta\n",
      "age: 41\n",
      "name: sangeeta\n",
      "age: 41\n",
      "name: sangeeta\n",
      "age: 41\n",
      "name: sangeeta\n",
      "age: 41\n",
      "name: sangeeta\n",
      "age: 41\n",
      "name: sangeeta\n",
      "age: 41\n",
      "name: sangeeta\n",
      "age: 41\n",
      "name: sangeeta\n",
      "age: 41\n",
      "name: sangeeta\n",
      "age: 41\n",
      "name: sangeeta\n",
      "age: 41\n",
      "name: sangeeta\n",
      "age: 41\n",
      "name: sangeeta\n",
      "age: 41\n",
      "name: sangeeta\n",
      "age: 41\n",
      "name: sangeeta\n",
      "age: 41\n",
      "name: sangeeta\n",
      "age: 41\n",
      "name: sangeeta\n",
      "age: 41\n",
      "name: sangeeta\n",
      "age: 41\n",
      "name: sangeeta\n",
      "age: 41\n",
      "name: sangeeta\n",
      "age: 41\n",
      "name: sangeeta\n",
      "age: 41\n",
      "name: sangeeta\n",
      "age: 41\n",
      "name: sangeeta\n",
      "age: 41\n",
      "name: sangeeta\n",
      "age: 41\n",
      "name: sangeeta\n",
      "age: 41\n",
      "name: sangeeta\n",
      "age: 41\n",
      "name: sangeeta\n",
      "age: 41\n",
      "name: sangeeta\n",
      "age: 41\n",
      "name: sangeeta\n",
      "age: 41\n",
      "name: sangeeta\n",
      "age: 41\n",
      "name: sangeeta\n",
      "age: 41\n",
      "name: sangeeta\n",
      "age: 41\n",
      "name: sangeeta\n",
      "age: 41\n",
      "name: sangeeta\n",
      "age: 41\n",
      "name: sangeeta\n",
      "age: 41\n",
      "name: sangeeta\n",
      "age: 41\n",
      "name: sangeeta\n",
      "age: 41\n",
      "name: sangeeta\n",
      "age: 41\n",
      "name: sangeeta\n",
      "age: 41\n",
      "name: sangeeta\n",
      "age: 41\n",
      "name: sangeeta\n",
      "age: 41\n",
      "name: sangeeta\n",
      "age: 41\n",
      "name: sangeeta\n",
      "age: 41\n",
      "name: sangeeta\n",
      "age: 41\n",
      "name: sangeeta\n",
      "age: 41\n",
      "name: sangeeta\n",
      "age: 41\n",
      "name: sangeeta\n",
      "age: 41\n",
      "name: sangeeta\n",
      "age: 41\n",
      "name: sangeeta\n",
      "age: 41\n",
      "name: sangeeta\n",
      "age: 41\n",
      "name: sangeeta\n",
      "age: 41\n",
      "name: sangeeta\n",
      "age: 41\n",
      "name: sangeeta\n",
      "age: 41\n",
      "name: sangeeta\n",
      "age: 41\n",
      "name: sangeeta\n",
      "age: 41\n",
      "name: sangeeta\n",
      "age: 41\n",
      "name: sangeeta\n",
      "age: 41\n",
      "name: sangeeta\n",
      "age: 41\n",
      "name: sangeeta\n",
      "age: 41\n",
      "name: sangeeta\n",
      "age: 41\n",
      "name: sangeeta\n",
      "age: 41\n",
      "name: sangeeta\n",
      "age: 41\n",
      "name: sangeeta\n",
      "age: 41\n",
      "name: sangeeta\n",
      "age: 41\n",
      "name: sangeeta\n",
      "age: 41\n",
      "name: sangeeta\n",
      "age: 41\n",
      "name: sangeeta\n",
      "age: 41\n",
      "name: sangeeta\n",
      "age: 41\n",
      "name: sangeeta\n",
      "age: 41\n",
      "name: sangeeta\n",
      "age: 41\n",
      "name: sangeeta\n",
      "age: 41\n",
      "name: sangeeta\n",
      "age: 41\n",
      "name: sangeeta\n",
      "age: 41\n",
      "name: sangeeta\n",
      "age: 41\n",
      "name: sangeeta\n",
      "age: 41\n",
      "name: sangeeta\n",
      "age: 41\n",
      "name: sangeeta\n",
      "age: 41\n",
      "name: sangeeta\n",
      "age: 41\n",
      "name: sangeeta\n",
      "age: 41\n",
      "name: sangeeta\n",
      "age: 41\n",
      "name: sangeeta\n",
      "age: 41\n",
      "name: sangeeta\n",
      "age: 41\n",
      "name: sangeeta\n",
      "age: 41\n",
      "name: sangeeta\n",
      "age: 41\n",
      "name: sangeeta\n",
      "age: 41\n",
      "name: sangeeta\n",
      "age: 41\n",
      "name: sangeeta\n",
      "age: 41\n",
      "name: sangeeta\n",
      "age: 41\n",
      "name: sangeeta\n",
      "age: 41\n",
      "name: sangeeta\n",
      "age: 41\n",
      "name: sangeeta\n",
      "age: 41\n",
      "name: sangeeta\n",
      "age: 41\n",
      "name: sangeeta\n",
      "age: 41\n",
      "name: sangeeta\n",
      "age: 41\n",
      "name: sangeeta\n",
      "age: 41\n",
      "name: sangeeta\n",
      "age: 41\n",
      "name: sangeeta\n",
      "age: 41\n",
      "name: sangeeta\n",
      "age: 41\n",
      "name: sangeeta\n",
      "age: 41\n",
      "name: sangeeta\n",
      "age: 41\n",
      "name: sangeeta\n",
      "age: 41\n",
      "name: sangeeta\n",
      "age: 41\n",
      "name: sangeeta\n",
      "age: 41\n",
      "name: sangeeta\n",
      "age: 41\n",
      "name: sangeeta\n",
      "age: 41\n",
      "name: sangeeta\n",
      "age: 41\n",
      "name: sangeeta\n",
      "age: 41\n",
      "name: sangeeta\n",
      "age: 41\n",
      "name: sangeeta\n",
      "age: 41\n",
      "name: sangeeta\n",
      "age: 41\n",
      "name: sangeeta\n",
      "age: 41\n",
      "name: sangeeta\n",
      "age: 41\n",
      "name: sangeeta\n",
      "age: 41\n",
      "name: sangeeta\n",
      "age: 41\n",
      "name: sangeeta\n",
      "age: 41\n",
      "name: sangeeta\n",
      "age: 41\n",
      "name: sangeeta\n",
      "age: 41\n",
      "name: sangeeta\n",
      "age: 41\n",
      "name: sangeeta\n",
      "age: 41\n",
      "name: sangeeta\n",
      "age: 41\n",
      "name: sangeeta\n",
      "age: 41\n",
      "name: sangeeta\n",
      "age: 41\n",
      "name: sangeeta\n",
      "age: 41\n",
      "name: sangeeta\n",
      "age: 41\n",
      "name: sangeeta\n",
      "age: 41\n",
      "name: sangeeta\n",
      "age: 41\n",
      "name: sangeeta\n",
      "age: 41\n",
      "name: sangeeta\n",
      "age: 41\n",
      "name: sangeeta\n",
      "age: 41\n",
      "name: sangeeta\n",
      "age: 41\n",
      "name: sangeeta\n",
      "age: 41\n",
      "name: sangeeta\n",
      "age: 41\n",
      "name: sangeeta\n",
      "age: 41\n",
      "name: sangeeta\n",
      "age: 41\n",
      "name: sangeeta\n",
      "age: 41\n",
      "name: sangeeta\n",
      "age: 41\n",
      "name: sangeeta\n",
      "age: 41\n",
      "name: sangeeta\n",
      "age: 41\n",
      "name: sangeeta\n",
      "age: 41\n",
      "name: sangeeta\n",
      "age: 41\n",
      "name: sangeeta\n",
      "age: 41\n",
      "name: sangeeta\n",
      "age: 41\n",
      "name: sangeeta\n",
      "age: 41\n",
      "name: sangeeta\n",
      "age: 41\n",
      "name: sangeeta\n",
      "age: 41\n",
      "name: sangeeta\n",
      "age: 41\n",
      "name: sangeeta\n",
      "age: 41\n",
      "name: sangeeta\n",
      "age: 41\n",
      "name: sangeeta\n",
      "age: 41\n",
      "name: sangeeta\n",
      "age: 41\n",
      "name: sangeeta\n",
      "age: 41\n",
      "name: sangeeta\n",
      "age: 41\n",
      "name: sangeeta\n",
      "age: 41\n",
      "name: sangeeta\n",
      "age: 41\n",
      "name: sangeeta\n",
      "age: 41\n",
      "name: sangeeta\n",
      "age: 41\n",
      "name: sangeeta\n",
      "age: 41\n",
      "name: sangeeta\n",
      "age: 41\n",
      "name: sangeeta\n",
      "age: 41\n",
      "name: sangeeta\n",
      "age: 41\n",
      "name: sangeeta\n",
      "age: 41\n",
      "name: sangeeta\n",
      "age: 41\n",
      "name: sangeeta\n",
      "age: 41\n",
      "name: sangeeta\n",
      "age: 41\n",
      "name: sangeeta\n",
      "age: 41\n",
      "name: sangeeta\n",
      "age: 41\n",
      "name: sangeeta\n",
      "age: 41\n",
      "name: sangeeta\n",
      "age: 41\n",
      "name: sangeeta\n",
      "age: 41\n",
      "name: sangeeta\n",
      "age: 41\n",
      "name: sangeeta\n",
      "age: 41\n",
      "name: sangeeta\n",
      "age: 41\n",
      "name: sangeeta\n",
      "age: 41\n",
      "name: sangeeta\n",
      "age: 41\n",
      "name: sangeeta\n",
      "age: 41\n",
      "name: sangeeta\n",
      "age: 41\n",
      "name: sangeeta\n",
      "age: 41\n",
      "name: sangeeta\n",
      "age: 41\n",
      "name: sangeeta\n",
      "age: 41\n",
      "name: sangeeta\n",
      "age: 41\n",
      "name: sangeeta\n",
      "age: 41\n",
      "name: sangeeta\n",
      "age: 41\n",
      "name: sangeeta\n",
      "age: 41\n",
      "name: sangeeta\n",
      "age: 41\n",
      "name: sangeeta\n",
      "age: 41\n",
      "name: sangeeta\n",
      "age: 41\n",
      "name: sangeeta\n",
      "age: 41\n",
      "name: sangeeta\n",
      "age: 41\n",
      "name: sangeeta\n",
      "age: 41\n",
      "name: sangeeta\n",
      "age: 41\n",
      "name: sangeeta\n",
      "age: 41\n",
      "name: sangeeta\n",
      "age: 41\n",
      "name: sangeeta\n",
      "age: 41\n",
      "name: sangeeta\n",
      "age: 41\n",
      "name: sangeeta\n",
      "age: 41\n",
      "name: sangeeta\n",
      "age: 41\n",
      "name: sangeeta\n",
      "age: 41\n",
      "name: sangeeta\n",
      "age: 41\n",
      "name: sangeeta\n",
      "age: 41\n",
      "name: sangeeta\n",
      "age: 41\n",
      "name: sangeeta\n",
      "age: 41\n",
      "name: sangeeta\n",
      "age: 41\n",
      "name: sangeeta\n",
      "age: 41\n",
      "name: sangeeta\n",
      "age: 41\n",
      "name: sangeeta\n",
      "age: 41\n",
      "name: sangeeta\n",
      "age: 41\n",
      "name: sangeeta\n",
      "age: 41\n",
      "name: sangeeta\n",
      "age: 41\n",
      "name: sangeeta\n",
      "age: 41\n",
      "name: sangeeta\n",
      "age: 41\n",
      "name: sangeeta\n",
      "age: 41\n",
      "name: sangeeta\n",
      "age: 41\n",
      "name: sangeeta\n",
      "age: 41\n",
      "name: sangeeta\n",
      "age: 41\n",
      "name: sangeeta\n",
      "age: 41\n",
      "name: sangeeta\n",
      "age: 41\n",
      "name: sangeeta\n",
      "age: 41\n",
      "name: sangeeta\n",
      "age: 41\n",
      "name: sangeeta\n",
      "age: 41\n",
      "name: sangeeta\n",
      "age: 41\n",
      "name: sangeeta\n",
      "age: 41\n",
      "name: sangeeta\n",
      "age: 41\n",
      "name: sangeeta\n",
      "age: 41\n",
      "name: sangeeta\n",
      "age: 41\n",
      "name: sangeeta\n",
      "age: 41\n",
      "name: sangeeta\n",
      "age: 41\n",
      "name: sangeeta\n",
      "age: 41\n",
      "name: sangeeta\n",
      "age: 41\n",
      "name: sangeeta\n",
      "age: 41\n",
      "name: sangeeta\n",
      "age: 41\n",
      "name: sangeeta\n",
      "age: 41\n",
      "name: sangeeta\n",
      "age: 41\n",
      "name: sangeeta\n",
      "age: 41\n",
      "name: sangeeta\n",
      "age: 41\n",
      "name: sangeeta\n",
      "age: 41\n",
      "name: sangeeta\n",
      "age: 41\n",
      "name: sangeeta\n",
      "age: 41\n",
      "name: sangeeta\n",
      "age: 41\n",
      "name: sangeeta\n",
      "age: 41\n",
      "name: sangeeta\n",
      "age: 41\n",
      "name: sangeeta\n",
      "age: 41\n",
      "name: sangeeta\n",
      "age: 41\n",
      "name: sangeeta\n",
      "age: 41\n",
      "name: sangeeta\n",
      "age: 41\n",
      "name: sangeeta\n",
      "age: 41\n",
      "name: sangeeta\n",
      "age: 41\n",
      "name: sangeeta\n",
      "age: 41\n",
      "name: sangeeta\n",
      "age: 41\n",
      "name: sangeeta\n",
      "age: 41\n",
      "name: sangeeta\n",
      "age: 41\n",
      "name: sangeeta\n",
      "age: 41\n",
      "name: sangeeta\n",
      "age: 41\n",
      "name: sangeeta\n",
      "age: 41\n",
      "name: sangeeta\n",
      "age: 41\n",
      "name: sangeeta\n",
      "age: 41\n",
      "name: sangeeta\n",
      "age: 41\n",
      "name: sangeeta\n",
      "age: 41\n",
      "name: sangeeta\n",
      "age: 41\n",
      "name: sangeeta\n",
      "age: 41\n",
      "name: sangeeta\n",
      "age: 41\n",
      "name: sangeeta\n",
      "age: 41\n",
      "name: sangeeta\n",
      "age: 41\n",
      "name: sangeeta\n",
      "age: 41\n",
      "name: sangeeta\n",
      "age: 41\n",
      "name: sangeeta\n",
      "age: 41\n",
      "name: sangeeta\n",
      "age: 41\n",
      "name: sangeeta\n",
      "age: 41\n",
      "name: sangeeta\n",
      "age: 41\n",
      "name: sangeeta\n",
      "age: 41\n",
      "name: sangeeta\n",
      "age: 41\n",
      "name: sangeeta\n",
      "age: 41\n",
      "name: sangeeta\n",
      "age: 41\n",
      "name: sangeeta\n",
      "age: 41\n",
      "name: sangeeta\n",
      "age: 41\n",
      "name: sangeeta\n",
      "age: 41\n",
      "name: sangeeta\n",
      "age: 41\n",
      "name: sangeeta\n",
      "age: 41\n",
      "name: sangeeta\n",
      "age: 41\n",
      "name: sangeeta\n",
      "age: 41\n",
      "name: sangeeta\n",
      "age: 41\n",
      "name: sangeeta\n",
      "age: 41\n",
      "name: sangeeta\n",
      "age: 41\n",
      "name: sangeeta\n",
      "age: 41\n",
      "name: sangeeta\n",
      "age: 41\n",
      "name: sangeeta\n",
      "age: 41\n",
      "name: sangeeta\n",
      "age: 41\n",
      "name: sangeeta\n",
      "age: 41\n",
      "name: sangeeta\n",
      "age: 41\n",
      "name: sangeeta\n",
      "age: 41\n",
      "name: sangeeta\n",
      "age: 41\n",
      "name: sangeeta\n",
      "age: 41\n",
      "name: sangeeta\n",
      "age: 41\n",
      "name: sangeeta\n",
      "age: 41\n",
      "name: sangeeta\n",
      "age: 41\n",
      "name: sangeeta\n",
      "age: 41\n",
      "name: sangeeta\n",
      "age: 41\n",
      "name: sangeeta\n",
      "age: 41\n",
      "name: sangeeta\n",
      "age: 41\n",
      "name: sangeeta\n",
      "age: 41\n",
      "name: sangeeta\n",
      "age: 41\n",
      "name: sangeeta\n",
      "age: 41\n",
      "name: sangeeta\n",
      "age: 41\n",
      "name: sangeeta\n",
      "age: 41\n",
      "name: sangeeta\n",
      "age: 41\n",
      "name: sangeeta\n",
      "age: 41\n",
      "name: sangeeta\n",
      "age: 41\n",
      "name: sangeeta\n",
      "age: 41\n",
      "name: sangeeta\n",
      "age: 41\n",
      "name: sangeeta\n",
      "age: 41\n",
      "name: sangeeta\n",
      "age: 41\n",
      "name: sangeeta\n",
      "age: 41\n",
      "name: sangeeta\n",
      "age: 41\n",
      "name: sangeeta\n",
      "age: 41\n",
      "name: sangeeta\n",
      "age: 41\n",
      "name: sangeeta\n",
      "age: 41\n",
      "name: sangeeta\n",
      "age: 41\n",
      "name: sangeeta\n",
      "age: 41\n",
      "name: sangeeta\n",
      "age: 41\n",
      "name: sangeeta\n",
      "age: 41\n",
      "name: sangeeta\n",
      "age: 41\n",
      "name: sangeeta\n",
      "age: 41\n",
      "name: sangeeta\n",
      "age: 41\n",
      "name: sangeeta\n",
      "age: 41\n",
      "name: sangeeta\n",
      "age: 41\n",
      "name: sangeeta\n",
      "age: 41\n",
      "name: sangeeta\n",
      "age: 41\n",
      "name: sangeeta\n",
      "age: 41\n",
      "name: sangeeta\n",
      "age: 41\n",
      "name: sangeeta\n",
      "age: 41\n",
      "name: sangeeta\n",
      "age: 41\n",
      "name: sangeeta\n",
      "age: 41\n",
      "name: sangeeta\n",
      "age: 41\n",
      "name: sangeeta\n",
      "age: 41\n",
      "name: sangeeta\n",
      "age: 41\n",
      "name: sangeeta\n",
      "age: 41\n",
      "name: sangeeta\n",
      "age: 41\n",
      "name: sangeeta\n",
      "age: 41\n",
      "name: sangeeta\n",
      "age: 41\n",
      "name: sangeeta\n",
      "age: 41\n",
      "name: sangeeta\n",
      "age: 41\n",
      "name: sangeeta\n",
      "age: 41\n",
      "name: sangeeta\n",
      "age: 41\n",
      "name: sangeeta\n",
      "age: 41\n",
      "name: sangeeta\n",
      "age: 41\n",
      "name: sangeeta\n",
      "age: 41\n",
      "name: sangeeta\n",
      "age: 41\n",
      "name: sangeeta\n",
      "age: 41\n",
      "name: sangeeta\n",
      "age: 41\n",
      "name: sangeeta\n",
      "age: 41\n",
      "name: sangeeta\n",
      "age: 41\n",
      "name: sangeeta\n",
      "age: 41\n",
      "name: sangeeta\n",
      "age: 41\n",
      "name: sangeeta\n",
      "age: 41\n",
      "name: sangeeta\n",
      "age: 41\n",
      "name: sangeeta\n",
      "age: 41\n",
      "name: sangeeta\n",
      "age: 41\n",
      "name: sangeeta\n",
      "age: 41\n",
      "name: sangeeta\n",
      "age: 41\n",
      "name: sangeeta\n",
      "age: 41\n",
      "name: sangeeta\n",
      "age: 41\n",
      "name: sangeeta\n",
      "age: 41\n",
      "name: sangeeta\n",
      "age: 41\n",
      "name: sangeeta\n",
      "age: 41\n",
      "name: sangeeta\n",
      "age: 41\n",
      "name: sangeeta\n",
      "age: 41\n",
      "name: sangeeta\n",
      "age: 41\n",
      "name: sangeeta\n",
      "age: 41\n",
      "name: sangeeta\n",
      "age: 41\n",
      "name: sangeeta\n",
      "age: 41\n",
      "name: sangeeta\n",
      "age: 41\n",
      "name: sangeeta\n",
      "age: 41\n",
      "name: sangeeta\n",
      "age: 41\n",
      "name: sangeeta\n",
      "age: 41\n",
      "name: sangeeta\n",
      "age: 41\n",
      "name: sangeeta\n",
      "age: 41\n",
      "name: sangeeta\n",
      "age: 41\n",
      "name: sangeeta\n",
      "age: 41\n",
      "name: sangeeta\n",
      "age: 41\n",
      "name: sangeeta\n",
      "age: 41\n",
      "name: sangeeta\n",
      "age: 41\n",
      "name: sangeeta\n",
      "age: 41\n",
      "name: sangeeta\n",
      "age: 41\n",
      "name: sangeeta\n",
      "age: 41\n",
      "name: sangeeta\n",
      "age: 41\n",
      "name: sangeeta\n",
      "age: 41\n",
      "name: sangeeta\n",
      "age: 41\n",
      "name: sangeeta\n",
      "age: 41\n",
      "name: sangeeta\n",
      "age: 41\n",
      "name: sangeeta\n",
      "age: 41\n",
      "name: sangeeta\n",
      "age: 41\n",
      "name: sangeeta\n",
      "age: 41\n",
      "name: sangeeta\n",
      "age: 41\n",
      "name: sangeeta\n",
      "age: 41\n",
      "name: sangeeta\n",
      "age: 41\n",
      "name: sangeeta\n",
      "age: 41\n",
      "name: sangeeta\n",
      "age: 41\n",
      "name: sangeeta\n",
      "age: 41\n",
      "name: sangeeta\n",
      "age: 41\n",
      "name: sangeeta\n",
      "age: 41\n",
      "name: sangeeta\n",
      "age: 41\n",
      "name: sangeeta\n",
      "age: 41\n",
      "name: sangeeta\n",
      "age: 41\n",
      "name: sangeeta\n",
      "age: 41\n",
      "name: sangeeta\n",
      "age: 41\n",
      "name: sangeeta\n",
      "age: 41\n",
      "name: sangeeta\n",
      "age: 41\n",
      "name: sangeeta\n",
      "age: 41\n",
      "name: sangeeta\n",
      "age: 41\n",
      "name: sangeeta\n",
      "age: 41\n",
      "name: sangeeta\n",
      "age: 41\n",
      "name: sangeeta\n",
      "age: 41\n",
      "name: sangeeta\n",
      "age: 41\n",
      "name: sangeeta\n",
      "age: 41\n",
      "name: sangeeta\n",
      "age: 41\n",
      "name: sangeeta\n",
      "age: 41\n",
      "name: sangeeta\n",
      "age: 41\n",
      "name: sangeeta\n",
      "age: 41\n",
      "name: sangeeta\n",
      "age: 41\n",
      "name: sangeeta\n",
      "age: 41\n",
      "name: sangeeta\n",
      "age: 41\n",
      "name: sangeeta\n",
      "age: 41\n",
      "name: sangeeta\n",
      "age: 41\n",
      "name: sangeeta\n",
      "age: 41\n",
      "name: sangeeta\n",
      "age: 41\n",
      "name: sangeeta\n",
      "age: 41\n",
      "name: sangeeta\n",
      "age: 41\n",
      "name: sangeeta\n",
      "age: 41\n",
      "name: sangeeta\n",
      "age: 41\n",
      "name: sangeeta\n",
      "age: 41\n",
      "name: sangeeta\n",
      "age: 41\n",
      "name: sangeeta\n",
      "age: 41\n",
      "name: sangeeta\n",
      "age: 41\n",
      "name: sangeeta\n",
      "age: 41\n",
      "name: sangeeta\n",
      "age: 41\n",
      "name: sangeeta\n",
      "age: 41\n",
      "name: sangeeta\n",
      "age: 41\n",
      "name: sangeeta\n",
      "age: 41\n",
      "name: sangeeta\n",
      "age: 41\n",
      "name: sangeeta\n",
      "age: 41\n",
      "name: sangeeta\n",
      "age: 41\n",
      "name: sangeeta\n",
      "age: 41\n",
      "name: sangeeta\n",
      "age: 41\n",
      "name: sangeeta\n",
      "age: 41\n",
      "name: sangeeta\n",
      "age: 41\n",
      "name: sangeeta\n",
      "age: 41\n",
      "name: sangeeta\n",
      "age: 41\n",
      "name: sangeeta\n",
      "age: 41\n",
      "name: sangeeta\n",
      "age: 41\n",
      "name: sangeeta\n",
      "age: 41\n",
      "name: sangeeta\n",
      "age: 41\n",
      "name: sangeeta\n",
      "age: 41\n",
      "name: sangeeta\n",
      "age: 41\n",
      "name: sangeeta\n",
      "age: 41\n",
      "name: sangeeta\n",
      "age: 41\n",
      "name: sangeeta\n",
      "age: 41\n",
      "name: sangeeta\n",
      "age: 41\n",
      "name: sangeeta\n",
      "age: 41\n",
      "name: sangeeta\n",
      "age: 41\n",
      "name: sangeeta\n",
      "age: 41\n",
      "name: sangeeta\n",
      "age: 41\n",
      "name: sangeeta\n",
      "age: 41\n",
      "name: sangeeta\n",
      "age: 41\n",
      "name: sangeeta\n",
      "age: 41\n",
      "name: sangeeta\n",
      "age: 41\n",
      "name: sangeeta\n",
      "age: 41\n",
      "name: sangeeta\n",
      "age: 41\n",
      "name: sangeeta\n",
      "age: 41\n",
      "name: sangeeta\n",
      "age: 41\n",
      "name: sangeeta\n",
      "age: 41\n",
      "name: sangeeta\n",
      "age: 41\n",
      "name: sangeeta\n",
      "age: 41\n",
      "name: sangeeta\n",
      "age: 41\n",
      "name: sangeeta\n",
      "age: 41\n",
      "name: sangeeta\n",
      "age: 41\n",
      "name: sangeeta\n",
      "age: 41\n",
      "name: sangeeta\n",
      "age: 41\n",
      "name: sangeeta\n",
      "age: 41\n",
      "name: sangeeta\n",
      "age: 41\n",
      "name: sangeeta\n",
      "age: 41\n",
      "name: sangeeta\n",
      "age: 41\n",
      "name: sangeeta\n",
      "age: 41\n",
      "name: sangeeta\n",
      "age: 41\n",
      "name: sangeeta\n",
      "age: 41\n",
      "name: sangeeta\n",
      "age: 41\n",
      "name: sangeeta\n",
      "age: 41\n",
      "name: sangeeta\n",
      "age: 41\n",
      "name: sangeeta\n",
      "age: 41\n",
      "name: sangeeta\n",
      "age: 41\n",
      "name: sangeeta\n",
      "age: 41\n",
      "name: sangeeta\n",
      "age: 41\n",
      "name: sangeeta\n",
      "age: 41\n",
      "name: sangeeta\n",
      "age: 41\n",
      "name: sangeeta\n",
      "age: 41\n",
      "name: sangeeta\n",
      "age: 41\n",
      "name: sangeeta\n",
      "age: 41\n",
      "name: sangeeta\n",
      "age: 41\n",
      "name: sangeeta\n",
      "age: 41\n",
      "name: sangeeta\n",
      "age: 41\n",
      "name: sangeeta\n",
      "age: 41\n",
      "name: sangeeta\n",
      "age: 41\n",
      "name: sangeeta\n",
      "age: 41\n",
      "name: sangeeta\n",
      "age: 41\n",
      "name: sangeeta\n",
      "age: 41\n",
      "name: sangeeta\n",
      "age: 41\n",
      "name: sangeeta\n",
      "age: 41\n",
      "name: sangeeta\n",
      "age: 41\n",
      "name: sangeeta\n",
      "age: 41\n",
      "name: sangeeta\n",
      "age: 41\n",
      "name: sangeeta\n",
      "age: 41\n",
      "name: sangeeta\n",
      "age: 41\n",
      "name: sangeeta\n",
      "age: 41\n",
      "name: sangeeta\n",
      "age: 41\n",
      "name: sangeeta\n",
      "age: 41\n",
      "name: sangeeta\n",
      "age: 41\n",
      "name: sangeeta\n",
      "age: 41\n",
      "name: sangeeta\n",
      "age: 41\n",
      "name: sangeeta\n",
      "age: 41\n",
      "name: sangeeta\n",
      "age: 41\n",
      "name: sangeeta\n",
      "age: 41\n",
      "name: sangeeta\n",
      "age: 41\n",
      "name: sangeeta\n",
      "age: 41\n",
      "name: sangeeta\n",
      "age: 41\n",
      "name: sangeeta\n",
      "age: 41\n",
      "name: sangeeta\n",
      "age: 41\n",
      "name: sangeeta\n",
      "age: 41\n",
      "name: sangeeta\n",
      "age: 41\n",
      "name: sangeeta\n",
      "age: 41\n",
      "name: sangeeta\n",
      "age: 41\n",
      "name: sangeeta\n",
      "age: 41\n",
      "name: sangeeta\n",
      "age: 41\n",
      "name: sangeeta\n",
      "age: 41\n",
      "name: sangeeta\n",
      "age: 41\n",
      "name: sangeeta\n",
      "age: 41\n",
      "name: sangeeta\n",
      "age: 41\n",
      "name: sangeeta\n",
      "age: 41\n",
      "name: sangeeta\n",
      "age: 41\n",
      "name: sangeeta\n",
      "age: 41\n",
      "name: sangeeta\n",
      "age: 41\n",
      "name: sangeeta\n",
      "age: 41\n",
      "name: sangeeta\n",
      "age: 41\n",
      "name: sangeeta\n",
      "age: 41\n",
      "name: sangeeta\n",
      "age: 41\n",
      "name: sangeeta\n",
      "age: 41\n",
      "name: sangeeta\n",
      "age: 41\n",
      "name: sangeeta\n",
      "age: 41\n",
      "name: sangeeta\n",
      "age: 41\n",
      "name: sangeeta\n",
      "age: 41\n",
      "name: sangeeta\n",
      "age: 41\n",
      "name: sangeeta\n",
      "age: 41\n",
      "name: sangeeta\n",
      "age: 41\n",
      "name: sangeeta\n",
      "age: 41\n",
      "name: sangeeta\n",
      "age: 41\n",
      "name: sangeeta\n",
      "age: 41\n",
      "name: sangeeta\n",
      "age: 41\n",
      "name: sangeeta\n",
      "age: 41\n",
      "name: sangeeta\n",
      "age: 41\n",
      "name: sangeeta\n",
      "age: 41\n",
      "name: sangeeta\n",
      "age: 41\n",
      "name: sangeeta\n",
      "age: 41\n",
      "name: sangeeta\n",
      "age: 41\n",
      "name: sangeeta\n",
      "age: 41\n",
      "name: sangeeta\n",
      "age: 41\n",
      "name: sangeeta\n",
      "age: 41\n",
      "name: sangeeta\n",
      "age: 41\n",
      "name: sangeeta\n",
      "age: 41\n",
      "name: sangeeta\n",
      "age: 41\n",
      "name: sangeeta\n",
      "age: 41\n",
      "name: sangeeta\n",
      "age: 41\n",
      "name: sangeeta\n",
      "age: 41\n",
      "name: sangeeta\n",
      "age: 41\n",
      "name: sangeeta\n",
      "age: 41\n",
      "name: sangeeta\n",
      "age: 41\n",
      "name: sangeeta\n",
      "age: 41\n",
      "name: sangeeta\n",
      "age: 41\n",
      "name: sangeeta\n",
      "age: 41\n",
      "name: sangeeta\n",
      "age: 41\n",
      "name: sangeeta\n",
      "age: 41\n",
      "name: sangeeta\n",
      "age: 41\n",
      "name: sangeeta\n",
      "age: 41\n",
      "name: sangeeta\n",
      "age: 41\n",
      "name: sangeeta\n",
      "age: 41\n",
      "name: sangeeta\n",
      "age: 41\n",
      "name: sangeeta\n",
      "age: 41\n",
      "name: sangeeta\n",
      "age: 41\n",
      "name: sangeeta\n",
      "age: 41\n",
      "name: sangeeta\n",
      "age: 41\n",
      "name: sangeeta\n",
      "age: 41\n",
      "name: sangeeta\n",
      "age: 41\n",
      "name: sangeeta\n",
      "age: 41\n",
      "name: sangeeta\n",
      "age: 41\n",
      "name: sangeeta\n",
      "age: 41\n",
      "name: sangeeta\n",
      "age: 41\n",
      "name: sangeeta\n",
      "age: 41\n",
      "name: sangeeta\n",
      "age: 41\n",
      "name: sangeeta\n",
      "age: 41\n",
      "name: sangeeta\n",
      "age: 41\n",
      "name: sangeeta\n",
      "age: 41\n",
      "name: sangeeta\n",
      "age: 41\n",
      "name: sangeeta\n",
      "age: 41\n",
      "name: sangeeta\n",
      "age: 41\n",
      "name: sangeeta\n",
      "age: 41\n",
      "name: sangeeta\n",
      "age: 41\n",
      "name: sangeeta\n",
      "age: 41\n",
      "name: sangeeta\n",
      "age: 41\n",
      "name: sangeeta\n",
      "age: 41\n",
      "name: sangeeta\n",
      "age: 41\n",
      "name: sangeeta\n",
      "age: 41\n",
      "name: sangeeta\n",
      "age: 41\n",
      "name: sangeeta\n",
      "age: 41\n",
      "name: sangeeta\n",
      "age: 41\n",
      "name: sangeeta\n",
      "age: 41\n",
      "name: sangeeta\n",
      "age: 41\n",
      "name: sangeeta\n",
      "age: 41\n",
      "name: sangeeta\n",
      "age: 41\n",
      "name: sangeeta\n",
      "age: 41\n",
      "name: sangeeta\n",
      "age: 41\n",
      "name: sangeeta\n",
      "age: 41\n",
      "name: sangeeta\n",
      "age: 41\n",
      "name: sangeeta\n",
      "age: 41\n",
      "name: sangeeta\n",
      "age: 41\n",
      "name: sangeeta\n",
      "age: 41\n",
      "name: sangeeta\n",
      "age: 41\n",
      "name: sangeeta\n",
      "age: 41\n",
      "name: sangeeta\n",
      "age: 41\n",
      "name: sangeeta\n",
      "age: 41\n",
      "name: sangeeta\n",
      "age: 41\n",
      "name: sangeeta\n",
      "age: 41\n",
      "name: sangeeta\n",
      "age: 41\n",
      "name: sangeeta\n",
      "age: 41\n",
      "name: sangeeta\n",
      "age: 41\n",
      "name: sangeeta\n",
      "age: 41\n",
      "name: sangeeta\n",
      "age: 41\n",
      "name: sangeeta\n",
      "age: 41\n",
      "name: sangeeta\n",
      "age: 41\n",
      "name: sangeeta\n",
      "age: 41\n",
      "name: sangeeta\n",
      "age: 41\n",
      "name: sangeeta\n",
      "age: 41\n",
      "name: sangeeta\n",
      "age: 41\n",
      "name: sangeeta\n",
      "age: 41\n",
      "name: sangeeta\n",
      "age: 41\n",
      "name: sangeeta\n",
      "age: 41\n",
      "name: sangeeta\n",
      "age: 41\n",
      "name: sangeeta\n",
      "age: 41\n",
      "name: sangeeta\n",
      "age: 41\n",
      "name: sangeeta\n",
      "age: 41\n",
      "name: sangeeta\n",
      "age: 41\n",
      "name: sangeeta\n",
      "age: 41\n",
      "name: sangeeta\n",
      "age: 41\n",
      "name: sangeeta\n",
      "age: 41\n",
      "name: sangeeta\n",
      "age: 41\n"
     ]
    },
    {
     "ename": "RecursionError",
     "evalue": "maximum recursion depth exceeded while calling a Python object",
     "output_type": "error",
     "traceback": [
      "\u001b[1;31m---------------------------------------------------------------------------\u001b[0m",
      "\u001b[1;31mRecursionError\u001b[0m                            Traceback (most recent call last)",
      "\u001b[1;32m<ipython-input-15-f20f6931a8c7>\u001b[0m in \u001b[0;36m<module>\u001b[1;34m\u001b[0m\n\u001b[1;32m----> 1\u001b[1;33m \u001b[0mfunc\u001b[0m\u001b[1;33m(\u001b[0m\u001b[1;34m\"sangeeta\"\u001b[0m\u001b[1;33m)\u001b[0m\u001b[1;33m\u001b[0m\u001b[1;33m\u001b[0m\u001b[0m\n\u001b[0m",
      "\u001b[1;32m<ipython-input-14-771989af3277>\u001b[0m in \u001b[0;36mfunc\u001b[1;34m(name, age)\u001b[0m\n\u001b[0;32m      3\u001b[0m     \u001b[0mprint\u001b[0m\u001b[1;33m(\u001b[0m\u001b[1;34m\"age:\"\u001b[0m\u001b[1;33m,\u001b[0m \u001b[0mage\u001b[0m\u001b[1;33m)\u001b[0m\u001b[1;33m\u001b[0m\u001b[1;33m\u001b[0m\u001b[0m\n\u001b[0;32m      4\u001b[0m \u001b[1;33m\u001b[0m\u001b[0m\n\u001b[1;32m----> 5\u001b[1;33m     \u001b[0mfunc\u001b[0m\u001b[1;33m(\u001b[0m\u001b[1;34m\"sangeeta\"\u001b[0m\u001b[1;33m)\u001b[0m\u001b[1;33m\u001b[0m\u001b[1;33m\u001b[0m\u001b[0m\n\u001b[0m",
      "... last 1 frames repeated, from the frame below ...\n",
      "\u001b[1;32m<ipython-input-14-771989af3277>\u001b[0m in \u001b[0;36mfunc\u001b[1;34m(name, age)\u001b[0m\n\u001b[0;32m      3\u001b[0m     \u001b[0mprint\u001b[0m\u001b[1;33m(\u001b[0m\u001b[1;34m\"age:\"\u001b[0m\u001b[1;33m,\u001b[0m \u001b[0mage\u001b[0m\u001b[1;33m)\u001b[0m\u001b[1;33m\u001b[0m\u001b[1;33m\u001b[0m\u001b[0m\n\u001b[0;32m      4\u001b[0m \u001b[1;33m\u001b[0m\u001b[0m\n\u001b[1;32m----> 5\u001b[1;33m     \u001b[0mfunc\u001b[0m\u001b[1;33m(\u001b[0m\u001b[1;34m\"sangeeta\"\u001b[0m\u001b[1;33m)\u001b[0m\u001b[1;33m\u001b[0m\u001b[1;33m\u001b[0m\u001b[0m\n\u001b[0m",
      "\u001b[1;31mRecursionError\u001b[0m: maximum recursion depth exceeded while calling a Python object"
     ]
    }
   ],
   "source": [
    "func(\"sangeeta\")"
   ]
  },
  {
   "cell_type": "code",
   "execution_count": null,
   "metadata": {},
   "outputs": [],
   "source": []
  },
  {
   "cell_type": "code",
   "execution_count": 10,
   "metadata": {},
   "outputs": [],
   "source": [
    "def func(name, age = 35): \n",
    "    print(\"name : \", name)\n",
    "    print(\"age : \", age)"
   ]
  },
  {
   "cell_type": "code",
   "execution_count": 11,
   "metadata": {},
   "outputs": [
    {
     "name": "stdout",
     "output_type": "stream",
     "text": [
      "name :  anurag\n",
      "age :  35\n"
     ]
    }
   ],
   "source": [
    "func(\"anurag\")"
   ]
  },
  {
   "cell_type": "code",
   "execution_count": 22,
   "metadata": {},
   "outputs": [],
   "source": [
    "def func(x, y= 2):\n",
    "    z = x * y + x + y\n",
    "\n",
    "func(2)"
   ]
  },
  {
   "cell_type": "code",
   "execution_count": null,
   "metadata": {},
   "outputs": [],
   "source": []
  },
  {
   "cell_type": "code",
   "execution_count": 23,
   "metadata": {},
   "outputs": [],
   "source": [
    "func(2)"
   ]
  },
  {
   "cell_type": "code",
   "execution_count": null,
   "metadata": {},
   "outputs": [],
   "source": []
  },
  {
   "cell_type": "code",
   "execution_count": 20,
   "metadata": {},
   "outputs": [
    {
     "data": {
      "text/plain": [
       "23"
      ]
     },
     "execution_count": 20,
     "metadata": {},
     "output_type": "execute_result"
    }
   ],
   "source": [
    "def func(x, y = 1):\n",
    "    z = x * y + x + y\n",
    "    return z\n",
    "\n",
    "func(2, func(3))"
   ]
  },
  {
   "cell_type": "code",
   "execution_count": 21,
   "metadata": {},
   "outputs": [
    {
     "ename": "TypeError",
     "evalue": "func() missing 1 required positional argument: 'y'",
     "output_type": "error",
     "traceback": [
      "\u001b[1;31m---------------------------------------------------------------------------\u001b[0m",
      "\u001b[1;31mTypeError\u001b[0m                                 Traceback (most recent call last)",
      "\u001b[1;32m<ipython-input-21-4744769ae5e7>\u001b[0m in \u001b[0;36m<module>\u001b[1;34m\u001b[0m\n\u001b[0;32m      3\u001b[0m     \u001b[1;32mreturn\u001b[0m \u001b[0mz\u001b[0m\u001b[1;33m\u001b[0m\u001b[1;33m\u001b[0m\u001b[0m\n\u001b[0;32m      4\u001b[0m \u001b[1;33m\u001b[0m\u001b[0m\n\u001b[1;32m----> 5\u001b[1;33m \u001b[0mfunc\u001b[0m\u001b[1;33m(\u001b[0m\u001b[1;36m2\u001b[0m\u001b[1;33m,\u001b[0m \u001b[0mfunc\u001b[0m\u001b[1;33m(\u001b[0m\u001b[1;36m3\u001b[0m\u001b[1;33m)\u001b[0m\u001b[1;33m)\u001b[0m\u001b[1;33m\u001b[0m\u001b[1;33m\u001b[0m\u001b[0m\n\u001b[0m",
      "\u001b[1;31mTypeError\u001b[0m: func() missing 1 required positional argument: 'y'"
     ]
    }
   ],
   "source": [
    "def func(x, y):\n",
    "    z = x * y + x + y\n",
    "    return z\n",
    "\n",
    "func(2, func(3))"
   ]
  },
  {
   "cell_type": "code",
   "execution_count": 24,
   "metadata": {},
   "outputs": [
    {
     "data": {
      "text/plain": [
       "35"
      ]
     },
     "execution_count": 24,
     "metadata": {},
     "output_type": "execute_result"
    }
   ],
   "source": [
    "def func(x = 1 ,y = 2):\n",
    "    z = x * y + x + y\n",
    "    return z\n",
    "\n",
    "func(2, func(3))"
   ]
  },
  {
   "cell_type": "code",
   "execution_count": 34,
   "metadata": {},
   "outputs": [
    {
     "ename": "NameError",
     "evalue": "name 'x' is not defined",
     "output_type": "error",
     "traceback": [
      "\u001b[1;31m---------------------------------------------------------------------------\u001b[0m",
      "\u001b[1;31mNameError\u001b[0m                                 Traceback (most recent call last)",
      "\u001b[1;32m<ipython-input-34-9e556ea634c3>\u001b[0m in \u001b[0;36m<module>\u001b[1;34m\u001b[0m\n\u001b[0;32m      4\u001b[0m     \u001b[1;32mreturn\u001b[0m \u001b[0mx\u001b[0m\u001b[1;33m*\u001b[0m\u001b[1;36m2\u001b[0m\u001b[1;33m-\u001b[0m \u001b[1;36m2\u001b[0m \u001b[1;33m*\u001b[0m \u001b[0my\u001b[0m \u001b[1;33m-\u001b[0m \u001b[1;36m2\u001b[0m\u001b[1;33m\u001b[0m\u001b[1;33m\u001b[0m\u001b[0m\n\u001b[0;32m      5\u001b[0m \u001b[1;33m\u001b[0m\u001b[0m\n\u001b[1;32m----> 6\u001b[1;33m \u001b[0mans_list\u001b[0m \u001b[1;33m=\u001b[0m \u001b[1;33m[\u001b[0m\u001b[0mfunc\u001b[0m\u001b[1;33m(\u001b[0m\u001b[0mx\u001b[0m\u001b[1;33m)\u001b[0m \u001b[1;32mfor\u001b[0m \u001b[0my\u001b[0m \u001b[1;32min\u001b[0m \u001b[0mL1\u001b[0m\u001b[1;33m]\u001b[0m\u001b[1;33m\u001b[0m\u001b[1;33m\u001b[0m\u001b[0m\n\u001b[0m\u001b[0;32m      7\u001b[0m \u001b[0mans_list\u001b[0m\u001b[1;33m\u001b[0m\u001b[1;33m\u001b[0m\u001b[0m\n",
      "\u001b[1;32m<ipython-input-34-9e556ea634c3>\u001b[0m in \u001b[0;36m<listcomp>\u001b[1;34m(.0)\u001b[0m\n\u001b[0;32m      4\u001b[0m     \u001b[1;32mreturn\u001b[0m \u001b[0mx\u001b[0m\u001b[1;33m*\u001b[0m\u001b[1;36m2\u001b[0m\u001b[1;33m-\u001b[0m \u001b[1;36m2\u001b[0m \u001b[1;33m*\u001b[0m \u001b[0my\u001b[0m \u001b[1;33m-\u001b[0m \u001b[1;36m2\u001b[0m\u001b[1;33m\u001b[0m\u001b[1;33m\u001b[0m\u001b[0m\n\u001b[0;32m      5\u001b[0m \u001b[1;33m\u001b[0m\u001b[0m\n\u001b[1;32m----> 6\u001b[1;33m \u001b[0mans_list\u001b[0m \u001b[1;33m=\u001b[0m \u001b[1;33m[\u001b[0m\u001b[0mfunc\u001b[0m\u001b[1;33m(\u001b[0m\u001b[0mx\u001b[0m\u001b[1;33m)\u001b[0m \u001b[1;32mfor\u001b[0m \u001b[0my\u001b[0m \u001b[1;32min\u001b[0m \u001b[0mL1\u001b[0m\u001b[1;33m]\u001b[0m\u001b[1;33m\u001b[0m\u001b[1;33m\u001b[0m\u001b[0m\n\u001b[0m\u001b[0;32m      7\u001b[0m \u001b[0mans_list\u001b[0m\u001b[1;33m\u001b[0m\u001b[1;33m\u001b[0m\u001b[0m\n",
      "\u001b[1;31mNameError\u001b[0m: name 'x' is not defined"
     ]
    }
   ],
   "source": [
    "L1 = [2, 7, 8, 10, 3]\n",
    "\n",
    "def func(y):\n",
    "    return x*2- 2 * y - 2\n",
    "\n",
    "ans_list = [func(x) for y in L1]\n",
    "ans_list"
   ]
  },
  {
   "cell_type": "code",
   "execution_count": 38,
   "metadata": {},
   "outputs": [
    {
     "data": {
      "text/plain": [
       "'even'"
      ]
     },
     "execution_count": 38,
     "metadata": {},
     "output_type": "execute_result"
    }
   ],
   "source": [
    "f= lambda x: \"even\" if x% 2== 0 else \"odd\"\n",
    "f(4)"
   ]
  },
  {
   "cell_type": "code",
   "execution_count": 40,
   "metadata": {},
   "outputs": [],
   "source": [
    "x= 9\n",
    "y= 3\n",
    "f= lambda x: \"x\" if x>= y else \"y\""
   ]
  },
  {
   "cell_type": "code",
   "execution_count": 49,
   "metadata": {},
   "outputs": [
    {
     "name": "stdout",
     "output_type": "stream",
     "text": [
      "9\n",
      "3\n"
     ]
    }
   ],
   "source": [
    "x= input()\n",
    "y= input()\n",
    "f= lambda x: \"x\" if x (\"greater then y\") else \"y\"\n"
   ]
  },
  {
   "cell_type": "code",
   "execution_count": 46,
   "metadata": {},
   "outputs": [
    {
     "ename": "NameError",
     "evalue": "name 'greater' is not defined",
     "output_type": "error",
     "traceback": [
      "\u001b[1;31m---------------------------------------------------------------------------\u001b[0m",
      "\u001b[1;31mNameError\u001b[0m                                 Traceback (most recent call last)",
      "\u001b[1;32m<ipython-input-46-c01d1ea891b7>\u001b[0m in \u001b[0;36m<module>\u001b[1;34m\u001b[0m\n\u001b[1;32m----> 1\u001b[1;33m \u001b[0mprint\u001b[0m\u001b[1;33m(\u001b[0m\u001b[0mgreater\u001b[0m\u001b[1;33m(\u001b[0m\u001b[0mx\u001b[0m\u001b[1;33m,\u001b[0m\u001b[0my\u001b[0m\u001b[1;33m)\u001b[0m\u001b[1;33m)\u001b[0m\u001b[1;33m\u001b[0m\u001b[1;33m\u001b[0m\u001b[0m\n\u001b[0m",
      "\u001b[1;31mNameError\u001b[0m: name 'greater' is not defined"
     ]
    }
   ],
   "source": [
    "print(greater(x,y))"
   ]
  },
  {
   "cell_type": "code",
   "execution_count": 50,
   "metadata": {},
   "outputs": [
    {
     "name": "stdout",
     "output_type": "stream",
     "text": [
      "9\n",
      "3\n"
     ]
    }
   ],
   "source": [
    "x= input()\n",
    "y= input()\n",
    "f= lambda x: \"x\" if x>= y else \"y\""
   ]
  },
  {
   "cell_type": "code",
   "execution_count": 51,
   "metadata": {},
   "outputs": [
    {
     "data": {
      "text/plain": [
       "9996"
      ]
     },
     "execution_count": 51,
     "metadata": {},
     "output_type": "execute_result"
    }
   ],
   "source": [
    "min = (lambda x, y: x if x < y else y)\n",
    "min(101*99, 102*98)"
   ]
  },
  {
   "cell_type": "code",
   "execution_count": 56,
   "metadata": {},
   "outputs": [],
   "source": [
    "\n",
    "f = lambda a, b: a if a > b else b"
   ]
  },
  {
   "cell_type": "code",
   "execution_count": 60,
   "metadata": {},
   "outputs": [
    {
     "data": {
      "text/plain": [
       "4"
      ]
     },
     "execution_count": 60,
     "metadata": {},
     "output_type": "execute_result"
    }
   ],
   "source": [
    "f(4,4)"
   ]
  },
  {
   "cell_type": "code",
   "execution_count": null,
   "metadata": {},
   "outputs": [],
   "source": [
    "f = lambda a, b, c: a if a > b, b if b > a else c"
   ]
  },
  {
   "cell_type": "code",
   "execution_count": 61,
   "metadata": {},
   "outputs": [
    {
     "ename": "TypeError",
     "evalue": "<lambda>() takes 2 positional arguments but 3 were given",
     "output_type": "error",
     "traceback": [
      "\u001b[1;31m---------------------------------------------------------------------------\u001b[0m",
      "\u001b[1;31mTypeError\u001b[0m                                 Traceback (most recent call last)",
      "\u001b[1;32m<ipython-input-61-93aedd868e20>\u001b[0m in \u001b[0;36m<module>\u001b[1;34m\u001b[0m\n\u001b[1;32m----> 1\u001b[1;33m \u001b[0mf\u001b[0m\u001b[1;33m(\u001b[0m\u001b[1;36m3\u001b[0m\u001b[1;33m,\u001b[0m\u001b[1;36m2\u001b[0m\u001b[1;33m,\u001b[0m\u001b[1;36m1\u001b[0m\u001b[1;33m)\u001b[0m\u001b[1;33m\u001b[0m\u001b[1;33m\u001b[0m\u001b[0m\n\u001b[0m",
      "\u001b[1;31mTypeError\u001b[0m: <lambda>() takes 2 positional arguments but 3 were given"
     ]
    }
   ],
   "source": [
    "f(3,2,1)"
   ]
  },
  {
   "cell_type": "code",
   "execution_count": 62,
   "metadata": {},
   "outputs": [],
   "source": [
    "f = lambda a, b: a if a > b else b"
   ]
  },
  {
   "cell_type": "code",
   "execution_count": 63,
   "metadata": {},
   "outputs": [
    {
     "data": {
      "text/plain": [
       "-7"
      ]
     },
     "execution_count": 63,
     "metadata": {},
     "output_type": "execute_result"
    }
   ],
   "source": [
    "f(-9,-7)"
   ]
  },
  {
   "cell_type": "code",
   "execution_count": 64,
   "metadata": {},
   "outputs": [
    {
     "data": {
      "text/plain": [
       "'TASHI'"
      ]
     },
     "execution_count": 64,
     "metadata": {},
     "output_type": "execute_result"
    }
   ],
   "source": [
    "n = [\"Anurag\", \"Sangeeta\", \"kuhu\", \"Tashi\", \"Mama\", \"phupa\"]\n",
    "f= lambda x: x.upper()\n",
    "\n",
    "f(\"Tashi\")"
   ]
  },
  {
   "cell_type": "code",
   "execution_count": 65,
   "metadata": {},
   "outputs": [
    {
     "data": {
      "text/plain": [
       "'ANURAG'"
      ]
     },
     "execution_count": 65,
     "metadata": {},
     "output_type": "execute_result"
    }
   ],
   "source": [
    "f(\"Anurag\")"
   ]
  },
  {
   "cell_type": "code",
   "execution_count": 67,
   "metadata": {},
   "outputs": [
    {
     "data": {
      "text/plain": [
       "'anurag'"
      ]
     },
     "execution_count": 67,
     "metadata": {},
     "output_type": "execute_result"
    }
   ],
   "source": [
    "n = [\"Anurag\", \"Sangeeta\", \"kuhu\", \"Tashi\", \"Mama\", \"phupa\"]\n",
    "f= lambda x: x.lower()\n",
    "\n",
    "f(\"Anurag\")"
   ]
  },
  {
   "cell_type": "code",
   "execution_count": 69,
   "metadata": {},
   "outputs": [
    {
     "data": {
      "text/plain": [
       "['ANURAG', 'SANGEETA', 'KUHU', 'TASHI', 'MAMA', 'PHUPA']"
      ]
     },
     "execution_count": 69,
     "metadata": {},
     "output_type": "execute_result"
    }
   ],
   "source": [
    "list(map( lambda x: x.upper(), n))"
   ]
  },
  {
   "cell_type": "code",
   "execution_count": 70,
   "metadata": {},
   "outputs": [
    {
     "data": {
      "text/plain": [
       "[1156, 2809, 441, 169, 116964]"
      ]
     },
     "execution_count": 70,
     "metadata": {},
     "output_type": "execute_result"
    }
   ],
   "source": [
    "l= [34,53,21,13,342]\n",
    "f= lambda l: l**2\n",
    "\n",
    "list(map(f,l))"
   ]
  },
  {
   "cell_type": "code",
   "execution_count": 71,
   "metadata": {},
   "outputs": [
    {
     "data": {
      "text/plain": [
       "[39304, 148877, 9261, 2197, 40001688]"
      ]
     },
     "execution_count": 71,
     "metadata": {},
     "output_type": "execute_result"
    }
   ],
   "source": [
    "l= [34,53,21,13,342]\n",
    "f= lambda l: l**3\n",
    "\n",
    "list(map(f,l))"
   ]
  },
  {
   "cell_type": "code",
   "execution_count": 72,
   "metadata": {},
   "outputs": [
    {
     "data": {
      "text/plain": [
       "[1156, 2809, 441, 169]"
      ]
     },
     "execution_count": 72,
     "metadata": {},
     "output_type": "execute_result"
    }
   ],
   "source": [
    "l= [34,53,21,13]\n",
    "def squareit (n):\n",
    "    return n**2\n",
    "\n",
    "list(map(squareit,l))"
   ]
  },
  {
   "cell_type": "code",
   "execution_count": 73,
   "metadata": {},
   "outputs": [
    {
     "name": "stdout",
     "output_type": "stream",
     "text": [
      "[2, 4, 6, 8]\n"
     ]
    }
   ],
   "source": [
    "list_numbers = (1,2,3,4)\n",
    "sample_map = map(lambda x: x*2, list_numbers)\n",
    "print(list(sample_map))"
   ]
  },
  {
   "cell_type": "code",
   "execution_count": null,
   "metadata": {},
   "outputs": [],
   "source": []
  },
  {
   "cell_type": "code",
   "execution_count": 74,
   "metadata": {},
   "outputs": [
    {
     "data": {
      "text/plain": [
       "[42, 123, 234, 54, 3, 9, 12, 54]"
      ]
     },
     "execution_count": 74,
     "metadata": {},
     "output_type": "execute_result"
    }
   ],
   "source": [
    "l = [42,123,234,54,3,9,12,54,67]\n",
    "d= lambda x: x%3 ==0\n",
    "d1 = filter(d,l)\n",
    "\n",
    "list(d1)"
   ]
  },
  {
   "cell_type": "code",
   "execution_count": 77,
   "metadata": {},
   "outputs": [
    {
     "data": {
      "text/plain": [
       "[12]"
      ]
     },
     "execution_count": 77,
     "metadata": {},
     "output_type": "execute_result"
    }
   ],
   "source": [
    "l = [42,123,234,54,3,9,12,54,67]\n",
    "d= lambda x: x%4 ==0\n",
    "d1 = filter(d,l)\n",
    "\n",
    "list(d1)"
   ]
  },
  {
   "cell_type": "code",
   "execution_count": 80,
   "metadata": {},
   "outputs": [
    {
     "data": {
      "text/plain": [
       "[42, 234, 54, 12, 54]"
      ]
     },
     "execution_count": 80,
     "metadata": {},
     "output_type": "execute_result"
    }
   ],
   "source": [
    "l = [42,123,234,54,3,9,12,54,67]\n",
    "d= lambda x: x%6 ==0\n",
    "d1 = filter(d,l)\n",
    "\n",
    "list(d1)"
   ]
  },
  {
   "cell_type": "code",
   "execution_count": 88,
   "metadata": {},
   "outputs": [
    {
     "data": {
      "text/plain": [
       "{1: ['Sam', 15],\n",
       " 2: ['Rob', 18],\n",
       " 3: ['Kyle', 16],\n",
       " 4: ['Cornor', 19],\n",
       " 5: ['Trump', 20]}"
      ]
     },
     "execution_count": 88,
     "metadata": {},
     "output_type": "execute_result"
    }
   ],
   "source": [
    "s= {1:['Sam', 15] , 2:['Rob',18], 3:['Kyle', 16], 4:['Cornor',19], 5:['Trump',20]}\n",
    "s"
   ]
  },
  {
   "cell_type": "code",
   "execution_count": 91,
   "metadata": {},
   "outputs": [
    {
     "data": {
      "text/plain": [
       "[['Cornor', 19], ['Trump', 20]]"
      ]
     },
     "execution_count": 91,
     "metadata": {},
     "output_type": "execute_result"
    }
   ],
   "source": [
    "f= lambda x: x[1] > 18\n",
    "d= filter (f,s.values())\n",
    "list(d)"
   ]
  },
  {
   "cell_type": "code",
   "execution_count": 92,
   "metadata": {},
   "outputs": [
    {
     "data": {
      "text/plain": [
       "[['Sam', 15], ['Kyle', 16]]"
      ]
     },
     "execution_count": 92,
     "metadata": {},
     "output_type": "execute_result"
    }
   ],
   "source": [
    "f= lambda x: x[1] < 18\n",
    "d= filter (f,s.values())\n",
    "list(d)"
   ]
  },
  {
   "cell_type": "code",
   "execution_count": 94,
   "metadata": {},
   "outputs": [
    {
     "data": {
      "text/plain": [
       "0"
      ]
     },
     "execution_count": 94,
     "metadata": {},
     "output_type": "execute_result"
    }
   ],
   "source": [
    "len(list(d))"
   ]
  },
  {
   "cell_type": "code",
   "execution_count": 95,
   "metadata": {},
   "outputs": [
    {
     "data": {
      "text/plain": [
       "2"
      ]
     },
     "execution_count": 95,
     "metadata": {},
     "output_type": "execute_result"
    }
   ],
   "source": [
    "students_data = {1:['Sam', 15] , 2:['Rob',18], 3:['Kyle', 16], 4:['Cornor',19], 5:['Trump',20]}\n",
    "\n",
    "len(list(filter(lambda x : x[1] > 18, students_data.values())))"
   ]
  },
  {
   "cell_type": "code",
   "execution_count": 96,
   "metadata": {},
   "outputs": [
    {
     "name": "stdout",
     "output_type": "stream",
     "text": [
      "6\n"
     ]
    }
   ],
   "source": [
    "from functools import reduce\n",
    "\n",
    "q  = reduce(lambda x, y: x*y, range(1,4))\n",
    "\n",
    "print(q)"
   ]
  },
  {
   "cell_type": "code",
   "execution_count": 100,
   "metadata": {},
   "outputs": [
    {
     "data": {
      "text/plain": [
       "[1, 2, 3, 4, 5, 6]"
      ]
     },
     "execution_count": 100,
     "metadata": {},
     "output_type": "execute_result"
    }
   ],
   "source": [
    "l= range(1,7)\n",
    "list(l)"
   ]
  },
  {
   "cell_type": "code",
   "execution_count": 102,
   "metadata": {},
   "outputs": [
    {
     "data": {
      "text/plain": [
       "6"
      ]
     },
     "execution_count": 102,
     "metadata": {},
     "output_type": "execute_result"
    }
   ],
   "source": [
    "\n",
    "f= lambda x,y: x*y\n",
    "f(2,3)"
   ]
  },
  {
   "cell_type": "code",
   "execution_count": 106,
   "metadata": {},
   "outputs": [
    {
     "ename": "TypeError",
     "evalue": "reduce() arg 2 must support iteration",
     "output_type": "error",
     "traceback": [
      "\u001b[1;31m---------------------------------------------------------------------------\u001b[0m",
      "\u001b[1;31mTypeError\u001b[0m                                 Traceback (most recent call last)",
      "\u001b[1;32m<ipython-input-106-07db2c71cfff>\u001b[0m in \u001b[0;36m<module>\u001b[1;34m\u001b[0m\n\u001b[1;32m----> 1\u001b[1;33m \u001b[0mq\u001b[0m\u001b[1;33m=\u001b[0m \u001b[0mreduce\u001b[0m\u001b[1;33m(\u001b[0m\u001b[1;32mlambda\u001b[0m \u001b[0mx\u001b[0m\u001b[1;33m,\u001b[0m\u001b[0my\u001b[0m\u001b[1;33m:\u001b[0m \u001b[0mx\u001b[0m\u001b[1;33m*\u001b[0m\u001b[0my\u001b[0m\u001b[1;33m,\u001b[0m \u001b[1;36m1\u001b[0m\u001b[1;33m)\u001b[0m\u001b[1;33m\u001b[0m\u001b[1;33m\u001b[0m\u001b[0m\n\u001b[0m\u001b[0;32m      2\u001b[0m \u001b[0mq\u001b[0m\u001b[1;33m\u001b[0m\u001b[1;33m\u001b[0m\u001b[0m\n",
      "\u001b[1;31mTypeError\u001b[0m: reduce() arg 2 must support iteration"
     ]
    }
   ],
   "source": [
    "q= reduce(lambda x,y: x*y, 1)\n",
    "q"
   ]
  },
  {
   "cell_type": "code",
   "execution_count": 108,
   "metadata": {},
   "outputs": [
    {
     "data": {
      "text/plain": [
       "['Santa Cruz', 'Santa fe', 'Mumbai', 'Delhi']"
      ]
     },
     "execution_count": 108,
     "metadata": {},
     "output_type": "execute_result"
    }
   ],
   "source": [
    "\n",
    "l"
   ]
  },
  {
   "cell_type": "code",
   "execution_count": 115,
   "metadata": {},
   "outputs": [
    {
     "ename": "SyntaxError",
     "evalue": "invalid syntax (<ipython-input-115-b43f4beb9726>, line 3)",
     "output_type": "error",
     "traceback": [
      "\u001b[1;36m  File \u001b[1;32m\"<ipython-input-115-b43f4beb9726>\"\u001b[1;36m, line \u001b[1;32m3\u001b[0m\n\u001b[1;33m    w\u001b[0m\n\u001b[1;37m    ^\u001b[0m\n\u001b[1;31mSyntaxError\u001b[0m\u001b[1;31m:\u001b[0m invalid syntax\n"
     ]
    }
   ],
   "source": [
    "l=()\n",
    "w= (i for i in l if i is (\"s\", \"S\")\n",
    "    w\n"
   ]
  },
  {
   "cell_type": "code",
   "execution_count": 130,
   "metadata": {},
   "outputs": [
    {
     "data": {
      "text/plain": [
       "2"
      ]
     },
     "execution_count": 130,
     "metadata": {},
     "output_type": "execute_result"
    }
   ],
   "source": [
    "l =['Santa Cruz','Santa fe','Mumbai','Delhi']\n",
    "d= [i for i in l if i.lower().startswith (('s'))]\n",
    "\n",
    "len(d)"
   ]
  },
  {
   "cell_type": "code",
   "execution_count": 131,
   "metadata": {},
   "outputs": [
    {
     "data": {
      "text/plain": [
       "[['Ankur', 'Avik', 'Kiran', 'Nitin', 'Narang', 'Sarkar', 'R', 'Sareen']]"
      ]
     },
     "execution_count": 131,
     "metadata": {},
     "output_type": "execute_result"
    }
   ],
   "source": [
    "l1=  ['Ankur', 'Avik', 'Kiran', 'Nitin']\n",
    "l2 = ['Narang', 'Sarkar', 'R', 'Sareen']"
   ]
  },
  {
   "cell_type": "code",
   "execution_count": 135,
   "metadata": {},
   "outputs": [
    {
     "data": {
      "text/plain": [
       "['Ankur Narang', 'Avik Sarkar', 'Kiran R', 'Nitin Sareen']"
      ]
     },
     "execution_count": 135,
     "metadata": {},
     "output_type": "execute_result"
    }
   ],
   "source": [
    "l4 = [ l1[0]+' '+l2[0], l1[1]+' '+l2[1], l1[2]+' '+l2[2], l1[3]+' '+l2[3] ]\n",
    "l4"
   ]
  },
  {
   "cell_type": "code",
   "execution_count": 136,
   "metadata": {},
   "outputs": [
    {
     "data": {
      "text/plain": [
       "['Ankur Narang', 'Avik Sarkar', 'Kiran R', 'Nitin Sareen']"
      ]
     },
     "execution_count": 136,
     "metadata": {},
     "output_type": "execute_result"
    }
   ],
   "source": [
    "l1=  ['Ankur', 'Avik', 'Kiran', 'Nitin']\n",
    "l2 = ['Narang', 'Sarkar', 'R', 'Sareen']\n",
    "l4 = [ l1[0]+' '+l2[0], l1[1]+' '+l2[1], l1[2]+' '+l2[2], l1[3]+' '+l2[3] ]\n",
    "l4"
   ]
  },
  {
   "cell_type": "code",
   "execution_count": 138,
   "metadata": {},
   "outputs": [
    {
     "data": {
      "text/plain": [
       "[5, 10, 15, 20, 25, 30, 35, 40, 45, 50]"
      ]
     },
     "execution_count": 138,
     "metadata": {},
     "output_type": "execute_result"
    }
   ],
   "source": [
    "l= [1, 2, 3, 4, 5, 6, 7, 8, 9, 10, 11, 12, 13, 14, 15, 16, 17, 18, 19, 20, 21, 22, 23, 24, 25, 26, 27, 28, 29, 30, 31, 32, 33, 34, 35, 36, 37, 38, 39, 40, 41, 42, 43, 44, 45, 46, 47, 48, 49, 50]\n",
    "f= lambda x: x % 5 == 0\n",
    "d= filter( f, l)\n",
    "list(d)"
   ]
  },
  {
   "cell_type": "code",
   "execution_count": 139,
   "metadata": {},
   "outputs": [
    {
     "ename": "SyntaxError",
     "evalue": "unexpected EOF while parsing (<ipython-input-139-34a3663bf97b>, line 3)",
     "output_type": "error",
     "traceback": [
      "\u001b[1;36m  File \u001b[1;32m\"<ipython-input-139-34a3663bf97b>\"\u001b[1;36m, line \u001b[1;32m3\u001b[0m\n\u001b[1;33m    list(filter (f,l)\u001b[0m\n\u001b[1;37m                     ^\u001b[0m\n\u001b[1;31mSyntaxError\u001b[0m\u001b[1;31m:\u001b[0m unexpected EOF while parsing\n"
     ]
    }
   ],
   "source": [
    "[1, 2, 3, 4, 5, 6, 7, 8, 9, 10, 11, 12, 13, 14, 15, 16, 17, 18, 19, 20, 21, 22, 23, 24, 25, 26, 27, 28, 29, 30, 31, 32, 33, 34, 35, 36, 37, 38, 39, 40, 41, 42, 43, 44, 45, 46, 47, 48, 49, 50]\n",
    "f= lambda x: x % 5 == 0\n",
    "list(filter (f,l)"
   ]
  },
  {
   "cell_type": "code",
   "execution_count": 141,
   "metadata": {},
   "outputs": [
    {
     "name": "stdout",
     "output_type": "stream",
     "text": [
      "['soap', 'sharp', 'shy', 'silent', 'ship', 'summer', 'sheep']\n"
     ]
    }
   ],
   "source": [
    "l= ['soap','sharp','shy','silent','ship','summer','sheep']\n",
    "d= [i for i in l if i.lower().startswith (('s'))]\n",
    "print(d)"
   ]
  },
  {
   "cell_type": "code",
   "execution_count": 142,
   "metadata": {},
   "outputs": [
    {
     "name": "stdout",
     "output_type": "stream",
     "text": [
      "['soap', 'sharp', 'ship', 'sheep']\n"
     ]
    }
   ],
   "source": [
    "d1 = [i for i in d if i.lower().endswith (('p'))]\n",
    "print(d1)"
   ]
  },
  {
   "cell_type": "code",
   "execution_count": 143,
   "metadata": {},
   "outputs": [
    {
     "name": "stdout",
     "output_type": "stream",
     "text": [
      "['soap', 'sharp', 'ship', 'sheep']\n"
     ]
    }
   ],
   "source": [
    "l= ['soap','sharp','shy','silent','ship','summer','sheep']\n",
    "d= [i for i in l if i.lower().startswith (('s'))]\n",
    "d1 = [i for i in d if i.lower().endswith (('p'))]\n",
    "print(d1)"
   ]
  },
  {
   "cell_type": "code",
   "execution_count": 148,
   "metadata": {},
   "outputs": [
    {
     "ename": "SyntaxError",
     "evalue": "invalid syntax (<ipython-input-148-1031995b0092>, line 2)",
     "output_type": "error",
     "traceback": [
      "\u001b[1;36m  File \u001b[1;32m\"<ipython-input-148-1031995b0092>\"\u001b[1;36m, line \u001b[1;32m2\u001b[0m\n\u001b[1;33m    d= [i for i in l if i.lower().startswith (('s')): endswith (('p'))]\u001b[0m\n\u001b[1;37m                                                    ^\u001b[0m\n\u001b[1;31mSyntaxError\u001b[0m\u001b[1;31m:\u001b[0m invalid syntax\n"
     ]
    }
   ],
   "source": [
    "l= ['soap','sharp','shy','silent','ship','summer','sheep']\n",
    "d= [i for i in l if i.lower().startswith (('s')): endswith (('p'))]\n",
    "\n",
    "print(d)"
   ]
  },
  {
   "cell_type": "code",
   "execution_count": 149,
   "metadata": {},
   "outputs": [
    {
     "name": "stdout",
     "output_type": "stream",
     "text": [
      "['soap', 'sharp', 'ship', 'sheep']\n"
     ]
    }
   ],
   "source": [
    "l= ['soap','sharp','shy','silent','ship','summer','sheep']\n",
    "d= [i for i in l if i.lower().startswith (('s'))]\n",
    "d1 = [i for i in d if i.lower().endswith (('p'))]\n",
    "print(d1)"
   ]
  },
  {
   "cell_type": "code",
   "execution_count": 150,
   "metadata": {},
   "outputs": [
    {
     "data": {
      "text/plain": [
       "99"
      ]
     },
     "execution_count": 150,
     "metadata": {},
     "output_type": "execute_result"
    }
   ],
   "source": [
    "l= [65,76,87,23,12,90,99]\n",
    "max(l)"
   ]
  },
  {
   "cell_type": "code",
   "execution_count": 1,
   "metadata": {},
   "outputs": [
    {
     "ename": "SyntaxError",
     "evalue": "invalid syntax (<ipython-input-1-b667c51fa68e>, line 4)",
     "output_type": "error",
     "traceback": [
      "\u001b[1;36m  File \u001b[1;32m\"<ipython-input-1-b667c51fa68e>\"\u001b[1;36m, line \u001b[1;32m4\u001b[0m\n\u001b[1;33m    for i in range (len(l1):\u001b[0m\n\u001b[1;37m                           ^\u001b[0m\n\u001b[1;31mSyntaxError\u001b[0m\u001b[1;31m:\u001b[0m invalid syntax\n"
     ]
    }
   ],
   "source": [
    "l1 = [5, 8, 9, 12]\n",
    "l2 = [10, 12, 8, 6]\n",
    "l3=[]\n",
    "for i in range (len(l1):\n",
    "                l3.append [l1[i]+ l2[i]]\n",
    "                \n"
   ]
  },
  {
   "cell_type": "code",
   "execution_count": 9,
   "metadata": {},
   "outputs": [],
   "source": [
    "class Rectangle :\n",
    "    def __init__(self):\n",
    "        self.length = 8\n",
    "        self.breadth = 4\n",
    "        \n",
    "        rect = Rectangle ()\n",
    "        print(rect.length, rect.breadth)\n",
    "    "
   ]
  },
  {
   "cell_type": "code",
   "execution_count": 5,
   "metadata": {},
   "outputs": [],
   "source": [
    "class Rectangle :\n",
    "    def __init__(self):\n",
    "        self.length = 10\n",
    "        self.breadth = 5\n",
    "        "
   ]
  },
  {
   "cell_type": "code",
   "execution_count": 10,
   "metadata": {},
   "outputs": [
    {
     "ename": "IndentationError",
     "evalue": "unexpected indent (<ipython-input-10-df6c6f04ecc3>, line 2)",
     "output_type": "error",
     "traceback": [
      "\u001b[1;36m  File \u001b[1;32m\"<ipython-input-10-df6c6f04ecc3>\"\u001b[1;36m, line \u001b[1;32m2\u001b[0m\n\u001b[1;33m    print (rect.length, rect.breadth)\u001b[0m\n\u001b[1;37m    ^\u001b[0m\n\u001b[1;31mIndentationError\u001b[0m\u001b[1;31m:\u001b[0m unexpected indent\n"
     ]
    }
   ],
   "source": [
    "   rect = Rectangle ()\n",
    "        print (rect.length, rect.breadth)"
   ]
  },
  {
   "cell_type": "code",
   "execution_count": 19,
   "metadata": {},
   "outputs": [
    {
     "ename": "SyntaxError",
     "evalue": "invalid syntax (<ipython-input-19-af70f2b7a2f2>, line 2)",
     "output_type": "error",
     "traceback": [
      "\u001b[1;36m  File \u001b[1;32m\"<ipython-input-19-af70f2b7a2f2>\"\u001b[1;36m, line \u001b[1;32m2\u001b[0m\n\u001b[1;33m    def __init__ self:\u001b[0m\n\u001b[1;37m                    ^\u001b[0m\n\u001b[1;31mSyntaxError\u001b[0m\u001b[1;31m:\u001b[0m invalid syntax\n"
     ]
    }
   ],
   "source": [
    "class Employee:\n",
    "    def __init__ self: \n",
    "        self.age = 41\n",
    "        self.name = Anurag\n",
    "        self.eid = 13701"
   ]
  },
  {
   "cell_type": "code",
   "execution_count": 17,
   "metadata": {},
   "outputs": [
    {
     "ename": "TypeError",
     "evalue": "__init__() missing 3 required positional arguments: 'age', 'name', and 'eid'",
     "output_type": "error",
     "traceback": [
      "\u001b[1;31m---------------------------------------------------------------------------\u001b[0m",
      "\u001b[1;31mTypeError\u001b[0m                                 Traceback (most recent call last)",
      "\u001b[1;32m<ipython-input-17-a8c115862146>\u001b[0m in \u001b[0;36m<module>\u001b[1;34m\u001b[0m\n\u001b[1;32m----> 1\u001b[1;33m \u001b[0memp\u001b[0m \u001b[1;33m=\u001b[0m \u001b[0mEmployee\u001b[0m\u001b[1;33m(\u001b[0m\u001b[1;33m)\u001b[0m\u001b[1;33m\u001b[0m\u001b[1;33m\u001b[0m\u001b[0m\n\u001b[0m\u001b[0;32m      2\u001b[0m \u001b[0mprint\u001b[0m\u001b[1;33m(\u001b[0m \u001b[0mself\u001b[0m\u001b[1;33m.\u001b[0m\u001b[0mage\u001b[0m\u001b[1;33m,\u001b[0m \u001b[0mself\u001b[0m\u001b[1;33m.\u001b[0m\u001b[0mname\u001b[0m\u001b[1;33m,\u001b[0m \u001b[0mself\u001b[0m\u001b[1;33m.\u001b[0m\u001b[0meid\u001b[0m\u001b[1;33m)\u001b[0m\u001b[1;33m\u001b[0m\u001b[1;33m\u001b[0m\u001b[0m\n",
      "\u001b[1;31mTypeError\u001b[0m: __init__() missing 3 required positional arguments: 'age', 'name', and 'eid'"
     ]
    }
   ],
   "source": [
    "emp = Employee()\n",
    "print( self.age, self.name, self.eid)"
   ]
  },
  {
   "cell_type": "code",
   "execution_count": 18,
   "metadata": {},
   "outputs": [],
   "source": [
    "class Student:\n",
    "    def __init__(self):\n",
    "        self.age = 10\n",
    "        self.name = \"Name\""
   ]
  },
  {
   "cell_type": "code",
   "execution_count": 20,
   "metadata": {},
   "outputs": [
    {
     "ename": "NameError",
     "evalue": "name 'XXXXXXXXXX' is not defined",
     "output_type": "error",
     "traceback": [
      "\u001b[1;31m---------------------------------------------------------------------------\u001b[0m",
      "\u001b[1;31mNameError\u001b[0m                                 Traceback (most recent call last)",
      "\u001b[1;32m<ipython-input-20-ca3f5cd977e0>\u001b[0m in \u001b[0;36m<module>\u001b[1;34m\u001b[0m\n\u001b[0;32m      7\u001b[0m \u001b[1;33m\u001b[0m\u001b[0m\n\u001b[0;32m      8\u001b[0m \u001b[0mstudent1\u001b[0m \u001b[1;33m=\u001b[0m \u001b[0mStudent\u001b[0m\u001b[1;33m(\u001b[0m\u001b[1;36m12\u001b[0m\u001b[1;33m,\u001b[0m\u001b[1;34m\"Raj\"\u001b[0m\u001b[1;33m,\u001b[0m\u001b[1;36m24\u001b[0m\u001b[1;33m)\u001b[0m\u001b[1;33m\u001b[0m\u001b[1;33m\u001b[0m\u001b[0m\n\u001b[1;32m----> 9\u001b[1;33m \u001b[0mXXXXXXXXXX\u001b[0m\u001b[1;33m\u001b[0m\u001b[1;33m\u001b[0m\u001b[0m\n\u001b[0m\u001b[0;32m     10\u001b[0m \u001b[0mprint\u001b[0m\u001b[1;33m(\u001b[0m\u001b[0mstudent1\u001b[0m\u001b[1;33m.\u001b[0m\u001b[0mstandard\u001b[0m\u001b[1;33m)\u001b[0m\u001b[1;33m\u001b[0m\u001b[1;33m\u001b[0m\u001b[0m\n",
      "\u001b[1;31mNameError\u001b[0m: name 'XXXXXXXXXX' is not defined"
     ]
    }
   ],
   "source": [
    "class Student:\n",
    "    standard = 'IV'\n",
    "    def __init__(self,age,name,Cid):\n",
    "        self.age = age\n",
    "        self.name = name\n",
    "        self.id = Cid\n",
    "\n",
    "student1 = Student(12,\"Raj\",24)\n",
    "XXXXXXXXXX\n",
    "print(student1.standard)"
   ]
  },
  {
   "cell_type": "code",
   "execution_count": 21,
   "metadata": {},
   "outputs": [
    {
     "data": {
      "text/plain": [
       "36"
      ]
     },
     "execution_count": 21,
     "metadata": {},
     "output_type": "execute_result"
    }
   ],
   "source": [
    "class A :\n",
    "    x = 10\n",
    "    def __init__(self, y,z):\n",
    "        self.y = y\n",
    "        self.z = z\n",
    "           \n",
    "    def update_y(self):\n",
    "        self.y = self.y * self.x\n",
    "        self.z = self.z * self.x\n",
    "        \n",
    "A1 = A(3,4)\n",
    "A2 = A(5,6)\n",
    "\n",
    "A1.update_y()\n",
    "A1.y + A2.z"
   ]
  },
  {
   "cell_type": "code",
   "execution_count": 22,
   "metadata": {},
   "outputs": [
    {
     "ename": "NameError",
     "evalue": "name 'self' is not defined",
     "output_type": "error",
     "traceback": [
      "\u001b[1;31m---------------------------------------------------------------------------\u001b[0m",
      "\u001b[1;31mNameError\u001b[0m                                 Traceback (most recent call last)",
      "\u001b[1;32m<ipython-input-22-06073d3b0578>\u001b[0m in \u001b[0;36m<module>\u001b[1;34m\u001b[0m\n\u001b[0;32m     16\u001b[0m \u001b[0mA2\u001b[0m \u001b[1;33m=\u001b[0m \u001b[0mA\u001b[0m\u001b[1;33m(\u001b[0m\u001b[1;36m5\u001b[0m\u001b[1;33m,\u001b[0m\u001b[1;36m6\u001b[0m\u001b[1;33m)\u001b[0m\u001b[1;33m\u001b[0m\u001b[1;33m\u001b[0m\u001b[0m\n\u001b[0;32m     17\u001b[0m \u001b[1;33m\u001b[0m\u001b[0m\n\u001b[1;32m---> 18\u001b[1;33m \u001b[0mA2\u001b[0m\u001b[1;33m.\u001b[0m\u001b[0mupdate_z\u001b[0m\u001b[1;33m(\u001b[0m\u001b[1;33m)\u001b[0m\u001b[1;33m\u001b[0m\u001b[1;33m\u001b[0m\u001b[0m\n\u001b[0m\u001b[0;32m     19\u001b[0m \u001b[0mA1\u001b[0m\u001b[1;33m.\u001b[0m\u001b[0my\u001b[0m \u001b[1;33m+\u001b[0m \u001b[0mA2\u001b[0m\u001b[1;33m.\u001b[0m\u001b[0mz\u001b[0m\u001b[1;33m\u001b[0m\u001b[1;33m\u001b[0m\u001b[0m\n",
      "\u001b[1;32m<ipython-input-22-06073d3b0578>\u001b[0m in \u001b[0;36mupdate_z\u001b[1;34m(cls)\u001b[0m\n\u001b[0;32m     10\u001b[0m     \u001b[1;33m@\u001b[0m\u001b[0mclassmethod\u001b[0m\u001b[1;33m\u001b[0m\u001b[1;33m\u001b[0m\u001b[0m\n\u001b[0;32m     11\u001b[0m     \u001b[1;32mdef\u001b[0m \u001b[0mupdate_z\u001b[0m\u001b[1;33m(\u001b[0m\u001b[0mcls\u001b[0m\u001b[1;33m)\u001b[0m\u001b[1;33m:\u001b[0m\u001b[1;33m\u001b[0m\u001b[1;33m\u001b[0m\u001b[0m\n\u001b[1;32m---> 12\u001b[1;33m         \u001b[0mself\u001b[0m\u001b[1;33m.\u001b[0m\u001b[0mz\u001b[0m \u001b[1;33m=\u001b[0m \u001b[0mself\u001b[0m\u001b[1;33m.\u001b[0m\u001b[0mz\u001b[0m \u001b[1;33m+\u001b[0m \u001b[1;36m20\u001b[0m\u001b[1;33m\u001b[0m\u001b[1;33m\u001b[0m\u001b[0m\n\u001b[0m\u001b[0;32m     13\u001b[0m \u001b[1;33m\u001b[0m\u001b[0m\n\u001b[0;32m     14\u001b[0m \u001b[1;33m\u001b[0m\u001b[0m\n",
      "\u001b[1;31mNameError\u001b[0m: name 'self' is not defined"
     ]
    }
   ],
   "source": [
    "class A :\n",
    "    x = 10\n",
    "    def __init__(self, y,z):\n",
    "        self.y = y\n",
    "        self.z = z\n",
    "           \n",
    "    def update_y(self):\n",
    "        self.y = self.y * self.x\n",
    "   \n",
    "    @classmethod\n",
    "    def update_z(cls):\n",
    "        self.z = self.z + 20\n",
    "\n",
    "        \n",
    "A1 = A(3,4)\n",
    "A2 = A(5,6)\n",
    "\n",
    "A2.update_z()\n",
    "A1.y + A2.z"
   ]
  },
  {
   "cell_type": "code",
   "execution_count": 23,
   "metadata": {},
   "outputs": [
    {
     "data": {
      "text/plain": [
       "33"
      ]
     },
     "execution_count": 23,
     "metadata": {},
     "output_type": "execute_result"
    }
   ],
   "source": [
    "class A :\n",
    "    x = 10\n",
    "    def __init__(self, y,z):\n",
    "        self.y = y\n",
    "        self.z = z\n",
    "           \n",
    "    def update_y(self):\n",
    "        self.y = self.y * self.z\n",
    "\n",
    "        \n",
    "        \n",
    "A1 = A(3,4)\n",
    "A2 = A(5,6)\n",
    "\n",
    "A.x = 30\n",
    "A1.y + A2.x"
   ]
  },
  {
   "cell_type": "code",
   "execution_count": 1,
   "metadata": {},
   "outputs": [
    {
     "name": "stdout",
     "output_type": "stream",
     "text": [
      "1 2\n"
     ]
    }
   ],
   "source": [
    "class A:\n",
    "    def __init__(self, x=1):\n",
    "        self.x = x\n",
    "class B(A):\n",
    "    def __init__(self,y =2):\n",
    "        super().__init__()\n",
    "        self.y = y\n",
    "\n",
    "def main():\n",
    "    b = B()\n",
    "    print(b.x,b.y)\n",
    "main()"
   ]
  },
  {
   "cell_type": "code",
   "execution_count": 2,
   "metadata": {},
   "outputs": [
    {
     "name": "stdout",
     "output_type": "stream",
     "text": [
      "1 2\n"
     ]
    }
   ],
   "source": [
    "class A:\n",
    "    def __init__(self, x=1):\n",
    "        self.x = x\n",
    "class B(A):\n",
    "    def __init__(self,y =2):\n",
    "        super().__init__()\n",
    "        self.y = y\n",
    "\n",
    "def main():\n",
    "    b = B()\n",
    "    print(b.x,b.y)\n",
    "main()"
   ]
  },
  {
   "cell_type": "code",
   "execution_count": 13,
   "metadata": {},
   "outputs": [
    {
     "ename": "SyntaxError",
     "evalue": "invalid syntax (<ipython-input-13-d98b813854f0>, line 2)",
     "output_type": "error",
     "traceback": [
      "\u001b[1;36m  File \u001b[1;32m\"<ipython-input-13-d98b813854f0>\"\u001b[1;36m, line \u001b[1;32m2\u001b[0m\n\u001b[1;33m    d1 =d[]\u001b[0m\n\u001b[1;37m          ^\u001b[0m\n\u001b[1;31mSyntaxError\u001b[0m\u001b[1;31m:\u001b[0m invalid syntax\n"
     ]
    }
   ],
   "source": [
    "d= { 102:['Shiva', 24, 'Content Strategist'],104:['Udit',25,'Content Strategist'], 105:['Huzefa',32,'Project Manager' ]}\n",
    "d1 =d[]\n"
   ]
  },
  {
   "cell_type": "code",
   "execution_count": 7,
   "metadata": {},
   "outputs": [
    {
     "data": {
      "text/plain": [
       "dict_keys([102, 104, 105])"
      ]
     },
     "execution_count": 7,
     "metadata": {},
     "output_type": "execute_result"
    }
   ],
   "source": [
    "d.keys()"
   ]
  },
  {
   "cell_type": "code",
   "execution_count": 8,
   "metadata": {},
   "outputs": [
    {
     "data": {
      "text/plain": [
       "dict_values([['Shiva', 24, 'Content Strategist'], ['Udit', 25, 'Content Strategist'], ['Huzefa', 32, 'Project Manager']])"
      ]
     },
     "execution_count": 8,
     "metadata": {},
     "output_type": "execute_result"
    }
   ],
   "source": [
    "d.values()"
   ]
  },
  {
   "cell_type": "code",
   "execution_count": 10,
   "metadata": {},
   "outputs": [
    {
     "data": {
      "text/plain": [
       "dict_values([['Shiva', 24, 'Content Strategist'], ['Udit', 25, 'Content Strategist'], ['Huzefa', 32, 'Project Manager']])"
      ]
     },
     "execution_count": 10,
     "metadata": {},
     "output_type": "execute_result"
    }
   ],
   "source": [
    "e= d.values()\n",
    "e"
   ]
  },
  {
   "cell_type": "code",
   "execution_count": 11,
   "metadata": {},
   "outputs": [
    {
     "ename": "TypeError",
     "evalue": "'dict_values' object is not subscriptable",
     "output_type": "error",
     "traceback": [
      "\u001b[1;31m---------------------------------------------------------------------------\u001b[0m",
      "\u001b[1;31mTypeError\u001b[0m                                 Traceback (most recent call last)",
      "\u001b[1;32m<ipython-input-11-da20a9f66a04>\u001b[0m in \u001b[0;36m<module>\u001b[1;34m\u001b[0m\n\u001b[1;32m----> 1\u001b[1;33m \u001b[0me\u001b[0m\u001b[1;33m[\u001b[0m\u001b[1;36m2\u001b[0m\u001b[1;33m]\u001b[0m\u001b[1;33m[\u001b[0m\u001b[1;36m1\u001b[0m\u001b[1;33m]\u001b[0m\u001b[1;33m\u001b[0m\u001b[1;33m\u001b[0m\u001b[0m\n\u001b[0m",
      "\u001b[1;31mTypeError\u001b[0m: 'dict_values' object is not subscriptable"
     ]
    }
   ],
   "source": [
    "e[2][1]"
   ]
  },
  {
   "cell_type": "code",
   "execution_count": 12,
   "metadata": {},
   "outputs": [
    {
     "ename": "TypeError",
     "evalue": "'dict_values' object is not subscriptable",
     "output_type": "error",
     "traceback": [
      "\u001b[1;31m---------------------------------------------------------------------------\u001b[0m",
      "\u001b[1;31mTypeError\u001b[0m                                 Traceback (most recent call last)",
      "\u001b[1;32m<ipython-input-12-4505f42e6b2f>\u001b[0m in \u001b[0;36m<module>\u001b[1;34m\u001b[0m\n\u001b[1;32m----> 1\u001b[1;33m \u001b[0me\u001b[0m\u001b[1;33m[\u001b[0m\u001b[1;36m2\u001b[0m\u001b[1;33m]\u001b[0m\u001b[1;33m\u001b[0m\u001b[1;33m\u001b[0m\u001b[0m\n\u001b[0m",
      "\u001b[1;31mTypeError\u001b[0m: 'dict_values' object is not subscriptable"
     ]
    }
   ],
   "source": [
    "e[2]"
   ]
  },
  {
   "cell_type": "code",
   "execution_count": 15,
   "metadata": {},
   "outputs": [
    {
     "name": "stdout",
     "output_type": "stream",
     "text": [
      "  ******2489####  \n",
      "<built-in method strip of str object at 0x00000000056541C0>\n"
     ]
    }
   ],
   "source": [
    "s= '  ******2489####  '\n",
    "print(s)\n",
    "print(s.strip)\n",
    "\n"
   ]
  },
  {
   "cell_type": "code",
   "execution_count": 16,
   "metadata": {},
   "outputs": [
    {
     "name": "stdout",
     "output_type": "stream",
     "text": [
      "  ******2489####  \n"
     ]
    }
   ],
   "source": [
    "print(s.rstrip('#').lstrip('*'))"
   ]
  },
  {
   "cell_type": "code",
   "execution_count": 17,
   "metadata": {},
   "outputs": [
    {
     "data": {
      "text/plain": [
       "'bmaunmdbraai'"
      ]
     },
     "execution_count": 17,
     "metadata": {},
     "output_type": "execute_result"
    }
   ],
   "source": [
    "a= \"bmaunmdbraai\"\n",
    "a"
   ]
  },
  {
   "cell_type": "code",
   "execution_count": 18,
   "metadata": {},
   "outputs": [
    {
     "ename": "IndexError",
     "evalue": "tuple index out of range",
     "output_type": "error",
     "traceback": [
      "\u001b[1;31m---------------------------------------------------------------------------\u001b[0m",
      "\u001b[1;31mIndexError\u001b[0m                                Traceback (most recent call last)",
      "\u001b[1;32m<ipython-input-18-f088012e2b20>\u001b[0m in \u001b[0;36m<module>\u001b[1;34m\u001b[0m\n\u001b[1;32m----> 1\u001b[1;33m \u001b[0mprint\u001b[0m\u001b[1;33m(\u001b[0m\u001b[1;34m\"{0}\"\u001b[0m\u001b[1;33m,\u001b[0m\u001b[1;34m\"{2}\"\u001b[0m\u001b[1;33m,\u001b[0m\u001b[1;34m\"{4}\"\u001b[0m\u001b[1;33m,\u001b[0m\u001b[1;34m\"{6}\"\u001b[0m\u001b[1;33m,\u001b[0m\u001b[1;34m\"{8}\"\u001b[0m\u001b[1;33m.\u001b[0m\u001b[0mformat\u001b[0m\u001b[1;33m(\u001b[0m\u001b[0ma\u001b[0m\u001b[1;33m)\u001b[0m\u001b[1;33m)\u001b[0m\u001b[1;33m\u001b[0m\u001b[1;33m\u001b[0m\u001b[0m\n\u001b[0m",
      "\u001b[1;31mIndexError\u001b[0m: tuple index out of range"
     ]
    }
   ],
   "source": [
    "print(\"{0}\",\"{2}\",\"{4}\",\"{6}\",\"{8}\".format(a))"
   ]
  },
  {
   "cell_type": "code",
   "execution_count": 19,
   "metadata": {},
   "outputs": [
    {
     "name": "stdout",
     "output_type": "stream",
     "text": [
      "Help on class str in module builtins:\n",
      "\n",
      "class str(object)\n",
      " |  str(object='') -> str\n",
      " |  str(bytes_or_buffer[, encoding[, errors]]) -> str\n",
      " |  \n",
      " |  Create a new string object from the given object. If encoding or\n",
      " |  errors is specified, then the object must expose a data buffer\n",
      " |  that will be decoded using the given encoding and error handler.\n",
      " |  Otherwise, returns the result of object.__str__() (if defined)\n",
      " |  or repr(object).\n",
      " |  encoding defaults to sys.getdefaultencoding().\n",
      " |  errors defaults to 'strict'.\n",
      " |  \n",
      " |  Methods defined here:\n",
      " |  \n",
      " |  __add__(self, value, /)\n",
      " |      Return self+value.\n",
      " |  \n",
      " |  __contains__(self, key, /)\n",
      " |      Return key in self.\n",
      " |  \n",
      " |  __eq__(self, value, /)\n",
      " |      Return self==value.\n",
      " |  \n",
      " |  __format__(self, format_spec, /)\n",
      " |      Return a formatted version of the string as described by format_spec.\n",
      " |  \n",
      " |  __ge__(self, value, /)\n",
      " |      Return self>=value.\n",
      " |  \n",
      " |  __getattribute__(self, name, /)\n",
      " |      Return getattr(self, name).\n",
      " |  \n",
      " |  __getitem__(self, key, /)\n",
      " |      Return self[key].\n",
      " |  \n",
      " |  __getnewargs__(...)\n",
      " |  \n",
      " |  __gt__(self, value, /)\n",
      " |      Return self>value.\n",
      " |  \n",
      " |  __hash__(self, /)\n",
      " |      Return hash(self).\n",
      " |  \n",
      " |  __iter__(self, /)\n",
      " |      Implement iter(self).\n",
      " |  \n",
      " |  __le__(self, value, /)\n",
      " |      Return self<=value.\n",
      " |  \n",
      " |  __len__(self, /)\n",
      " |      Return len(self).\n",
      " |  \n",
      " |  __lt__(self, value, /)\n",
      " |      Return self<value.\n",
      " |  \n",
      " |  __mod__(self, value, /)\n",
      " |      Return self%value.\n",
      " |  \n",
      " |  __mul__(self, value, /)\n",
      " |      Return self*value.\n",
      " |  \n",
      " |  __ne__(self, value, /)\n",
      " |      Return self!=value.\n",
      " |  \n",
      " |  __repr__(self, /)\n",
      " |      Return repr(self).\n",
      " |  \n",
      " |  __rmod__(self, value, /)\n",
      " |      Return value%self.\n",
      " |  \n",
      " |  __rmul__(self, value, /)\n",
      " |      Return value*self.\n",
      " |  \n",
      " |  __sizeof__(self, /)\n",
      " |      Return the size of the string in memory, in bytes.\n",
      " |  \n",
      " |  __str__(self, /)\n",
      " |      Return str(self).\n",
      " |  \n",
      " |  capitalize(self, /)\n",
      " |      Return a capitalized version of the string.\n",
      " |      \n",
      " |      More specifically, make the first character have upper case and the rest lower\n",
      " |      case.\n",
      " |  \n",
      " |  casefold(self, /)\n",
      " |      Return a version of the string suitable for caseless comparisons.\n",
      " |  \n",
      " |  center(self, width, fillchar=' ', /)\n",
      " |      Return a centered string of length width.\n",
      " |      \n",
      " |      Padding is done using the specified fill character (default is a space).\n",
      " |  \n",
      " |  count(...)\n",
      " |      S.count(sub[, start[, end]]) -> int\n",
      " |      \n",
      " |      Return the number of non-overlapping occurrences of substring sub in\n",
      " |      string S[start:end].  Optional arguments start and end are\n",
      " |      interpreted as in slice notation.\n",
      " |  \n",
      " |  encode(self, /, encoding='utf-8', errors='strict')\n",
      " |      Encode the string using the codec registered for encoding.\n",
      " |      \n",
      " |      encoding\n",
      " |        The encoding in which to encode the string.\n",
      " |      errors\n",
      " |        The error handling scheme to use for encoding errors.\n",
      " |        The default is 'strict' meaning that encoding errors raise a\n",
      " |        UnicodeEncodeError.  Other possible values are 'ignore', 'replace' and\n",
      " |        'xmlcharrefreplace' as well as any other name registered with\n",
      " |        codecs.register_error that can handle UnicodeEncodeErrors.\n",
      " |  \n",
      " |  endswith(...)\n",
      " |      S.endswith(suffix[, start[, end]]) -> bool\n",
      " |      \n",
      " |      Return True if S ends with the specified suffix, False otherwise.\n",
      " |      With optional start, test S beginning at that position.\n",
      " |      With optional end, stop comparing S at that position.\n",
      " |      suffix can also be a tuple of strings to try.\n",
      " |  \n",
      " |  expandtabs(self, /, tabsize=8)\n",
      " |      Return a copy where all tab characters are expanded using spaces.\n",
      " |      \n",
      " |      If tabsize is not given, a tab size of 8 characters is assumed.\n",
      " |  \n",
      " |  find(...)\n",
      " |      S.find(sub[, start[, end]]) -> int\n",
      " |      \n",
      " |      Return the lowest index in S where substring sub is found,\n",
      " |      such that sub is contained within S[start:end].  Optional\n",
      " |      arguments start and end are interpreted as in slice notation.\n",
      " |      \n",
      " |      Return -1 on failure.\n",
      " |  \n",
      " |  format(...)\n",
      " |      S.format(*args, **kwargs) -> str\n",
      " |      \n",
      " |      Return a formatted version of S, using substitutions from args and kwargs.\n",
      " |      The substitutions are identified by braces ('{' and '}').\n",
      " |  \n",
      " |  format_map(...)\n",
      " |      S.format_map(mapping) -> str\n",
      " |      \n",
      " |      Return a formatted version of S, using substitutions from mapping.\n",
      " |      The substitutions are identified by braces ('{' and '}').\n",
      " |  \n",
      " |  index(...)\n",
      " |      S.index(sub[, start[, end]]) -> int\n",
      " |      \n",
      " |      Return the lowest index in S where substring sub is found, \n",
      " |      such that sub is contained within S[start:end].  Optional\n",
      " |      arguments start and end are interpreted as in slice notation.\n",
      " |      \n",
      " |      Raises ValueError when the substring is not found.\n",
      " |  \n",
      " |  isalnum(self, /)\n",
      " |      Return True if the string is an alpha-numeric string, False otherwise.\n",
      " |      \n",
      " |      A string is alpha-numeric if all characters in the string are alpha-numeric and\n",
      " |      there is at least one character in the string.\n",
      " |  \n",
      " |  isalpha(self, /)\n",
      " |      Return True if the string is an alphabetic string, False otherwise.\n",
      " |      \n",
      " |      A string is alphabetic if all characters in the string are alphabetic and there\n",
      " |      is at least one character in the string.\n",
      " |  \n",
      " |  isascii(self, /)\n",
      " |      Return True if all characters in the string are ASCII, False otherwise.\n",
      " |      \n",
      " |      ASCII characters have code points in the range U+0000-U+007F.\n",
      " |      Empty string is ASCII too.\n",
      " |  \n",
      " |  isdecimal(self, /)\n",
      " |      Return True if the string is a decimal string, False otherwise.\n",
      " |      \n",
      " |      A string is a decimal string if all characters in the string are decimal and\n",
      " |      there is at least one character in the string.\n",
      " |  \n",
      " |  isdigit(self, /)\n",
      " |      Return True if the string is a digit string, False otherwise.\n",
      " |      \n",
      " |      A string is a digit string if all characters in the string are digits and there\n",
      " |      is at least one character in the string.\n",
      " |  \n",
      " |  isidentifier(self, /)\n",
      " |      Return True if the string is a valid Python identifier, False otherwise.\n",
      " |      \n",
      " |      Use keyword.iskeyword() to test for reserved identifiers such as \"def\" and\n",
      " |      \"class\".\n",
      " |  \n",
      " |  islower(self, /)\n",
      " |      Return True if the string is a lowercase string, False otherwise.\n",
      " |      \n",
      " |      A string is lowercase if all cased characters in the string are lowercase and\n",
      " |      there is at least one cased character in the string.\n",
      " |  \n",
      " |  isnumeric(self, /)\n",
      " |      Return True if the string is a numeric string, False otherwise.\n",
      " |      \n",
      " |      A string is numeric if all characters in the string are numeric and there is at\n",
      " |      least one character in the string.\n",
      " |  \n",
      " |  isprintable(self, /)\n",
      " |      Return True if the string is printable, False otherwise.\n",
      " |      \n",
      " |      A string is printable if all of its characters are considered printable in\n",
      " |      repr() or if it is empty.\n",
      " |  \n",
      " |  isspace(self, /)\n",
      " |      Return True if the string is a whitespace string, False otherwise.\n",
      " |      \n",
      " |      A string is whitespace if all characters in the string are whitespace and there\n",
      " |      is at least one character in the string.\n",
      " |  \n",
      " |  istitle(self, /)\n",
      " |      Return True if the string is a title-cased string, False otherwise.\n",
      " |      \n",
      " |      In a title-cased string, upper- and title-case characters may only\n",
      " |      follow uncased characters and lowercase characters only cased ones.\n",
      " |  \n",
      " |  isupper(self, /)\n",
      " |      Return True if the string is an uppercase string, False otherwise.\n",
      " |      \n",
      " |      A string is uppercase if all cased characters in the string are uppercase and\n",
      " |      there is at least one cased character in the string.\n",
      " |  \n",
      " |  join(self, iterable, /)\n",
      " |      Concatenate any number of strings.\n",
      " |      \n",
      " |      The string whose method is called is inserted in between each given string.\n",
      " |      The result is returned as a new string.\n",
      " |      \n",
      " |      Example: '.'.join(['ab', 'pq', 'rs']) -> 'ab.pq.rs'\n",
      " |  \n",
      " |  ljust(self, width, fillchar=' ', /)\n",
      " |      Return a left-justified string of length width.\n",
      " |      \n",
      " |      Padding is done using the specified fill character (default is a space).\n",
      " |  \n",
      " |  lower(self, /)\n",
      " |      Return a copy of the string converted to lowercase.\n",
      " |  \n",
      " |  lstrip(self, chars=None, /)\n",
      " |      Return a copy of the string with leading whitespace removed.\n",
      " |      \n",
      " |      If chars is given and not None, remove characters in chars instead.\n",
      " |  \n",
      " |  partition(self, sep, /)\n",
      " |      Partition the string into three parts using the given separator.\n",
      " |      \n",
      " |      This will search for the separator in the string.  If the separator is found,\n",
      " |      returns a 3-tuple containing the part before the separator, the separator\n",
      " |      itself, and the part after it.\n",
      " |      \n",
      " |      If the separator is not found, returns a 3-tuple containing the original string\n",
      " |      and two empty strings.\n",
      " |  \n",
      " |  replace(self, old, new, count=-1, /)\n",
      " |      Return a copy with all occurrences of substring old replaced by new.\n",
      " |      \n",
      " |        count\n",
      " |          Maximum number of occurrences to replace.\n",
      " |          -1 (the default value) means replace all occurrences.\n",
      " |      \n",
      " |      If the optional argument count is given, only the first count occurrences are\n",
      " |      replaced.\n",
      " |  \n",
      " |  rfind(...)\n",
      " |      S.rfind(sub[, start[, end]]) -> int\n",
      " |      \n",
      " |      Return the highest index in S where substring sub is found,\n",
      " |      such that sub is contained within S[start:end].  Optional\n",
      " |      arguments start and end are interpreted as in slice notation.\n",
      " |      \n",
      " |      Return -1 on failure.\n",
      " |  \n",
      " |  rindex(...)\n",
      " |      S.rindex(sub[, start[, end]]) -> int\n",
      " |      \n",
      " |      Return the highest index in S where substring sub is found,\n",
      " |      such that sub is contained within S[start:end].  Optional\n",
      " |      arguments start and end are interpreted as in slice notation.\n",
      " |      \n",
      " |      Raises ValueError when the substring is not found.\n",
      " |  \n",
      " |  rjust(self, width, fillchar=' ', /)\n",
      " |      Return a right-justified string of length width.\n",
      " |      \n",
      " |      Padding is done using the specified fill character (default is a space).\n",
      " |  \n",
      " |  rpartition(self, sep, /)\n",
      " |      Partition the string into three parts using the given separator.\n",
      " |      \n",
      " |      This will search for the separator in the string, starting at the end. If\n",
      " |      the separator is found, returns a 3-tuple containing the part before the\n",
      " |      separator, the separator itself, and the part after it.\n",
      " |      \n",
      " |      If the separator is not found, returns a 3-tuple containing two empty strings\n",
      " |      and the original string.\n",
      " |  \n",
      " |  rsplit(self, /, sep=None, maxsplit=-1)\n",
      " |      Return a list of the words in the string, using sep as the delimiter string.\n",
      " |      \n",
      " |        sep\n",
      " |          The delimiter according which to split the string.\n",
      " |          None (the default value) means split according to any whitespace,\n",
      " |          and discard empty strings from the result.\n",
      " |        maxsplit\n",
      " |          Maximum number of splits to do.\n",
      " |          -1 (the default value) means no limit.\n",
      " |      \n",
      " |      Splits are done starting at the end of the string and working to the front.\n",
      " |  \n",
      " |  rstrip(self, chars=None, /)\n",
      " |      Return a copy of the string with trailing whitespace removed.\n",
      " |      \n",
      " |      If chars is given and not None, remove characters in chars instead.\n",
      " |  \n",
      " |  split(self, /, sep=None, maxsplit=-1)\n",
      " |      Return a list of the words in the string, using sep as the delimiter string.\n",
      " |      \n",
      " |      sep\n",
      " |        The delimiter according which to split the string.\n",
      " |        None (the default value) means split according to any whitespace,\n",
      " |        and discard empty strings from the result.\n",
      " |      maxsplit\n",
      " |        Maximum number of splits to do.\n",
      " |        -1 (the default value) means no limit.\n",
      " |  \n",
      " |  splitlines(self, /, keepends=False)\n",
      " |      Return a list of the lines in the string, breaking at line boundaries.\n",
      " |      \n",
      " |      Line breaks are not included in the resulting list unless keepends is given and\n",
      " |      true.\n",
      " |  \n",
      " |  startswith(...)\n",
      " |      S.startswith(prefix[, start[, end]]) -> bool\n",
      " |      \n",
      " |      Return True if S starts with the specified prefix, False otherwise.\n",
      " |      With optional start, test S beginning at that position.\n",
      " |      With optional end, stop comparing S at that position.\n",
      " |      prefix can also be a tuple of strings to try.\n",
      " |  \n",
      " |  strip(self, chars=None, /)\n",
      " |      Return a copy of the string with leading and trailing whitespace remove.\n",
      " |      \n",
      " |      If chars is given and not None, remove characters in chars instead.\n",
      " |  \n",
      " |  swapcase(self, /)\n",
      " |      Convert uppercase characters to lowercase and lowercase characters to uppercase.\n",
      " |  \n",
      " |  title(self, /)\n",
      " |      Return a version of the string where each word is titlecased.\n",
      " |      \n",
      " |      More specifically, words start with uppercased characters and all remaining\n",
      " |      cased characters have lower case.\n",
      " |  \n",
      " |  translate(self, table, /)\n",
      " |      Replace each character in the string using the given translation table.\n",
      " |      \n",
      " |        table\n",
      " |          Translation table, which must be a mapping of Unicode ordinals to\n",
      " |          Unicode ordinals, strings, or None.\n",
      " |      \n",
      " |      The table must implement lookup/indexing via __getitem__, for instance a\n",
      " |      dictionary or list.  If this operation raises LookupError, the character is\n",
      " |      left untouched.  Characters mapped to None are deleted.\n",
      " |  \n",
      " |  upper(self, /)\n",
      " |      Return a copy of the string converted to uppercase.\n",
      " |  \n",
      " |  zfill(self, width, /)\n",
      " |      Pad a numeric string with zeros on the left, to fill a field of the given width.\n",
      " |      \n",
      " |      The string is never truncated.\n",
      " |  \n",
      " |  ----------------------------------------------------------------------\n",
      " |  Static methods defined here:\n",
      " |  \n",
      " |  __new__(*args, **kwargs) from builtins.type\n",
      " |      Create and return a new object.  See help(type) for accurate signature.\n",
      " |  \n",
      " |  maketrans(x, y=None, z=None, /)\n",
      " |      Return a translation table usable for str.translate().\n",
      " |      \n",
      " |      If there is only one argument, it must be a dictionary mapping Unicode\n",
      " |      ordinals (integers) or characters to Unicode ordinals, strings or None.\n",
      " |      Character keys will be then converted to ordinals.\n",
      " |      If there are two arguments, they must be strings of equal length, and\n",
      " |      in the resulting dictionary, each character in x will be mapped to the\n",
      " |      character at the same position in y. If there is a third argument, it\n",
      " |      must be a string, whose characters will be mapped to None in the result.\n",
      "\n"
     ]
    }
   ],
   "source": [
    "help(str)"
   ]
  },
  {
   "cell_type": "code",
   "execution_count": 20,
   "metadata": {},
   "outputs": [
    {
     "data": {
      "text/plain": [
       "'bmaunmdbraai'"
      ]
     },
     "execution_count": 20,
     "metadata": {},
     "output_type": "execute_result"
    }
   ],
   "source": [
    "a= \"bmaunmdbraai\"\n",
    "a"
   ]
  },
  {
   "cell_type": "code",
   "execution_count": 21,
   "metadata": {},
   "outputs": [
    {
     "name": "stdout",
     "output_type": "stream",
     "text": [
      "Help on class list in module builtins:\n",
      "\n",
      "class list(object)\n",
      " |  list(iterable=(), /)\n",
      " |  \n",
      " |  Built-in mutable sequence.\n",
      " |  \n",
      " |  If no argument is given, the constructor creates a new empty list.\n",
      " |  The argument must be an iterable if specified.\n",
      " |  \n",
      " |  Methods defined here:\n",
      " |  \n",
      " |  __add__(self, value, /)\n",
      " |      Return self+value.\n",
      " |  \n",
      " |  __contains__(self, key, /)\n",
      " |      Return key in self.\n",
      " |  \n",
      " |  __delitem__(self, key, /)\n",
      " |      Delete self[key].\n",
      " |  \n",
      " |  __eq__(self, value, /)\n",
      " |      Return self==value.\n",
      " |  \n",
      " |  __ge__(self, value, /)\n",
      " |      Return self>=value.\n",
      " |  \n",
      " |  __getattribute__(self, name, /)\n",
      " |      Return getattr(self, name).\n",
      " |  \n",
      " |  __getitem__(...)\n",
      " |      x.__getitem__(y) <==> x[y]\n",
      " |  \n",
      " |  __gt__(self, value, /)\n",
      " |      Return self>value.\n",
      " |  \n",
      " |  __iadd__(self, value, /)\n",
      " |      Implement self+=value.\n",
      " |  \n",
      " |  __imul__(self, value, /)\n",
      " |      Implement self*=value.\n",
      " |  \n",
      " |  __init__(self, /, *args, **kwargs)\n",
      " |      Initialize self.  See help(type(self)) for accurate signature.\n",
      " |  \n",
      " |  __iter__(self, /)\n",
      " |      Implement iter(self).\n",
      " |  \n",
      " |  __le__(self, value, /)\n",
      " |      Return self<=value.\n",
      " |  \n",
      " |  __len__(self, /)\n",
      " |      Return len(self).\n",
      " |  \n",
      " |  __lt__(self, value, /)\n",
      " |      Return self<value.\n",
      " |  \n",
      " |  __mul__(self, value, /)\n",
      " |      Return self*value.\n",
      " |  \n",
      " |  __ne__(self, value, /)\n",
      " |      Return self!=value.\n",
      " |  \n",
      " |  __repr__(self, /)\n",
      " |      Return repr(self).\n",
      " |  \n",
      " |  __reversed__(self, /)\n",
      " |      Return a reverse iterator over the list.\n",
      " |  \n",
      " |  __rmul__(self, value, /)\n",
      " |      Return value*self.\n",
      " |  \n",
      " |  __setitem__(self, key, value, /)\n",
      " |      Set self[key] to value.\n",
      " |  \n",
      " |  __sizeof__(self, /)\n",
      " |      Return the size of the list in memory, in bytes.\n",
      " |  \n",
      " |  append(self, object, /)\n",
      " |      Append object to the end of the list.\n",
      " |  \n",
      " |  clear(self, /)\n",
      " |      Remove all items from list.\n",
      " |  \n",
      " |  copy(self, /)\n",
      " |      Return a shallow copy of the list.\n",
      " |  \n",
      " |  count(self, value, /)\n",
      " |      Return number of occurrences of value.\n",
      " |  \n",
      " |  extend(self, iterable, /)\n",
      " |      Extend list by appending elements from the iterable.\n",
      " |  \n",
      " |  index(self, value, start=0, stop=9223372036854775807, /)\n",
      " |      Return first index of value.\n",
      " |      \n",
      " |      Raises ValueError if the value is not present.\n",
      " |  \n",
      " |  insert(self, index, object, /)\n",
      " |      Insert object before index.\n",
      " |  \n",
      " |  pop(self, index=-1, /)\n",
      " |      Remove and return item at index (default last).\n",
      " |      \n",
      " |      Raises IndexError if list is empty or index is out of range.\n",
      " |  \n",
      " |  remove(self, value, /)\n",
      " |      Remove first occurrence of value.\n",
      " |      \n",
      " |      Raises ValueError if the value is not present.\n",
      " |  \n",
      " |  reverse(self, /)\n",
      " |      Reverse *IN PLACE*.\n",
      " |  \n",
      " |  sort(self, /, *, key=None, reverse=False)\n",
      " |      Stable sort *IN PLACE*.\n",
      " |  \n",
      " |  ----------------------------------------------------------------------\n",
      " |  Static methods defined here:\n",
      " |  \n",
      " |  __new__(*args, **kwargs) from builtins.type\n",
      " |      Create and return a new object.  See help(type) for accurate signature.\n",
      " |  \n",
      " |  ----------------------------------------------------------------------\n",
      " |  Data and other attributes defined here:\n",
      " |  \n",
      " |  __hash__ = None\n",
      "\n"
     ]
    }
   ],
   "source": [
    "help(list)"
   ]
  },
  {
   "cell_type": "code",
   "execution_count": 23,
   "metadata": {},
   "outputs": [
    {
     "ename": "TypeError",
     "evalue": "string indices must be integers",
     "output_type": "error",
     "traceback": [
      "\u001b[1;31m---------------------------------------------------------------------------\u001b[0m",
      "\u001b[1;31mTypeError\u001b[0m                                 Traceback (most recent call last)",
      "\u001b[1;32m<ipython-input-23-d78c75f26f8b>\u001b[0m in \u001b[0;36m<module>\u001b[1;34m\u001b[0m\n\u001b[0;32m      1\u001b[0m \u001b[0ma\u001b[0m\u001b[1;33m=\u001b[0m \u001b[1;34m\"bmaunmdbraai\"\u001b[0m\u001b[1;33m\u001b[0m\u001b[1;33m\u001b[0m\u001b[0m\n\u001b[1;32m----> 2\u001b[1;33m \u001b[0mb\u001b[0m\u001b[1;33m=\u001b[0m \u001b[0ma\u001b[0m\u001b[1;33m[\u001b[0m\u001b[1;36m0\u001b[0m\u001b[1;33m:\u001b[0m\u001b[1;36m0\u001b[0m\u001b[1;33m,\u001b[0m\u001b[1;36m2\u001b[0m\u001b[1;33m:\u001b[0m\u001b[1;36m2\u001b[0m\u001b[1;33m,\u001b[0m \u001b[1;36m4\u001b[0m\u001b[1;33m:\u001b[0m\u001b[1;36m4\u001b[0m\u001b[1;33m,\u001b[0m \u001b[1;36m6\u001b[0m\u001b[1;33m:\u001b[0m\u001b[1;36m6\u001b[0m\u001b[1;33m,\u001b[0m \u001b[1;36m8\u001b[0m\u001b[1;33m:\u001b[0m\u001b[1;36m8\u001b[0m\u001b[1;33m]\u001b[0m\u001b[1;33m\u001b[0m\u001b[1;33m\u001b[0m\u001b[0m\n\u001b[0m\u001b[0;32m      3\u001b[0m \u001b[0mprint\u001b[0m\u001b[1;33m(\u001b[0m\u001b[0mb\u001b[0m\u001b[1;33m)\u001b[0m\u001b[1;33m\u001b[0m\u001b[1;33m\u001b[0m\u001b[0m\n",
      "\u001b[1;31mTypeError\u001b[0m: string indices must be integers"
     ]
    }
   ],
   "source": [
    "a= \"bmaunmdbraai\"\n",
    "b= a[0:0,2:2, 4:4, 6:6, 8:8]\n",
    "print(b)"
   ]
  },
  {
   "cell_type": "code",
   "execution_count": 31,
   "metadata": {},
   "outputs": [
    {
     "data": {
      "text/plain": [
       "'Project Manager'"
      ]
     },
     "execution_count": 31,
     "metadata": {},
     "output_type": "execute_result"
    }
   ],
   "source": [
    "d= { 102:['Shiva', 24, 'Content Strategist'],104:['Udit',25,'Content Strategist'], 105:['Huzefa',32,'Project Manager' ]}\n",
    "d.keys()\n",
    "d[105][2]"
   ]
  },
  {
   "cell_type": "code",
   "execution_count": 27,
   "metadata": {},
   "outputs": [
    {
     "data": {
      "text/plain": [
       "'Project Manager'"
      ]
     },
     "execution_count": 27,
     "metadata": {},
     "output_type": "execute_result"
    }
   ],
   "source": [
    "d[105][2]"
   ]
  },
  {
   "cell_type": "code",
   "execution_count": null,
   "metadata": {},
   "outputs": [],
   "source": [
    "a= {'Name': 'Monty', 'Profession': 'Singer' }"
   ]
  },
  {
   "cell_type": "code",
   "execution_count": 33,
   "metadata": {},
   "outputs": [
    {
     "ename": "AttributeError",
     "evalue": "'str' object has no attribute 'values'",
     "output_type": "error",
     "traceback": [
      "\u001b[1;31m---------------------------------------------------------------------------\u001b[0m",
      "\u001b[1;31mAttributeError\u001b[0m                            Traceback (most recent call last)",
      "\u001b[1;32m<ipython-input-33-35b8d237add8>\u001b[0m in \u001b[0;36m<module>\u001b[1;34m\u001b[0m\n\u001b[1;32m----> 1\u001b[1;33m \u001b[0ma\u001b[0m\u001b[1;33m.\u001b[0m\u001b[0mvalues\u001b[0m\u001b[1;33m(\u001b[0m\u001b[1;33m)\u001b[0m\u001b[1;33m\u001b[0m\u001b[1;33m\u001b[0m\u001b[0m\n\u001b[0m",
      "\u001b[1;31mAttributeError\u001b[0m: 'str' object has no attribute 'values'"
     ]
    }
   ],
   "source": [
    "a.values()"
   ]
  },
  {
   "cell_type": "code",
   "execution_count": 34,
   "metadata": {},
   "outputs": [
    {
     "data": {
      "text/plain": [
       "['a', 'a', 'a', 'b', 'b', 'd', 'i', 'm', 'm', 'n', 'r', 'u']"
      ]
     },
     "execution_count": 34,
     "metadata": {},
     "output_type": "execute_result"
    }
   ],
   "source": [
    "sorted(a)"
   ]
  },
  {
   "cell_type": "code",
   "execution_count": 35,
   "metadata": {},
   "outputs": [
    {
     "data": {
      "text/plain": [
       "['Name', 'Profession']"
      ]
     },
     "execution_count": 35,
     "metadata": {},
     "output_type": "execute_result"
    }
   ],
   "source": [
    "a= {'Name': 'Monty', 'Profession': 'Singer'}\n",
    "sorted(a)"
   ]
  },
  {
   "cell_type": "code",
   "execution_count": 36,
   "metadata": {},
   "outputs": [
    {
     "data": {
      "text/plain": [
       "dict_keys(['Name', 'Profession'])"
      ]
     },
     "execution_count": 36,
     "metadata": {},
     "output_type": "execute_result"
    }
   ],
   "source": [
    "a.keys()"
   ]
  },
  {
   "cell_type": "code",
   "execution_count": 37,
   "metadata": {},
   "outputs": [
    {
     "data": {
      "text/plain": [
       "dict_values(['Monty', 'Singer'])"
      ]
     },
     "execution_count": 37,
     "metadata": {},
     "output_type": "execute_result"
    }
   ],
   "source": [
    "a.values()"
   ]
  },
  {
   "cell_type": "code",
   "execution_count": 48,
   "metadata": {},
   "outputs": [
    {
     "ename": "NameError",
     "evalue": "name 'Name' is not defined",
     "output_type": "error",
     "traceback": [
      "\u001b[1;31m---------------------------------------------------------------------------\u001b[0m",
      "\u001b[1;31mNameError\u001b[0m                                 Traceback (most recent call last)",
      "\u001b[1;32m<ipython-input-48-fce693bbe582>\u001b[0m in \u001b[0;36m<module>\u001b[1;34m\u001b[0m\n\u001b[0;32m      2\u001b[0m \u001b[0msorted\u001b[0m\u001b[1;33m(\u001b[0m\u001b[0ma\u001b[0m\u001b[1;33m)\u001b[0m\u001b[1;33m\u001b[0m\u001b[1;33m\u001b[0m\u001b[0m\n\u001b[0;32m      3\u001b[0m \u001b[0ma\u001b[0m\u001b[1;33m.\u001b[0m\u001b[0mkeys\u001b[0m\u001b[1;33m(\u001b[0m\u001b[1;33m)\u001b[0m\u001b[1;33m\u001b[0m\u001b[1;33m\u001b[0m\u001b[0m\n\u001b[1;32m----> 4\u001b[1;33m \u001b[0ma\u001b[0m\u001b[1;33m[\u001b[0m\u001b[0mName\u001b[0m\u001b[1;33m]\u001b[0m\u001b[1;33m[\u001b[0m\u001b[1;36m3\u001b[0m\u001b[1;33m]\u001b[0m\u001b[1;33m\u001b[0m\u001b[1;33m\u001b[0m\u001b[0m\n\u001b[0m",
      "\u001b[1;31mNameError\u001b[0m: name 'Name' is not defined"
     ]
    }
   ],
   "source": [
    "a= {'Name': 'Monty', 'Profession': 'Singer'}\n",
    "sorted(a)\n",
    "a.keys()\n",
    "a[Name][3]"
   ]
  },
  {
   "cell_type": "code",
   "execution_count": null,
   "metadata": {},
   "outputs": [],
   "source": []
  },
  {
   "cell_type": "code",
   "execution_count": null,
   "metadata": {},
   "outputs": [],
   "source": []
  },
  {
   "cell_type": "code",
   "execution_count": null,
   "metadata": {},
   "outputs": [],
   "source": []
  },
  {
   "cell_type": "code",
   "execution_count": null,
   "metadata": {},
   "outputs": [],
   "source": []
  },
  {
   "cell_type": "code",
   "execution_count": null,
   "metadata": {},
   "outputs": [],
   "source": []
  },
  {
   "cell_type": "code",
   "execution_count": null,
   "metadata": {},
   "outputs": [],
   "source": []
  },
  {
   "cell_type": "code",
   "execution_count": null,
   "metadata": {},
   "outputs": [],
   "source": []
  },
  {
   "cell_type": "code",
   "execution_count": null,
   "metadata": {},
   "outputs": [],
   "source": []
  },
  {
   "cell_type": "code",
   "execution_count": 1,
   "metadata": {},
   "outputs": [
    {
     "ename": "SyntaxError",
     "evalue": "invalid syntax (<ipython-input-1-45e92875e24c>, line 1)",
     "output_type": "error",
     "traceback": [
      "\u001b[1;36m  File \u001b[1;32m\"<ipython-input-1-45e92875e24c>\"\u001b[1;36m, line \u001b[1;32m1\u001b[0m\n\u001b[1;33m    d= [i for i in l if i(lower). starts with ('S','s')]\u001b[0m\n\u001b[1;37m                                            ^\u001b[0m\n\u001b[1;31mSyntaxError\u001b[0m\u001b[1;31m:\u001b[0m invalid syntax\n"
     ]
    }
   ],
   "source": [
    "d= [i for i in l if i(lower). starts with ('S','s')]\n",
    "print(d)"
   ]
  },
  {
   "cell_type": "code",
   "execution_count": 1,
   "metadata": {},
   "outputs": [
    {
     "name": "stdout",
     "output_type": "stream",
     "text": [
      "(-6, 4, 23, 24)\n"
     ]
    }
   ],
   "source": [
    "tup= (23, 4,24,-6)\n",
    "x= sorted(tup)\n",
    "y= tuple(x)\n",
    "print(y)"
   ]
  },
  {
   "cell_type": "code",
   "execution_count": null,
   "metadata": {},
   "outputs": [],
   "source": []
  },
  {
   "cell_type": "code",
   "execution_count": null,
   "metadata": {},
   "outputs": [],
   "source": []
  },
  {
   "cell_type": "code",
   "execution_count": null,
   "metadata": {},
   "outputs": [],
   "source": []
  },
  {
   "cell_type": "code",
   "execution_count": null,
   "metadata": {},
   "outputs": [],
   "source": []
  },
  {
   "cell_type": "code",
   "execution_count": null,
   "metadata": {},
   "outputs": [],
   "source": []
  },
  {
   "cell_type": "code",
   "execution_count": null,
   "metadata": {},
   "outputs": [],
   "source": []
  },
  {
   "cell_type": "code",
   "execution_count": null,
   "metadata": {},
   "outputs": [],
   "source": []
  },
  {
   "cell_type": "code",
   "execution_count": null,
   "metadata": {},
   "outputs": [],
   "source": []
  },
  {
   "cell_type": "code",
   "execution_count": null,
   "metadata": {},
   "outputs": [],
   "source": []
  },
  {
   "cell_type": "code",
   "execution_count": null,
   "metadata": {},
   "outputs": [],
   "source": []
  },
  {
   "cell_type": "code",
   "execution_count": null,
   "metadata": {},
   "outputs": [],
   "source": []
  },
  {
   "cell_type": "code",
   "execution_count": null,
   "metadata": {},
   "outputs": [],
   "source": []
  },
  {
   "cell_type": "code",
   "execution_count": null,
   "metadata": {},
   "outputs": [],
   "source": []
  },
  {
   "cell_type": "code",
   "execution_count": null,
   "metadata": {},
   "outputs": [],
   "source": []
  },
  {
   "cell_type": "code",
   "execution_count": null,
   "metadata": {},
   "outputs": [],
   "source": []
  },
  {
   "cell_type": "code",
   "execution_count": null,
   "metadata": {},
   "outputs": [],
   "source": []
  },
  {
   "cell_type": "code",
   "execution_count": null,
   "metadata": {},
   "outputs": [],
   "source": []
  },
  {
   "cell_type": "code",
   "execution_count": null,
   "metadata": {},
   "outputs": [],
   "source": []
  },
  {
   "cell_type": "code",
   "execution_count": null,
   "metadata": {},
   "outputs": [],
   "source": []
  },
  {
   "cell_type": "code",
   "execution_count": null,
   "metadata": {},
   "outputs": [],
   "source": []
  },
  {
   "cell_type": "code",
   "execution_count": null,
   "metadata": {},
   "outputs": [],
   "source": []
  },
  {
   "cell_type": "code",
   "execution_count": 87,
   "metadata": {},
   "outputs": [
    {
     "ename": "TypeError",
     "evalue": "'>' not supported between instances of 'list' and 'int'",
     "output_type": "error",
     "traceback": [
      "\u001b[1;31m---------------------------------------------------------------------------\u001b[0m",
      "\u001b[1;31mTypeError\u001b[0m                                 Traceback (most recent call last)",
      "\u001b[1;32m<ipython-input-87-c359d1499e17>\u001b[0m in \u001b[0;36m<module>\u001b[1;34m\u001b[0m\n\u001b[0;32m      1\u001b[0m \u001b[0mf\u001b[0m\u001b[1;33m=\u001b[0m \u001b[1;32mlambda\u001b[0m \u001b[0mx\u001b[0m\u001b[1;33m:\u001b[0m \u001b[0mx\u001b[0m\u001b[1;33m[\u001b[0m\u001b[1;36m1\u001b[0m\u001b[1;33m]\u001b[0m \u001b[1;33m>\u001b[0m \u001b[1;36m18\u001b[0m\u001b[1;33m\u001b[0m\u001b[1;33m\u001b[0m\u001b[0m\n\u001b[0;32m      2\u001b[0m \u001b[1;33m\u001b[0m\u001b[0m\n\u001b[1;32m----> 3\u001b[1;33m \u001b[0mf\u001b[0m\u001b[1;33m(\u001b[0m\u001b[0ms\u001b[0m\u001b[1;33m)\u001b[0m\u001b[1;33m\u001b[0m\u001b[1;33m\u001b[0m\u001b[0m\n\u001b[0m",
      "\u001b[1;32m<ipython-input-87-c359d1499e17>\u001b[0m in \u001b[0;36m<lambda>\u001b[1;34m(x)\u001b[0m\n\u001b[1;32m----> 1\u001b[1;33m \u001b[0mf\u001b[0m\u001b[1;33m=\u001b[0m \u001b[1;32mlambda\u001b[0m \u001b[0mx\u001b[0m\u001b[1;33m:\u001b[0m \u001b[0mx\u001b[0m\u001b[1;33m[\u001b[0m\u001b[1;36m1\u001b[0m\u001b[1;33m]\u001b[0m \u001b[1;33m>\u001b[0m \u001b[1;36m18\u001b[0m\u001b[1;33m\u001b[0m\u001b[1;33m\u001b[0m\u001b[0m\n\u001b[0m\u001b[0;32m      2\u001b[0m \u001b[1;33m\u001b[0m\u001b[0m\n\u001b[0;32m      3\u001b[0m \u001b[0mf\u001b[0m\u001b[1;33m(\u001b[0m\u001b[0ms\u001b[0m\u001b[1;33m)\u001b[0m\u001b[1;33m\u001b[0m\u001b[1;33m\u001b[0m\u001b[0m\n",
      "\u001b[1;31mTypeError\u001b[0m: '>' not supported between instances of 'list' and 'int'"
     ]
    }
   ],
   "source": []
  },
  {
   "cell_type": "code",
   "execution_count": null,
   "metadata": {},
   "outputs": [],
   "source": []
  },
  {
   "cell_type": "code",
   "execution_count": null,
   "metadata": {},
   "outputs": [],
   "source": []
  },
  {
   "cell_type": "code",
   "execution_count": null,
   "metadata": {},
   "outputs": [],
   "source": []
  },
  {
   "cell_type": "code",
   "execution_count": null,
   "metadata": {},
   "outputs": [],
   "source": []
  },
  {
   "cell_type": "code",
   "execution_count": 82,
   "metadata": {},
   "outputs": [
    {
     "ename": "TypeError",
     "evalue": "'>' not supported between instances of 'list' and 'int'",
     "output_type": "error",
     "traceback": [
      "\u001b[1;31m---------------------------------------------------------------------------\u001b[0m",
      "\u001b[1;31mTypeError\u001b[0m                                 Traceback (most recent call last)",
      "\u001b[1;32m<ipython-input-82-c359d1499e17>\u001b[0m in \u001b[0;36m<module>\u001b[1;34m\u001b[0m\n\u001b[0;32m      1\u001b[0m \u001b[0mf\u001b[0m\u001b[1;33m=\u001b[0m \u001b[1;32mlambda\u001b[0m \u001b[0mx\u001b[0m\u001b[1;33m:\u001b[0m \u001b[0mx\u001b[0m\u001b[1;33m[\u001b[0m\u001b[1;36m1\u001b[0m\u001b[1;33m]\u001b[0m \u001b[1;33m>\u001b[0m \u001b[1;36m18\u001b[0m\u001b[1;33m\u001b[0m\u001b[1;33m\u001b[0m\u001b[0m\n\u001b[0;32m      2\u001b[0m \u001b[1;33m\u001b[0m\u001b[0m\n\u001b[1;32m----> 3\u001b[1;33m \u001b[0mf\u001b[0m\u001b[1;33m(\u001b[0m\u001b[0ms\u001b[0m\u001b[1;33m)\u001b[0m\u001b[1;33m\u001b[0m\u001b[1;33m\u001b[0m\u001b[0m\n\u001b[0m",
      "\u001b[1;32m<ipython-input-82-c359d1499e17>\u001b[0m in \u001b[0;36m<lambda>\u001b[1;34m(x)\u001b[0m\n\u001b[1;32m----> 1\u001b[1;33m \u001b[0mf\u001b[0m\u001b[1;33m=\u001b[0m \u001b[1;32mlambda\u001b[0m \u001b[0mx\u001b[0m\u001b[1;33m:\u001b[0m \u001b[0mx\u001b[0m\u001b[1;33m[\u001b[0m\u001b[1;36m1\u001b[0m\u001b[1;33m]\u001b[0m \u001b[1;33m>\u001b[0m \u001b[1;36m18\u001b[0m\u001b[1;33m\u001b[0m\u001b[1;33m\u001b[0m\u001b[0m\n\u001b[0m\u001b[0;32m      2\u001b[0m \u001b[1;33m\u001b[0m\u001b[0m\n\u001b[0;32m      3\u001b[0m \u001b[0mf\u001b[0m\u001b[1;33m(\u001b[0m\u001b[0ms\u001b[0m\u001b[1;33m)\u001b[0m\u001b[1;33m\u001b[0m\u001b[1;33m\u001b[0m\u001b[0m\n",
      "\u001b[1;31mTypeError\u001b[0m: '>' not supported between instances of 'list' and 'int'"
     ]
    }
   ],
   "source": []
  },
  {
   "cell_type": "code",
   "execution_count": 2,
   "metadata": {},
   "outputs": [
    {
     "data": {
      "text/plain": [
       "1"
      ]
     },
     "execution_count": 2,
     "metadata": {},
     "output_type": "execute_result"
    }
   ],
   "source": [
    "a = 21 % 4\n",
    "a"
   ]
  },
  {
   "cell_type": "code",
   "execution_count": 3,
   "metadata": {},
   "outputs": [
    {
     "name": "stdout",
     "output_type": "stream",
     "text": [
      "4\n"
     ]
    }
   ],
   "source": [
    "d = 23//5\n",
    "print(d)"
   ]
  },
  {
   "cell_type": "code",
   "execution_count": 5,
   "metadata": {},
   "outputs": [
    {
     "name": "stdout",
     "output_type": "stream",
     "text": [
      "True\n"
     ]
    }
   ],
   "source": [
    "\n",
    "if (1):\n",
    "\n",
    "    print (True)"
   ]
  },
  {
   "cell_type": "code",
   "execution_count": 6,
   "metadata": {},
   "outputs": [
    {
     "ename": "SyntaxError",
     "evalue": "invalid syntax (<ipython-input-6-928f6ca5e5e8>, line 1)",
     "output_type": "error",
     "traceback": [
      "\u001b[1;36m  File \u001b[1;32m\"<ipython-input-6-928f6ca5e5e8>\"\u001b[1;36m, line \u001b[1;32m1\u001b[0m\n\u001b[1;33m    if (1) print(True)\u001b[0m\n\u001b[1;37m               ^\u001b[0m\n\u001b[1;31mSyntaxError\u001b[0m\u001b[1;31m:\u001b[0m invalid syntax\n"
     ]
    }
   ],
   "source": [
    "\n",
    "if (1) print(True)"
   ]
  },
  {
   "cell_type": "code",
   "execution_count": 7,
   "metadata": {},
   "outputs": [
    {
     "name": "stdout",
     "output_type": "stream",
     "text": [
      "True\n"
     ]
    }
   ],
   "source": [
    "\n",
    "if (-1):\n",
    "\n",
    "    print('True')"
   ]
  },
  {
   "cell_type": "code",
   "execution_count": 8,
   "metadata": {},
   "outputs": [
    {
     "name": "stdout",
     "output_type": "stream",
     "text": [
      "True\n"
     ]
    }
   ],
   "source": [
    "if (1):\n",
    "\n",
    "    print ('True')"
   ]
  },
  {
   "cell_type": "code",
   "execution_count": 9,
   "metadata": {},
   "outputs": [
    {
     "ename": "SyntaxError",
     "evalue": "invalid syntax (<ipython-input-9-bb9305b141cc>, line 1)",
     "output_type": "error",
     "traceback": [
      "\u001b[1;36m  File \u001b[1;32m\"<ipython-input-9-bb9305b141cc>\"\u001b[1;36m, line \u001b[1;32m1\u001b[0m\n\u001b[1;33m    if (1)\u001b[0m\n\u001b[1;37m          ^\u001b[0m\n\u001b[1;31mSyntaxError\u001b[0m\u001b[1;31m:\u001b[0m invalid syntax\n"
     ]
    }
   ],
   "source": [
    "if (1)\n",
    "\n",
    "    print (True)"
   ]
  },
  {
   "cell_type": "code",
   "execution_count": 10,
   "metadata": {},
   "outputs": [
    {
     "name": "stdout",
     "output_type": "stream",
     "text": [
      "0\n",
      "1\n",
      "2\n"
     ]
    }
   ],
   "source": [
    "for i in range(3):\n",
    "    print(i)"
   ]
  },
  {
   "cell_type": "code",
   "execution_count": 11,
   "metadata": {},
   "outputs": [
    {
     "name": "stdout",
     "output_type": "stream",
     "text": [
      "11 12 13 \n",
      "14\n"
     ]
    }
   ],
   "source": [
    "\n",
    "print('11 12 13 \\n14')"
   ]
  },
  {
   "cell_type": "code",
   "execution_count": 12,
   "metadata": {},
   "outputs": [
    {
     "name": "stdout",
     "output_type": "stream",
     "text": [
      "36\n",
      "14\n"
     ]
    }
   ],
   "source": [
    "a=11\n",
    "\n",
    "b=12\n",
    "\n",
    "c=13 \n",
    "\n",
    "d=14\n",
    "\n",
    "print(a+b+c)\n",
    "\n",
    "print(d)"
   ]
  },
  {
   "cell_type": "code",
   "execution_count": 13,
   "metadata": {},
   "outputs": [
    {
     "name": "stdout",
     "output_type": "stream",
     "text": [
      "11 12 13\n",
      "14\n"
     ]
    }
   ],
   "source": [
    "\n",
    "a=11\n",
    "\n",
    "b=12\n",
    "\n",
    "c=13 \n",
    "\n",
    "d=14\n",
    "\n",
    "print(a,b,c)\n",
    "\n",
    "print(d)"
   ]
  },
  {
   "cell_type": "code",
   "execution_count": 14,
   "metadata": {},
   "outputs": [
    {
     "name": "stdout",
     "output_type": "stream",
     "text": [
      "11 12 13\n",
      "14\n"
     ]
    }
   ],
   "source": [
    "a=11\n",
    "\n",
    "b=12\n",
    "\n",
    "c=13 \n",
    "\n",
    "d=14\n",
    "\n",
    "print('{0} {1} {2}'.format(a,b,c) )\n",
    "\n",
    "print(d)"
   ]
  },
  {
   "cell_type": "code",
   "execution_count": 15,
   "metadata": {},
   "outputs": [
    {
     "name": "stdout",
     "output_type": "stream",
     "text": [
      "11 12 13\n",
      "14\n"
     ]
    }
   ],
   "source": [
    "\n",
    "a=11\n",
    "\n",
    "b=12\n",
    "\n",
    "c=13 \n",
    "\n",
    "d=14\n",
    "\n",
    "print('%d %d %d' %(a,b,c))\n",
    "\n",
    "print(d)"
   ]
  },
  {
   "cell_type": "code",
   "execution_count": 16,
   "metadata": {},
   "outputs": [
    {
     "name": "stdout",
     "output_type": "stream",
     "text": [
      "111213\n",
      "14\n"
     ]
    }
   ],
   "source": [
    "a=11\n",
    "\n",
    "b=12\n",
    "\n",
    "c=13 \n",
    "\n",
    "d=14\n",
    "\n",
    "print(f'{a}{b}{c}')\n",
    "\n",
    "print(d)"
   ]
  },
  {
   "cell_type": "code",
   "execution_count": 18,
   "metadata": {},
   "outputs": [
    {
     "data": {
      "text/plain": [
       "9"
      ]
     },
     "execution_count": 18,
     "metadata": {},
     "output_type": "execute_result"
    }
   ],
   "source": [
    "f = (lambda a, b: a if a > b else b)\n",
    "f(9,3)"
   ]
  },
  {
   "cell_type": "code",
   "execution_count": 29,
   "metadata": {},
   "outputs": [
    {
     "name": "stdout",
     "output_type": "stream",
     "text": [
      "20, 50\n"
     ]
    },
    {
     "ename": "ValueError",
     "evalue": "invalid literal for int() with base 10: '20, 50'",
     "output_type": "error",
     "traceback": [
      "\u001b[1;31m---------------------------------------------------------------------------\u001b[0m",
      "\u001b[1;31mValueError\u001b[0m                                Traceback (most recent call last)",
      "\u001b[1;32m<ipython-input-29-34cfb83084cc>\u001b[0m in \u001b[0;36m<module>\u001b[1;34m\u001b[0m\n\u001b[0;32m      3\u001b[0m \u001b[0ml\u001b[0m\u001b[1;33m=\u001b[0m \u001b[0min_string\u001b[0m\u001b[1;33m.\u001b[0m\u001b[0msplit\u001b[0m\u001b[1;33m(\u001b[0m\u001b[1;34m' , '\u001b[0m\u001b[1;33m)\u001b[0m\u001b[1;33m\u001b[0m\u001b[1;33m\u001b[0m\u001b[0m\n\u001b[0;32m      4\u001b[0m \u001b[1;33m\u001b[0m\u001b[0m\n\u001b[1;32m----> 5\u001b[1;33m \u001b[0mx\u001b[0m\u001b[1;33m=\u001b[0m \u001b[0mint\u001b[0m\u001b[1;33m(\u001b[0m\u001b[0ml\u001b[0m\u001b[1;33m[\u001b[0m\u001b[1;36m0\u001b[0m\u001b[1;33m]\u001b[0m\u001b[1;33m)\u001b[0m\u001b[1;33m\u001b[0m\u001b[1;33m\u001b[0m\u001b[0m\n\u001b[0m\u001b[0;32m      6\u001b[0m \u001b[0my\u001b[0m\u001b[1;33m=\u001b[0m \u001b[0mint\u001b[0m\u001b[1;33m(\u001b[0m\u001b[0ml\u001b[0m\u001b[1;33m[\u001b[0m\u001b[1;36m1\u001b[0m\u001b[1;33m]\u001b[0m\u001b[1;33m)\u001b[0m\u001b[1;33m\u001b[0m\u001b[1;33m\u001b[0m\u001b[0m\n\u001b[0;32m      7\u001b[0m \u001b[1;33m\u001b[0m\u001b[0m\n",
      "\u001b[1;31mValueError\u001b[0m: invalid literal for int() with base 10: '20, 50'"
     ]
    }
   ],
   "source": [
    "in_string =input()\n",
    "\n",
    "l= in_string.split(' , ')\n",
    "\n",
    "x= int(l[0])\n",
    "y= int(l[1])\n",
    "\n",
    "print ('x before swapping: {0}'.format(x))\n",
    "print ('y before swapping: {0}'.format(y))\n",
    "\n",
    "z=x\n",
    "x=y\n",
    "y=z\n",
    "\n",
    "print()\n",
    "print ('x before swapping: {0}'.format(x))\n",
    "print ('y before swapping: {0}'.format(y))\n"
   ]
  },
  {
   "cell_type": "code",
   "execution_count": 38,
   "metadata": {},
   "outputs": [
    {
     "name": "stdout",
     "output_type": "stream",
     "text": [
      "20, 50\n",
      "x before swapping: 20\n",
      "y before swapping: 50\n",
      "\n",
      "x before swapping: 50\n",
      "y before swapping: 20\n"
     ]
    }
   ],
   "source": [
    "## swapping\n",
    "\n",
    "in_string =input()\n",
    "\n",
    "l = in_string.split(',')\n",
    "\n",
    "x= int(l[0])\n",
    "y= int(l[1])\n",
    "\n",
    "print (\"x before swapping: {0}\".format(x))\n",
    "print (\"y before swapping: {0}\".format(y))\n",
    "\n",
    "z=x\n",
    "x=y\n",
    "y=z\n",
    "\n",
    "print()\n",
    "print ('x before swapping: {0}'.format(x))\n",
    "print ('y before swapping: {0}'.format(y))"
   ]
  },
  {
   "cell_type": "code",
   "execution_count": 44,
   "metadata": {},
   "outputs": [
    {
     "name": "stdout",
     "output_type": "stream",
     "text": [
      "6\n",
      "even\n"
     ]
    }
   ],
   "source": [
    "n= int(input())\n",
    "\n",
    "if n%2==0:\n",
    "    print('even')\n",
    "else:\n",
    "    print('odd')"
   ]
  },
  {
   "cell_type": "code",
   "execution_count": 46,
   "metadata": {},
   "outputs": [
    {
     "name": "stdout",
     "output_type": "stream",
     "text": [
      "466467464212312\n",
      "Even\n"
     ]
    }
   ],
   "source": [
    "num= int(input())\n",
    "\n",
    "if num % 2 == 0:\n",
    "    print('Even')\n",
    "else:\n",
    "    print('Odd')"
   ]
  },
  {
   "cell_type": "code",
   "execution_count": 80,
   "metadata": {},
   "outputs": [
    {
     "name": "stdout",
     "output_type": "stream",
     "text": [
      "25\n"
     ]
    }
   ],
   "source": [
    "k= int(input())\n",
    "\n",
    "if k % 20==1:\n",
    "    print('sexy')\n",
    "if k % 20==2:\n",
    "    print('beautiful')\n",
    "if k % 20==3:\n",
    "    print('pretty')"
   ]
  },
  {
   "cell_type": "code",
   "execution_count": 85,
   "metadata": {},
   "outputs": [
    {
     "name": "stdout",
     "output_type": "stream",
     "text": [
      "12414\n",
      "sexy\n"
     ]
    }
   ],
   "source": [
    "#even odd\n",
    "\n",
    "\n",
    "\n",
    "k= int(input())\n",
    "\n",
    "if k % 3==0:\n",
    "    print('sexy')\n",
    "if k % 3==1:\n",
    "    print('beautiful')\n",
    "if k % 3==2:\n",
    "    print('pretty')"
   ]
  },
  {
   "cell_type": "code",
   "execution_count": 121,
   "metadata": {},
   "outputs": [
    {
     "name": "stdout",
     "output_type": "stream",
     "text": [
      "3,True\n",
      "10:00\n"
     ]
    }
   ],
   "source": [
    "#alarm clock\n",
    "\n",
    "import ast\n",
    "input_str =input()\n",
    "l= ast.literal_eval(input_str)\n",
    "dw= l[0]\n",
    "vac= l[1]\n",
    "\n",
    "def alarm (dw,vac):\n",
    "    weekend =[6,7]\n",
    "    if vac:\n",
    "        if dw not in weekend:\n",
    "            return '10:00'\n",
    "        else:\n",
    "            return 'off'\n",
    "    else:\n",
    "        if dw not in weekend:\n",
    "            return '7:00'\n",
    "        else:\n",
    "            return ('10:00')\n",
    "print(alarm (dw, vac))"
   ]
  },
  {
   "cell_type": "code",
   "execution_count": 125,
   "metadata": {},
   "outputs": [
    {
     "name": "stdout",
     "output_type": "stream",
     "text": [
      "7,False\n",
      "10:00\n"
     ]
    }
   ],
   "source": [
    "#alarm clock\n",
    "\n",
    "import ast\n",
    "input_str =input()\n",
    "l= ast.literal_eval(input_str)\n",
    "dw= l[0]\n",
    "vac= l[1]\n",
    "\n",
    "def alarm (dw,vac):\n",
    "    weekend =[7,1]\n",
    "    if vac:\n",
    "        if dw not in weekend:\n",
    "            return '10:00'\n",
    "        else:\n",
    "            return 'off'\n",
    "    else:\n",
    "        if dw not in weekend:\n",
    "            return '7:00'\n",
    "        else:\n",
    "            return ('10:00')\n",
    "print(alarm (dw, vac))"
   ]
  },
  {
   "cell_type": "code",
   "execution_count": null,
   "metadata": {},
   "outputs": [],
   "source": []
  },
  {
   "cell_type": "code",
   "execution_count": 112,
   "metadata": {},
   "outputs": [
    {
     "name": "stdout",
     "output_type": "stream",
     "text": [
      "3\n",
      "1\n"
     ]
    }
   ],
   "source": [
    "# factorial\n",
    "\n",
    "n= int(input())\n",
    "def factorial (n):\n",
    "    if n<0:\n",
    "        return -1\n",
    "    elif n==0:\n",
    "        return 1\n",
    "    else:\n",
    "        f=1\n",
    "        for i in range (1, n):\n",
    "            f=f*i\n",
    "            return f\n",
    "k = factorial(n)\n",
    "print(k)"
   ]
  },
  {
   "cell_type": "code",
   "execution_count": 114,
   "metadata": {},
   "outputs": [
    {
     "name": "stdout",
     "output_type": "stream",
     "text": [
      "234535256\n",
      "652535432\n"
     ]
    }
   ],
   "source": [
    "# reverse digits\n",
    "\n",
    "n = int(input())\n",
    "r=0\n",
    "while (n>0):\n",
    "    r= r*10 + n%10\n",
    "    n= n//10\n",
    "print(r)"
   ]
  },
  {
   "cell_type": "code",
   "execution_count": 117,
   "metadata": {},
   "outputs": [
    {
     "name": "stdout",
     "output_type": "stream",
     "text": [
      "78910\n",
      "1987\n"
     ]
    }
   ],
   "source": [
    "n = int(input())\n",
    "r=0\n",
    "while (n>0):\n",
    "    r= r*10 + n%10\n",
    "    n= n//10\n",
    "print(r)"
   ]
  },
  {
   "cell_type": "code",
   "execution_count": 118,
   "metadata": {},
   "outputs": [
    {
     "name": "stdout",
     "output_type": "stream",
     "text": [
      "15,2\n",
      "10\n"
     ]
    }
   ],
   "source": [
    "## chocolates where each cost 2, and total money 15, and wraapers 3\n",
    "\n",
    "s= input()\n",
    "l= s.split(',')\n",
    "m= int(l[0])\n",
    "c= int(l[1])\n",
    "ch= m//c\n",
    "w= m//c\n",
    "while w//3!=0:\n",
    "    ch= ch +w//3\n",
    "    w= w//3 + w%3\n",
    "print(ch)\n",
    "    "
   ]
  },
  {
   "cell_type": "code",
   "execution_count": 126,
   "metadata": {},
   "outputs": [
    {
     "name": "stdout",
     "output_type": "stream",
     "text": [
      "20,2\n",
      "13\n"
     ]
    }
   ],
   "source": [
    "## chocolates where each cost 2, and total money 20, and wraapers 4\n",
    "\n",
    "s= input()\n",
    "l= s.split(',')\n",
    "m= int(l[0])\n",
    "c= int(l[1])\n",
    "ch= m//c\n",
    "w= m//c\n",
    "while w//4!=0:\n",
    "    ch= ch +w//4\n",
    "    w= w//4 + w%4\n",
    "print(ch)"
   ]
  },
  {
   "cell_type": "code",
   "execution_count": 16,
   "metadata": {},
   "outputs": [
    {
     "name": "stdout",
     "output_type": "stream",
     "text": [
      "5\n",
      "*-*\n",
      "*-*\n",
      "*-*\n",
      "*-*\n",
      "*-*\n",
      "*-*\n",
      "*-*\n",
      "*-*\n",
      "*-*\n",
      "*-*\n"
     ]
    }
   ],
   "source": [
    "# print pattern\n",
    "\n",
    "n= int(input())\n",
    "\n",
    "for i in range(1,n+1):\n",
    "    for j in range(n-i):\n",
    "        print('',end='')\n",
    "    for k in range (i-1):\n",
    "        print('*-',end='')\n",
    "        print ('*')"
   ]
  },
  {
   "cell_type": "code",
   "execution_count": 27,
   "metadata": {},
   "outputs": [
    {
     "name": "stdout",
     "output_type": "stream",
     "text": [
      "5\n",
      "    *\n",
      "   *_*\n",
      "  *_*_*\n",
      " *_*_*_*\n",
      "*_*_*_*_*\n"
     ]
    }
   ],
   "source": [
    "n= int(input())\n",
    "\n",
    "for i in range(1,n+1):\n",
    "    for j in range(n-i):\n",
    "        print(' ',end='')\n",
    "    for k in range(i-1):\n",
    "        print('*_',end='')\n",
    "    print ('*')"
   ]
  },
  {
   "cell_type": "code",
   "execution_count": 29,
   "metadata": {},
   "outputs": [
    {
     "name": "stdout",
     "output_type": "stream",
     "text": [
      "3\n",
      "  *\n",
      " *_*\n",
      "*_*_*\n"
     ]
    }
   ],
   "source": [
    "n= int(input())\n",
    "\n",
    "for i in range(1,n+1):\n",
    "    for j in range(n-i):\n",
    "        print(' ',end='')\n",
    "    for k in range(i-1):\n",
    "        print('*_',end='')\n",
    "    print ('*')"
   ]
  },
  {
   "cell_type": "code",
   "execution_count": null,
   "metadata": {},
   "outputs": [],
   "source": [
    "n= int(input())\n",
    "\n",
    "for i in range(1,n+1):\n",
    "    for j in range(n-i):\n",
    "        print(' ',end='e')\n",
    "    for k in range(i-1):\n",
    "        print('c-',end='')\n",
    "    print ('c')"
   ]
  },
  {
   "cell_type": "code",
   "execution_count": null,
   "metadata": {},
   "outputs": [],
   "source": [
    "### LISTS"
   ]
  },
  {
   "cell_type": "code",
   "execution_count": 40,
   "metadata": {},
   "outputs": [
    {
     "name": "stdout",
     "output_type": "stream",
     "text": [
      "0\n"
     ]
    }
   ],
   "source": [
    "L=[2, 3, 4, 2, 1, 2, 3]\n",
    "print(L.index(2))"
   ]
  },
  {
   "cell_type": "code",
   "execution_count": 49,
   "metadata": {},
   "outputs": [
    {
     "data": {
      "text/plain": [
       "1"
      ]
     },
     "execution_count": 49,
     "metadata": {},
     "output_type": "execute_result"
    }
   ],
   "source": [
    "L = [2, 1, 2, 4, 5, 3, 6]\n",
    "K = 7 in L\n",
    "k"
   ]
  },
  {
   "cell_type": "code",
   "execution_count": null,
   "metadata": {},
   "outputs": [],
   "source": [
    "L=[10,20,30,40,50,60,70,80,90,100]\n",
    "\n",
    "[L[i] for i in range(1,9,2)]"
   ]
  },
  {
   "cell_type": "code",
   "execution_count": null,
   "metadata": {},
   "outputs": [],
   "source": [
    "L=[10,20,30,40,50,60,70,80,90,100]\n",
    "\n",
    "[L[i] for i in range(1,9,2)]"
   ]
  },
  {
   "cell_type": "code",
   "execution_count": 23,
   "metadata": {},
   "outputs": [
    {
     "data": {
      "text/plain": [
       "(30, 25, 10, 45)"
      ]
     },
     "execution_count": 23,
     "metadata": {},
     "output_type": "execute_result"
    }
   ],
   "source": [
    "a= [10,20,30]\n",
    "b= [45,35,25]\n",
    "max(a), min(b), min(a), max(b)\n"
   ]
  },
  {
   "cell_type": "code",
   "execution_count": 11,
   "metadata": {},
   "outputs": [
    {
     "data": {
      "text/plain": [
       "([45, 35, 25], [10, 20, 30])"
      ]
     },
     "execution_count": 11,
     "metadata": {},
     "output_type": "execute_result"
    }
   ],
   "source": [
    "max(b,a), min(a,b)"
   ]
  },
  {
   "cell_type": "code",
   "execution_count": 13,
   "metadata": {},
   "outputs": [
    {
     "data": {
      "text/plain": [
       "[25, 35, 45]"
      ]
     },
     "execution_count": 13,
     "metadata": {},
     "output_type": "execute_result"
    }
   ],
   "source": [
    "sorted(b)"
   ]
  },
  {
   "cell_type": "code",
   "execution_count": 16,
   "metadata": {},
   "outputs": [
    {
     "name": "stdout",
     "output_type": "stream",
     "text": [
      "[1,2,3,4,5,6,7,8,9]\n"
     ]
    },
    {
     "ename": "NameError",
     "evalue": "name 'ast' is not defined",
     "output_type": "error",
     "traceback": [
      "\u001b[1;31m---------------------------------------------------------------------------\u001b[0m",
      "\u001b[1;31mNameError\u001b[0m                                 Traceback (most recent call last)",
      "\u001b[1;32m<ipython-input-16-1e4af93b084c>\u001b[0m in \u001b[0;36m<module>\u001b[1;34m\u001b[0m\n\u001b[0;32m      1\u001b[0m \u001b[0minput_str\u001b[0m \u001b[1;33m=\u001b[0m \u001b[0minput\u001b[0m\u001b[1;33m(\u001b[0m\u001b[1;33m)\u001b[0m\u001b[1;33m\u001b[0m\u001b[1;33m\u001b[0m\u001b[0m\n\u001b[1;32m----> 2\u001b[1;33m \u001b[0minput_list\u001b[0m \u001b[1;33m=\u001b[0m \u001b[0mast\u001b[0m\u001b[1;33m.\u001b[0m\u001b[0mliteral_eval\u001b[0m\u001b[1;33m(\u001b[0m\u001b[0ms\u001b[0m\u001b[1;33m)\u001b[0m\u001b[1;33m\u001b[0m\u001b[1;33m\u001b[0m\u001b[0m\n\u001b[0m\u001b[0;32m      3\u001b[0m \u001b[1;32mif\u001b[0m \u001b[0mlen\u001b[0m\u001b[1;33m(\u001b[0m\u001b[0minput_list\u001b[0m\u001b[1;33m)\u001b[0m\u001b[1;33m==\u001b[0m\u001b[1;36m0\u001b[0m\u001b[1;33m:\u001b[0m\u001b[1;33m\u001b[0m\u001b[1;33m\u001b[0m\u001b[0m\n\u001b[0;32m      4\u001b[0m     \u001b[0mprint\u001b[0m\u001b[1;33m(\u001b[0m\u001b[1;34m'no minimum'\u001b[0m\u001b[1;33m)\u001b[0m\u001b[1;33m\u001b[0m\u001b[1;33m\u001b[0m\u001b[0m\n\u001b[0;32m      5\u001b[0m \u001b[1;32melse\u001b[0m\u001b[1;33m:\u001b[0m\u001b[1;33m\u001b[0m\u001b[1;33m\u001b[0m\u001b[0m\n",
      "\u001b[1;31mNameError\u001b[0m: name 'ast' is not defined"
     ]
    }
   ],
   "source": [
    "input_str = input()\n",
    "input_list = ast.literal_eval(s)\n",
    "if len(input_list)==0:\n",
    "    print('no minimum')\n",
    "else:\n",
    "    m = input_list[0]\n",
    "    for item in input_list:\n",
    "        if  item < m:\n",
    "            m= item\n",
    "    print(m)"
   ]
  },
  {
   "cell_type": "code",
   "execution_count": 17,
   "metadata": {},
   "outputs": [
    {
     "name": "stdout",
     "output_type": "stream",
     "text": [
      "1,2,3\n",
      "1\n"
     ]
    }
   ],
   "source": [
    "import ast\n",
    "s= input()\n",
    "l= ast.literal_eval(s)\n",
    "if len(l)==0:\n",
    "    print('no minimum')\n",
    "else:\n",
    "    m =l[0]\n",
    "    for item in l:\n",
    "        if  item < m:\n",
    "            m= item\n",
    "    print(m)"
   ]
  },
  {
   "cell_type": "code",
   "execution_count": 21,
   "metadata": {},
   "outputs": [
    {
     "name": "stdout",
     "output_type": "stream",
     "text": [
      "234,432,2341\n"
     ]
    },
    {
     "data": {
      "text/plain": [
       "','"
      ]
     },
     "execution_count": 21,
     "metadata": {},
     "output_type": "execute_result"
    }
   ],
   "source": [
    "s= input()\n",
    "min(s)"
   ]
  },
  {
   "cell_type": "code",
   "execution_count": 38,
   "metadata": {},
   "outputs": [
    {
     "name": "stdout",
     "output_type": "stream",
     "text": [
      "Yes\n"
     ]
    }
   ],
   "source": [
    "a= [10,20,30,40]\n",
    "s= sum(a)\n",
    "l= len(a)\n",
    "av= s/l\n",
    "av\n",
    "c = 352\n",
    "if c> av:\n",
    "    print('Yes')\n",
    "else:\n",
    "    print('No')"
   ]
  },
  {
   "cell_type": "code",
   "execution_count": 32,
   "metadata": {},
   "outputs": [
    {
     "ename": "TypeError",
     "evalue": "'float' object is not iterable",
     "output_type": "error",
     "traceback": [
      "\u001b[1;31m---------------------------------------------------------------------------\u001b[0m",
      "\u001b[1;31mTypeError\u001b[0m                                 Traceback (most recent call last)",
      "\u001b[1;32m<ipython-input-32-807b7715ee3b>\u001b[0m in \u001b[0;36m<module>\u001b[1;34m\u001b[0m\n\u001b[1;32m----> 1\u001b[1;33m \u001b[0mav\u001b[0m\u001b[1;33m=\u001b[0m \u001b[0msum\u001b[0m\u001b[1;33m(\u001b[0m\u001b[0ma\u001b[0m\u001b[1;33m)\u001b[0m \u001b[1;33m/\u001b[0m \u001b[0mlen\u001b[0m\u001b[1;33m(\u001b[0m\u001b[0ma\u001b[0m\u001b[1;33m)\u001b[0m\u001b[1;33m\u001b[0m\u001b[1;33m\u001b[0m\u001b[0m\n\u001b[0m\u001b[0;32m      2\u001b[0m \u001b[0mprint\u001b[0m\u001b[1;33m(\u001b[0m\u001b[0mav\u001b[0m\u001b[1;33m)\u001b[0m\u001b[1;33m\u001b[0m\u001b[1;33m\u001b[0m\u001b[0m\n",
      "\u001b[1;31mTypeError\u001b[0m: 'float' object is not iterable"
     ]
    }
   ],
   "source": [
    "av= sum(a) / len(a)\n",
    "print(av)"
   ]
  },
  {
   "cell_type": "code",
   "execution_count": 40,
   "metadata": {},
   "outputs": [
    {
     "ename": "NameError",
     "evalue": "name 'summary' is not defined",
     "output_type": "error",
     "traceback": [
      "\u001b[1;31m---------------------------------------------------------------------------\u001b[0m",
      "\u001b[1;31mNameError\u001b[0m                                 Traceback (most recent call last)",
      "\u001b[1;32m<ipython-input-40-dde587716e10>\u001b[0m in \u001b[0;36m<module>\u001b[1;34m\u001b[0m\n\u001b[1;32m----> 1\u001b[1;33m \u001b[0msummary\u001b[0m\u001b[1;33m(\u001b[0m\u001b[0ma\u001b[0m\u001b[1;33m)\u001b[0m\u001b[1;33m\u001b[0m\u001b[1;33m\u001b[0m\u001b[0m\n\u001b[0m",
      "\u001b[1;31mNameError\u001b[0m: name 'summary' is not defined"
     ]
    }
   ],
   "source": [
    "summary(a)"
   ]
  },
  {
   "cell_type": "code",
   "execution_count": null,
   "metadata": {},
   "outputs": [],
   "source": [
    "import ast\n",
    "t= ast.literal_eval(input())\n",
    "a= ast.literal_eval(input())\n",
    "\n",
    "\n",
    "def cab(d,c):\n",
    "    for ap in a:\n",
    "    cab(t,a)\n",
    "    \n",
    "s= sum(t)\n",
    "l= len(t)\n",
    "av= s/l\n",
    "\n",
    "if c> av:\n",
    "    return 1\n",
    "else:\n",
    "    return 0\n",
    "\n",
    "for ap in a:\n",
    "    add= cab(t,a)\n",
    "    is add==1:\n",
    "        t.append(a)\n",
    "print(t)"
   ]
  },
  {
   "cell_type": "code",
   "execution_count": 41,
   "metadata": {},
   "outputs": [
    {
     "name": "stdout",
     "output_type": "stream",
     "text": [
      "24\n",
      "25\n"
     ]
    },
    {
     "ename": "TypeError",
     "evalue": "'int' object is not iterable",
     "output_type": "error",
     "traceback": [
      "\u001b[1;31m---------------------------------------------------------------------------\u001b[0m",
      "\u001b[1;31mTypeError\u001b[0m                                 Traceback (most recent call last)",
      "\u001b[1;32m<ipython-input-41-5d6e8a830b03>\u001b[0m in \u001b[0;36m<module>\u001b[1;34m\u001b[0m\n\u001b[0;32m      7\u001b[0m \u001b[0mw\u001b[0m\u001b[1;33m=\u001b[0m \u001b[0mint\u001b[0m\u001b[1;33m(\u001b[0m\u001b[0minput\u001b[0m\u001b[1;33m(\u001b[0m\u001b[1;33m)\u001b[0m\u001b[1;33m)\u001b[0m\u001b[1;33m\u001b[0m\u001b[1;33m\u001b[0m\u001b[0m\n\u001b[0;32m      8\u001b[0m \u001b[0mclash\u001b[0m\u001b[1;33m=\u001b[0m \u001b[1;36m0\u001b[0m\u001b[1;33m\u001b[0m\u001b[1;33m\u001b[0m\u001b[0m\n\u001b[1;32m----> 9\u001b[1;33m \u001b[1;32mfor\u001b[0m \u001b[0me1\u001b[0m \u001b[1;32min\u001b[0m \u001b[0me\u001b[0m\u001b[1;33m:\u001b[0m\u001b[1;33m\u001b[0m\u001b[1;33m\u001b[0m\u001b[0m\n\u001b[0m\u001b[0;32m     10\u001b[0m     \u001b[1;32mif\u001b[0m \u001b[0me1\u001b[0m\u001b[1;33m[\u001b[0m\u001b[1;36m0\u001b[0m\u001b[1;33m]\u001b[0m\u001b[1;33m<=\u001b[0m \u001b[0mw\u001b[0m \u001b[1;32mand\u001b[0m \u001b[0me1\u001b[0m\u001b[1;33m[\u001b[0m\u001b[1;36m1\u001b[0m\u001b[1;33m]\u001b[0m\u001b[1;33m>=\u001b[0m \u001b[0mw\u001b[0m\u001b[1;33m:\u001b[0m\u001b[1;33m\u001b[0m\u001b[1;33m\u001b[0m\u001b[0m\n\u001b[0;32m     11\u001b[0m         \u001b[0mclash\u001b[0m\u001b[1;33m=\u001b[0m \u001b[0mclash\u001b[0m \u001b[1;33m+\u001b[0m \u001b[1;36m1\u001b[0m\u001b[1;33m\u001b[0m\u001b[1;33m\u001b[0m\u001b[0m\n",
      "\u001b[1;31mTypeError\u001b[0m: 'int' object is not iterable"
     ]
    }
   ],
   "source": [
    "### CALENDER\n",
    "\n",
    "import ast\n",
    "s= input()\n",
    "l= ast.literal_eval(s)\n",
    "e= l\n",
    "w= int(input())\n",
    "clash= 0\n",
    "for e1 in e:\n",
    "    if e1[0]<= w and e1[1]>= w:\n",
    "        clash= clash + 1\n",
    "print(clash)"
   ]
  },
  {
   "cell_type": "code",
   "execution_count": 42,
   "metadata": {},
   "outputs": [
    {
     "ename": "ValueError",
     "evalue": "malformed node or string: [[29, 31], [23, 26], [24, 25]]",
     "output_type": "error",
     "traceback": [
      "\u001b[1;31m---------------------------------------------------------------------------\u001b[0m",
      "\u001b[1;31mValueError\u001b[0m                                Traceback (most recent call last)",
      "\u001b[1;32m<ipython-input-42-550ddb464575>\u001b[0m in \u001b[0;36m<module>\u001b[1;34m\u001b[0m\n\u001b[0;32m      1\u001b[0m \u001b[0ms\u001b[0m\u001b[1;33m=\u001b[0m \u001b[1;33m[\u001b[0m\u001b[1;33m[\u001b[0m\u001b[1;36m29\u001b[0m\u001b[1;33m,\u001b[0m\u001b[1;36m31\u001b[0m\u001b[1;33m]\u001b[0m\u001b[1;33m,\u001b[0m\u001b[1;33m[\u001b[0m\u001b[1;36m23\u001b[0m\u001b[1;33m,\u001b[0m\u001b[1;36m26\u001b[0m\u001b[1;33m]\u001b[0m\u001b[1;33m,\u001b[0m\u001b[1;33m[\u001b[0m\u001b[1;36m24\u001b[0m\u001b[1;33m,\u001b[0m\u001b[1;36m25\u001b[0m\u001b[1;33m]\u001b[0m\u001b[1;33m]\u001b[0m\u001b[1;33m\u001b[0m\u001b[1;33m\u001b[0m\u001b[0m\n\u001b[1;32m----> 2\u001b[1;33m \u001b[0ml\u001b[0m\u001b[1;33m=\u001b[0m \u001b[0mast\u001b[0m\u001b[1;33m.\u001b[0m\u001b[0mliteral_eval\u001b[0m\u001b[1;33m(\u001b[0m\u001b[0ms\u001b[0m\u001b[1;33m)\u001b[0m\u001b[1;33m\u001b[0m\u001b[1;33m\u001b[0m\u001b[0m\n\u001b[0m\u001b[0;32m      3\u001b[0m \u001b[0me\u001b[0m\u001b[1;33m=\u001b[0m \u001b[0ml\u001b[0m\u001b[1;33m\u001b[0m\u001b[1;33m\u001b[0m\u001b[0m\n\u001b[0;32m      4\u001b[0m \u001b[0mw\u001b[0m\u001b[1;33m=\u001b[0m \u001b[0mint\u001b[0m\u001b[1;33m(\u001b[0m\u001b[0minput\u001b[0m\u001b[1;33m(\u001b[0m\u001b[1;33m)\u001b[0m\u001b[1;33m)\u001b[0m\u001b[1;33m\u001b[0m\u001b[1;33m\u001b[0m\u001b[0m\n\u001b[0;32m      5\u001b[0m \u001b[0mclash\u001b[0m\u001b[1;33m=\u001b[0m \u001b[1;36m0\u001b[0m\u001b[1;33m\u001b[0m\u001b[1;33m\u001b[0m\u001b[0m\n",
      "\u001b[1;32m~\\Anaconda3\\lib\\ast.py\u001b[0m in \u001b[0;36mliteral_eval\u001b[1;34m(node_or_string)\u001b[0m\n\u001b[0;32m     89\u001b[0m                     \u001b[1;32mreturn\u001b[0m \u001b[0mleft\u001b[0m \u001b[1;33m-\u001b[0m \u001b[0mright\u001b[0m\u001b[1;33m\u001b[0m\u001b[1;33m\u001b[0m\u001b[0m\n\u001b[0;32m     90\u001b[0m         \u001b[1;32mreturn\u001b[0m \u001b[0m_convert_signed_num\u001b[0m\u001b[1;33m(\u001b[0m\u001b[0mnode\u001b[0m\u001b[1;33m)\u001b[0m\u001b[1;33m\u001b[0m\u001b[1;33m\u001b[0m\u001b[0m\n\u001b[1;32m---> 91\u001b[1;33m     \u001b[1;32mreturn\u001b[0m \u001b[0m_convert\u001b[0m\u001b[1;33m(\u001b[0m\u001b[0mnode_or_string\u001b[0m\u001b[1;33m)\u001b[0m\u001b[1;33m\u001b[0m\u001b[1;33m\u001b[0m\u001b[0m\n\u001b[0m\u001b[0;32m     92\u001b[0m \u001b[1;33m\u001b[0m\u001b[0m\n\u001b[0;32m     93\u001b[0m \u001b[1;33m\u001b[0m\u001b[0m\n",
      "\u001b[1;32m~\\Anaconda3\\lib\\ast.py\u001b[0m in \u001b[0;36m_convert\u001b[1;34m(node)\u001b[0m\n\u001b[0;32m     88\u001b[0m                 \u001b[1;32melse\u001b[0m\u001b[1;33m:\u001b[0m\u001b[1;33m\u001b[0m\u001b[1;33m\u001b[0m\u001b[0m\n\u001b[0;32m     89\u001b[0m                     \u001b[1;32mreturn\u001b[0m \u001b[0mleft\u001b[0m \u001b[1;33m-\u001b[0m \u001b[0mright\u001b[0m\u001b[1;33m\u001b[0m\u001b[1;33m\u001b[0m\u001b[0m\n\u001b[1;32m---> 90\u001b[1;33m         \u001b[1;32mreturn\u001b[0m \u001b[0m_convert_signed_num\u001b[0m\u001b[1;33m(\u001b[0m\u001b[0mnode\u001b[0m\u001b[1;33m)\u001b[0m\u001b[1;33m\u001b[0m\u001b[1;33m\u001b[0m\u001b[0m\n\u001b[0m\u001b[0;32m     91\u001b[0m     \u001b[1;32mreturn\u001b[0m \u001b[0m_convert\u001b[0m\u001b[1;33m(\u001b[0m\u001b[0mnode_or_string\u001b[0m\u001b[1;33m)\u001b[0m\u001b[1;33m\u001b[0m\u001b[1;33m\u001b[0m\u001b[0m\n\u001b[0;32m     92\u001b[0m \u001b[1;33m\u001b[0m\u001b[0m\n",
      "\u001b[1;32m~\\Anaconda3\\lib\\ast.py\u001b[0m in \u001b[0;36m_convert_signed_num\u001b[1;34m(node)\u001b[0m\n\u001b[0;32m     61\u001b[0m             \u001b[1;32melse\u001b[0m\u001b[1;33m:\u001b[0m\u001b[1;33m\u001b[0m\u001b[1;33m\u001b[0m\u001b[0m\n\u001b[0;32m     62\u001b[0m                 \u001b[1;32mreturn\u001b[0m \u001b[1;33m-\u001b[0m \u001b[0moperand\u001b[0m\u001b[1;33m\u001b[0m\u001b[1;33m\u001b[0m\u001b[0m\n\u001b[1;32m---> 63\u001b[1;33m         \u001b[1;32mreturn\u001b[0m \u001b[0m_convert_num\u001b[0m\u001b[1;33m(\u001b[0m\u001b[0mnode\u001b[0m\u001b[1;33m)\u001b[0m\u001b[1;33m\u001b[0m\u001b[1;33m\u001b[0m\u001b[0m\n\u001b[0m\u001b[0;32m     64\u001b[0m     \u001b[1;32mdef\u001b[0m \u001b[0m_convert\u001b[0m\u001b[1;33m(\u001b[0m\u001b[0mnode\u001b[0m\u001b[1;33m)\u001b[0m\u001b[1;33m:\u001b[0m\u001b[1;33m\u001b[0m\u001b[1;33m\u001b[0m\u001b[0m\n\u001b[0;32m     65\u001b[0m         \u001b[1;32mif\u001b[0m \u001b[0misinstance\u001b[0m\u001b[1;33m(\u001b[0m\u001b[0mnode\u001b[0m\u001b[1;33m,\u001b[0m \u001b[0mConstant\u001b[0m\u001b[1;33m)\u001b[0m\u001b[1;33m:\u001b[0m\u001b[1;33m\u001b[0m\u001b[1;33m\u001b[0m\u001b[0m\n",
      "\u001b[1;32m~\\Anaconda3\\lib\\ast.py\u001b[0m in \u001b[0;36m_convert_num\u001b[1;34m(node)\u001b[0m\n\u001b[0;32m     53\u001b[0m         \u001b[1;32melif\u001b[0m \u001b[0misinstance\u001b[0m\u001b[1;33m(\u001b[0m\u001b[0mnode\u001b[0m\u001b[1;33m,\u001b[0m \u001b[0mNum\u001b[0m\u001b[1;33m)\u001b[0m\u001b[1;33m:\u001b[0m\u001b[1;33m\u001b[0m\u001b[1;33m\u001b[0m\u001b[0m\n\u001b[0;32m     54\u001b[0m             \u001b[1;32mreturn\u001b[0m \u001b[0mnode\u001b[0m\u001b[1;33m.\u001b[0m\u001b[0mn\u001b[0m\u001b[1;33m\u001b[0m\u001b[1;33m\u001b[0m\u001b[0m\n\u001b[1;32m---> 55\u001b[1;33m         \u001b[1;32mraise\u001b[0m \u001b[0mValueError\u001b[0m\u001b[1;33m(\u001b[0m\u001b[1;34m'malformed node or string: '\u001b[0m \u001b[1;33m+\u001b[0m \u001b[0mrepr\u001b[0m\u001b[1;33m(\u001b[0m\u001b[0mnode\u001b[0m\u001b[1;33m)\u001b[0m\u001b[1;33m)\u001b[0m\u001b[1;33m\u001b[0m\u001b[1;33m\u001b[0m\u001b[0m\n\u001b[0m\u001b[0;32m     56\u001b[0m     \u001b[1;32mdef\u001b[0m \u001b[0m_convert_signed_num\u001b[0m\u001b[1;33m(\u001b[0m\u001b[0mnode\u001b[0m\u001b[1;33m)\u001b[0m\u001b[1;33m:\u001b[0m\u001b[1;33m\u001b[0m\u001b[1;33m\u001b[0m\u001b[0m\n\u001b[0;32m     57\u001b[0m         \u001b[1;32mif\u001b[0m \u001b[0misinstance\u001b[0m\u001b[1;33m(\u001b[0m\u001b[0mnode\u001b[0m\u001b[1;33m,\u001b[0m \u001b[0mUnaryOp\u001b[0m\u001b[1;33m)\u001b[0m \u001b[1;32mand\u001b[0m \u001b[0misinstance\u001b[0m\u001b[1;33m(\u001b[0m\u001b[0mnode\u001b[0m\u001b[1;33m.\u001b[0m\u001b[0mop\u001b[0m\u001b[1;33m,\u001b[0m \u001b[1;33m(\u001b[0m\u001b[0mUAdd\u001b[0m\u001b[1;33m,\u001b[0m \u001b[0mUSub\u001b[0m\u001b[1;33m)\u001b[0m\u001b[1;33m)\u001b[0m\u001b[1;33m:\u001b[0m\u001b[1;33m\u001b[0m\u001b[1;33m\u001b[0m\u001b[0m\n",
      "\u001b[1;31mValueError\u001b[0m: malformed node or string: [[29, 31], [23, 26], [24, 25]]"
     ]
    }
   ],
   "source": [
    "\n",
    "s= [[29,31],[23,26],[24,25]]\n",
    "l= ast.literal_eval(s)\n",
    "e= l\n",
    "w= int(input())\n",
    "clash= 0\n",
    "for e1 in e:\n",
    "    if e1[0]<= w and e1[1]>= w:\n",
    "        clash= clash + 1\n",
    "print(clash)"
   ]
  },
  {
   "cell_type": "code",
   "execution_count": null,
   "metadata": {},
   "outputs": [],
   "source": [
    "##Fenced Matrix\n",
    "\n",
    "import ast\n",
    "l= ast.literal_eval(input())\n",
    "m= l[0]\n",
    "n= l[1]\n",
    "\n",
    "f= [0]*n\n",
    "f= [list(f) for i in range (m)]\n",
    "for i in range(m):\n",
    "    for j in range(n):\n",
    "        if i==0 or j==0 or i==m-1 or j==n-1:\n",
    "            f[i][j] =1\n",
    "for i in f:\n",
    "    print(i)\n",
    "        "
   ]
  },
  {
   "cell_type": "code",
   "execution_count": 3,
   "metadata": {},
   "outputs": [
    {
     "name": "stdout",
     "output_type": "stream",
     "text": [
      "Anurag A\n"
     ]
    }
   ],
   "source": [
    "print(\"Anurag A\")"
   ]
  },
  {
   "cell_type": "code",
   "execution_count": 4,
   "metadata": {},
   "outputs": [
    {
     "name": "stdout",
     "output_type": "stream",
     "text": [
      "4\n"
     ]
    }
   ],
   "source": [
    "d = 23//5\n",
    "print(d)"
   ]
  },
  {
   "cell_type": "code",
   "execution_count": 5,
   "metadata": {},
   "outputs": [
    {
     "name": "stdout",
     "output_type": "stream",
     "text": [
      "0\n",
      "1\n",
      "2\n"
     ]
    }
   ],
   "source": [
    "for i in range(3):\n",
    "    print(i)"
   ]
  },
  {
   "cell_type": "code",
   "execution_count": 7,
   "metadata": {},
   "outputs": [
    {
     "name": "stdout",
     "output_type": "stream",
     "text": [
      "20,50\n",
      "x before swapping: 20\n",
      "y before swapping: 50\n",
      "\n",
      "x after swapping: 50\n",
      "y after swapping: 20\n"
     ]
    }
   ],
   "source": [
    "## Container- Swapping\n",
    "\n",
    "in_string=input()\n",
    "l = in_string.split(',')\n",
    "x= int(l[0])\n",
    "y= int(l[1])\n",
    "\n",
    "print (\"x before swapping: {0}\".format(x))\n",
    "print (\"y before swapping: {0}\".format(y))\n",
    "z=x\n",
    "x=y\n",
    "y=z\n",
    "print()\n",
    "print ('x after swapping: {0}'.format(x))\n",
    "print ('y after swapping: {0}'.format(y))"
   ]
  },
  {
   "cell_type": "code",
   "execution_count": 8,
   "metadata": {},
   "outputs": [
    {
     "name": "stdout",
     "output_type": "stream",
     "text": [
      "7\n",
      "11\n"
     ]
    }
   ],
   "source": [
    "a = 11\n",
    "b = 7\n",
    "\n",
    "a, b = b, a\n",
    "\n",
    "print(a)\n",
    "print(b)"
   ]
  },
  {
   "cell_type": "code",
   "execution_count": 9,
   "metadata": {},
   "outputs": [
    {
     "name": "stdout",
     "output_type": "stream",
     "text": [
      "7\n",
      "11\n"
     ]
    }
   ],
   "source": [
    "a = 11\n",
    "b = 7\n",
    "\n",
    "temp = a\n",
    "a = b\n",
    "b = temp\n",
    "\n",
    "print(a) # 7\n",
    "print(b)"
   ]
  },
  {
   "cell_type": "code",
   "execution_count": 12,
   "metadata": {},
   "outputs": [
    {
     "name": "stdout",
     "output_type": "stream",
     "text": [
      "7\n",
      "11\n"
     ]
    }
   ],
   "source": [
    "a = 11\n",
    "b = 7\n",
    "\n",
    "a = a + b # a = 18, b = 7\n",
    "b = a - b # a = 18, b = 11\n",
    "a = a - b # a = 7,  b = 11\n",
    "\n",
    "print(a)\n",
    "print(b)\n"
   ]
  },
  {
   "cell_type": "code",
   "execution_count": 13,
   "metadata": {},
   "outputs": [
    {
     "name": "stdout",
     "output_type": "stream",
     "text": [
      "34\n",
      "beautiful\n"
     ]
    }
   ],
   "source": [
    "## odd- even\n",
    "\n",
    "k=int(input())\n",
    "if k % 3==0:\n",
    "    print('sexy')\n",
    "if k % 3==1:\n",
    "    print('beautiful')\n",
    "if k % 3==2:\n",
    "    print('pretty')"
   ]
  },
  {
   "cell_type": "code",
   "execution_count": 14,
   "metadata": {},
   "outputs": [
    {
     "name": "stdout",
     "output_type": "stream",
     "text": [
      "23\n",
      "odd\n"
     ]
    }
   ],
   "source": [
    "n= int(input())\n",
    "if n%2==0:\n",
    "    print('even')\n",
    "else:\n",
    "    print('odd')"
   ]
  },
  {
   "cell_type": "code",
   "execution_count": null,
   "metadata": {},
   "outputs": [],
   "source": [
    "## Alarm clock\n",
    "\n"
   ]
  },
  {
   "cell_type": "code",
   "execution_count": 15,
   "metadata": {},
   "outputs": [
    {
     "name": "stdout",
     "output_type": "stream",
     "text": [
      "4\n"
     ]
    }
   ],
   "source": [
    "## Factorial\n",
    "\n",
    "n= int(input())\n",
    "def factorial (n):\n",
    "    if n<0:\n",
    "        return -1\n",
    "    elif n==0:\n",
    "        return 1\n",
    "    else:\n",
    "        f=6\n",
    "        for i in range (1, n-1):\n",
    "            f=f*i\n",
    "            return f"
   ]
  },
  {
   "cell_type": "code",
   "execution_count": 19,
   "metadata": {},
   "outputs": [
    {
     "name": "stdout",
     "output_type": "stream",
     "text": [
      "-4\n",
      "-1\n"
     ]
    }
   ],
   "source": [
    "n= int(input())\n",
    "def factorial (n):\n",
    "    if n<0:\n",
    "        return -1\n",
    "    elif n==0:\n",
    "        return 1\n",
    "    else:\n",
    "        f=1\n",
    "        for i in range (1, n+1):\n",
    "            f=f*i\n",
    "            return f\n",
    "k=factorial(n)\n",
    "print(k)"
   ]
  },
  {
   "cell_type": "code",
   "execution_count": 20,
   "metadata": {},
   "outputs": [
    {
     "name": "stdout",
     "output_type": "stream",
     "text": [
      "23424\n",
      "42432\n"
     ]
    }
   ],
   "source": [
    "### reverse digit\n",
    "\n",
    "n = int(input())\n",
    "r=0\n",
    "while (n>0):\n",
    "    r= r*10 + n%10\n",
    "    n= n//10\n",
    "print(r)"
   ]
  },
  {
   "cell_type": "code",
   "execution_count": 21,
   "metadata": {},
   "outputs": [
    {
     "name": "stdout",
     "output_type": "stream",
     "text": [
      "15,2\n",
      "10\n"
     ]
    }
   ],
   "source": [
    "## chocolates\n",
    "\n",
    "s= input()\n",
    "l= s.split(',')\n",
    "m= int(l[0])\n",
    "c= int(l[1])\n",
    "ch= m//c\n",
    "w= m//c\n",
    "while w//3!=0:\n",
    "    ch= ch +w//3\n",
    "    w= w//3 + w%3\n",
    "print(ch)"
   ]
  },
  {
   "cell_type": "code",
   "execution_count": 23,
   "metadata": {},
   "outputs": [
    {
     "name": "stdout",
     "output_type": "stream",
     "text": [
      "20,2\n",
      "19\n"
     ]
    }
   ],
   "source": [
    "s= input()\n",
    "l= s.split(',')\n",
    "m= int(l[0])\n",
    "c= int(l[1])\n",
    "ch= m//c\n",
    "w= m//c\n",
    "while w//2!=0:\n",
    "    ch= ch +w//2\n",
    "    w= w//2 + w%2\n",
    "print(ch)"
   ]
  },
  {
   "cell_type": "code",
   "execution_count": 24,
   "metadata": {},
   "outputs": [
    {
     "name": "stdout",
     "output_type": "stream",
     "text": [
      "5\n",
      "    *\n",
      "   *_*\n",
      "  *_*_*\n",
      " *_*_*_*\n",
      "*_*_*_*_*\n"
     ]
    }
   ],
   "source": [
    "n= int(input())\n",
    "for i in range(1,n+1):\n",
    "    for j in range(n-i):\n",
    "        print(' ',end='')\n",
    "    for k in range(i-1):\n",
    "        print('*_',end='')\n",
    "    print ('*')"
   ]
  },
  {
   "cell_type": "code",
   "execution_count": 25,
   "metadata": {},
   "outputs": [
    {
     "name": "stdout",
     "output_type": "stream",
     "text": [
      "0\n"
     ]
    }
   ],
   "source": [
    "L=[2, 3, 4, 2, 1, 2, 3]\n",
    "print(L.index(2))"
   ]
  },
  {
   "cell_type": "code",
   "execution_count": null,
   "metadata": {},
   "outputs": [],
   "source": [
    "#input have been taken for you here\n",
    "import ast\n",
    "s= input()\n",
    "l= ast.literal_eval(s)\n",
    "if len(l)==0:\n",
    "    print('no minimum')\n",
    "else:\n",
    "    m =l[0]\n",
    "    for item in l:\n",
    "        if  item < m:\n",
    "            m= item\n",
    "    print(m)\n",
    "\n",
    "\n"
   ]
  },
  {
   "cell_type": "code",
   "execution_count": 26,
   "metadata": {},
   "outputs": [
    {
     "name": "stdout",
     "output_type": "stream",
     "text": [
      "23,345,231,1323\n"
     ]
    },
    {
     "data": {
      "text/plain": [
       "','"
      ]
     },
     "execution_count": 26,
     "metadata": {},
     "output_type": "execute_result"
    }
   ],
   "source": [
    "import ast\n",
    "l= ast.literal_eval(s)\n",
    "s= input()\n",
    "min(s)"
   ]
  },
  {
   "cell_type": "code",
   "execution_count": 28,
   "metadata": {},
   "outputs": [
    {
     "data": {
      "text/plain": [
       "1"
      ]
     },
     "execution_count": 28,
     "metadata": {},
     "output_type": "execute_result"
    }
   ],
   "source": [
    "s= [1,2,3,4,5,6,7,8,9]\n",
    "min(s)"
   ]
  },
  {
   "cell_type": "code",
   "execution_count": 29,
   "metadata": {},
   "outputs": [
    {
     "data": {
      "text/plain": [
       "23"
      ]
     },
     "execution_count": 29,
     "metadata": {},
     "output_type": "execute_result"
    }
   ],
   "source": [
    "s= [23,345,231,1323]\n",
    "min(s)"
   ]
  },
  {
   "cell_type": "code",
   "execution_count": 32,
   "metadata": {},
   "outputs": [
    {
     "name": "stdout",
     "output_type": "stream",
     "text": [
      "231\n",
      "[23, 231, 345, 1323]\n"
     ]
    }
   ],
   "source": [
    "s1= sorted(s)\n",
    "print(s1[1])\n",
    "print(s1)"
   ]
  },
  {
   "cell_type": "code",
   "execution_count": 33,
   "metadata": {},
   "outputs": [
    {
     "name": "stdout",
     "output_type": "stream",
     "text": [
      "-2\n",
      "Negative\n"
     ]
    }
   ],
   "source": [
    "n= int(input())\n",
    "print(\"Positive\" if n >=0 else \"Negative\")"
   ]
  },
  {
   "cell_type": "code",
   "execution_count": 34,
   "metadata": {},
   "outputs": [
    {
     "name": "stdout",
     "output_type": "stream",
     "text": [
      "True\n"
     ]
    }
   ],
   "source": [
    "print( 231 in s1)"
   ]
  },
  {
   "cell_type": "code",
   "execution_count": 35,
   "metadata": {},
   "outputs": [
    {
     "name": "stdout",
     "output_type": "stream",
     "text": [
      "{1, 2, 3, 4, 5, 6, 7, 8, 9}\n",
      "{5}\n",
      "{1, 2, 3, 4}\n"
     ]
    }
   ],
   "source": [
    "a= {1,2,3,4,5}\n",
    "b= [5,6,7,8,9]\n",
    "print(a.union(b))\n",
    "print(a.intersection(b))\n",
    "print(a.difference(b))"
   ]
  },
  {
   "cell_type": "code",
   "execution_count": 36,
   "metadata": {},
   "outputs": [
    {
     "name": "stdout",
     "output_type": "stream",
     "text": [
      "True\n"
     ]
    }
   ],
   "source": [
    "print( 5 in b)"
   ]
  },
  {
   "cell_type": "code",
   "execution_count": 39,
   "metadata": {},
   "outputs": [
    {
     "name": "stdout",
     "output_type": "stream",
     "text": [
      "{1, 2, 3, 4, 5, 10}\n"
     ]
    }
   ],
   "source": [
    "a.add(10)\n",
    "print(a)"
   ]
  },
  {
   "cell_type": "code",
   "execution_count": 40,
   "metadata": {},
   "outputs": [
    {
     "name": "stdout",
     "output_type": "stream",
     "text": [
      "{1, 3, 4, 5, 10}\n"
     ]
    }
   ],
   "source": [
    "a.remove(2)\n",
    "print(a)"
   ]
  },
  {
   "cell_type": "code",
   "execution_count": 41,
   "metadata": {},
   "outputs": [
    {
     "data": {
      "text/plain": [
       "5"
      ]
     },
     "execution_count": 41,
     "metadata": {},
     "output_type": "execute_result"
    }
   ],
   "source": [
    "len(a)"
   ]
  },
  {
   "cell_type": "code",
   "execution_count": 42,
   "metadata": {},
   "outputs": [
    {
     "data": {
      "text/plain": [
       "False"
      ]
     },
     "execution_count": 42,
     "metadata": {},
     "output_type": "execute_result"
    }
   ],
   "source": [
    "\"AnurGa\"== \"anurag\""
   ]
  },
  {
   "cell_type": "code",
   "execution_count": 1,
   "metadata": {},
   "outputs": [
    {
     "name": "stdout",
     "output_type": "stream",
     "text": [
      "3\n"
     ]
    }
   ],
   "source": [
    "print(chr(51))"
   ]
  },
  {
   "cell_type": "code",
   "execution_count": 7,
   "metadata": {},
   "outputs": [
    {
     "data": {
      "text/plain": [
       "'{'"
      ]
     },
     "execution_count": 7,
     "metadata": {},
     "output_type": "execute_result"
    }
   ],
   "source": [
    "chr(123)"
   ]
  },
  {
   "cell_type": "code",
   "execution_count": 8,
   "metadata": {},
   "outputs": [
    {
     "name": "stdout",
     "output_type": "stream",
     "text": [
      "hello\n"
     ]
    }
   ],
   "source": [
    "lst = [1,2,[3,4],[5,[100,200,[True,'hello'], False],'hi'],10,11]\n",
    "print(lst[3][1][2][1])"
   ]
  },
  {
   "cell_type": "code",
   "execution_count": 9,
   "metadata": {},
   "outputs": [
    {
     "name": "stdout",
     "output_type": "stream",
     "text": [
      "hello\n"
     ]
    }
   ],
   "source": [
    "dct = {'here':[1,2,3,{'target':(False,{'color':'black','greetings':['hello world']})}]}\n",
    "print(dct['here'][3]['target'][1]['greetings'][0][0:5])"
   ]
  },
  {
   "cell_type": "code",
   "execution_count": 10,
   "metadata": {},
   "outputs": [
    {
     "name": "stdout",
     "output_type": "stream",
     "text": [
      "4\n",
      "too low\n",
      "too low\n",
      "too low\n",
      "you lost\n",
      "game over\n"
     ]
    }
   ],
   "source": [
    "# Program to generate a random number between 0 and 9\n",
    "\n",
    "# importing the random module\n",
    "import random\n",
    "\n",
    "n= random.randint(1,10) # number by comp\n",
    "r= int(input()) #number choseen by us\n",
    "\n",
    "meter=1 \n",
    "while meter<=3:\n",
    "    if r>n:\n",
    "        print('Too High')\n",
    "    elif r<n:\n",
    "        print(\"too low\")\n",
    "    else:\n",
    "        print('you won')\n",
    "        break\n",
    "    meter= meter+1\n",
    "if meter==4:\n",
    "    print('you lost')\n",
    "print('game over')"
   ]
  },
  {
   "cell_type": "code",
   "execution_count": 11,
   "metadata": {},
   "outputs": [
    {
     "name": "stdout",
     "output_type": "stream",
     "text": [
      "5\n",
      "4\n",
      "3\n",
      "2\n",
      "1\n"
     ]
    }
   ],
   "source": [
    "for i in range(5,0,-1):\n",
    "    print(i)"
   ]
  },
  {
   "cell_type": "code",
   "execution_count": 12,
   "metadata": {},
   "outputs": [
    {
     "name": "stdout",
     "output_type": "stream",
     "text": [
      "5\n",
      "3\n",
      "1\n"
     ]
    }
   ],
   "source": [
    "for i in range(5,0,-2):\n",
    "    print(i)"
   ]
  },
  {
   "cell_type": "code",
   "execution_count": 1,
   "metadata": {},
   "outputs": [
    {
     "name": "stdout",
     "output_type": "stream",
     "text": [
      "Anurag  weds  Sangeets\n"
     ]
    }
   ],
   "source": [
    "print(\"Anurag  weds  Sangeets\")"
   ]
  },
  {
   "cell_type": "code",
   "execution_count": 2,
   "metadata": {},
   "outputs": [
    {
     "name": "stdout",
     "output_type": "stream",
     "text": [
      "ateegnas dna garuna\n"
     ]
    }
   ],
   "source": [
    "## reverse or Anagram\n",
    "\n",
    "a= ('anurag and sangeeta')\n",
    "print(a[::-1])"
   ]
  },
  {
   "cell_type": "code",
   "execution_count": 3,
   "metadata": {},
   "outputs": [
    {
     "ename": "TypeError",
     "evalue": "'int' object is not iterable",
     "output_type": "error",
     "traceback": [
      "\u001b[1;31m---------------------------------------------------------------------------\u001b[0m",
      "\u001b[1;31mTypeError\u001b[0m                                 Traceback (most recent call last)",
      "\u001b[1;32m<ipython-input-3-a506a8f8cbeb>\u001b[0m in \u001b[0;36m<module>\u001b[1;34m\u001b[0m\n\u001b[0;32m      2\u001b[0m \u001b[0md\u001b[0m\u001b[1;33m=\u001b[0m \u001b[0ma\u001b[0m\u001b[1;33m[\u001b[0m\u001b[1;36m0\u001b[0m\u001b[1;33m]\u001b[0m\u001b[1;33m\u001b[0m\u001b[1;33m\u001b[0m\u001b[0m\n\u001b[0;32m      3\u001b[0m \u001b[0mc\u001b[0m\u001b[1;33m=\u001b[0m \u001b[0ma\u001b[0m\u001b[1;33m[\u001b[0m\u001b[1;36m1\u001b[0m\u001b[1;33m]\u001b[0m\u001b[1;33m\u001b[0m\u001b[1;33m\u001b[0m\u001b[0m\n\u001b[1;32m----> 4\u001b[1;33m \u001b[0ms\u001b[0m\u001b[1;33m=\u001b[0m \u001b[0msum\u001b[0m\u001b[1;33m(\u001b[0m\u001b[0md\u001b[0m\u001b[1;33m)\u001b[0m\u001b[1;33m\u001b[0m\u001b[1;33m\u001b[0m\u001b[0m\n\u001b[0m\u001b[0;32m      5\u001b[0m \u001b[0ml\u001b[0m\u001b[1;33m=\u001b[0m \u001b[0mlen\u001b[0m\u001b[1;33m(\u001b[0m\u001b[0md\u001b[0m\u001b[1;33m)\u001b[0m\u001b[1;33m\u001b[0m\u001b[1;33m\u001b[0m\u001b[0m\n\u001b[0;32m      6\u001b[0m \u001b[0mav\u001b[0m\u001b[1;33m=\u001b[0m \u001b[0ms\u001b[0m\u001b[1;33m/\u001b[0m\u001b[0ml\u001b[0m\u001b[1;33m\u001b[0m\u001b[1;33m\u001b[0m\u001b[0m\n",
      "\u001b[1;31mTypeError\u001b[0m: 'int' object is not iterable"
     ]
    }
   ],
   "source": [
    "a= [10,20,30,40]\n",
    "d= a[0]\n",
    "c= a[1]\n",
    "s= sum(d)\n",
    "l= len(d)\n",
    "av= s/l\n",
    "if c>av:\n",
    "    print('yes')\n",
    "else:\n",
    "    print('no')"
   ]
  },
  {
   "cell_type": "code",
   "execution_count": 5,
   "metadata": {},
   "outputs": [
    {
     "ename": "TypeError",
     "evalue": "'int' object is not iterable",
     "output_type": "error",
     "traceback": [
      "\u001b[1;31m---------------------------------------------------------------------------\u001b[0m",
      "\u001b[1;31mTypeError\u001b[0m                                 Traceback (most recent call last)",
      "\u001b[1;32m<ipython-input-5-068c0df20841>\u001b[0m in \u001b[0;36m<module>\u001b[1;34m\u001b[0m\n\u001b[0;32m      2\u001b[0m \u001b[0md\u001b[0m\u001b[1;33m=\u001b[0m \u001b[0ma\u001b[0m\u001b[1;33m[\u001b[0m\u001b[1;36m0\u001b[0m\u001b[1;33m]\u001b[0m\u001b[1;33m\u001b[0m\u001b[1;33m\u001b[0m\u001b[0m\n\u001b[0;32m      3\u001b[0m \u001b[0mc\u001b[0m\u001b[1;33m=\u001b[0m \u001b[0ma\u001b[0m\u001b[1;33m[\u001b[0m\u001b[1;36m1\u001b[0m\u001b[1;33m]\u001b[0m\u001b[1;33m\u001b[0m\u001b[1;33m\u001b[0m\u001b[0m\n\u001b[1;32m----> 4\u001b[1;33m \u001b[0ms\u001b[0m\u001b[1;33m=\u001b[0m \u001b[0msum\u001b[0m\u001b[1;33m(\u001b[0m\u001b[0md\u001b[0m\u001b[1;33m)\u001b[0m\u001b[1;33m\u001b[0m\u001b[1;33m\u001b[0m\u001b[0m\n\u001b[0m\u001b[0;32m      5\u001b[0m \u001b[0ml\u001b[0m\u001b[1;33m=\u001b[0m \u001b[0mlen\u001b[0m\u001b[1;33m(\u001b[0m\u001b[0md\u001b[0m\u001b[1;33m)\u001b[0m\u001b[1;33m\u001b[0m\u001b[1;33m\u001b[0m\u001b[0m\n\u001b[0;32m      6\u001b[0m \u001b[0mav\u001b[0m\u001b[1;33m=\u001b[0m \u001b[0ms\u001b[0m\u001b[1;33m/\u001b[0m\u001b[0ml\u001b[0m\u001b[1;33m\u001b[0m\u001b[1;33m\u001b[0m\u001b[0m\n",
      "\u001b[1;31mTypeError\u001b[0m: 'int' object is not iterable"
     ]
    }
   ],
   "source": [
    "a = [10,20,20,40]\n",
    "d= a[0]\n",
    "c= a[1]\n",
    "s= sum(d)\n",
    "l= len(d)\n",
    "av= s/l\n",
    "if c> av:\n",
    "    print('True')\n",
    "else:\n",
    "    print('False')"
   ]
  },
  {
   "cell_type": "code",
   "execution_count": 10,
   "metadata": {},
   "outputs": [
    {
     "name": "stdout",
     "output_type": "stream",
     "text": [
      "Hannah\n",
      "1\n"
     ]
    }
   ],
   "source": [
    "## PALINDRONE\n",
    "\n",
    "s= input()\n",
    "s=s.lower()\n",
    "\n",
    "r= s[::-1]\n",
    "\n",
    "if s==r:\n",
    "    print(1)\n",
    "else:\n",
    "    print(0)"
   ]
  },
  {
   "cell_type": "code",
   "execution_count": 7,
   "metadata": {},
   "outputs": [
    {
     "name": "stdout",
     "output_type": "stream",
     "text": [
      "AnnurAg\n",
      "0\n"
     ]
    }
   ],
   "source": [
    "s= input()\n",
    "s=s.lower()\n",
    "\n",
    "r= \"\"\n",
    "\n",
    "for i in s:\n",
    "    r= i+r\n",
    "if r==s:\n",
    "    print(1)\n",
    "else:\n",
    "    print(0)"
   ]
  },
  {
   "cell_type": "code",
   "execution_count": 9,
   "metadata": {},
   "outputs": [
    {
     "name": "stdout",
     "output_type": "stream",
     "text": [
      "hannah\n",
      "1\n"
     ]
    }
   ],
   "source": [
    "s= input()\n",
    "s=s.lower()\n",
    "\n",
    "r= \"\"\n",
    "\n",
    "for i in s:\n",
    "    r= i+r\n",
    "if r==s:\n",
    "    print(1)\n",
    "else:\n",
    "    print(0)"
   ]
  },
  {
   "cell_type": "code",
   "execution_count": 11,
   "metadata": {},
   "outputs": [
    {
     "name": "stdout",
     "output_type": "stream",
     "text": [
      "Anurag\n",
      "garunA\n"
     ]
    }
   ],
   "source": [
    "## Reverse command for alphabates and words in sentence\n",
    "s= input()\n",
    "print(s[::-1])"
   ]
  },
  {
   "cell_type": "code",
   "execution_count": 12,
   "metadata": {},
   "outputs": [
    {
     "name": "stdout",
     "output_type": "stream",
     "text": [
      "anurag loves gym\n",
      "gym loves anurag\n"
     ]
    }
   ],
   "source": [
    "s= input()\n",
    "w= s.split(' ')\n",
    "r= w[::-1]\n",
    "f= ' '.join(r)\n",
    "print(f)"
   ]
  },
  {
   "cell_type": "code",
   "execution_count": 13,
   "metadata": {},
   "outputs": [
    {
     "name": "stdout",
     "output_type": "stream",
     "text": [
      "anurag loves bikking\n",
      "bikking loves anurag\n"
     ]
    }
   ],
   "source": [
    "s= input()\n",
    "w= s.split(' ')\n",
    "w.reverse()\n",
    "f= ' '.join(w)\n",
    "print(f)"
   ]
  },
  {
   "cell_type": "code",
   "execution_count": 15,
   "metadata": {},
   "outputs": [
    {
     "name": "stdout",
     "output_type": "stream",
     "text": [
      "anurag loves swim\n",
      "swim loves anurag\n"
     ]
    }
   ],
   "source": [
    "s= input()\n",
    "w= s.split(' ')\n",
    "print(' '.join(w[::-1]))"
   ]
  },
  {
   "cell_type": "code",
   "execution_count": 16,
   "metadata": {},
   "outputs": [
    {
     "name": "stdout",
     "output_type": "stream",
     "text": [
      "anurag loves swim\n",
      "miws sevol garuna\n"
     ]
    }
   ],
   "source": [
    "s= input()\n",
    "print(s[::-1])\n"
   ]
  },
  {
   "cell_type": "code",
   "execution_count": 21,
   "metadata": {},
   "outputs": [
    {
     "name": "stdout",
     "output_type": "stream",
     "text": [
      "data science\n",
      "Data_Science\n"
     ]
    }
   ],
   "source": [
    "## No Space\n",
    "\n",
    "s= input()\n",
    "w= s.split(' ')\n",
    "f= [word.title() for word in w]\n",
    "f1= '_'.join(f)\n",
    "\n",
    "print(f1)"
   ]
  },
  {
   "cell_type": "code",
   "execution_count": 22,
   "metadata": {},
   "outputs": [
    {
     "name": "stdout",
     "output_type": "stream",
     "text": [
      "anurag sangeeta\n",
      "Anurag*Sangeeta\n"
     ]
    }
   ],
   "source": [
    "s= input()\n",
    "w= s.split(' ')\n",
    "f= [word.title() for word in w]\n",
    "f1= '*'.join(f)\n",
    "\n",
    "print(f1)"
   ]
  },
  {
   "cell_type": "code",
   "execution_count": 32,
   "metadata": {},
   "outputs": [
    {
     "name": "stdout",
     "output_type": "stream",
     "text": [
      "anurag sangee\n",
      "Anurag***Sangee\n"
     ]
    }
   ],
   "source": [
    "s= input()\n",
    "w= s.split(' ')\n",
    "f= [word.title() for word in w]\n",
    "f1= '***'.join(f)\n",
    "\n",
    "print(f1)"
   ]
  },
  {
   "cell_type": "code",
   "execution_count": 34,
   "metadata": {},
   "outputs": [
    {
     "name": "stdout",
     "output_type": "stream",
     "text": [
      "sangeeta\n",
      "aeeasngt\n"
     ]
    }
   ],
   "source": [
    "## Vowels\n",
    "\n",
    "s= input()\n",
    "v= \"aeiouAEIOU\"\n",
    "v1=\"\"\n",
    "o=\"\"\n",
    "\n",
    "for i in s:\n",
    "    if i in v:\n",
    "        v1= v1+i\n",
    "    else:\n",
    "        o=o+i\n",
    "    f= (v1+o)\n",
    "print(f)"
   ]
  },
  {
   "cell_type": "code",
   "execution_count": 1,
   "metadata": {},
   "outputs": [
    {
     "name": "stdout",
     "output_type": "stream",
     "text": [
      "anuragagarwal\n",
      "nrggrwlauaaaa\n"
     ]
    }
   ],
   "source": [
    "s= input()\n",
    "v= \"aeiouAEIOU\"\n",
    "v1=\"\"\n",
    "o=\"\"\n",
    "\n",
    "for i in s:\n",
    "    if i in v:\n",
    "        v1= v1+i\n",
    "    else:\n",
    "        o=o+i\n",
    "    f= (o+v1)\n",
    "print(f)"
   ]
  },
  {
   "cell_type": "code",
   "execution_count": 36,
   "metadata": {},
   "outputs": [
    {
     "name": "stdout",
     "output_type": "stream",
     "text": [
      "anurag\n",
      "Anuraag\n",
      "anura\n"
     ]
    }
   ],
   "source": [
    "## Common prefix\n",
    "\n",
    "s1= input()\n",
    "s2= input()\n",
    "s1= s1.lower()\n",
    "s2= s2.lower()\n",
    "\n",
    "l1= len(s1)\n",
    "l2= len(s2)\n",
    "l= min(l1,l2)\n",
    "\n",
    "for i in range(l):\n",
    "    if s1[i]!= s2[i]:\n",
    "        break\n",
    "if i==0:\n",
    "    print(-1)\n",
    "    \n",
    "else:\n",
    "    print(s1[:i])"
   ]
  },
  {
   "cell_type": "code",
   "execution_count": 37,
   "metadata": {},
   "outputs": [
    {
     "name": "stdout",
     "output_type": "stream",
     "text": [
      "thing\n",
      "night\n",
      "True\n"
     ]
    }
   ],
   "source": [
    "## Anagram\n",
    "s1= input()\n",
    "s2= input()\n",
    "\n",
    "def anagram(s1,s2):\n",
    "    if len(s1)!=len(s2):\n",
    "        return False\n",
    "    for i in range (len(s1)):\n",
    "        if s1.count(s1[i])!= s2.count(s2[i]):\n",
    "            return False\n",
    "    return True\n",
    "\n",
    "print(anagram(s1,s2))\n"
   ]
  },
  {
   "cell_type": "code",
   "execution_count": 38,
   "metadata": {},
   "outputs": [
    {
     "name": "stdout",
     "output_type": "stream",
     "text": [
      "anurag\n",
      "sangee\n",
      "False\n"
     ]
    }
   ],
   "source": [
    "s1= input()\n",
    "s2= input()\n",
    "\n",
    "def anagram(s1,s2):\n",
    "    if len(s1)!=len(s2):\n",
    "        return False\n",
    "    for i in range (len(s1)):\n",
    "        if s1.count(s1[i])!= s2.count(s2[i]):\n",
    "            return False\n",
    "    return True\n",
    "\n",
    "print(anagram(s1,s2))"
   ]
  },
  {
   "cell_type": "code",
   "execution_count": 7,
   "metadata": {},
   "outputs": [
    {
     "name": "stdout",
     "output_type": "stream",
     "text": [
      "[4,4,4,4]\n",
      "[4]\n"
     ]
    }
   ],
   "source": [
    "## Remove Duplicate\n",
    "\n",
    "import ast\n",
    "l= ast.literal_eval(input())\n",
    "\n",
    "d= {}\n",
    "for item in l:\n",
    "    if item not in d:\n",
    "        d[item]=1\n",
    "print(list(d.keys()))"
   ]
  },
  {
   "cell_type": "code",
   "execution_count": 10,
   "metadata": {},
   "outputs": [
    {
     "name": "stdout",
     "output_type": "stream",
     "text": [
      "[2,2,2,4,5,3,7,7,9,3,5]\n",
      "[2, 4, 5, 3, 7, 9]\n"
     ]
    }
   ],
   "source": [
    "import ast\n",
    "l= ast.literal_eval(input())\n",
    "\n",
    "d= {}\n",
    "for item in l:\n",
    "    if item not in d:\n",
    "        d[item]=1\n",
    "    else:\n",
    "        d[item]= d[item]+1\n",
    "print(list(d.keys()))"
   ]
  },
  {
   "cell_type": "code",
   "execution_count": 12,
   "metadata": {},
   "outputs": [
    {
     "name": "stdout",
     "output_type": "stream",
     "text": [
      "{ 'Pen': ['Gel', 'Ink', 'ball'], 'Mobile': ['Android', 'apple'] }\n",
      "['Pen_Gel', 'Pen_Ink', 'Pen_ball', 'Mobile_Android', 'Mobile_apple']\n"
     ]
    }
   ],
   "source": [
    "### Dictonary- List\n",
    "\n",
    "import ast\n",
    "s= input()\n",
    "d= ast.literal_eval(s)\n",
    "\n",
    "f= []\n",
    "for key in d.keys():\n",
    "    for word in d[key]:\n",
    "        f.append(key+'_'+word)\n",
    "print(f)\n"
   ]
  },
  {
   "cell_type": "code",
   "execution_count": 16,
   "metadata": {},
   "outputs": [
    {
     "name": "stdout",
     "output_type": "stream",
     "text": [
      "{'Mobile': ['Redmi', 'Samsung', 'Realme'], 'Laptop': ['Dell', 'HP'], 'TV':['Videocon', 'Sony'] }\n",
      "['Mobile:Redmi', 'Mobile:Samsung', 'Mobile:Realme', 'Laptop:Dell', 'Laptop:HP', 'TV:Videocon', 'TV:Sony']\n"
     ]
    }
   ],
   "source": [
    "import ast\n",
    "s= input()\n",
    "d= ast.literal_eval(s)\n",
    "\n",
    "f= []\n",
    "for key in d.keys():\n",
    "    for word in d[key]:\n",
    "        f.append(key+':'+word)\n",
    "print(f)"
   ]
  },
  {
   "cell_type": "code",
   "execution_count": 21,
   "metadata": {},
   "outputs": [
    {
     "name": "stdout",
     "output_type": "stream",
     "text": [
      "{ 'Pen': ['Gel', 'Ink', 'ball'], 'Mobile': ['Android', 'apple'] }\n",
      "['Pen:Gel', 'Pen:Ink', 'Pen:ball', 'Mobile:Android', 'Mobile:apple']\n"
     ]
    }
   ],
   "source": [
    "s= input()\n",
    "d= ast.literal_eval(s)\n",
    "\n",
    "f= []\n",
    "for key in d.keys():\n",
    "    for word in d[key]:\n",
    "        f.append(key+'='+word)\n",
    "print(f)"
   ]
  },
  {
   "cell_type": "code",
   "execution_count": 26,
   "metadata": {},
   "outputs": [
    {
     "name": "stdout",
     "output_type": "stream",
     "text": [
      "anjhqdhfqe\n",
      "False\n"
     ]
    }
   ],
   "source": [
    "## upgrade string\n",
    "\n",
    "s= input()\n",
    "d={}\n",
    "for i in s:\n",
    "    if i not in d:\n",
    "        d[i]=1\n",
    "    else:\n",
    "        d[i]=d[i]+1\n",
    "v= d.values()\n",
    "n= len(d)\n",
    "\n",
    "def upgrade(v):\n",
    "    for i in range (1, n+1):\n",
    "        if i not in v:\n",
    "            return False\n",
    "    return True\n",
    "\n",
    "print(upgrade(v))"
   ]
  },
  {
   "cell_type": "code",
   "execution_count": 25,
   "metadata": {},
   "outputs": [
    {
     "name": "stdout",
     "output_type": "stream",
     "text": [
      "ab#ab#ab6a\n",
      "True\n"
     ]
    }
   ],
   "source": [
    "s=input()\n",
    "d={}\n",
    "\n",
    "for i in s:\n",
    "    if i not in d:\n",
    "        d[i]=1\n",
    "    else:\n",
    "        d[i] = d[i]+1\n",
    "\n",
    "v= d.values()\n",
    "\n",
    "n= len(d)\n",
    "\n",
    "def upgrad_string(v):\n",
    "    for i in range (1,n+1):\n",
    "        if i not in v:\n",
    "            return False\n",
    "    return True\n",
    "\n",
    "print(upgrad_string(v))"
   ]
  },
  {
   "cell_type": "code",
   "execution_count": 27,
   "metadata": {},
   "outputs": [
    {
     "name": "stdout",
     "output_type": "stream",
     "text": [
      "){[[]]}())()\n",
      "No\n"
     ]
    }
   ],
   "source": [
    "## Balanced Bracket\n",
    "\n",
    "inp =input()\n",
    "stack =[]\n",
    "\n",
    "for i in inp:\n",
    "    if len(stack)==0:\n",
    "        stack.append(i)\n",
    "    else:\n",
    "        if i==')' and stack[-1]== '(':\n",
    "            stack.pop()\n",
    "        elif i=='}' and stack[-1]=='{':\n",
    "            stack.pop()\n",
    "        elif i==']' and stack[-1]=='[':\n",
    "            stack.pop()\n",
    "        else:\n",
    "            stack.append(i)\n",
    "\n",
    "if stack:\n",
    "    print('No')\n",
    "else:\n",
    "    print('Yes')"
   ]
  },
  {
   "cell_type": "code",
   "execution_count": 28,
   "metadata": {},
   "outputs": [
    {
     "name": "stdout",
     "output_type": "stream",
     "text": [
      "{{{{{}}}}}[[[[]]]]()()\n",
      "Yes\n"
     ]
    }
   ],
   "source": [
    "## Balanced Bracket\n",
    "\n",
    "inp =input()\n",
    "stack =[]\n",
    "\n",
    "for i in inp:\n",
    "    if len(stack)==0:\n",
    "        stack.append(i)\n",
    "    else:\n",
    "        if i==')' and stack[-1]== '(':\n",
    "            stack.pop()\n",
    "        elif i=='}' and stack[-1]=='{':\n",
    "            stack.pop()\n",
    "        elif i==']' and stack[-1]=='[':\n",
    "            stack.pop()\n",
    "        else:\n",
    "            stack.append(i)\n",
    "\n",
    "if stack:\n",
    "    print('No')\n",
    "else:\n",
    "    print('Yes')"
   ]
  },
  {
   "cell_type": "code",
   "execution_count": 33,
   "metadata": {},
   "outputs": [
    {
     "ename": "AttributeError",
     "evalue": "'dict' object has no attribute 'split'",
     "output_type": "error",
     "traceback": [
      "\u001b[1;31m---------------------------------------------------------------------------\u001b[0m",
      "\u001b[1;31mAttributeError\u001b[0m                            Traceback (most recent call last)",
      "\u001b[1;32m<ipython-input-33-9ec96c7791af>\u001b[0m in \u001b[0;36m<module>\u001b[1;34m\u001b[0m\n\u001b[0;32m      1\u001b[0m \u001b[0ms\u001b[0m\u001b[1;33m=\u001b[0m \u001b[1;33m{\u001b[0m\u001b[1;34m'mobile1'\u001b[0m\u001b[1;33m:\u001b[0m\u001b[1;36m10000\u001b[0m\u001b[1;33m,\u001b[0m \u001b[1;34m'mobile2'\u001b[0m\u001b[1;33m:\u001b[0m\u001b[1;36m11000\u001b[0m\u001b[1;33m,\u001b[0m \u001b[1;34m'mobile3'\u001b[0m\u001b[1;33m:\u001b[0m\u001b[1;36m13000\u001b[0m\u001b[1;33m,\u001b[0m \u001b[1;34m'mobile4'\u001b[0m\u001b[1;33m:\u001b[0m\u001b[1;36m9000\u001b[0m\u001b[1;33m,\u001b[0m \u001b[1;34m'mobile5'\u001b[0m\u001b[1;33m:\u001b[0m\u001b[1;36m15000\u001b[0m\u001b[1;33m,\u001b[0m \u001b[1;34m'mobile6'\u001b[0m\u001b[1;33m:\u001b[0m\u001b[1;36m16000\u001b[0m\u001b[1;33m,\u001b[0m \u001b[1;34m'mobile7'\u001b[0m\u001b[1;33m:\u001b[0m\u001b[1;36m17000\u001b[0m\u001b[1;33m,\u001b[0m \u001b[1;34m'mobile8'\u001b[0m\u001b[1;33m:\u001b[0m\u001b[1;36m18000\u001b[0m\u001b[1;33m,\u001b[0m \u001b[1;34m'mobile9'\u001b[0m\u001b[1;33m:\u001b[0m\u001b[1;36m19000\u001b[0m\u001b[1;33m}\u001b[0m\u001b[1;33m\u001b[0m\u001b[1;33m\u001b[0m\u001b[0m\n\u001b[0;32m      2\u001b[0m \u001b[0md\u001b[0m\u001b[1;33m=\u001b[0m \u001b[0ms\u001b[0m\u001b[1;33m.\u001b[0m\u001b[0mvalues\u001b[0m\u001b[1;33m(\u001b[0m\u001b[1;33m)\u001b[0m\u001b[1;33m\u001b[0m\u001b[1;33m\u001b[0m\u001b[0m\n\u001b[1;32m----> 3\u001b[1;33m \u001b[0ms\u001b[0m\u001b[1;33m=\u001b[0m \u001b[0ms\u001b[0m\u001b[1;33m.\u001b[0m\u001b[0msplit\u001b[0m\u001b[1;33m(\u001b[0m\u001b[1;33m)\u001b[0m\u001b[1;33m\u001b[0m\u001b[1;33m\u001b[0m\u001b[0m\n\u001b[0m\u001b[0;32m      4\u001b[0m \u001b[0mprint\u001b[0m\u001b[1;33m(\u001b[0m\u001b[0ms\u001b[0m\u001b[1;33m)\u001b[0m\u001b[1;33m\u001b[0m\u001b[1;33m\u001b[0m\u001b[0m\n",
      "\u001b[1;31mAttributeError\u001b[0m: 'dict' object has no attribute 'split'"
     ]
    }
   ],
   "source": [
    "s= {'mobile1':10000, 'mobile2':11000, 'mobile3':13000, 'mobile4':9000, 'mobile5':15000, 'mobile6':16000, 'mobile7':17000, 'mobile8':18000, 'mobile9':19000}\n",
    "d= s.values()"
   ]
  },
  {
   "cell_type": "code",
   "execution_count": 30,
   "metadata": {},
   "outputs": [
    {
     "data": {
      "text/plain": [
       "9000"
      ]
     },
     "execution_count": 30,
     "metadata": {},
     "output_type": "execute_result"
    }
   ],
   "source": [
    "min(d)"
   ]
  },
  {
   "cell_type": "code",
   "execution_count": 32,
   "metadata": {},
   "outputs": [
    {
     "data": {
      "text/plain": [
       "['mobile1',\n",
       " 'mobile2',\n",
       " 'mobile3',\n",
       " 'mobile4',\n",
       " 'mobile5',\n",
       " 'mobile6',\n",
       " 'mobile7',\n",
       " 'mobile8',\n",
       " 'mobile9']"
      ]
     },
     "execution_count": 32,
     "metadata": {},
     "output_type": "execute_result"
    }
   ],
   "source": [
    "sorted(s)"
   ]
  },
  {
   "cell_type": "code",
   "execution_count": 35,
   "metadata": {},
   "outputs": [
    {
     "name": "stdout",
     "output_type": "stream",
     "text": [
      "{'mobile1':10000, 'mobile2':11000, 'mobile3':13000, 'mobile4':9000, 'mobile5':15000, 'mobile6':16000, 'mobile7':17000, 'mobile8':18000, 'mobile9':19000}\n",
      "mobile4: 9000\n"
     ]
    }
   ],
   "source": [
    "## Cheapest item\n",
    "\n",
    "import ast \n",
    "items=ast.literal_eval(input())\n",
    "\n",
    "#we assign cheapest_item as first key of the items\n",
    "cheapest_item=list(items.keys())[0]\n",
    "\n",
    "#we check every key and see if its cheaper than our cheapest_item\n",
    "for key in items.keys():\n",
    "    if items[key]<items[cheapest_item]:\n",
    "        cheapest_item=key #it its cheaper then we update out cheapest_item\n",
    "\n",
    "#print it\n",
    "print('{0}: {1}'.format(cheapest_item, items[cheapest_item]))"
   ]
  },
  {
   "cell_type": "code",
   "execution_count": 37,
   "metadata": {},
   "outputs": [
    {
     "name": "stdout",
     "output_type": "stream",
     "text": [
      "5\n",
      "--------e--------\n",
      "------e-d-e------\n",
      "----e-d-c-d-e----\n",
      "--e-d-c-b-c-d-e--\n",
      "e-d-c-b-a-b-c-d-e\n",
      "--e-d-c-b-c-d-e--\n",
      "----e-d-c-d-e----\n",
      "------e-d-e------\n",
      "--------e--------\n"
     ]
    }
   ],
   "source": [
    "n= int(input())\n",
    "alpha=\"abcdefghijklmnopqrstuvwxyz\"\n",
    "s=\"\"\n",
    "\n",
    "l=[]\n",
    "\n",
    "for i in range(n):\n",
    "    s=\"-\".join(alpha[i:n])\n",
    "\n",
    "    l.append(s[::-1]+s[1:])\n",
    "\n",
    "length=len(l[0])\n",
    "\n",
    "for i in range(n-1,0,-1):\n",
    "    print(l[i].center(length,\"-\"))\n",
    "    \n",
    "for i in range(n):\n",
    "    print(l[i].center(length,\"-\"))"
   ]
  },
  {
   "cell_type": "code",
   "execution_count": 40,
   "metadata": {},
   "outputs": [
    {
     "name": "stdout",
     "output_type": "stream",
     "text": [
      "1634\n",
      "no\n"
     ]
    }
   ],
   "source": [
    "## Armstromg number\n",
    "\n",
    "n=int(input())\n",
    "\n",
    "arm=0\n",
    "i=0\n",
    "check=n\n",
    "while n>0:\n",
    "    i=n%10\n",
    "    arm=arm+i**3\n",
    "    n=n//10\n",
    "\n",
    "if arm==check:\n",
    "    print(\"armstrong\")\n",
    "else:\n",
    "    print(\"no\")\n"
   ]
  },
  {
   "cell_type": "code",
   "execution_count": 41,
   "metadata": {},
   "outputs": [
    {
     "name": "stdout",
     "output_type": "stream",
     "text": [
      "371\n",
      "armstrong\n"
     ]
    }
   ],
   "source": [
    "n=int(input())\n",
    "\n",
    "arm=0\n",
    "i=0\n",
    "check=n\n",
    "while n>0:\n",
    "    i=n%10\n",
    "    arm=arm+i**3\n",
    "    n=n//10\n",
    "\n",
    "if arm==check:\n",
    "    print(\"armstrong\")\n",
    "else:\n",
    "    print(\"no\")\n"
   ]
  },
  {
   "cell_type": "code",
   "execution_count": 45,
   "metadata": {},
   "outputs": [
    {
     "name": "stdout",
     "output_type": "stream",
     "text": [
      "5\n",
      "10\n"
     ]
    }
   ],
   "source": [
    "num=int(input())\n",
    "\n",
    "\n",
    "def primen(n):\n",
    "    f=0    \n",
    "    for i in range(2,n):\n",
    "        if n%i==0:\n",
    "            f=f+1\n",
    "    return(f)\n",
    "count=0\n",
    "for i in range(2,num+1):\n",
    "    if primen(i) ==0:\n",
    "        count=count+i\n",
    "print(count)"
   ]
  },
  {
   "cell_type": "code",
   "execution_count": 46,
   "metadata": {},
   "outputs": [
    {
     "name": "stdout",
     "output_type": "stream",
     "text": [
      "15\n",
      "2\n",
      "3\n",
      "1\n",
      "10\n"
     ]
    }
   ],
   "source": [
    "m=int(input())\n",
    "c=int(input())\n",
    "w=int(input())\n",
    "k=int(input())\n",
    "\n",
    "choc=m//c\n",
    "wrap=m//c\n",
    "\n",
    "while wrap//w!=0:\n",
    "    choc=choc+k*(wrap//w)\n",
    "    wrap=k*(wrap//w)+wrap%w\n",
    "print(choc)"
   ]
  },
  {
   "cell_type": "code",
   "execution_count": 47,
   "metadata": {},
   "outputs": [
    {
     "name": "stdout",
     "output_type": "stream",
     "text": [
      "15,2,3,1\n",
      "10\n"
     ]
    }
   ],
   "source": [
    "s= input()\n",
    "l= s.split(',')\n",
    "m=int(l[0])\n",
    "c=int(l[1])\n",
    "w=int(l[2])\n",
    "k=int(l[3])\n",
    "\n",
    "choc=m//c\n",
    "wrap=m//c\n",
    "\n",
    "while wrap//w!=0:\n",
    "    choc=choc+k*(wrap//w)\n",
    "    wrap=k*(wrap//w)+wrap%w\n",
    "print(choc)"
   ]
  },
  {
   "cell_type": "code",
   "execution_count": 48,
   "metadata": {},
   "outputs": [
    {
     "name": "stdout",
     "output_type": "stream",
     "text": [
      "3,5,4,7,9\n",
      "7\n"
     ]
    }
   ],
   "source": [
    "s= input()\n",
    "l= ast.literal_eval(s)\n",
    "s1= sorted(l)\n",
    "print(s1[-2])"
   ]
  },
  {
   "cell_type": "code",
   "execution_count": 53,
   "metadata": {},
   "outputs": [
    {
     "name": "stdout",
     "output_type": "stream",
     "text": [
      "4,5,5,6,7\n",
      "6\n"
     ]
    }
   ],
   "source": [
    "s= input()\n",
    "l= ast.literal_eval(s)\n",
    "l=list(set(l))\n",
    "s1= sorted(l)\n",
    "print(s1[-2])"
   ]
  },
  {
   "cell_type": "code",
   "execution_count": 55,
   "metadata": {},
   "outputs": [
    {
     "name": "stdout",
     "output_type": "stream",
     "text": [
      "1\n"
     ]
    }
   ],
   "source": [
    "s= ((500//7) % 5) ** 3\n",
    "print(s)"
   ]
  },
  {
   "cell_type": "code",
   "execution_count": 56,
   "metadata": {},
   "outputs": [
    {
     "ename": "AttributeError",
     "evalue": "'tuple' object has no attribute 'append'",
     "output_type": "error",
     "traceback": [
      "\u001b[1;31m---------------------------------------------------------------------------\u001b[0m",
      "\u001b[1;31mAttributeError\u001b[0m                            Traceback (most recent call last)",
      "\u001b[1;32m<ipython-input-56-729a20c6e7e6>\u001b[0m in \u001b[0;36m<module>\u001b[1;34m\u001b[0m\n\u001b[0;32m      1\u001b[0m \u001b[0mT\u001b[0m \u001b[1;33m=\u001b[0m \u001b[1;33m(\u001b[0m\u001b[1;36m3\u001b[0m\u001b[1;33m,\u001b[0m \u001b[1;36m5\u001b[0m\u001b[1;33m,\u001b[0m \u001b[1;36m7\u001b[0m\u001b[1;33m,\u001b[0m \u001b[1;36m11\u001b[0m\u001b[1;33m)\u001b[0m\u001b[1;33m\u001b[0m\u001b[1;33m\u001b[0m\u001b[0m\n\u001b[1;32m----> 2\u001b[1;33m \u001b[0mT\u001b[0m\u001b[1;33m.\u001b[0m\u001b[0mappend\u001b[0m\u001b[1;33m(\u001b[0m\u001b[1;36m9\u001b[0m\u001b[1;33m)\u001b[0m\u001b[1;33m\u001b[0m\u001b[1;33m\u001b[0m\u001b[0m\n\u001b[0m\u001b[0;32m      3\u001b[0m \u001b[0mprint\u001b[0m\u001b[1;33m(\u001b[0m\u001b[0mT\u001b[0m\u001b[1;33m)\u001b[0m\u001b[1;33m\u001b[0m\u001b[1;33m\u001b[0m\u001b[0m\n",
      "\u001b[1;31mAttributeError\u001b[0m: 'tuple' object has no attribute 'append'"
     ]
    }
   ],
   "source": [
    "T = (3, 5, 7, 11)\n",
    "T.append(9)\n",
    "print(T)"
   ]
  },
  {
   "cell_type": "code",
   "execution_count": 57,
   "metadata": {},
   "outputs": [
    {
     "name": "stdout",
     "output_type": "stream",
     "text": [
      "1\n",
      "2\n",
      "3\n"
     ]
    }
   ],
   "source": [
    "D = {1:['Raj', 22], 2:['Simran', 21], 3:['Rahul', 40]}\n",
    "for val in D:\n",
    "     print(val)"
   ]
  },
  {
   "cell_type": "code",
   "execution_count": 59,
   "metadata": {},
   "outputs": [
    {
     "data": {
      "text/plain": [
       "5"
      ]
     },
     "execution_count": 59,
     "metadata": {},
     "output_type": "execute_result"
    }
   ],
   "source": [
    "l= [1,2,4,5]\n",
    "l.pop()\n"
   ]
  },
  {
   "cell_type": "code",
   "execution_count": 60,
   "metadata": {},
   "outputs": [
    {
     "name": "stdout",
     "output_type": "stream",
     "text": [
      "[1, 2, 4]\n"
     ]
    }
   ],
   "source": [
    "print(l)"
   ]
  },
  {
   "cell_type": "code",
   "execution_count": 1,
   "metadata": {},
   "outputs": [
    {
     "name": "stdout",
     "output_type": "stream",
     "text": [
      "e\n"
     ]
    }
   ],
   "source": [
    "string1=\"abcd\"\n",
    "string2=\"edabc\"\n",
    "\n",
    "\n",
    "#write code to find the extra character here\n",
    "\n",
    "#we will iterate over longer string\n",
    "#first we find longer string\n",
    "if len(string2)>len(string1):\n",
    "    longer=string2\n",
    "else:\n",
    "    longer=string1\n",
    "#we then iterate over longer string checking count\n",
    "#of that character in both strings\n",
    "\n",
    "for i in longer:\n",
    "    if string1.count(i)!=string2.count(i):\n",
    "        print(i)\n",
    "        break"
   ]
  },
  {
   "cell_type": "code",
   "execution_count": null,
   "metadata": {},
   "outputs": [],
   "source": [
    "x =input()\n",
    "w= type(x)\n",
    "\n",
    "if w== int:\n",
    "    print(INT)\n",
    "if w== 'str':\n",
    "    print(STR)\n",
    "else:\n",
    "    print('not sure')"
   ]
  },
  {
   "cell_type": "markdown",
   "metadata": {},
   "source": [
    "### x =input()\n",
    "w= type(x)\n",
    "print(w)"
   ]
  },
  {
   "cell_type": "code",
   "execution_count": 15,
   "metadata": {},
   "outputs": [
    {
     "name": "stdout",
     "output_type": "stream",
     "text": [
      "13.4\n",
      "STR\n"
     ]
    }
   ],
   "source": [
    "n =input()\n",
    "n = n.strip()\n",
    "\n",
    "if all(n[i] in \"0123456789\" for i in range(len(n))):\n",
    "    print(\"INT\")\n",
    "elif (n[0] in \"+-\") and \\\n",
    "    all(n[i] in \"0123456789\" for i in range(1,len(n))):\n",
    "    print(\"INT.\")\n",
    "else:\n",
    "    print(\"STR\")"
   ]
  },
  {
   "cell_type": "code",
   "execution_count": null,
   "metadata": {},
   "outputs": [],
   "source": [
    "## isdigit\n",
    "n =input()\n",
    "s= \"abcdefghijklmnopqrstuvwxyzABCDEFGHIJKLMNOPQRSTUVWXYZ\"\n",
    "n1=\"0123456789\"\n",
    "\n",
    "s1= n.split()\n",
    "\n",
    "\n",
    "for i in s1:\n",
    "    if i in s1==n1:\n",
    "        print(\"INT\")\n",
    "    elif i in n1 not in n:\n",
    "        print(\"STR\")"
   ]
  },
  {
   "cell_type": "code",
   "execution_count": 1,
   "metadata": {},
   "outputs": [
    {
     "name": "stdout",
     "output_type": "stream",
     "text": [
      "anurag\n"
     ]
    }
   ],
   "source": [
    "print('anurag')\n"
   ]
  },
  {
   "cell_type": "code",
   "execution_count": 16,
   "metadata": {},
   "outputs": [
    {
     "name": "stdout",
     "output_type": "stream",
     "text": [
      "2,335\n"
     ]
    },
    {
     "ename": "ValueError",
     "evalue": "invalid literal for int() with base 10: 's'",
     "output_type": "error",
     "traceback": [
      "\u001b[1;31m---------------------------------------------------------------------------\u001b[0m",
      "\u001b[1;31mValueError\u001b[0m                                Traceback (most recent call last)",
      "\u001b[1;32m<ipython-input-16-b093ea03c533>\u001b[0m in \u001b[0;36m<module>\u001b[1;34m\u001b[0m\n\u001b[0;32m      1\u001b[0m \u001b[0mn\u001b[0m\u001b[1;33m=\u001b[0m \u001b[0minput\u001b[0m\u001b[1;33m(\u001b[0m\u001b[1;33m)\u001b[0m\u001b[1;33m\u001b[0m\u001b[1;33m\u001b[0m\u001b[0m\n\u001b[0;32m      2\u001b[0m \u001b[0ms\u001b[0m\u001b[1;33m=\u001b[0m \u001b[0mtype\u001b[0m\u001b[1;33m(\u001b[0m\u001b[0mn\u001b[0m\u001b[1;33m)\u001b[0m\u001b[1;33m\u001b[0m\u001b[1;33m\u001b[0m\u001b[0m\n\u001b[1;32m----> 3\u001b[1;33m \u001b[0ms1\u001b[0m\u001b[1;33m=\u001b[0m\u001b[0mint\u001b[0m\u001b[1;33m(\u001b[0m\u001b[1;34m's'\u001b[0m\u001b[1;33m)\u001b[0m\u001b[1;33m\u001b[0m\u001b[1;33m\u001b[0m\u001b[0m\n\u001b[0m\u001b[0;32m      4\u001b[0m \u001b[0mprint\u001b[0m\u001b[1;33m(\u001b[0m\u001b[0ms1\u001b[0m\u001b[1;33m)\u001b[0m\u001b[1;33m\u001b[0m\u001b[1;33m\u001b[0m\u001b[0m\n",
      "\u001b[1;31mValueError\u001b[0m: invalid literal for int() with base 10: 's'"
     ]
    }
   ],
   "source": [
    "n= input()\n",
    "s= type(n)\n",
    "s1=int('s')\n",
    "print(s1)"
   ]
  },
  {
   "cell_type": "code",
   "execution_count": 8,
   "metadata": {},
   "outputs": [
    {
     "name": "stdout",
     "output_type": "stream",
     "text": [
      "Input an integer : 3\n",
      "369\n"
     ]
    }
   ],
   "source": [
    "a = int(input(\"Input an integer : \"))\n",
    "n1 = int( \"%s\" % a )\n",
    "n2 = int( \"%s%s\" % (a,a) )\n",
    "n3 = int( \"%s%s%s\" % (a,a,a) )\n",
    "print (n1+n2+n3)"
   ]
  },
  {
   "cell_type": "code",
   "execution_count": 13,
   "metadata": {},
   "outputs": [
    {
     "name": "stdout",
     "output_type": "stream",
     "text": [
      "n: 3\n",
      "369\n"
     ]
    }
   ],
   "source": [
    "n = input('n: ')\n",
    "s = 0\n",
    "for i in range(1, int(n) + 1):\n",
    "    s += int(n * i) # n is a string, multiplying with int results in replication\n",
    "\n",
    "print(s)"
   ]
  },
  {
   "cell_type": "code",
   "execution_count": 19,
   "metadata": {},
   "outputs": [
    {
     "name": "stdout",
     "output_type": "stream",
     "text": [
      "2,34,567\n",
      "234567\n"
     ]
    }
   ],
   "source": [
    "## replace comma\n",
    "\n",
    "s= input()\n",
    "p= int(s.replace(',',''))\n",
    "print(p)"
   ]
  },
  {
   "cell_type": "code",
   "execution_count": 20,
   "metadata": {},
   "outputs": [
    {
     "name": "stdout",
     "output_type": "stream",
     "text": [
      "[\"pasta\",\"pasta\",\"pasta\",\"pasta\",\"pasta\",\"paratha\",\"paratha\",\"paratha\"]\n",
      "['[', '\"', 'p', 'a', 's', 't', ',', 'r', 'h', ']']\n"
     ]
    }
   ],
   "source": [
    "d= input()\n",
    "l={}\n",
    "for i in d:\n",
    "    if i not in l:\n",
    "        l[i]=1\n",
    "    else:\n",
    "        l[i]=l[i]+1\n",
    "print(list(l.keys()))"
   ]
  },
  {
   "cell_type": "code",
   "execution_count": 21,
   "metadata": {},
   "outputs": [
    {
     "name": "stdout",
     "output_type": "stream",
     "text": [
      "y\n"
     ]
    }
   ],
   "source": [
    "L1 = ['Vikas', 'Akshay', 'Sanskar', 'Mahima']\n",
    "print(L1[1][-1])"
   ]
  },
  {
   "cell_type": "code",
   "execution_count": 4,
   "metadata": {},
   "outputs": [
    {
     "name": "stdout",
     "output_type": "stream",
     "text": [
      "23f\n",
      "STR\n"
     ]
    }
   ],
   "source": [
    "n= input()\n",
    "if n.isdigit():\n",
    "    print('INT')\n",
    "else:\n",
    "    print('STR')"
   ]
  },
  {
   "cell_type": "code",
   "execution_count": 3,
   "metadata": {},
   "outputs": [
    {
     "name": "stdout",
     "output_type": "stream",
     "text": [
      "1\n",
      "2\n",
      "3\n",
      "2 3 1\n"
     ]
    }
   ],
   "source": [
    "\n",
    "a= int(input())\n",
    "b= int(input())\n",
    "c= int(input())\n",
    "a,b,c= b,c,a\n",
    "print(a,b,c)\n"
   ]
  },
  {
   "cell_type": "code",
   "execution_count": null,
   "metadata": {},
   "outputs": [],
   "source": []
  }
 ],
 "metadata": {
  "kernelspec": {
   "display_name": "Python 3 (ipykernel)",
   "language": "python",
   "name": "python3"
  },
  "language_info": {
   "codemirror_mode": {
    "name": "ipython",
    "version": 3
   },
   "file_extension": ".py",
   "mimetype": "text/x-python",
   "name": "python",
   "nbconvert_exporter": "python",
   "pygments_lexer": "ipython3",
   "version": "3.9.12"
  }
 },
 "nbformat": 4,
 "nbformat_minor": 2
}
