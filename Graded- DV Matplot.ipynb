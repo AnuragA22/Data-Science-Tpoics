{
 "cells": [
  {
   "cell_type": "code",
   "execution_count": 1,
   "id": "2a3ad17d",
   "metadata": {},
   "outputs": [
    {
     "name": "stdout",
     "output_type": "stream",
     "text": [
      "Graded DV Matplotlib\n"
     ]
    }
   ],
   "source": [
    "print('Graded DV Matplotlib')"
   ]
  },
  {
   "cell_type": "code",
   "execution_count": 2,
   "id": "656b9e83",
   "metadata": {},
   "outputs": [],
   "source": [
    "## Files\n",
    "# Marks- m\n",
    "#superstore- s\n",
    "# Dv Graded Q"
   ]
  },
  {
   "cell_type": "code",
   "execution_count": 3,
   "id": "28acdad5",
   "metadata": {},
   "outputs": [],
   "source": [
    "import numpy as np\n",
    "import matplotlib.pyplot as plt\n",
    "import pandas as pd\n",
    "from math import *\n",
    "import seaborn as sns\n",
    "import scipy.stats as stats\n",
    "\n",
    "import warnings\n",
    "warnings.filterwarnings(\"ignore\")\n",
    "\n",
    "import plotly.express as px\n"
   ]
  },
  {
   "cell_type": "code",
   "execution_count": 6,
   "id": "23a4c40f",
   "metadata": {},
   "outputs": [
    {
     "data": {
      "text/html": [
       "<div>\n",
       "<style scoped>\n",
       "    .dataframe tbody tr th:only-of-type {\n",
       "        vertical-align: middle;\n",
       "    }\n",
       "\n",
       "    .dataframe tbody tr th {\n",
       "        vertical-align: top;\n",
       "    }\n",
       "\n",
       "    .dataframe thead th {\n",
       "        text-align: right;\n",
       "    }\n",
       "</style>\n",
       "<table border=\"1\" class=\"dataframe\">\n",
       "  <thead>\n",
       "    <tr style=\"text-align: right;\">\n",
       "      <th></th>\n",
       "      <th>Score A</th>\n",
       "      <th>Score B</th>\n",
       "      <th>Score C</th>\n",
       "      <th>Score D</th>\n",
       "    </tr>\n",
       "  </thead>\n",
       "  <tbody>\n",
       "    <tr>\n",
       "      <th>0</th>\n",
       "      <td>230.1</td>\n",
       "      <td>37.8</td>\n",
       "      <td>69.2</td>\n",
       "      <td>22.1</td>\n",
       "    </tr>\n",
       "    <tr>\n",
       "      <th>1</th>\n",
       "      <td>44.5</td>\n",
       "      <td>39.3</td>\n",
       "      <td>45.1</td>\n",
       "      <td>10.4</td>\n",
       "    </tr>\n",
       "    <tr>\n",
       "      <th>2</th>\n",
       "      <td>17.2</td>\n",
       "      <td>45.9</td>\n",
       "      <td>69.3</td>\n",
       "      <td>12.0</td>\n",
       "    </tr>\n",
       "    <tr>\n",
       "      <th>3</th>\n",
       "      <td>151.5</td>\n",
       "      <td>41.3</td>\n",
       "      <td>58.5</td>\n",
       "      <td>16.5</td>\n",
       "    </tr>\n",
       "    <tr>\n",
       "      <th>4</th>\n",
       "      <td>180.8</td>\n",
       "      <td>10.8</td>\n",
       "      <td>58.4</td>\n",
       "      <td>17.9</td>\n",
       "    </tr>\n",
       "  </tbody>\n",
       "</table>\n",
       "</div>"
      ],
      "text/plain": [
       "   Score A  Score B  Score C  Score D\n",
       "0    230.1     37.8     69.2     22.1\n",
       "1     44.5     39.3     45.1     10.4\n",
       "2     17.2     45.9     69.3     12.0\n",
       "3    151.5     41.3     58.5     16.5\n",
       "4    180.8     10.8     58.4     17.9"
      ]
     },
     "execution_count": 6,
     "metadata": {},
     "output_type": "execute_result"
    }
   ],
   "source": [
    "## marks file\n",
    "\n",
    "m = pd.read_csv('Marks.csv', header=0)\n",
    "\n",
    "m.head()"
   ]
  },
  {
   "cell_type": "code",
   "execution_count": 9,
   "id": "d4753807",
   "metadata": {},
   "outputs": [
    {
     "name": "stdout",
     "output_type": "stream",
     "text": [
      "Graded begins- marks\n"
     ]
    }
   ],
   "source": [
    "print('Graded begins- marks')"
   ]
  },
  {
   "cell_type": "code",
   "execution_count": 10,
   "id": "1697ebc6",
   "metadata": {},
   "outputs": [
    {
     "data": {
      "text/html": [
       "<div>\n",
       "<style scoped>\n",
       "    .dataframe tbody tr th:only-of-type {\n",
       "        vertical-align: middle;\n",
       "    }\n",
       "\n",
       "    .dataframe tbody tr th {\n",
       "        vertical-align: top;\n",
       "    }\n",
       "\n",
       "    .dataframe thead th {\n",
       "        text-align: right;\n",
       "    }\n",
       "</style>\n",
       "<table border=\"1\" class=\"dataframe\">\n",
       "  <thead>\n",
       "    <tr style=\"text-align: right;\">\n",
       "      <th></th>\n",
       "      <th>Score A</th>\n",
       "      <th>Score B</th>\n",
       "      <th>Score C</th>\n",
       "      <th>Score D</th>\n",
       "    </tr>\n",
       "  </thead>\n",
       "  <tbody>\n",
       "    <tr>\n",
       "      <th>0</th>\n",
       "      <td>230.1</td>\n",
       "      <td>37.8</td>\n",
       "      <td>69.2</td>\n",
       "      <td>22.1</td>\n",
       "    </tr>\n",
       "    <tr>\n",
       "      <th>1</th>\n",
       "      <td>44.5</td>\n",
       "      <td>39.3</td>\n",
       "      <td>45.1</td>\n",
       "      <td>10.4</td>\n",
       "    </tr>\n",
       "    <tr>\n",
       "      <th>2</th>\n",
       "      <td>17.2</td>\n",
       "      <td>45.9</td>\n",
       "      <td>69.3</td>\n",
       "      <td>12.0</td>\n",
       "    </tr>\n",
       "    <tr>\n",
       "      <th>3</th>\n",
       "      <td>151.5</td>\n",
       "      <td>41.3</td>\n",
       "      <td>58.5</td>\n",
       "      <td>16.5</td>\n",
       "    </tr>\n",
       "    <tr>\n",
       "      <th>4</th>\n",
       "      <td>180.8</td>\n",
       "      <td>10.8</td>\n",
       "      <td>58.4</td>\n",
       "      <td>17.9</td>\n",
       "    </tr>\n",
       "  </tbody>\n",
       "</table>\n",
       "</div>"
      ],
      "text/plain": [
       "   Score A  Score B  Score C  Score D\n",
       "0    230.1     37.8     69.2     22.1\n",
       "1     44.5     39.3     45.1     10.4\n",
       "2     17.2     45.9     69.3     12.0\n",
       "3    151.5     41.3     58.5     16.5\n",
       "4    180.8     10.8     58.4     17.9"
      ]
     },
     "execution_count": 10,
     "metadata": {},
     "output_type": "execute_result"
    }
   ],
   "source": [
    "## marks file\n",
    "\n",
    "m = pd.read_csv('Marks.csv', header=0)\n",
    "\n",
    "m.head()"
   ]
  },
  {
   "cell_type": "code",
   "execution_count": 11,
   "id": "5a1a2d42",
   "metadata": {},
   "outputs": [
    {
     "data": {
      "text/plain": [
       "Score A    float64\n",
       "Score B    float64\n",
       "Score C    float64\n",
       "Score D    float64\n",
       "dtype: object"
      ]
     },
     "execution_count": 11,
     "metadata": {},
     "output_type": "execute_result"
    }
   ],
   "source": [
    "m.dtypes"
   ]
  },
  {
   "cell_type": "code",
   "execution_count": 12,
   "id": "91594301",
   "metadata": {},
   "outputs": [
    {
     "data": {
      "text/plain": [
       "Score A    0\n",
       "Score B    0\n",
       "Score C    0\n",
       "Score D    0\n",
       "dtype: int64"
      ]
     },
     "execution_count": 12,
     "metadata": {},
     "output_type": "execute_result"
    }
   ],
   "source": [
    "m.isnull().sum()"
   ]
  },
  {
   "cell_type": "code",
   "execution_count": 13,
   "id": "d7c019fb",
   "metadata": {},
   "outputs": [],
   "source": [
    "### Q1) Load the dataset and plot a histogram for the Score A column by keeping the number of bins to 6. Which bin range among the following has the highest frequency?"
   ]
  },
  {
   "cell_type": "code",
   "execution_count": 15,
   "id": "e7e31bdb",
   "metadata": {},
   "outputs": [
    {
     "data": {
      "image/png": "[encoded data removed]",
      "text/plain": [
       "<Figure size 432x288 with 1 Axes>"
      ]
     },
     "metadata": {
      "needs_background": "light"
     },
     "output_type": "display_data"
    }
   ],
   "source": [
    "plt.hist(m['Score A'], bins=6)\n",
    "plt.show()  ##200-250"
   ]
  },
  {
   "cell_type": "code",
   "execution_count": 16,
   "id": "dd251178",
   "metadata": {},
   "outputs": [
    {
     "data": {
      "image/png": "[encoded data removed]",
      "text/plain": [
       "<Figure size 432x288 with 1 Axes>"
      ]
     },
     "metadata": {
      "needs_background": "light"
     },
     "output_type": "display_data"
    }
   ],
   "source": [
    "### Q2) Plot a box plot for the column Score C and choose the correct option.\n",
    "\n",
    "sns.boxplot(m['Score C'])\n",
    "plt.show()"
   ]
  },
  {
   "cell_type": "code",
   "execution_count": 17,
   "id": "a1211a7b",
   "metadata": {},
   "outputs": [
    {
     "data": {
      "image/png": "[encoded data removed]",
      "text/plain": [
       "<Figure size 432x288 with 1 Axes>"
      ]
     },
     "metadata": {
      "needs_background": "light"
     },
     "output_type": "display_data"
    }
   ],
   "source": [
    "plt.boxplot(m['Score C'])\n",
    "plt.show()"
   ]
  },
  {
   "cell_type": "code",
   "execution_count": 18,
   "id": "48ef338a",
   "metadata": {},
   "outputs": [],
   "source": [
    "#A - The 25th percentile lies between 20 and 40 - no\n",
    "#B - The 75th percentile lies between 40 and 60- yes\n",
    "#C - The 25th percentile lies between 0 and 20 -  yes\n",
    "#D - Both B and C"
   ]
  },
  {
   "cell_type": "code",
   "execution_count": 73,
   "id": "96dcb692",
   "metadata": {},
   "outputs": [
    {
     "data": {
      "text/html": [
       "<div>\n",
       "<style scoped>\n",
       "    .dataframe tbody tr th:only-of-type {\n",
       "        vertical-align: middle;\n",
       "    }\n",
       "\n",
       "    .dataframe tbody tr th {\n",
       "        vertical-align: top;\n",
       "    }\n",
       "\n",
       "    .dataframe thead th {\n",
       "        text-align: right;\n",
       "    }\n",
       "</style>\n",
       "<table border=\"1\" class=\"dataframe\">\n",
       "  <thead>\n",
       "    <tr style=\"text-align: right;\">\n",
       "      <th></th>\n",
       "      <th>Order ID</th>\n",
       "      <th>Ship Mode</th>\n",
       "      <th>Segment</th>\n",
       "      <th>Region</th>\n",
       "      <th>Product ID</th>\n",
       "      <th>Sales</th>\n",
       "      <th>Quantity</th>\n",
       "      <th>Discount</th>\n",
       "      <th>Profit</th>\n",
       "    </tr>\n",
       "  </thead>\n",
       "  <tbody>\n",
       "    <tr>\n",
       "      <th>0</th>\n",
       "      <td>CA-2016-152156</td>\n",
       "      <td>Second Class</td>\n",
       "      <td>Consumer</td>\n",
       "      <td>South</td>\n",
       "      <td>FUR-BO-10001798</td>\n",
       "      <td>261.9600</td>\n",
       "      <td>2</td>\n",
       "      <td>0%</td>\n",
       "      <td>41.9136</td>\n",
       "    </tr>\n",
       "    <tr>\n",
       "      <th>1</th>\n",
       "      <td>CA-2016-152156</td>\n",
       "      <td>Second Class</td>\n",
       "      <td>Consumer</td>\n",
       "      <td>South</td>\n",
       "      <td>FUR-CH-10000454</td>\n",
       "      <td>731.9400</td>\n",
       "      <td>3</td>\n",
       "      <td>0%</td>\n",
       "      <td>219.5820</td>\n",
       "    </tr>\n",
       "    <tr>\n",
       "      <th>2</th>\n",
       "      <td>CA-2016-138688</td>\n",
       "      <td>Second Class</td>\n",
       "      <td>Corporate</td>\n",
       "      <td>West</td>\n",
       "      <td>OFF-LA-10000240</td>\n",
       "      <td>14.6200</td>\n",
       "      <td>2</td>\n",
       "      <td>0%</td>\n",
       "      <td>6.8714</td>\n",
       "    </tr>\n",
       "    <tr>\n",
       "      <th>3</th>\n",
       "      <td>US-2015-108966</td>\n",
       "      <td>Standard Class</td>\n",
       "      <td>Consumer</td>\n",
       "      <td>South</td>\n",
       "      <td>FUR-TA-10000577</td>\n",
       "      <td>957.5775</td>\n",
       "      <td>5</td>\n",
       "      <td>0.45%</td>\n",
       "      <td>-383.0310</td>\n",
       "    </tr>\n",
       "    <tr>\n",
       "      <th>4</th>\n",
       "      <td>US-2015-108966</td>\n",
       "      <td>Standard Class</td>\n",
       "      <td>Consumer</td>\n",
       "      <td>South</td>\n",
       "      <td>OFF-ST-10000760</td>\n",
       "      <td>22.3680</td>\n",
       "      <td>2</td>\n",
       "      <td>0.20%</td>\n",
       "      <td>2.5164</td>\n",
       "    </tr>\n",
       "  </tbody>\n",
       "</table>\n",
       "</div>"
      ],
      "text/plain": [
       "         Order ID       Ship Mode    Segment Region       Product ID  \\\n",
       "0  CA-2016-152156    Second Class   Consumer  South  FUR-BO-10001798   \n",
       "1  CA-2016-152156    Second Class   Consumer  South  FUR-CH-10000454   \n",
       "2  CA-2016-138688    Second Class  Corporate   West  OFF-LA-10000240   \n",
       "3  US-2015-108966  Standard Class   Consumer  South  FUR-TA-10000577   \n",
       "4  US-2015-108966  Standard Class   Consumer  South  OFF-ST-10000760   \n",
       "\n",
       "      Sales  Quantity Discount    Profit  \n",
       "0  261.9600         2       0%   41.9136  \n",
       "1  731.9400         3       0%  219.5820  \n",
       "2   14.6200         2       0%    6.8714  \n",
       "3  957.5775         5    0.45% -383.0310  \n",
       "4   22.3680         2    0.20%    2.5164  "
      ]
     },
     "execution_count": 73,
     "metadata": {},
     "output_type": "execute_result"
    }
   ],
   "source": [
    "## superstore data\n",
    "\n",
    "s = pd.read_csv('superstore.csv', header=0)\n",
    "\n",
    "\n",
    "s.head()"
   ]
  },
  {
   "cell_type": "code",
   "execution_count": 22,
   "id": "d93592c7",
   "metadata": {},
   "outputs": [
    {
     "data": {
      "text/plain": [
       "Order ID       object\n",
       "Ship Mode      object\n",
       "Segment        object\n",
       "Region         object\n",
       "Product ID     object\n",
       "Sales         float64\n",
       "Quantity        int64\n",
       "Discount       object\n",
       "Profit        float64\n",
       "dtype: object"
      ]
     },
     "execution_count": 22,
     "metadata": {},
     "output_type": "execute_result"
    }
   ],
   "source": [
    "s.dtypes"
   ]
  },
  {
   "cell_type": "code",
   "execution_count": 24,
   "id": "7b5e12da",
   "metadata": {},
   "outputs": [
    {
     "data": {
      "text/plain": [
       "Order ID      0\n",
       "Ship Mode     0\n",
       "Segment       0\n",
       "Region        0\n",
       "Product ID    0\n",
       "Sales         0\n",
       "Quantity      0\n",
       "Discount      0\n",
       "Profit        0\n",
       "dtype: int64"
      ]
     },
     "execution_count": 24,
     "metadata": {},
     "output_type": "execute_result"
    }
   ],
   "source": [
    "s.isnull().sum()"
   ]
  },
  {
   "cell_type": "code",
   "execution_count": 26,
   "id": "df604737",
   "metadata": {},
   "outputs": [
    {
     "data": {
      "text/plain": [
       "'0%0%0%0.45%0.20%0%0%0.20%0.20%0%0.20%0.20%0.20%0.20%0.80%0.80%0%0%0%0.20%0.20%0%0%0.30%0%0.20%0%0.50%0.70%0.20%0.20%0.20%0.70%0.20%0.20%0.20%0.60%0.20%0.32%0.30%0.20%0.20%0%0.20%0%0%0%0%0%0%0%0%0%0%0%0%0%0.10%0%0%0.20%0%0%0.20%0%0%0.30%0.20%0.20%0%0.20%0%0.20%0.20%0.20%0.80%0.60%0.20%0.60%0%0%0%0%0.20%0.20%0%0%0%0.20%0%0.20%0%0%0%0%0.70%0%0.20%0%0.20%0.20%0.80%0%0.20%0.20%0.70%0.20%0.20%0.20%0.20%0%0%0%0.20%0.20%0.20%0.20%0%0.70%0%0%0%0%0%0.30%0.50%0.70%0.20%0.20%0%0.40%0.20%0.20%0%0%0%0%0.20%0%0%0.20%0%0%0%0%0%0.20%0%0%0%0%0.20%0.20%0%0%0%0%0.20%0%0%0%0.20%0%0.20%0.20%0.40%0.20%0.30%0.20%0.80%0.20%0%0%0.20%0.80%0.20%0.80%0.30%0.20%0%0.20%0.20%0%0%0%0%0%0.20%0.20%0.20%0%0%0.20%0%0%0.20%0.20%0%0.70%0.20%0.20%0.50%0.20%0.80%0.20%0.20%0%0%0%0%0%0.20%0.20%0.50%0.40%0.70%0.20%0%0.20%0.20%0.20%0.70%0.20%0.70%0.20%0%0%0%0.20%0.20%0.70%0.45%0.45%0.70%0.20%0.20%0%0.20%0.60%0.60%0.20%0.50%0.60%0.20%0%0%0%0%0%0.20%0%0%0%0%0.60%0.20%0.20%0.20%0%0%0.20%0.80%0.40%0.40%0.20%0%0.20%0%0.20%0.20%0%0%0%0.20%0%0%0.20%0.20%0.20%0.20%0.80%0.20%0.20%0.20%0.20%0.20%0.70%0.20%0.20%0.20%0.20%0.20%0.50%0.20%0.20%0.20%0.70%0.20%0%0%0%0%0%0.50%0%0%0%0%0%0.20%0.20%0.20%0.20%0%0.20%0.20%0.20%0.10%0%0%0%0%0%0.20%0%0.20%0.40%0.20%0.30%0.20%0.70%0.40%0.70%0.70%0.20%0.20%0.20%0.20%0.20%0%0.20%0.70%0.20%0.40%0.20%0.20%0%0%0%0%0%0.20%0%0.20%0.20%0%0%0%0.20%0%0%0%0.10%0%0%0%0%0%0%0%0.20%0.20%0.70%0.20%0.20%0.20%0.20%0.30%0.80%0.20%0.80%0%0.20%0%0.45%0.20%0.70%0.20%0.20%0.20%0%0.20%0%0.80%0.20%0%0%0%0.20%0.32%0.20%0.20%0.20%0.20%0%0%0.20%0%0.20%0%0%0%0.15%0.20%0%0.20%0%0.20%0%0%0%0.20%0%0%0%0%0%0%0.20%0.70%0.20%0.20%0.20%0%0.70%0.20%0.30%0.20%0.20%0.10%0%0%0%0%0%0%0%0%0%0%0%0%0%0.40%0.20%0%0.20%0.30%0.20%0%0%0.20%0.20%0.50%0.70%0.20%0.20%0.60%0.32%0.80%0%0%0.15%0.20%0%0%0%0.20%0%0%0%0%0%0%0%0.15%0.20%0.20%0.20%0.20%0.20%0%0%0%0.40%0%0.20%0%0.20%0%0.70%0.70%0.20%0.70%0.20%0.20%0%0%0%0%0%0%0.20%0%0%0%0%0%0%0.20%0.20%0.80%0%0.20%0%0%0.20%0.20%0.20%0.20%0.20%0.20%0%0%0%0.20%0.80%0.20%0%0%0%0.20%0.20%0.20%0.20%0.60%0.20%0%0.20%0.80%0.20%0.20%0.20%0.20%0%0.20%0%0.20%0%0%0.20%0.20%0.20%0%0%0.20%0%0.20%0%0.20%0%0%0.20%0%0%0%0%0%0.20%0.60%0%0.20%0.20%0.20%0.70%0.20%0%0%0.20%0.20%0.70%0.20%0.20%0.20%0%0.20%0.20%0%0.20%0.40%0.40%0.20%0.20%0.20%0.70%0.70%0.20%0.70%0.20%0.40%0.20%0.20%0.20%0.40%0.40%0.70%0%0%0.20%0%0%0.80%0%0.10%0%0%0%0%0.20%0%0.20%0.20%0.20%0.20%0.20%0%0.70%0.20%0%0.20%0%0%0%0%0%0%0.20%0.20%0%0.20%0%0%0%0%0.20%0.70%0.20%0.30%0.80%0.20%0.20%0.30%0.80%0%0%0.20%0.20%0.20%0.20%0.60%0.50%0.20%0.20%0%0%0%0.80%0.20%0.60%0.80%0.20%0%0%0.50%0.20%0%0%0%0.20%0%0%0%0%0%0.20%0.20%0.20%0.20%0.20%0.70%0.70%0.20%0%0.20%0.20%0.20%0.20%0%0.20%0.20%0%0.20%0%0%0%0.20%0%0.20%0.20%0%0%0%0%0.20%0.20%0.20%0.20%0%0.40%0%0.10%0%0%0%0.20%0.20%0%0.20%0%0.20%0.20%0.80%0.20%0.20%0.20%0.20%0.20%0%0.20%0%0%0%0%0.20%0%0.45%0%0%0.20%0%0%0%0.40%0%0%0%0%0%0.20%0%0%0%0%0%0%0%0.20%0.20%0%0%0%0.70%0.20%0.50%0.20%0%0.20%0.20%0%0%0%0%0.20%0%0%0%0%0%0%0.20%0%0.20%0%0%0%0.20%0.20%0%0%0%0%0%0%0%0%0%0.20%0.20%0.70%0.30%0.70%0.20%0%0%0%0%0%0%0%0%0%0%0%0.20%0.20%0.50%0.80%0.20%0.20%0%0%0.20%0.20%0.20%0%0%0%0%0.20%0%0%0%0%0%0%0%0%0%0%0%0%0%0.20%0.20%0.20%0%0%0.20%0.70%0.70%0.40%0%0%0.20%0.20%0%0%0%0.70%0.20%0.10%0%0%0%0%0.20%0%0%0%0%0.20%0%0%0%0%0.20%0.20%0%0%0.70%0.20%0.80%0.20%0%0%0%0.20%0%0.20%0%0%0%0%0%0%0.30%0.30%0.80%0.20%0.20%0%0%0%0%0.20%0.20%0.20%0%0%0.20%0.20%0.20%0.20%0.20%0.70%0.20%0.20%0%0%0%0%0.20%0.20%0%0%0.20%0.50%0.20%0.20%0.40%0.20%0.20%0.20%0.20%0.32%0%0.20%0.70%0.20%0%0.20%0%0%0.20%0%0%0%0%0%0%0.20%0.40%0.70%0.20%0%0.20%0.70%0.10%0.70%0%0.10%0.20%0.20%0.20%0.20%0.20%0.40%0.80%0%0%0.20%0.20%0%0%0%0%0%0%0%0%0%0%0.40%0%0%0.20%0.20%0.70%0%0.20%0%0%0%0%0%0%0%0%0%0%0%0%0%0.20%0.20%0.20%0.20%0.40%0%0%0%0%0%0.20%0.70%0.70%0%0.20%0.20%0.20%0%0%0.20%0.20%0.80%0.30%0.20%0.20%0.20%0%0.20%0.20%0.20%0%0%0.20%0.20%0.20%0.20%0.20%0.30%0.20%0.20%0.20%0.40%0.20%0.70%0.20%0.20%0.70%0%0.20%0.20%0.70%0.70%0.20%0%0%0%0.20%0%0%0.40%0%0%0%0%0.20%0%0.20%0.20%0%0.20%0%0%0.20%0.70%0.20%0%0%0%0%0.80%0.80%0%0.20%0.60%0.80%0.20%0.20%0.20%0.20%0.80%0.20%0.15%0%0%0%0%0%0%0%0%0%0%0%0%0%0%0%0%0%0%0.20%0.20%0.20%0%0%0%0%0%0%0%0%0.20%0%0.10%0%0%0%0%0.20%0%0.20%0%0%0%0%0.20%0%0%0%0%0.20%0.20%0%0%0%0%0%0%0%0.20%0.80%0.20%0%0%0%0%0.20%0%0%0.20%0.20%0.20%0%0%0%0%0.20%0.20%0%0%0.20%0.20%0.20%0.20%0.20%0.30%0.80%0.20%0.70%0.20%0.20%0.20%0.20%0%0.20%0%0%0.20%0.20%0.30%0.70%0.70%0.20%0.20%0.20%0.20%0.40%0%0.20%0%0%0.20%0%0%0%0%0%0%0%0%0.40%0.20%0.70%0.20%0.20%0%0%0%0%0.20%0%0%0.20%0.20%0.15%0%0.10%0%0%0%0.20%0.40%0.20%0.20%0.70%0.20%0.20%0.20%0.70%0.20%0%0%0%0%0.20%0.20%0%0.20%0.80%0.80%0.20%0.30%0.20%0.20%0.20%0%0%0%0.20%0.70%0.20%0.80%0%0%0%0.20%0%0.20%0%0%0%0%0.20%0.20%0.20%0%0%0%0%0%0%0%0.20%0%0.20%0%0%0.20%0%0%0.30%0%0%0%0.20%0.20%0.70%0.70%0.20%0%0.20%0%0.80%0.20%0%0%0%0.40%0.20%0.80%0.80%0.20%0%0%0%0%0%0.50%0.70%0.70%0%0%0%0%0%0%0%0.30%0%0.20%0%0.20%0.20%0.20%0%0.60%0.20%0.20%0.20%0.40%0.70%0.70%0.20%0.20%0.20%0%0.70%0.20%0%0%0.20%0%0%0%0%0.20%0%0.20%0.60%0%0%0%0%0%0%0%0%0%0%0%0.20%0.50%0.50%0.20%0%0%0%0%0%0.40%0.20%0.20%0.40%0.20%0%0%0.50%0.20%0.10%0%0.20%0%0%0.20%0.20%0.60%0.20%0.70%0.20%0.70%0.20%0.20%0.20%0.20%0%0.20%0%0.40%0%0%0%0%0.20%0.20%0.20%0.30%0%0%0.20%0%0.20%0.20%0.20%0.30%0.20%0.70%0.20%0.70%0%0%0%0%0%0%0%0.20%0%0.20%0.30%0.20%0.30%0%0.20%0.20%0.20%0%0%0%0.20%0%0.60%0%0.20%0%0.20%0.20%0%0%0%0.20%0.20%0%0%0.20%0%0%0.20%0%0%0.10%0%0%0.20%0.20%0.20%0.20%0.20%0.20%0.20%0.20%0%0%0.20%0.20%0%0%0%0%0%0.20%0.80%0.80%0.30%0%0.20%0.20%0.20%0.20%0.20%0.20%0.20%0.20%0.20%0.20%0.20%0%0%0.20%0.20%0.20%0%0.15%0%0%0%0%0%0%0.20%0.20%0.20%0%0.20%0.20%0.80%0.20%0.20%0.80%0%0%0%0%0%0.20%0.20%0%0.20%0%0%0.40%0.20%0%0.20%0.20%0.80%0%0%0.20%0%0%0.20%0.20%0.30%0.20%0%0%0%0.40%0%0.20%0%0%0%0%0%0%0%0.20%0.20%0.20%0%0.30%0.30%0%0.20%0.20%0.20%0.60%0%0.20%0%0.20%0%0%0.20%0%0.20%0.15%0.20%0.20%0%0.20%0%0%0%0%0%0%0%0.20%0%0.20%0%0%0%0.20%0.70%0.20%0.20%0.20%0.20%0.20%0.20%0.20%0.20%0%0%0%0%0.20%0%0%0%0.20%0.20%0.70%0.40%0%0%0%0%0%0.20%0%0%0.20%0.20%0.20%0.40%0.70%0.20%0.20%0.20%0.20%0.20%0.20%0.40%0.20%0%0.20%0%0.60%0.80%0%0%0.20%0.40%0.20%0.70%0%0%0.20%0.70%0.70%0.20%0.20%0.40%0%0%0.20%0.20%0%0%0%0%0%0%0.20%0.10%0%0%0.70%0.70%0%0.20%0%0.20%0%0%0.20%0.50%0.15%0.20%0%0%0%0%0.20%0.20%0.20%0.30%0.20%0.20%0.20%0.40%0%0%0.20%0.20%0.20%0.20%0.20%0.20%0.20%0%0%0%0%0.20%0.20%0.20%0.20%0%0.70%0.20%0.20%0.20%0.30%0%0%0%0%0.20%0.20%0.80%0.20%0.20%0.15%0.20%0.15%0%0%0%0%0.70%0.70%0.20%0.80%0.20%0.20%0%0%0%0%0%0%0%0%0%0%0%0%0%0%0%0%0%0%0%0%0.20%0%0%0%0.20%0%0.20%0.20%0%0.70%0.20%0.20%0.20%0%0%0%0.60%0.20%0%0.20%0.20%0.20%0%0%0%0.80%0.60%0.80%0.20%0.30%0.20%0.70%0.20%0.20%0.20%0%0.40%0%0%0.20%0.40%0.20%0%0%0.20%0.20%0.20%0.20%0%0.20%0.60%0%0%0%0.20%0.20%0%0%0%0%0%0%0%0.20%0.80%0%0%0.20%0%0.20%0.50%0.20%0.40%0%0.20%0.20%0%0%0.20%0.20%0%0.20%0.20%0.20%0.20%0.20%0.70%0%0.10%0%0.20%0.20%0%0.20%0.70%0.20%0.40%0%0%0.20%0.20%0%0.20%0%0.20%0.70%0.45%0%0%0.20%0.20%0.20%0%0.70%0.70%0%0%0%0.20%0.40%0%0.20%0.20%0.20%0%0%0.20%0.10%0.20%0.20%0.20%0%0%0.20%0.20%0%0%0.20%0.20%0%0%0%0%0%0.70%0.20%0.70%0.20%0.20%0.20%0.80%0.20%0.20%0%0%0.40%0%0.20%0%0%0.10%0%0%0%0%0%0%0%0%0%0%0%0%0%0%0%0%0.20%0.20%0.80%0.20%0.20%0%0%0%0.20%0.20%0.20%0%0%0%0%0%0.40%0%0%0%0%0.70%0.20%0.20%0.20%0.80%0.60%0%0%0%0%0%0%0%0.80%0%0%0.30%0.20%0.20%0.20%0.20%0.20%0%0%0%0.20%0%0%0%0%0%0%0%0.20%0%0.20%0.20%0%0%0%0%0.20%0.20%0%0%0%0%0.20%0.70%0.70%0.20%0.20%0.20%0.20%0%0%0%0.20%0.70%0.70%0.30%0.20%0.20%0%0%0%0%0%0%0%0.20%0%0.20%0%0.20%0%0%0%0.20%0.70%0.20%0.20%0%0.20%0%0%0%0%0.20%0.20%0.20%0%0.20%0%0%0%0%0%0%0%0.30%0%0%0.20%0%0%0%0.20%0.20%0.20%0.20%0.20%0%0%0.20%0.80%0%0.20%0%0%0.20%0%0.20%0%0.15%0.40%0%0%0.20%0.70%0.20%0%0%0.20%0.40%0.20%0.20%0.20%0%0%0%0%0.70%0.20%0.40%0.60%0.80%0%0.20%0%0.40%0.20%0.40%0.20%0.30%0.70%0.20%0%0%0.30%0%0%0.20%0.60%0%0%0%0.20%0.80%0.20%0%0%0.20%0.20%0.60%0.20%0.80%0.20%0.20%0.40%0.30%0.20%0.80%0.20%0%0%0.20%0%0.20%0%0.10%0%0%0%0.20%0%0%0%0%0%0.20%0%0%0%0%0.20%0%0.20%0.20%0%0%0.20%0%0.20%0.20%0.80%0.20%0%0%0%0.10%0%0.20%0.20%0%0.20%0.20%0.20%0%0.20%0.40%0.20%0.30%0.20%0.70%0.20%0.20%0.40%0.20%0%0%0.20%0.20%0%0%0%0%0.60%0.20%0.20%0.40%0%0%0%0%0.20%0%0.20%0.20%0%0%0%0%0%0%0%0.20%0%0%0%0%0%0%0%0%0.20%0%0%0.20%0.20%0%0%0.20%0.20%0.20%0%0%0%0.20%0.20%0%0%0%0%0.20%0%0.20%0%0%0%0%0%0%0%0%0%0%0%0%0%0%0%0%0%0.30%0.20%0%0.20%0.20%0.20%0.20%0.20%0%0%0%0%0%0%0%0%0%0%0%0%0.20%0.20%0%0.20%0.20%0%0%0%0%0.20%0%0%0%0%0.20%0%0%0%0.20%0%0.20%0.80%0.30%0.20%0.20%0%0%0%0.15%0.20%0%0.20%0.40%0.40%0.40%0%0%0.70%0%0%0%0.20%0%0.20%0.20%0%0.60%0.20%0.20%0.30%0%0.70%0.20%0%0.20%0.20%0.20%0%0%0.20%0.20%0.20%0%0.20%0%0%0%0%0%0%0%0%0%0%0%0%0%0%0.32%0%0.20%0.20%0%0.20%0%0.20%0.20%0%0.20%0%0%0%0.20%0.20%0%0%0.20%0.20%0.20%0.70%0.40%0.20%0.80%0.80%0.60%0%0%0.10%0.20%0%0%0%0.50%0.20%0.20%0%0.30%0%0%0%0%0%0.30%0%0.20%0%0%0.20%0%0%0%0%0%0%0%0%0.20%0.20%0.20%0%0%0%0%0%0%0.20%0.20%0.20%0.20%0%0%0%0.20%0%0.20%0.20%0%0.20%0%0.20%0%0%0%0%0%0%0%0%0.30%0.20%0%0%0%0.20%0.20%0.20%0.80%0.80%0%0%0%0%0.80%0.20%0%0%0%0.70%0.20%0.30%0.20%0.20%0%0%0%0%0%0%0%0.20%0.20%0.80%0.80%0.20%0.20%0%0%0%0%0.20%0%0.30%0.40%0.40%0.20%0.20%0.20%0.20%0%0%0%0.15%0.20%0.20%0.20%0.20%0%0%0%0.20%0%0.60%0.20%0%0%0%0.20%0.20%0%0%0%0.20%0%0%0.40%0.20%0.20%0.20%0%0%0%0%0%0%0%0%0%0%0%0%0.20%0%0%0%0.20%0.60%0.50%0%0%0%0%0%0%0%0%0%0%0%0.20%0%0.70%0%0.20%0.20%0.30%0.20%0.20%0.60%0.20%0.20%0.20%0%0.20%0%0.20%0%0%0%0.20%0%0%0%0.20%0.70%0.70%0%0%0.20%0.20%0.20%0.70%0%0%0.20%0%0.10%0%0.20%0.20%0.20%0%0%0%0%0%0.15%0.20%0.20%0%0%0.20%0%0%0%0.20%0%0%0%0.20%0.40%0.70%0.20%0.20%0.20%0%0%0%0%0%0%0.20%0.20%0.70%0.70%0%0%0%0.10%0%0.20%0.20%0.70%0.80%0%0.20%0.70%0.20%0.20%0%0.20%0.20%0.50%0.50%0.20%0.20%0.20%0.20%0.20%0%0%0%0%0%0%0.20%0.70%0.20%0%0.20%0%0%0%0%0%0.60%0.20%0.20%0%0%0.20%0.40%0.40%0.70%0.40%0%0%0%0%0%0%0%0%0%0%0%0%0.20%0%0%0.20%0.20%0.30%0.20%0.70%0.20%0%0.20%0%0%0.20%0%0%0%0%0%0%0%0.20%0.70%0.70%0.20%0.20%0.20%0.80%0.20%0.20%0%0.20%0%0.20%0%0.20%0.15%0.20%0.20%0%0%0%0.40%0.40%0.20%0%0.60%0.20%0.60%0%0%0%0.20%0.20%0.20%0.15%0%0%0%0.20%0.20%0%0%0%0.30%0%0%0%0.20%0%0%0%0%0%0%0%0%0%0.20%0.20%0.20%0.20%0.20%0.20%0.32%0.80%0.20%0.20%0.20%0.20%0.20%0.20%0%0%0%0%0.20%0.50%0%0%0.20%0.20%0.20%0.30%0%0.80%0%0%0.70%0.20%0%0%0%0%0%0.20%0.20%0%0%0%0%0.20%0%0%0%0%0.20%0.20%0.20%0.20%0.20%0%0%0%0.20%0.20%0%0%0%0%0%0.80%0%0.20%0.20%0%0%0%0%0%0%0%0%0%0%0%0.20%0.30%0.20%0%0%0.20%0.20%0.30%0%0%0%0%0%0.20%0%0%0.20%0%0%0%0.20%0.20%0.20%0.20%0%0.80%0%0%0%0%0%0.70%0%0.20%0.20%0.20%0.20%0.20%0%0.20%0%0%0.20%0%0%0%0%0%0%0%0.20%0%0.20%0.20%0.20%0.20%0.20%0.20%0%0.10%0.70%0.20%0%0%0%0.20%0.20%0.20%0%0.60%0.20%0.20%0.20%0.70%0.20%0.20%0%0.30%0.20%0.30%0%0%0.20%0.20%0.20%0.20%0.20%0.50%0%0%0%0%0.20%0%0.20%0%0%0.20%0.20%0.20%0.20%0.20%0.70%0.20%0.70%0%0.20%0%0%0%0.20%0%0.20%0.70%0.70%0.70%0.70%0.20%0.40%0.20%0.60%0.20%0%0%0%0.20%0.32%0.20%0%0.20%0.20%0%0.20%0%0%0.20%0.20%0%0%0%0%0%0.20%0.20%0%0%0.20%0.40%0%0%0.20%0%0%0%0%0%0%0%0.20%0%0%0%0.20%0.20%0.20%0%0%0%0.20%0%0%0%0.20%0%0%0%0%0.15%0.20%0.60%0.30%0%0%0.20%0%0%0.20%0.80%0.20%0.60%0.80%0%0%0%0%0%0.20%0.20%0.20%0.80%0.20%0.32%0.20%0.20%0%0%0.70%0%0.20%0.20%0%0%0%0%0%0.20%0%0%0.20%0%0%0.20%0.20%0.20%0.20%0.70%0.70%0.20%0.20%0.40%0%0%0.20%0%0.20%0%0.20%0.80%0.20%0.20%0.20%0.20%0.60%0%0.80%0.20%0.20%0.30%0.20%0.20%0%0%0%0.20%0.70%0.40%0.20%0%0.20%0.40%0%0.20%0.20%0.80%0%0%0%0%0.20%0%0%0.20%0.20%0%0.80%0.30%0.20%0%0.70%0.20%0%0%0%0%0%0%0%0%0.80%0.20%0%0%0.20%0.20%0%0.80%0.80%0.20%0%0%0.70%0.20%0.20%0.20%0.20%0.20%0%0%0%0%0%0%0.20%0.20%0.80%0%0.20%0.20%0%0%0.20%0%0%0%0%0.20%0.20%0.20%0.20%0.20%0.20%0.20%0%0%0.80%0.80%0.20%0.20%0.30%0%0.20%0.30%0.20%0.60%0%0.80%0.20%0.30%0%0%0%0.20%0.20%0%0.20%0.20%0.20%0.20%0.20%0.20%0.40%0.70%0.80%0.20%0%0%0%0.20%0.20%0.20%0%0%0%0%0%0.20%0.20%0%0%0%0%0%0%0%0.20%0.20%0%0.70%0%0%0.20%0.20%0%0%0%0%0%0.80%0%0.70%0.20%0.20%0.70%0.20%0.40%0.20%0.70%0.20%0.20%0.20%0.80%0.20%0.20%0.20%0%0.20%0%0.10%0.20%0.60%0%0%0.20%0.20%0.20%0%0%0.80%0.80%0.20%0.20%0.20%0.20%0.20%0.20%0.20%0.60%0%0.20%0%0.20%0.20%0%0%0%0.30%0%0%0%0%0%0.80%0.20%0%0.15%0.20%0%0.30%0%0%0.20%0.80%0.20%0%0%0%0%0.60%0.15%0.20%0.20%0%0.20%0%0.20%0%0%0.10%0%0.10%0.20%0.80%0.20%0.20%0.20%0%0.10%0%0.20%0.20%0.20%0.70%0.40%0.20%0.20%0.20%0.80%0.20%0%0%0%0%0%0%0%0.60%0.60%0%0.30%0.30%0.70%0.20%0.20%0%0.20%0%0%0.20%0%0%0.20%0.20%0.10%0%0%0%0.20%0.20%0%0%0.20%0.40%0.20%0%0%0%0.20%0.20%0.80%0.60%0.60%0.30%0.20%0.20%0%0%0%0.20%0%0%0%0.20%0%0%0%0.20%0%0.20%0.20%0.20%0.20%0.70%0.70%0.20%0.20%0%0.20%0.20%0%0%0%0%0.20%0%0.20%0.20%0%0%0%0%0%0%0%0.20%0%0%0%0%0%0.20%0.20%0.30%0.30%0.20%0.20%0.20%0%0%0%0.20%0%0.20%0%0%0%0.20%0.20%0%0.20%0.80%0.32%0.20%0.20%0.40%0.20%0.30%0.20%0.20%0%0.20%0.20%0.20%0.50%0.20%0%0%0%0.20%0%0%0%0.20%0.20%0%0%0.20%0%0%0%0%0%0%0%0%0.20%0.30%0.20%0.20%0.80%0%0%0%0%0.20%0.30%0.20%0.70%0%0.20%0%0.20%0.20%0%0.20%0.70%0.70%0.20%0%0%0%0.60%0%0.20%0%0.20%0.20%0%0%0.20%0.20%0%0%0%0%0%0%0%0%0%0%0.40%0%0%0%0.20%0%0.70%0.20%0.20%0.20%0.20%0.20%0.40%0.20%0.20%0.30%0%0%0%0%0.20%0.20%0.20%0.20%0.20%0.20%0.20%0.30%0.20%0.70%0.20%0.20%0%0.20%0.20%0%0%0.20%0%0%0%0.20%0.20%0.20%0%0%0.20%0.40%0.20%0.20%0.20%0.20%0.20%0.20%0.70%0.20%0%0%0.20%0%0%0.70%0.20%0%0%0%0%0%0.20%0.20%0.20%0.20%0.20%0.20%0%0%0%0.20%0.70%0.20%0.20%0.20%0.20%0.20%0.20%0.20%0.70%0.30%0.20%0%0%0%0%0%0%0%0%0%0%0%0.70%0.20%0.20%0.70%0.20%0.20%0.20%0%0%0%0%0.20%0%0%0.20%0%0%0%0%0.20%0.60%0.80%0.20%0.20%0%0%0%0%0.20%0%0%0%0%0%0%0.20%0.70%0.20%0.20%0%0%0%0%0%0%0%0%0%0%0%0%0%0%0.10%0%0%0.20%0%0%0%0%0%0.20%0%0.20%0%0.20%0%0.20%0.30%0.20%0%0%0%0%0%0%0.80%0.30%0.20%0.20%0.20%0.20%0.20%0.20%0%0.20%0.20%0.20%0.20%0%0.20%0%0%0.40%0.20%0.20%0.20%0.70%0%0.20%0.20%0%0.20%0.70%0.20%0%0%0.20%0%0.20%0.40%0.20%0.20%0.20%0.20%0.20%0.20%0.20%0.20%0.70%0.70%0.20%0.20%0.20%0%0.20%0.20%0.20%0%0%0%0.20%0.20%0%0.20%0%0.20%0.20%0.20%0%0%0%0.10%0%0%0.40%0.30%0.20%0.20%0.20%0.20%0%0%0.20%0.20%0%0%0.15%0%0%0%0%0%0%0.80%0%0%0.80%0.20%0.20%0.20%0.50%0.20%0.20%0.20%0%0.60%0%0%0%0.20%0.20%0%0%0.20%0.20%0.70%0.20%0.20%0.70%0.20%0.20%0.20%0.20%0.20%0.20%0.20%0.80%0%0%0%0%0%0.20%0%0.20%0.80%0%0.20%0.20%0.20%0.20%0.20%0.20%0%0.20%0.20%0.70%0.20%0.40%0.40%0.20%0.50%0.20%0%0%0.50%0.20%0.20%0.70%0.20%0%0%0.20%0.20%0.20%0%0%0%0.20%0.32%0.20%0.20%0.20%0.20%0%0%0.20%0.20%0.20%0.30%0%0%0.20%0.20%0%0%0.20%0.20%0.20%0.20%0.20%0.30%0.20%0.20%0%0%0%0%0.70%0.20%0.20%0%0%0%0%0.20%0.20%0%0.70%0.80%0.20%0%0%0%0.20%0%0.20%0%0%0.20%0.40%0%0%0.20%0.20%0%0.15%0%0%0.20%0%0.20%0.20%0.20%0.20%0%0%0%0%0%0.20%0%0%0.30%0.40%0.20%0%0%0%0.20%0%0.20%0.20%0%0%0%0%0%0%0%0%0.30%0.40%0.30%0.15%0.20%0.20%0.20%0.20%0.80%0%0%0%0%0%0.70%0.20%0.20%0%0%0.20%0.20%0.20%0%0%0%0.80%0.80%0%0%0%0.10%0.20%0.40%0.20%0.20%0.20%0.40%0.20%0.20%0.20%0.20%0.20%0.20%0.20%0.20%0.20%0.20%0.20%0.20%0.80%0.80%0.32%0%0%0.20%0.20%0%0%0%0.20%0.20%0.70%0.80%0.20%0.70%0.20%0.20%0.20%0%0%0%0.20%0.20%0%0%0%0%0%0%0%0.80%0.80%0.20%0%0.20%0.20%0.80%0%0.40%0%0%0%0%0.20%0.20%0.20%0.20%0%0%0.20%0.20%0%0%0.20%0%0.20%0%0.20%0.50%0%0.80%0.20%0.20%0%0%0.20%0%0%0.80%0.20%0.20%0%0%0%0%0.20%0%0.80%0.20%0.20%0.20%0.20%0.20%0.20%0.70%0.70%0.20%0.70%0.20%0%0%0%0%0%0.20%0.20%0%0%0.20%0.20%0.20%0%0%0%0%0%0%0%0%0.20%0.80%0%0%0%0%0%0.80%0.80%0.20%0%0%0.20%0%0.20%0%0%0%0.20%0.70%0%0.20%0%0%0%0%0%0%0%0%0.30%0.20%0%0%0%0%0%0%0.15%0.20%0%0.20%0.20%0%0%0.80%0.60%0%0.20%0%0.60%0.80%0.20%0.20%0.80%0.20%0.20%0.80%0.20%0%0%0%0.20%0%0%0%0%0%0%0%0%0.10%0.20%0.20%0.20%0.20%0.80%0.60%0.70%0.20%0%0%0%0%0.70%0.30%0.80%0.32%0.80%0.20%0%0.20%0%0.20%0%0.20%0.80%0%0%0%0%0%0.10%0%0%0.32%0.20%0.20%0.20%0.80%0.20%0%0.20%0%0.40%0.50%0%0%0.20%0.20%0.20%0.20%0.20%0.20%0.20%0%0.20%0.20%0.20%0.20%0.20%0.20%0%0.20%0%0%0.20%0%0%0%0.20%0%0.70%0.40%0.70%0.20%0.20%0%0%0%0.20%0.20%0%0.20%0.20%0.20%0.20%0.20%0%0%0.20%0%0%0.20%0.20%0%0%0.10%0%0.70%0.20%0.20%0.20%0.20%0%0.70%0.70%0.20%0.20%0.60%0.30%0%0%0%0%0%0%0%0.20%0.20%0%0%0%0%0%0.20%0%0%0.20%0%0%0%0.20%0.80%0.30%0.20%0.30%0%0.20%0%0.20%0%0%0.20%0.20%0.20%0.70%0.20%0.30%0.20%0%0%0%0.20%0%0.20%0.20%0%0%0%0%0%0%0%0%0%0.20%0%0%0.20%0.70%0.20%0.20%0%0%0%0%0%0%0%0%0%0%0%0%0%0.80%0.20%0.80%0.20%0.20%0%0%0%0%0%0%0%0%0%0%0%0%0%0.15%0%0.20%0.20%0%0.20%0.20%0.20%0.20%0.70%0.20%0.20%0.20%0%0%0.20%0%0.30%0.30%0.20%0.40%0.20%0.20%0.20%0%0%0%0%0%0.20%0%0.20%0%0%0.80%0.20%0.80%0.20%0.40%0.20%0.20%0.30%0.15%0%0.70%0%0%0.20%0.20%0.20%0.20%0%0%0.20%0%0%0.20%0%0%0.70%0.20%0%0%0%0.20%0%0.20%0%0%0.20%0%0%0%0%0%0.20%0.80%0.10%0%0.20%0%0%0%0.20%0%0%0%0.30%0.80%0%0.30%0.20%0.20%0.80%0.20%0.60%0.20%0%0.20%0.20%0%0%0%0%0.70%0.20%0.30%0%0.20%0%0.20%0.20%0.20%0.70%0.20%0.80%0%0%0%0.20%0%0%0%0%0.20%0%0%0%0.20%0.20%0%0%0%0.20%0%0%0%0%0.20%0.20%0%0.20%0%0%0%0%0%0%0%0.20%0.20%0.20%0.20%0%0%0.20%0%0%0%0.20%0.20%0.80%0.20%0.20%0%0%0.20%0.20%0%0.20%0.20%0.20%0.20%0%0%0%0%0%0%0%0.15%0%0%0%0%0%0%0%0.70%0.20%0.20%0.20%0.10%0%0.10%0%0%0%0%0%0%0%0.20%0.20%0.20%0.20%0.20%0.20%0.30%0.20%0.20%0.70%0.20%0%0%0.80%0.32%0.20%0.10%0%0%0%0.20%0.20%0%0%0%0.20%0%0.20%0.40%0.50%0.70%0.20%0%0.70%0.20%0.20%0.20%0.20%0.20%0%0%0%0%0%0.20%0.20%0.20%0.60%0.80%0%0%0%0.20%0%0%0%0.70%0.20%0.60%0.20%0.20%0%0%0%0%0%0.50%0%0%0.70%0.20%0%0.20%0.20%0.20%0%0%0%0%0.10%0%0%0%0%0.20%0%0%0%0%0%0%0%0%0%0%0.20%0.20%0.20%0.20%0.70%0.20%0.70%0.80%0%0.20%0.20%0.20%0.20%0%0%0%0.20%0.20%0.20%0.20%0%0.20%0.60%0.20%0.20%0%0%0%0%0.10%0.30%0.80%0.20%0%0.20%0.70%0.20%0.20%0.20%0.20%0.50%0.20%0.20%0%0%0%0.70%0.20%0.20%0.20%0.20%0.70%0.70%0.40%0.20%0%0%0%0.20%0%0%0.30%0.40%0.20%0%0.20%0.20%0.20%0.20%0%0.80%0.20%0.70%0.70%0.30%0.20%0.20%0%0%0.20%0%0%0%0%0.20%0%0.20%0.70%0.20%0.40%0%0.70%0.20%0%0.20%0.20%0.20%0.20%0.20%0%0.20%0%0%0%0%0%0.20%0%0%0.20%0%0.20%0.20%0.20%0%0.20%0.20%0%0%0.40%0.20%0.20%0.80%0.20%0.80%0.20%0.20%0.20%0.70%0%0%0%0%0.20%0%0%0%0%0%0%0%0%0%0%0%0%0%0.30%0.20%0.70%0%0%0.20%0%0.30%0%0%0.70%0.40%0.20%0.20%0.20%0.70%0.70%0%0.20%0.20%0.30%0%0%0.80%0%0%0%0%0%0.50%0%0%0%0%0%0.20%0.70%0.20%0.20%0%0%0.15%0%0%0%0%0%0%0.20%0%0%0.20%0%0%0%0%0%0%0%0%0.80%0.20%0.20%0%0.20%0%0%0.70%0.20%0%0%0%0%0.20%0.20%0.20%0.20%0%0.20%0.20%0.20%0%0.20%0.80%0.20%0%0%0.20%0%0.20%0.20%0.70%0.20%0.20%0.80%0.20%0.20%0.20%0.20%0.20%0.70%0.20%0%0%0%0%0%0%0%0%0%0.70%0.40%0.70%0.70%0.70%0.20%0.40%0.20%0.40%0%0%0%0%0%0%0%0%0%0%0%0.20%0%0%0.20%0%0%0%0%0%0.20%0.30%0%0%0%0%0%0%0%0.20%0%0.80%0.20%0%0.20%0%0.20%0.20%0.32%0%0%0.70%0%0%0%0%0%0%0.20%0.40%0%0%0.10%0%0%0%0%0.20%0.30%0.20%0.30%0%0.15%0%0.20%0.20%0.20%0%0.80%0.40%0.20%0.70%0.20%0.20%0.20%0%0.80%0.50%0.20%0.60%0.80%0.20%0.20%0.20%0.20%0.20%0.20%0.20%0.20%0%0.20%0.20%0.20%0.20%0.20%0.60%0.20%0.20%0.20%0%0%0%0.20%0%0%0%0%0.40%0%0%0%0%0%0%0%0.20%0%0.20%0%0.20%0%0%0%0%0.10%0%0.20%0%0%0%0.20%0.20%0%0%0%0.20%0%0%0%0.20%0.30%0.60%0.20%0.20%0%0%0.20%0%0%0%0%0%0%0%0%0%0.20%0.80%0.32%0.20%0.20%0%0.20%0%0%0%0%0%0.20%0.40%0%0%0.20%0.20%0%0%0%0%0%0%0.20%0.20%0.20%0.20%0.20%0%0%0%0%0%0%0%0%0%0%0%0%0%0%0%0%0%0%0%0%0%0%0%0.20%0.20%0.20%0%0.20%0.20%0%0.20%0%0.20%0%0%0%0%0%0.20%0%0.80%0%0.20%0.20%0.20%0.80%0%0.20%0%0%0%0.20%0.30%0.20%0%0%0%0.20%0.20%0.80%0.30%0.20%0.20%0%0%0%0%0%0%0%0.20%0.70%0%0%0%0.30%0%0%0%0%0%0%0%0.20%0.70%0.70%0%0.20%0.30%0.20%0.20%0.40%0%0.20%0%0%0%0%0%0%0%0.30%0.60%0%0%0%0.30%0.20%0.80%0.20%0.20%0%0%0.20%0.20%0.20%0.20%0.70%0.40%0.70%0.20%0%0%0%0%0%0.20%0.20%0%0.20%0%0%0%0%0.20%0.20%0%0%0%0%0.20%0.20%0%0%0.20%0.20%0%0%0.20%0.20%0.20%0%0.20%0%0.20%0%0%0%0.20%0.20%0%0%0.20%0.20%0.20%0%0%0.20%0%0%0.20%0.30%0.20%0%0%0.20%0.20%0%0.20%0.20%0.20%0.20%0.40%0.40%0%0.20%0%0%0.20%0%0%0%0%0%0%0%0.70%0.15%0%0%0.20%0.20%0.20%0%0%0%0.20%0.20%0%0.20%0%0%0.80%0.20%0.20%0%0.20%0.20%0.40%0.20%0.20%0%0%0%0%0.15%0%0.20%0.20%0.20%0.70%0.20%0%0%0.20%0.70%0.20%0.20%0.20%0.20%0%0.20%0%0.20%0%0%0%0%0%0%0%0.20%0.20%0.20%0%0%0.20%0.20%0.20%0%0.70%0.20%0.20%0.70%0.20%0.20%0.20%0%0.20%0.20%0.20%0.70%0%0%0%0%0%0.70%0.20%0%0%0%0.20%0.20%0.80%0.20%0.20%0.20%0.20%0.20%0%0%0.15%0.70%0.20%0%0%0%0.10%0%0.20%0.20%0.20%0.40%0%0%0%0.20%0.20%0.20%0.20%0%0%0%0%0.30%0.20%0.20%0.20%0.20%0.20%0%0%0%0%0%0.20%0.20%0%0%0%0%0%0%0%0%0%0.30%0.80%0.20%0.50%0.70%0.70%0%0%0.20%0%0%0.20%0.20%0.20%0.20%0.32%0%0%0%0%0%0%0%0%0%0.20%0.30%0.20%0.30%0.20%0.20%0.20%0.20%0.70%0.20%0.40%0.40%0%0%0%0.20%0%0%0%0%0%0%0%0%0.20%0%0%0%0%0.70%0%0%0%0%0%0.20%0.20%0.20%0.20%0.20%0.20%0.20%0.20%0%0%0%0.20%0%0%0%0%0%0%0.20%0%0%0%0%0%0%0%0%0%0.20%0.20%0.40%0%0%0%0.20%0%0.20%0%0%0.20%0.20%0.20%0%0%0%0.20%0%0%0%0%0%0%0.15%0%0%0.70%0.20%0.20%0.20%0.50%0.20%0.20%0.20%0.20%0.20%0.70%0.20%0.20%0%0.20%0%0%0.20%0.20%0.20%0%0.20%0%0.60%0%0%0%0%0%0%0%0.20%0.20%0.20%0.20%0.30%0%0%0%0%0%0.20%0.80%0.80%0.20%0%0.20%0.20%0.20%0.40%0.20%0%0.20%0%0%0.10%0.20%0%0.20%0%0%0%0%0%0.10%0%0.20%0.20%0.20%0%0.20%0%0.20%0%0%0%0%0%0%0%0%0.20%0%0%0.20%0%0%0.20%0%0%0%0%0.20%0.20%0.20%0%0.50%0%0%0%0%0.80%0.20%0.20%0.50%0%0.20%0%0%0.10%0%0.20%0.20%0.20%0%0%0%0%0%0.20%0.20%0.20%0.20%0%0%0.20%0.20%0%0%0%0.70%0.20%0.70%0.20%0.20%0.70%0%0.20%0%0%0.20%0%0%0%0%0.30%0.20%0.20%0.20%0.20%0.20%0.32%0.20%0.20%0.20%0.20%0%0%0.20%0%0.20%0%0.20%0.20%0%0%0%0%0.20%0.20%0.20%0%0.10%0.10%0%0%0%0%0.20%0.20%0.70%0.70%0.20%0.20%0%0%0%0.20%0%0%0%0%0.20%0%0%0%0%0%0%0%0.20%0.20%0.80%0.60%0.15%0%0.20%0%0%0%0%0%0%0.20%0.70%0.20%0.20%0%0%0%0%0.20%0%0%0%0%0.20%0%0.20%0%0%0.20%0%0%0%0%0.20%0.20%0.20%0%0%0%0%0%0%0%0.20%0%0%0%0%0%0%0.20%0%0%0.20%0%0%0%0%0.10%0%0.20%0.20%0%0%0%0%0.40%0%0%0%0%0%0.50%0.20%0.40%0.20%0.20%0.20%0%0.20%0.20%0.20%0.20%0%0%0.20%0%0%0%0%0%0%0%0%0%0.20%0%0.20%0.50%0%0%0%0.20%0%0.20%0%0%0%0%0.20%0%0%0.20%0%0%0.20%0%0.20%0%0%0.20%0%0%0%0%0%0.20%0%0%0%0%0%0%0.20%0.20%0.20%0.20%0.20%0.30%0.20%0.40%0.20%0%0%0.20%0.70%0.70%0%0.10%0%0%0%0%0.20%0%0.20%0%0.20%0%0%0%0%0.20%0%0%0.20%0%0.20%0.20%0%0.20%0.20%0%0.20%0%0%0%0.80%0.80%0%0%0%0%0.20%0.20%0.20%0.20%0.20%0.20%0%0.70%0.70%0.20%0%0%0.20%0.20%0.70%0.80%0.20%0%0%0.20%0%0%0.20%0%0%0.20%0.20%0.20%0%0.20%0.20%0.20%0.20%0.20%0.20%0%0%0%0%0%0.20%0.60%0.80%0.20%0.20%0.20%0.80%0%0%0.70%0.10%0%0%0%0%0%0.10%0.20%0%0.10%0%0.10%0%0%0.40%0.20%0.80%0.20%0.20%0.80%0.30%0.20%0.20%0.30%0.30%0.20%0%0%0.20%0.20%0.20%0.70%0.20%0.20%0%0%0.20%0.10%0.20%0%0%0.10%0.20%0.20%0%0.20%0.80%0.20%0.15%0%0%0%0%0%0%0%0%0.20%0.20%0.20%0%0.15%0%0.20%0.20%0.20%0.20%0%0%0%0.20%0.20%0.20%0.70%0.20%0.20%0.20%0.20%0%0%0.20%0%0%0%0%0%0%0%0%0%0%0%0%0%0.20%0.20%0%0.20%0%0.20%0%0%0.20%0.80%0.20%0.40%0.20%0%0%0%0.20%0.20%0.20%0.40%0.20%0.20%0.20%0.30%0.20%0.20%0%0%0%0%0%0%0%0%0%0%0%0%0.20%0.20%0.20%0.70%0.20%0.20%0.40%0.20%0%0.20%0%0%0.20%0.20%0.20%0.20%0%0%0.20%0%0.70%0%0%0%0%0%0%0%0%0.80%0%0%0%0.20%0.70%0.20%0%0%0.20%0%0.80%0%0%0.20%0.20%0%0%0.20%0.20%0%0.20%0%0%0%0%0%0.20%0.20%0.20%0.20%0.20%0%0.20%0.40%0.20%0.20%0.20%0.20%0%0%0.20%0%0.20%0%0%0%0.20%0%0.80%0.20%0.20%0.20%0%0.20%0.20%0.20%0.20%0.20%0.20%0%0%0%0%0%0%0%0.20%0%0.20%0.20%0%0%0%0%0%0%0%0.10%0%0%0%0%0%0.20%0%0.20%0%0.10%0%0.20%0%0%0%0%0%0.20%0%0%0.60%0.20%0.70%0%0%0.20%0.20%0%0%0.20%0%0.20%0.20%0.20%0%0%0%0%0.20%0.60%0.20%0%0%0%0.20%0.20%0.20%0%0%0%0.20%0.50%0.40%0.80%0.20%0.20%0.80%0%0%0%0%0%0%0%0%0%0.20%0.20%0%0%0%0%0%0%0.20%0.20%0%0.30%0.20%0.20%0.20%0.20%0%0%0.70%0.20%0.40%0.20%0%0%0%0%0%0.20%0%0.40%0.70%0.20%0.40%0.20%0.40%0.70%0.20%0.20%0.20%0%0%0.20%0.30%0.10%0%0%0%0%0%0.20%0.60%0.20%0.20%0%0%0%0.20%0.20%0%0%0%0%0%0%0%0%0%0%0%0.20%0%0%0%0%0%0%0.20%0.20%0.50%0.70%0.20%0.20%0.20%0.20%0.20%0.20%0.20%0.40%0%0%0.20%0.70%0.20%0%0.20%0.20%0.20%0.20%0.20%0.20%0.20%0%0%0%0%0.40%0.40%0.70%0%0.20%0.20%0.20%0%0.20%0%0%0%0%0.20%0.20%0%0%0%0.20%0%0%0%0.20%0.40%0.70%0.70%0%0%0.20%0.80%0%0%0%0.20%0.20%0.40%0.20%0%0%0%0%0.20%0%0.70%0.20%0.20%0.30%0.20%0%0.10%0%0%0.20%0.20%0.20%0.80%0.20%0.10%0%0%0.80%0%0.30%0%0%0.80%0.20%0.20%0.30%0.20%0.20%0%0%0%0%0.20%0%0.20%0%0%0%0%0%0%0%0%0%0%0%0.20%0%0.20%0.20%0%0.70%0.20%0.70%0.20%0%0%0%0%0.20%0%0%0.20%0.20%0.20%0%0.20%0%0%0%0%0.15%0%0%0%0%0%0%0%0%0.30%0.30%0%0%0%0.70%0.20%0%0%0%0.70%0.20%0.20%0%0.20%0.40%0%0%0%0.20%0.20%0.20%0.50%0.20%0.80%0.20%0.20%0.60%0.20%0.30%0.20%0.20%0.20%0.20%0.20%0.50%0%0%0%0%0%0.20%0%0%0%0%0%0.20%0%0%0%0%0%0%0.20%0%0%0%0%0%0.20%0.60%0.20%0%0%0.20%0%0%0%0%0%0.20%0.20%0%0%0.20%0.20%0.20%0.70%0.20%0%0.20%0.20%0%0.20%0.20%0.20%0.20%0.60%0.60%0.20%0.20%0%0%0%0.20%0%0%0%0%0%0%0.20%0%0.20%0.70%0.20%0.20%0.20%0.20%0.20%0%0%0%0.20%0.20%0.30%0.20%0.20%0%0.20%0.20%0%0.20%0%0%0%0%0%0%0%0%0%0%0%0.20%0%0.10%0.20%0.20%0.30%0.30%0.20%0.60%0%0%0.20%0.70%0.20%0.20%0%0%0.20%0%0%0%0%0%0.20%0.20%0.40%0.20%0.20%0%0%0.20%0.20%0%0%0.20%0.20%0.60%0.60%0.80%0.60%0.50%0.70%0.20%0.20%0.20%0%0%0.20%0.20%0.60%0.70%0.70%0.30%0.70%0.20%0.70%0%0%0.20%0.80%0.60%0.30%0.60%0%0%0%0%0%0%0%0%0%0%0.20%0.20%0%0%0%0%0%0.20%0.70%0%0%0%0%0.20%0%0.20%0.20%0%0%0%0%0%0%0%0%0%0%0%0%0%0.20%0.20%0.20%0.20%0%0.20%0.20%0%0%0.20%0%0.80%0.20%0%0%0.60%0.20%0.20%0%0%0%0%0%0.20%0.40%0%0.20%0%0%0%0%0%0%0%0%0.70%0.30%0.80%0%0.20%0.20%0.80%0.20%0%0%0.20%0%0.70%0%0%0%0.20%0.20%0.80%0.20%0.20%0%0.70%0%0%0%0%0%0.20%0%0%0%0.20%0%0.40%0.40%0.20%0.20%0.20%0.60%0.20%0%0.20%0%0%0%0.20%0%0.20%0%0.20%0.30%0.20%0.40%0.40%0.20%0.20%0.20%0%0%0%0%0%0%0%0%0%0%0%0%0%0%0%0.20%0.20%0.20%0.70%0.20%0.20%0.20%0%0%0%0%0%0%0%0.10%0%0%0%0.20%0.80%0%0%0%0%0%0%0.80%0.20%0%0%0%0.30%0%0.20%0.20%0.10%0.60%0.70%0.30%0.20%0.20%0%0%0.15%0%0%0%0%0%0.20%0.20%0.20%0.20%0.20%0.20%0%0.20%0%0%0%0%0%0.10%0.20%0.20%0.20%0.20%0%0%0%0.20%0%0.40%0.30%0.20%0.20%0.20%0%0.20%0.20%0.20%0%0%0%0.20%0.20%0.20%0.20%0%0%0.20%0.20%0.20%0.20%0%0%0%0.80%0.20%0%0.20%0.20%0.20%0.20%0.80%0.20%0%0.70%0.20%0.20%0.40%0.20%0.70%0%0.20%0.70%0.20%0%0%0.20%0%0%0%0%0.20%0.20%0.20%0.20%0%0%0.20%0.20%0.70%0%0.30%0.20%0.20%0%0%0%0%0%0%0.20%0%0.20%0%0.20%0%0.20%0.70%0%0%0%0%0%0%0%0%0.20%0.20%0%0%0%0%0%0.70%0.20%0.70%0.20%0%0%0%0.40%0.70%0.40%0.20%0%0%0.20%0%0.50%0.20%0.80%0%0%0%0%0%0.20%0.20%0%0%0%0.20%0%0%0.20%0%0.20%0.10%0%0.20%0.20%0.20%0.80%0.20%0.70%0.70%0%0%0.20%0.20%0%0.20%0.20%0.30%0.60%0.80%0.20%0.20%0.70%0.20%0%0%0%0%0%0%0%0.20%0.45%0%0.60%0%0%0.20%0.20%0.20%0.20%0%0.20%0.20%0%0%0%0%0.20%0%0.20%0.70%0%0.20%0.20%0%0%0.20%0.20%0.20%0%0%0%0%0%0%0.20%0%0.70%0%0%0%0.20%0%0.30%0%0%0.20%0.50%0.20%0%0%0.20%0%0%0%0%0%0%0%0%0%0%0.40%0.20%0%0.30%0.70%0.20%0.20%0.20%0.15%0%0.20%0.70%0.20%0%0.20%0.20%0%0.20%0%0.70%0.80%0.20%0.20%0%0%0%0.40%0%0.20%0%0.50%0%0%0.20%0.20%0.20%0.50%0.60%0.30%0.80%0.20%0.20%0.20%0.30%0%0.20%0%0%0%0.70%0.70%0.20%0.20%0%0.40%0.20%0.70%0%0%0.20%0.20%0%0%0%0.20%0%0.20%0%0.60%0.40%0.70%0.20%0.20%0%0.20%0%0.10%0%0%0%0%0%0.45%0.20%0.20%0.20%0.80%0%0%0%0.40%0.20%0%0%0.20%0.20%0.40%0.40%0%0.20%0.20%0.40%0.20%0.70%0.20%0.30%0.70%0.20%0%0%0%0%0%0.20%0.20%0%0.20%0%0%0%0%0%0%0%0%0%0%0.20%0.20%0.20%0%0%0%0.40%0.10%0.20%0.20%0.20%0%0%0%0.15%0%0.20%0.20%0.20%0%0.40%0%0.20%0.20%0.20%0.30%0.20%0.40%0.20%0.70%0.20%0.70%0.20%0.70%0.20%0.20%0.30%0.60%0%0%0%0%0%0.20%0.70%0.20%0.20%0%0.20%0%0.20%0.20%0%0.20%0.20%0.20%0.20%0.60%0.20%0.20%0.20%0.30%0.80%0.20%0.20%0.20%0.20%0%0%0%0%0.20%0%0%0%0%0%0%0%0%0%0.70%0.20%0%0.20%0%0%0%0%0%0%0%0%0.20%0.30%0%0%0%0%0.30%0%0%0%0.20%0.30%0.80%0.20%0%0%0%0%0%0.20%0%0.20%0%0.80%0.20%0%0.20%0.40%0.20%0.20%0.20%0.20%0%0%0%0%0%0%0%0.70%0.70%0.30%0.20%0.20%0%0%0%0.20%0.20%0.20%0.20%0.20%0.20%0%0.60%0%0.20%0.70%0.70%0.20%0.20%0.20%0.20%0.20%0.20%0.80%0.80%0.60%0%0%0.20%0%0.50%0.20%0%0%0%0%0%0.30%0.30%0.20%0.20%0%0.20%0.20%0%0%0%0%0%0%0%0%0%0.20%0%0%0%0.20%0.10%0%0%0%0%0%0%0.20%0.20%0.30%0.20%0.30%0%0%0.20%0.20%0.20%0.20%0.70%0.20%0.20%0%0.60%0.60%0.20%0.20%0%0%0%0%0%0%0%0.70%0%0.20%0.20%0.20%0.20%0.20%0%0%0.10%0%0.20%0.20%0.20%0.20%0.20%0.30%0%0%0%0%0%0%0%0%0%0.70%0.70%0.70%0.20%0.20%0.50%0.20%0.20%0.40%0.20%0.20%0.20%0%0%0%0%0%0.70%0%0.60%0.80%0%0.20%0%0%0%0%0%0%0%0%0%0%0.30%0%0.20%0%0%0%0%0%0.10%0%0.20%0%0%0%0%0%0%0%0%0.20%0.20%0.20%0.80%0%0%0%0%0.30%0%0%0%0%0%0%0.20%0.70%0.20%0.20%0.20%0.20%0%0.20%0.20%0.70%0%0%0%0.20%0%0.30%0.20%0.20%0.20%0%0.20%0.20%0.20%0.20%0.20%0.20%0%0%0.20%0.20%0%0%0%0.20%0%0%0%0%0.20%0%0%0%0%0%0%0.20%0.20%0.20%0.20%0%0%0.20%0.20%0.20%0.20%0%0%0%0%0.20%0.20%0.20%0%0.70%0.70%0.20%0%0%0%0%0.20%0%0%0.80%0.20%0.40%0.20%0%0.80%0.20%0.60%0.20%0.70%0.80%0.20%0%0%0.20%0%0%0%0.10%0.20%0%0.20%0.20%0.20%0.20%0.70%0.70%0.20%0.20%0%0%0.30%0%0.15%0.20%0%0%0.20%0%0%0.20%0%0%0.20%0.10%0.20%0.20%0.20%0%0.20%0.20%0.20%0.20%0.20%0.20%0.20%0%0%0%0%0%0%0%0.30%0%0%0.60%0.20%0.20%0.20%0.20%0.80%0%0%0%0.20%0%0%0%0.70%0%0%0.20%0.20%0.20%0.70%0%0%0.20%0.20%0%0.20%0%0%0.20%0.20%0.20%0.60%0.40%0.20%0.20%0.20%0.20%0.20%0.20%0.20%0.20%0%0%0%0%0%0.20%0%0%0%0.20%0.70%0.20%0.20%0.20%0.20%0.20%0.20%0.20%0.80%0%0.20%0%0%0.15%0.60%0.20%0%0%0.30%0.20%0.20%0%0%0%0.20%0.70%0%0%0%0%0%0.30%0%0.20%0.20%0%0.20%0%0.20%0%0%0.20%0.20%0%0.80%0.20%0.20%0.80%0.80%0.20%0.30%0.60%0.20%0.20%0%0%0%0.20%0%0%0%0.20%0.20%0.20%0.70%0.20%0.20%0.20%0%0.70%0.20%0.20%0.40%0.20%0.20%0.70%0.20%0.70%0.20%0%0%0.20%0.20%0%0%0.20%0.20%0.20%0%0%0%0%0%0.70%0.20%0.70%0.70%0.70%0%0.20%0%0%0%0%0%0%0%0%0%0%0%0%0.20%0.20%0.20%0%0%0%0.20%0.20%0.20%0%0%0.80%0.20%0.30%0.80%0%0%0%0%0.20%0.60%0.20%0.20%0.80%0.60%0.20%0%0%0.15%0.20%0%0%0%0%0.20%0%0.70%0.20%0%0.70%0.20%0.20%0%0.70%0%0.15%0%0.20%0.20%0%0%0.20%0%0%0%0%0.20%0%0%0.20%0.60%0.30%0.20%0.80%0.80%0.80%0%0%0%0.20%0.20%0.20%0.20%0.70%0.20%0%0.20%0.20%0.20%0%0%0%0%0%0%0%0%0%0%0%0.20%0%0.20%0%0.20%0.32%0.20%0.20%0.30%0.20%0.30%0.30%0.80%0.30%0.20%0%0%0%0.30%0%0.20%0.20%0.20%0.40%0.20%0.80%0.20%0.20%0.60%0%0%0%0%0.60%0%0%0.45%0%0.20%0.20%0.20%0%0%0.20%0.20%0%0%0%0%0%0%0%0%0%0%0%0.30%0%0.20%0%0%0%0%0%0.20%0.20%0.15%0.20%0%0.20%0%0%0%0.20%0%0.20%0%0%0%0.50%0.40%0.40%0.60%0.60%0.20%0.20%0.30%0%0%0%0%0%0.70%0.20%0.20%0%0.20%0.20%0.20%0.80%0.20%0%0%0%0%0.10%0.45%0.20%0.70%0.20%0.20%0.60%0.20%0.70%0.20%0.70%0.70%0.20%0.60%0.20%0.80%0.20%0.20%0%0%0%0%0%0%0%0%0%0%0%0.20%0.45%0.20%0.20%0.20%0.20%0.20%0.20%0%0.20%0%0%0.80%0.20%0.40%0.80%0.60%0.80%0.20%0%0%0.20%0%0%0.20%0%0%0%0%0.70%0%0.20%0%0.50%0.20%0.20%0.20%0.10%0.20%0.20%0%0.20%0.70%0.70%0.20%0%0.20%0.20%0.30%0.20%0.20%0.60%0.20%0.20%0.20%0.20%0.20%0.20%0.70%0.20%0%0%0%0.20%0.20%0%0%0%0.20%0.20%0.20%0%0%0%0%0.20%0.30%0%0%0.30%0.20%0.20%0.20%0.20%0.20%0%0.20%0.80%0%0%0.20%0.20%0.80%0.80%0%0%0%0%0%0%0%0%0%0%0%0.20%0%0%0%0.20%0.20%0.20%0%0%0%0%0%0.20%0.70%0.40%0.70%0.20%0%0%0.20%0%0.20%0.80%0.30%0.20%0.20%0.20%0%0%0.20%0.20%0.15%0.80%0%0%0%0.20%0.20%0.20%0.20%0.20%0.20%0.20%0.30%0%0%0.20%0%0%0%0.20%0%0%0%0%0%0.30%0.20%0.80%0.30%0.20%0.20%0.10%0%0%0%0%0%0%0%0.20%0.40%0%0.30%0.20%0.20%0%0.20%0%0%0%0%0%0%0%0%0.70%0.20%0%0.20%0.20%0%0%0.20%0.20%0.60%0.80%0.20%0.20%0.20%0.20%0.20%0.20%0.40%0.70%0.40%0.30%0%0%0.30%0%0%0.20%0.30%0.20%0.60%0.20%0.30%0.80%0.80%0.80%0%0%0%0.20%0.20%0%0%0.20%0%0.20%0.20%0.20%0.20%0.20%0.70%0.20%0.20%0%0%0%0%0.20%0%0%0%0%0%0%0%0%0%0%0.20%0.20%0.80%0.20%0%0%0%0.20%0%0.20%0.20%0%0.30%0.80%0.20%0.20%0%0%0%0.20%0.60%0.20%0%0%0%0.60%0%0%0%0.20%0%0%0.40%0.20%0.70%0.20%0.20%0.20%0%0%0%0%0%0%0.70%0.20%0.20%0.20%0.20%0.20%0.30%0%0%0%0%0%0%0.20%0.20%0.20%0.20%0%0%0.20%0.20%0.20%0.20%0.20%0.20%0.60%0%0.70%0.20%0.20%0.20%0.20%0.20%0.20%0.20%0.20%0.40%0%0%0.20%0%0%0%0%0.60%0.20%0.20%0.20%0.20%0.70%0%0%0.20%0.20%0%0.20%0.20%0.20%0.20%0%0%0.20%0.20%0%0%0.20%0.20%0.20%0.20%0.20%0%0%0%0.20%0%0%0%0%0%0.20%0%0.20%0.20%0%0.60%0.20%0.20%0.70%0.20%0.20%0%0%0.20%0.40%0%0.50%0.70%0.20%0.50%0%0%0%0%0%0.80%0.70%0.20%0.20%0.70%0.20%0.20%0.20%0.20%0.70%0%0%0%0%0%0%0%0%0.80%0.20%0.20%0.60%0.20%0.20%0%0%0.20%0.20%0.20%0%0.20%0.20%0.20%0.30%0.20%0.20%0.60%0.30%0.80%0.20%0%0%0%0%0%0%0%0%0%0.20%0.40%0.40%0.20%0%0%0.20%0.20%0.20%0.40%0.20%0.20%0.20%0.20%0.20%0.20%0%0.10%0%0.20%0.15%0%0.20%0.15%0.20%0.20%0.70%0.80%0.60%0.20%0.20%0.30%0.20%0.80%0.20%0.20%0%0.20%0.20%0.20%0.20%0.20%0%0%0%0%0%0%0.70%0.20%0.40%0%0%0.20%0.20%0%0%0%0.20%0.20%0.20%0%0.20%0.20%0.20%0.70%0.70%0%0%0%0%0%0%0%0%0.20%0.80%0.80%0.80%0.20%0.20%0.20%0.20%0.20%0%0.20%0.20%0.30%0.20%0.20%0.20%0.20%0.32%0.20%0%0.20%0.20%0.20%0.20%0.20%0.20%0%0.20%0%0%0.20%0.20%0%0%0%0.40%0.20%0%0%0%0%0.20%0%0.70%0.40%0.20%0%0.10%0%0.20%0%0%0%0%0%0.20%0.20%0.70%0.20%0.20%0.20%0.20%0.20%0.20%0%0%0.20%0%0.20%0%0%0%0%0%0%0.20%0%0%0%0%0.70%0.20%0.20%0.20%0.20%0.20%0.70%0.20%0%0.20%0.20%0.20%0%0.20%0.20%0.20%0%0%0%0%0%0%0.30%0.20%0.20%0.20%0%0%0.70%0.70%0.80%0.20%0.80%0%0%0%0%0.20%0.20%0.20%0.70%0.70%0.70%0%0%0%0%0%0.20%0.30%0%0%0.20%0%0%0%0.60%0.20%0.30%0.20%0%0%0%0.20%0%0%0.20%0.20%0.70%0.20%0.20%0.80%0.80%0.20%0.80%0%0%0.20%0.20%0.70%0.20%0.80%0.50%0%0.30%0.30%0.20%0%0%0%0.20%0.20%0%0.20%0%0.20%0.20%0.70%0.70%0.30%0%0%0%0%0%0.40%0.20%0.20%0.20%0.20%0.20%0%0.20%0.50%0.20%0.80%0.30%0.20%0%0%0%0.80%0.20%0.30%0.20%0.20%0.40%0.10%0.20%0.15%0.20%0.20%0.30%0.80%0%0.80%0.80%0.80%0.80%0.60%0.50%0.20%0.70%0.20%0.20%0%0%0%0.20%0.40%0.20%0.20%0.20%0.20%0.20%0.30%0.70%0%0%0%0%0%0%0%0%0.20%0%0.20%0%0%0%0.20%0.20%0%0.20%0%0%0.70%0.20%0.10%0%0%0%0%0%0.20%0%0%0%0%0.80%0.20%0%0%0.20%0%0.50%0.20%0%0%0.20%0%0%0%0%0%0%0%0.20%0.20%0%0%0.10%0%0.20%0%0.20%0%0%0.20%0.80%0.20%0%0%0.20%0%0.20%0%0%0%0%0.70%0.20%0%0%0%0.20%0%0%0%0%0.20%0.80%0.30%0.20%0.20%0%0.20%0.50%0%0%0%0%0%0.20%0.20%0.20%0.20%0.20%0.60%0.80%0.20%0.40%0.20%0.20%0.20%0%0%0%0%0.20%0.40%0.20%0.30%0.20%0%0%0%0%0.70%0.60%0.60%0%0.20%0.70%0.50%0.20%0%0%0.20%0.20%0.20%0.20%0.70%0.20%0.20%0%0%0.20%0.20%0%0.80%0%0%0%0%0.10%0.20%0.20%0.20%0.20%0%0%0%0%0.70%0.70%0%0%0.20%0.80%0.20%0%0%0%0%0%0%0%0%0.20%0%0.70%0%0%0.20%0.20%0.20%0%0%0%0.20%0%0.20%0.20%0.20%0.70%0.20%0.80%0.20%0.20%0.20%0%0.20%0%0.20%0%0%0.20%0%0%0%0%0.20%0%0%0%0%0%0%0.20%0%0.80%0%0.20%0.50%0%0%0%0.80%0.80%0.80%0.20%0%0%0.20%0%0.70%0%0%0.20%0%0.20%0.20%0.20%0.20%0.70%0.20%0.20%0.15%0%0%0%0%0.20%0%0%0.20%0%0%0%0%0%0%0%0%0%0.20%0%0.10%0.70%0.20%0%0.10%0%0.20%0.20%0%0%0%0%0.20%0.20%0.20%0.70%0.30%0%0%0.20%0.20%0%0.20%0.80%0.30%0.30%0%0%0%0.80%0%0.20%0.50%0.20%0.20%0.20%0.80%0.30%0.20%0.20%0.20%0.80%0%0%0%0%0%0.20%0.20%0.20%0%0.10%0.40%0.20%0.20%0%0.10%0%0.60%0.60%0%0.20%0.20%0%0.20%0%0%0%0.20%0%0%0.20%0.20%0%0.20%0.20%0%0%0.20%0.20%0.40%0.70%0.40%0.20%0.30%0%0%0.20%0.20%0.30%0.20%0%0%0%0.20%0.40%0%0%0.20%0%0%0%0%0.20%0%0%0%0.20%0.30%0.20%0.20%0%0%0%0%0.20%0.20%0.20%0.20%0.20%0.20%0%0.20%0%0%0%0%0.20%0.20%0.20%0%0.10%0.20%0%0%0%0.20%0%0.20%0.40%0%0.20%0.30%0.20%0%0%0.70%0.20%0.20%0.20%0.80%0.20%0%0%0.20%0.20%0.80%0.80%0.20%0%0.20%0%0.10%0%0%0.30%0.20%0.30%0.20%0.20%0.20%0.20%0.20%0.70%0%0.40%0.20%0%0.20%0.20%0.20%0.20%0%0%0%0%0.20%0%0%0.20%0%0.20%0.50%0.20%0.70%0%0.20%0%0.20%0%0.20%0%0%0.20%0.40%0%0%0%0.20%0.10%0%0.20%0.20%0.60%0.80%0.20%0.80%0.80%0.20%0.20%0%0.32%0.20%0.30%0%0.20%0%0.20%0%0%0%0%0%0%0%0%0%0%0%0%0%0%0%0%0%0%0%0%0.80%0.32%0%0.20%0.20%0.40%0.20%0.20%0%0%0.20%0.20%0.20%0.20%0%0.20%0.20%0.20%0.20%0%0.20%0.10%0%0%0.20%0.60%0.15%0%0%0.20%0.20%0.80%0.20%0.32%0%0%0.20%0.70%0.20%0.20%0.20%0%0.20%0.20%0.20%0%0.60%0.20%0.20%0.20%0.20%0.70%0.20%0%0.20%0.70%0.20%0%0.70%0.20%0.20%0.20%0.20%0%0.30%0.40%0.30%0%0%0%0.10%0.20%0.20%0%0.20%0.20%0.20%0.20%0.20%0.80%0.60%0.60%0%0%0%0.20%0.20%0%0.20%0.20%0%0%0.40%0%0.20%0.20%0%0%0%0%0%0.20%0%0%0.20%0%0.40%0.20%0.20%0.20%0.20%0.20%0.80%0.30%0.32%0.20%0%0.20%0.70%0.20%0%0%0%0%0%0%0%0%0.40%0%0%0.20%0.20%0.20%0.20%0.70%0%0%0.15%0%0%0%0.20%0.70%0%0.20%0%0.10%0%0.20%0%0.20%0%0%0%0%0.20%0%0%0.20%0.20%0.20%0.40%0.20%0%0%0%0%0%0.20%0%0%0%0%0%0%0.80%0%0%0%0.32%0%0%0%0.20%0%0.20%0%0%0.20%0%0%0%0%0.20%0.20%0%0%0%0.20%0.70%0.20%0.20%0.20%0.20%0.20%0.20%0.20%0.20%0%0.10%0%0.20%0.20%0%0%0%0%0.20%0%0%0%0%0%0.20%0%0%0.20%0.20%0%0%0%0%0.20%0.20%0.20%0.60%0.30%0%0.20%0.20%0.20%0%0%0%0%0%0%0.20%0%0%0%0%0.20%0%0%0%0%0.20%0.20%0.20%0.20%0%0.80%0.60%0.80%0.20%0.80%0.80%0%0.20%0%0%0%0%0%0.32%0.30%0.20%0.30%0.20%0.30%0.20%0.80%0.80%0.20%0.40%0.40%0.20%0.40%0%0.20%0%0%0.20%0.70%0.20%0.80%0.20%0.20%0%0%0%0%0.20%0.20%0.20%0.20%0.20%0.20%0.70%0%0%0.20%0.20%0.20%0%0.20%0.20%0.20%0.60%0.20%0.20%0.60%0.80%0%0%0%0.20%0.20%0%0.20%0.20%0.60%0.20%0%0%0.20%0%0%0.20%0%0%0%0%0%0%0%0%0%0%0%0%0%0%0%0%0.20%0.70%0.70%0.20%0.20%0%0.20%0%0.20%0.70%0.40%0.10%0.20%0%0%0%0%0%0%0%0%0%0%0%0%0%0%0.20%0.20%0.20%0.20%0.40%0.20%0.20%0.20%0.60%0.20%0%0.20%0.20%0%0%0%0%0.20%0%0%0%0%0%0%0.30%0.80%0.70%0.20%0.20%0%0.20%0%0%0%0.20%0.20%0.15%0%0%0.20%0.20%0%0.20%0%0%0%0%0%0%0%0.20%0.20%0%0%0%0%0%0.20%0%0.20%0.20%0%0%0%0.20%0%0.20%0.32%0.20%0%0%0%0%0%0%0%0%0.20%0.20%0%0%0.20%0%0.20%0.20%0%0.20%0%0%0%0%0%0%0%0.20%0%0.20%0%0%'"
      ]
     },
     "execution_count": 26,
     "metadata": {},
     "output_type": "execute_result"
    }
   ],
   "source": [
    "s.Discount.sum()"
   ]
  },
  {
   "cell_type": "code",
   "execution_count": 27,
   "id": "fb8a727c",
   "metadata": {},
   "outputs": [],
   "source": [
    "def clean(string):\n",
    "    clean=\"\".join(filter(lambda x: x!='%', string))\n",
    "    return float(clean)"
   ]
  },
  {
   "cell_type": "code",
   "execution_count": 29,
   "id": "3964aed5",
   "metadata": {},
   "outputs": [],
   "source": [
    "s['Discount']= s['Discount'].apply(clean)"
   ]
  },
  {
   "cell_type": "code",
   "execution_count": 30,
   "id": "cc4cc29a",
   "metadata": {},
   "outputs": [
    {
     "data": {
      "text/plain": [
       "1561.09"
      ]
     },
     "execution_count": 30,
     "metadata": {},
     "output_type": "execute_result"
    }
   ],
   "source": [
    "s.Discount.sum()"
   ]
  },
  {
   "cell_type": "code",
   "execution_count": 31,
   "id": "1df1add7",
   "metadata": {},
   "outputs": [
    {
     "data": {
      "text/plain": [
       "Order ID       object\n",
       "Ship Mode      object\n",
       "Segment        object\n",
       "Region         object\n",
       "Product ID     object\n",
       "Sales         float64\n",
       "Quantity        int64\n",
       "Discount      float64\n",
       "Profit        float64\n",
       "dtype: object"
      ]
     },
     "execution_count": 31,
     "metadata": {},
     "output_type": "execute_result"
    }
   ],
   "source": [
    "s.dtypes"
   ]
  },
  {
   "cell_type": "code",
   "execution_count": 32,
   "id": "383558b0",
   "metadata": {},
   "outputs": [],
   "source": [
    "## Q4) Plot a pie-chart to find the Ship Mode through which most of the orders are being delivered."
   ]
  },
  {
   "cell_type": "code",
   "execution_count": 40,
   "id": "a404f58b",
   "metadata": {},
   "outputs": [
    {
     "data": {
      "text/plain": [
       "Standard Class    5968\n",
       "Second Class      1945\n",
       "First Class       1538\n",
       "Same Day           543\n",
       "Name: Ship Mode, dtype: int64"
      ]
     },
     "execution_count": 40,
     "metadata": {},
     "output_type": "execute_result"
    }
   ],
   "source": [
    "s['Ship Mode'].value_counts()"
   ]
  },
  {
   "cell_type": "code",
   "execution_count": 42,
   "id": "ff5ed832",
   "metadata": {},
   "outputs": [
    {
     "data": {
      "image/png": "[encoded data removed]",
      "text/plain": [
       "<Figure size 432x288 with 1 Axes>"
      ]
     },
     "metadata": {},
     "output_type": "display_data"
    }
   ],
   "source": [
    "s['Ship Mode'].value_counts().plot.pie()\n",
    "plt.show() ## Standard class"
   ]
  },
  {
   "cell_type": "code",
   "execution_count": 43,
   "id": "1b5a8177",
   "metadata": {},
   "outputs": [],
   "source": [
    "# Q5) Plot a bar chart comparing the average Discount across all the Regions and report back the Region getting the highest average discount\n",
    "\n",
    "##Note - You need to clean the Discount column first"
   ]
  },
  {
   "cell_type": "code",
   "execution_count": 52,
   "id": "fd885d38",
   "metadata": {},
   "outputs": [
    {
     "data": {
      "text/plain": [
       "West       3203\n",
       "East       2848\n",
       "Central    2323\n",
       "South      1620\n",
       "Name: Region, dtype: int64"
      ]
     },
     "execution_count": 52,
     "metadata": {},
     "output_type": "execute_result"
    }
   ],
   "source": [
    "s['Region'].value_counts()"
   ]
  },
  {
   "cell_type": "code",
   "execution_count": 55,
   "id": "76f18410",
   "metadata": {},
   "outputs": [
    {
     "data": {
      "image/png": "[encoded data removed]",
      "text/plain": [
       "<Figure size 432x288 with 1 Axes>"
      ]
     },
     "metadata": {
      "needs_background": "light"
     },
     "output_type": "display_data"
    }
   ],
   "source": [
    "plt.scatter(s.Region, s.Discount)\n",
    "plt.show()"
   ]
  },
  {
   "cell_type": "code",
   "execution_count": 72,
   "id": "467a20e9",
   "metadata": {},
   "outputs": [
    {
     "data": {
      "image/png": "[encoded data removed]",
      "text/plain": [
       "<Figure size 432x288 with 1 Axes>"
      ]
     },
     "metadata": {
      "needs_background": "light"
     },
     "output_type": "display_data"
    }
   ],
   "source": [
    "### Q3- Region vs discount with mean\n",
    "\n",
    "sns.barplot(s[\"Region\"],s[\"Discount\"], estimator= np.mean)\n",
    "plt.show()"
   ]
  },
  {
   "cell_type": "code",
   "execution_count": 58,
   "id": "5b921238",
   "metadata": {},
   "outputs": [
    {
     "data": {
      "image/png": "[encoded data removed]",
      "text/plain": [
       "<Figure size 432x288 with 1 Axes>"
      ]
     },
     "metadata": {
      "needs_background": "light"
     },
     "output_type": "display_data"
    }
   ],
   "source": [
    "### Q3- Region vs discount with mean\n",
    "\n",
    "sns.barplot(data= s, x='Region', y='Discount')\n",
    "plt.show()"
   ]
  },
  {
   "cell_type": "code",
   "execution_count": 60,
   "id": "c7916585",
   "metadata": {},
   "outputs": [],
   "source": [
    "### Jointplot\n",
    "#The following Jointplot was plotted using seaborn for 'Sales' vs 'Profit' from the dataset loaded to the 'df2' dataframe."
   ]
  },
  {
   "cell_type": "code",
   "execution_count": 62,
   "id": "6c888c6e",
   "metadata": {},
   "outputs": [
    {
     "data": {
      "image/png": "[encoded data removed]",
      "text/plain": [
       "<Figure size 432x432 with 3 Axes>"
      ]
     },
     "metadata": {
      "needs_background": "light"
     },
     "output_type": "display_data"
    }
   ],
   "source": [
    "## Q1 \n",
    "\n",
    "sns.jointplot(s.Sales, s.Profit, color='blue')\n",
    "plt.show()"
   ]
  },
  {
   "cell_type": "code",
   "execution_count": 63,
   "id": "f28e3d24",
   "metadata": {},
   "outputs": [],
   "source": [
    "### Now suppose that you want to plot only those data points for which the Sales were less than 15,000 and that made a loss. Which of the following codes will achieve this?"
   ]
  },
  {
   "cell_type": "code",
   "execution_count": 64,
   "id": "f36c5153",
   "metadata": {},
   "outputs": [
    {
     "data": {
      "image/png": "[encoded data removed]",
      "text/plain": [
       "<Figure size 432x432 with 3 Axes>"
      ]
     },
     "metadata": {
      "needs_background": "light"
     },
     "output_type": "display_data"
    }
   ],
   "source": [
    "### Q1. profit<0 & Sales <15000\n",
    "\n",
    "s1 = s[(s.Profit < 0) & (s.Sales < 15000)]\n",
    "sns.jointplot('Sales', 'Profit', s1)\n",
    "plt.show()"
   ]
  },
  {
   "cell_type": "code",
   "execution_count": 68,
   "id": "3623acec",
   "metadata": {},
   "outputs": [
    {
     "data": {
      "text/plain": [
       "<AxesSubplot:xlabel='Segment', ylabel='Sales'>"
      ]
     },
     "execution_count": 68,
     "metadata": {},
     "output_type": "execute_result"
    },
    {
     "data": {
      "image/png": "[encoded data removed]",
      "text/plain": [
       "<Figure size 432x288 with 1 Axes>"
      ]
     },
     "metadata": {
      "needs_background": "light"
     },
     "output_type": "display_data"
    }
   ],
   "source": [
    "### Q2- Avg sales accross all segment\n",
    "\n",
    "sns.barplot(data = s, x = 'Segment', y = 'Sales', estimator = np.mean)"
   ]
  },
  {
   "cell_type": "code",
   "execution_count": 70,
   "id": "b773e39a",
   "metadata": {},
   "outputs": [
    {
     "data": {
      "text/plain": [
       "<AxesSubplot:xlabel='Segment', ylabel='Sales'>"
      ]
     },
     "execution_count": 70,
     "metadata": {},
     "output_type": "execute_result"
    },
    {
     "data": {
      "image/png": "[encoded data removed]",
      "text/plain": [
       "<Figure size 432x288 with 1 Axes>"
      ]
     },
     "metadata": {
      "needs_background": "light"
     },
     "output_type": "display_data"
    }
   ],
   "source": [
    "##Q2- Avg sales accross all segment\n",
    "\n",
    "sns.barplot(data = s, x = 'Segment', y = 'Sales')"
   ]
  },
  {
   "cell_type": "code",
   "execution_count": null,
   "id": "7654f858",
   "metadata": {},
   "outputs": [],
   "source": []
  }
 ],
 "metadata": {
  "kernelspec": {
   "display_name": "Python 3 (ipykernel)",
   "language": "python",
   "name": "python3"
  },
  "language_info": {
   "codemirror_mode": {
    "name": "ipython",
    "version": 3
   },
   "file_extension": ".py",
   "mimetype": "text/x-python",
   "name": "python",
   "nbconvert_exporter": "python",
   "pygments_lexer": "ipython3",
   "version": "3.9.12"
  }
 },
 "nbformat": 4,
 "nbformat_minor": 5
}
