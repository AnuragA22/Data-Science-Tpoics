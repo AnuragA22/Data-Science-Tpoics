{
 "cells": [
  {
   "cell_type": "code",
   "execution_count": 1,
   "metadata": {},
   "outputs": [
    {
     "name": "stdout",
     "output_type": "stream",
     "text": [
      "[4, 8, 12]\n"
     ]
    }
   ],
   "source": [
    "print([x for x in range(1,15) if x%4==0])"
   ]
  },
  {
   "cell_type": "code",
   "execution_count": 2,
   "metadata": {},
   "outputs": [
    {
     "name": "stdout",
     "output_type": "stream",
     "text": [
      "34\n",
      "vote\n"
     ]
    }
   ],
   "source": [
    "a= int(input())\n",
    "if a>18:\n",
    "    print('vote')\n",
    "else:\n",
    "    print('no')\n"
   ]
  },
  {
   "cell_type": "code",
   "execution_count": 3,
   "metadata": {},
   "outputs": [
    {
     "name": "stdout",
     "output_type": "stream",
     "text": [
      "can vote\n"
     ]
    }
   ],
   "source": [
    "print('can vote' if a>=18 else 'cant vote')"
   ]
  },
  {
   "cell_type": "code",
   "execution_count": 4,
   "metadata": {},
   "outputs": [
    {
     "name": "stdout",
     "output_type": "stream",
     "text": [
      "242\n",
      "even\n"
     ]
    }
   ],
   "source": [
    "a= int(input())\n",
    "print('even' if a%2==0 else 'odd')"
   ]
  },
  {
   "cell_type": "code",
   "execution_count": 5,
   "metadata": {},
   "outputs": [
    {
     "data": {
      "text/plain": [
       "{(1, 2), 1, 2, 3, 4, 5, 6, False, 'a', 'b'}"
      ]
     },
     "execution_count": 5,
     "metadata": {},
     "output_type": "execute_result"
    }
   ],
   "source": [
    "a= {1,2,2,3,4,5,6,6, 'a','b', False, (1,2)}\n",
    "a"
   ]
  },
  {
   "cell_type": "code",
   "execution_count": 6,
   "metadata": {},
   "outputs": [
    {
     "name": "stdout",
     "output_type": "stream",
     "text": [
      "[100, 200, 300, 400, 500]\n"
     ]
    }
   ],
   "source": [
    "print([x*100 for x in range(1,6)])"
   ]
  },
  {
   "cell_type": "code",
   "execution_count": 7,
   "metadata": {},
   "outputs": [
    {
     "name": "stdout",
     "output_type": "stream",
     "text": [
      "[4, 8, 12, 16, 20, 24, 28, 32, 36, 40]\n"
     ]
    }
   ],
   "source": [
    "print([x for x in range(1,41) if x%4==0])"
   ]
  },
  {
   "cell_type": "code",
   "execution_count": 8,
   "metadata": {},
   "outputs": [
    {
     "name": "stdout",
     "output_type": "stream",
     "text": [
      "['odd', 'even', 'odd', 'even', 'odd', 'even']\n"
     ]
    }
   ],
   "source": [
    "print(['even' if x%2==0 else 'odd'for x in range(1,20) if x%3==0])"
   ]
  },
  {
   "cell_type": "code",
   "execution_count": 9,
   "metadata": {},
   "outputs": [
    {
     "name": "stdout",
     "output_type": "stream",
     "text": [
      "['odd', 'even', 'odd', 'even', 'odd', 'even', 'odd', 'even', 'odd']\n"
     ]
    }
   ],
   "source": [
    "print(['even' if x%2==0 else 'odd'for x in range(1,30) if x%3==0])"
   ]
  },
  {
   "cell_type": "code",
   "execution_count": 2,
   "metadata": {},
   "outputs": [
    {
     "name": "stdout",
     "output_type": "stream",
     "text": [
      "['red', 'green', 'indigo', 'orange', 'yellow']\n",
      "['indigo', 'orange']\n"
     ]
    }
   ],
   "source": [
    "col= ['red', 'green', 'indigo', 'orange', 'yellow']\n",
    "print([ c for c in col])\n",
    "print([i for i in col if i[0] in 'aeiou'])"
   ]
  },
  {
   "cell_type": "code",
   "execution_count": 15,
   "metadata": {},
   "outputs": [
    {
     "name": "stdout",
     "output_type": "stream",
     "text": [
      "['indigo', 'orange']\n"
     ]
    }
   ],
   "source": [
    "print([ i for i in col if i[0] in 'aeiou'])"
   ]
  },
  {
   "cell_type": "code",
   "execution_count": 4,
   "metadata": {},
   "outputs": [
    {
     "name": "stdout",
     "output_type": "stream",
     "text": [
      "['iph*one', 'ip*ad']\n"
     ]
    }
   ],
   "source": [
    "gift= 'bread iph*one butter ip*ad milk'\n",
    "print([i for i in list(gift.split(' ')) if '*' in i])"
   ]
  },
  {
   "cell_type": "code",
   "execution_count": 6,
   "metadata": {},
   "outputs": [
    {
     "name": "stdout",
     "output_type": "stream",
     "text": [
      "[1, 4, 9, 16, 25, 36, 49, 64, 81]\n"
     ]
    }
   ],
   "source": [
    "print([x**2 for x in range(1,10)])"
   ]
  },
  {
   "cell_type": "code",
   "execution_count": 7,
   "metadata": {},
   "outputs": [
    {
     "name": "stdout",
     "output_type": "stream",
     "text": [
      "{1: 1, 2: 4, 3: 9, 4: 16, 5: 25, 6: 36, 7: 49, 8: 64, 9: 81}\n"
     ]
    }
   ],
   "source": [
    "## Dict comprehensions\n",
    "\n",
    "print({x:x**2 for x in range(1,10)})"
   ]
  },
  {
   "cell_type": "code",
   "execution_count": 8,
   "metadata": {},
   "outputs": [
    {
     "name": "stdout",
     "output_type": "stream",
     "text": [
      "{80: 80000, 87: 87000, 89: 89000, 31: 31000, 97: 97000}\n"
     ]
    }
   ],
   "source": [
    "wt = [80,87,89,31,97]\n",
    "print({x:x*1000 for x in wt})"
   ]
  },
  {
   "cell_type": "code",
   "execution_count": 11,
   "metadata": {},
   "outputs": [
    {
     "name": "stdout",
     "output_type": "stream",
     "text": [
      "{'milk': 210, 'apples': 385.0, 'bread': 280}\n"
     ]
    }
   ],
   "source": [
    "groceries = {'milk':3, 'apples':5.5, 'bread':4}\n",
    "# get output as price in rupees [1 dollar = 70 rupees]\n",
    "print({i:groceries[i]*70 for i in groceries})"
   ]
  },
  {
   "cell_type": "code",
   "execution_count": 21,
   "metadata": {},
   "outputs": [
    {
     "name": "stdout",
     "output_type": "stream",
     "text": [
      "['milk', 'apples', 'bread']\n"
     ]
    }
   ],
   "source": [
    "print([i for i in groceries ])"
   ]
  },
  {
   "cell_type": "code",
   "execution_count": 17,
   "metadata": {},
   "outputs": [
    {
     "name": "stdout",
     "output_type": "stream",
     "text": [
      "['apples']\n"
     ]
    }
   ],
   "source": [
    "print([i for i in groceries if i[0] in 'aeiou'])"
   ]
  },
  {
   "cell_type": "code",
   "execution_count": 18,
   "metadata": {},
   "outputs": [
    {
     "name": "stdout",
     "output_type": "stream",
     "text": [
      "[5.5]\n"
     ]
    }
   ],
   "source": [
    "print([groceries[i] for i in groceries if i[0] in 'aeiou'])"
   ]
  },
  {
   "cell_type": "code",
   "execution_count": 19,
   "metadata": {},
   "outputs": [
    {
     "name": "stdout",
     "output_type": "stream",
     "text": [
      "{5.5}\n"
     ]
    }
   ],
   "source": [
    "print({groceries[i] for i in groceries if i[0] in 'aeiou'})"
   ]
  },
  {
   "cell_type": "code",
   "execution_count": 20,
   "metadata": {},
   "outputs": [
    {
     "name": "stdout",
     "output_type": "stream",
     "text": [
      "{'apples'}\n"
     ]
    }
   ],
   "source": [
    "print({i for i in groceries if i[0] in 'aeiou'})"
   ]
  },
  {
   "cell_type": "code",
   "execution_count": 32,
   "metadata": {},
   "outputs": [
    {
     "name": "stdout",
     "output_type": "stream",
     "text": [
      "25\n"
     ]
    }
   ],
   "source": [
    "## Lambda\n",
    "a= lambda x:x**2\n",
    "print(a(5))"
   ]
  },
  {
   "cell_type": "code",
   "execution_count": 31,
   "metadata": {},
   "outputs": [
    {
     "name": "stdout",
     "output_type": "stream",
     "text": [
      "6\n"
     ]
    }
   ],
   "source": [
    "b= lambda x,y :x*y\n",
    "print(b(2,3))"
   ]
  },
  {
   "cell_type": "code",
   "execution_count": 39,
   "metadata": {},
   "outputs": [
    {
     "name": "stdout",
     "output_type": "stream",
     "text": [
      "False\n",
      "True\n"
     ]
    }
   ],
   "source": [
    "# exercise: write a lambda function to check if number is even or odd\n",
    "# return bool True if even and False if odd // boolean function (only return bool)\n",
    "\n",
    "a= lambda x: 'True' if x%2==0 else'False'\n",
    "print(a(5))\n",
    "print(a(86))"
   ]
  },
  {
   "cell_type": "code",
   "execution_count": 40,
   "metadata": {},
   "outputs": [
    {
     "name": "stdout",
     "output_type": "stream",
     "text": [
      "True\n",
      "True\n",
      "False\n"
     ]
    }
   ],
   "source": [
    "a= lambda x: x%2==0\n",
    "print(a(4))\n",
    "print(a(878))\n",
    "print(a(867))"
   ]
  },
  {
   "cell_type": "code",
   "execution_count": 42,
   "metadata": {},
   "outputs": [
    {
     "name": "stdout",
     "output_type": "stream",
     "text": [
      "5\n",
      "8\n",
      "10\n"
     ]
    }
   ],
   "source": [
    "a= lambda x,y: x+y\n",
    "print(a(2,3))\n",
    "print(a(3,5))\n",
    "print(a(4,6))"
   ]
  },
  {
   "cell_type": "code",
   "execution_count": 45,
   "metadata": {},
   "outputs": [
    {
     "name": "stdout",
     "output_type": "stream",
     "text": [
      "5\n",
      "-100\n",
      "0.989\n",
      "0.0011\n"
     ]
    }
   ],
   "source": [
    "a= lambda a,b: a if a>b else b\n",
    "print(a(3,5))\n",
    "print(a(-100,-101))\n",
    "print(a(0.989,0.876))\n",
    "print(a(0.001,0.0011))"
   ]
  },
  {
   "cell_type": "code",
   "execution_count": 46,
   "metadata": {},
   "outputs": [
    {
     "name": "stdout",
     "output_type": "stream",
     "text": [
      "[1, 4, 9, 16, 25]\n",
      "(1, 4, 9, 16, 25)\n",
      "{1, 4, 9, 16, 25}\n"
     ]
    }
   ],
   "source": [
    "### MAP Filters & Reduce\n",
    "\n",
    "l= [1,2,3,4,5]\n",
    "print(list(map(lambda x: x**2, l)))\n",
    "print(tuple(map(lambda x: x**2, l)))\n",
    "print(set(map(lambda x: x**2, l)))"
   ]
  },
  {
   "cell_type": "code",
   "execution_count": 50,
   "metadata": {},
   "outputs": [
    {
     "name": "stdout",
     "output_type": "stream",
     "text": [
      "1 2 3 4 5 \n",
      "[1, 2, 3, 4, 5]\n"
     ]
    }
   ],
   "source": [
    "l= input()\n",
    "l1= l.split()\n",
    "\n",
    "print(list(map(int,l1)))"
   ]
  },
  {
   "cell_type": "code",
   "execution_count": 52,
   "metadata": {},
   "outputs": [
    {
     "name": "stdout",
     "output_type": "stream",
     "text": [
      "[2, 4]\n"
     ]
    }
   ],
   "source": [
    "l= [1,2,3,4,5]\n",
    "print(list(filter(lambda n: n%2==0, l)))"
   ]
  },
  {
   "cell_type": "code",
   "execution_count": 55,
   "metadata": {},
   "outputs": [
    {
     "name": "stdout",
     "output_type": "stream",
     "text": [
      "['iph*one', 'ip*ad']\n"
     ]
    }
   ],
   "source": [
    "gbox = 'bread iph*one butter ip*ad milk'\n",
    "print(list(filter(lambda item: '*' in item, gbox.split())))"
   ]
  },
  {
   "cell_type": "code",
   "execution_count": 58,
   "metadata": {},
   "outputs": [
    {
     "name": "stdout",
     "output_type": "stream",
     "text": [
      "15\n",
      "120\n",
      "-13\n"
     ]
    }
   ],
   "source": [
    "### Reduce\n",
    "\n",
    "from functools import reduce\n",
    "\n",
    "l= [1,2,3,4,5]\n",
    "print(reduce(lambda x,y: x+y, l))\n",
    "print(reduce(lambda x,y: x*y, l))\n",
    "print(reduce(lambda x,y: x-y, l))"
   ]
  },
  {
   "cell_type": "code",
   "execution_count": 60,
   "metadata": {},
   "outputs": [
    {
     "name": "stdout",
     "output_type": "stream",
     "text": [
      "120\n"
     ]
    }
   ],
   "source": [
    "f= lambda x,y: x*y\n",
    "q= reduce(f,l)\n",
    "print(q)"
   ]
  },
  {
   "cell_type": "code",
   "execution_count": 61,
   "metadata": {},
   "outputs": [
    {
     "name": "stdout",
     "output_type": "stream",
     "text": [
      "5\n"
     ]
    }
   ],
   "source": [
    "print(reduce(lambda x,y: x if x>y else y,l))"
   ]
  },
  {
   "cell_type": "code",
   "execution_count": 66,
   "metadata": {},
   "outputs": [
    {
     "ename": "TypeError",
     "evalue": "reduce expected at least 2 arguments, got 1",
     "output_type": "error",
     "traceback": [
      "\u001b[1;31m---------------------------------------------------------------------------\u001b[0m",
      "\u001b[1;31mTypeError\u001b[0m                                 Traceback (most recent call last)",
      "\u001b[1;32m<ipython-input-66-5fbc0be18ec8>\u001b[0m in \u001b[0;36m<module>\u001b[1;34m\u001b[0m\n\u001b[1;32m----> 1\u001b[1;33m \u001b[0mprint\u001b[0m\u001b[1;33m(\u001b[0m\u001b[0mreduce\u001b[0m\u001b[1;33m(\u001b[0m\u001b[0mfilter\u001b[0m\u001b[1;33m(\u001b[0m \u001b[1;32mlambda\u001b[0m \u001b[0mx\u001b[0m\u001b[1;33m,\u001b[0m\u001b[0my\u001b[0m\u001b[1;33m:\u001b[0m\u001b[0mx\u001b[0m\u001b[1;33m+\u001b[0m\u001b[0my\u001b[0m \u001b[1;33m(\u001b[0m\u001b[1;32mlambda\u001b[0m \u001b[0mx\u001b[0m\u001b[1;33m:\u001b[0m\u001b[0mx\u001b[0m\u001b[1;33m%\u001b[0m\u001b[1;36m2\u001b[0m\u001b[1;33m==\u001b[0m\u001b[1;36m0\u001b[0m\u001b[1;33m)\u001b[0m\u001b[1;33m,\u001b[0m\u001b[0ml\u001b[0m\u001b[1;33m)\u001b[0m\u001b[1;33m)\u001b[0m\u001b[1;33m)\u001b[0m\u001b[1;33m\u001b[0m\u001b[1;33m\u001b[0m\u001b[0m\n\u001b[0m",
      "\u001b[1;31mTypeError\u001b[0m: reduce expected at least 2 arguments, got 1"
     ]
    }
   ],
   "source": [
    "print(reduce(filter( lambda x,y:x+y (lambda x:x%2==0),l)))"
   ]
  },
  {
   "cell_type": "code",
   "execution_count": 1,
   "metadata": {},
   "outputs": [
    {
     "name": "stdout",
     "output_type": "stream",
     "text": [
      "Counter({'a': 400, 'b': 400, 'd': 400, 'c': 300})\n"
     ]
    }
   ],
   "source": [
    "## Add dictionaries values\n",
    "\n",
    "from collections import Counter\n",
    "d1 = {'a': 100, 'b': 200, 'c':300}\n",
    "d2 = {'a': 300, 'b': 200, 'd':400}\n",
    "d = Counter(d1) + Counter(d2)\n",
    "print(d)"
   ]
  },
  {
   "cell_type": "code",
   "execution_count": 2,
   "metadata": {},
   "outputs": [
    {
     "name": "stdout",
     "output_type": "stream",
     "text": [
      "{'a': 400, 'b': 400, 'd': 400}\n"
     ]
    }
   ],
   "source": [
    "for key in d2:\n",
    "    if key in d1:\n",
    "        d2[key] = d2[key] + d1[key]\n",
    "    else:\n",
    "        pass\n",
    "         \n",
    "print(d2)"
   ]
  },
  {
   "cell_type": "code",
   "execution_count": 6,
   "metadata": {},
   "outputs": [
    {
     "name": "stdout",
     "output_type": "stream",
     "text": [
      "{'a': 700, 'b': 800, 'd': 400}\n",
      "{'a': 700, 'b': 1000, 'd': 400}\n"
     ]
    }
   ],
   "source": [
    "for key in d2:\n",
    "    if key in d1:\n",
    "        d2[key] = d2[key] + d1[key]\n",
    "        print(d2)"
   ]
  },
  {
   "cell_type": "code",
   "execution_count": 10,
   "metadata": {},
   "outputs": [
    {
     "name": "stdout",
     "output_type": "stream",
     "text": [
      "{'a': 300, 'b': 200, 'c': 300, 'd': 400}\n"
     ]
    }
   ],
   "source": [
    "d1 = {'a': 100, 'b': 200, 'c':300}\n",
    "d2 = {'a': 300, 'b': 200, 'd':400}\n",
    "d1.update(d2)\n",
    "d2.update(d1)\n",
    "print(d1)"
   ]
  },
  {
   "cell_type": "code",
   "execution_count": 11,
   "metadata": {},
   "outputs": [
    {
     "name": "stdout",
     "output_type": "stream",
     "text": [
      "{'a': 300, 'b': 200, 'd': 400, 'c': 300}\n"
     ]
    }
   ],
   "source": [
    "d2.update(d1)\n",
    "print(d2)"
   ]
  },
  {
   "cell_type": "code",
   "execution_count": 12,
   "metadata": {},
   "outputs": [
    {
     "name": "stdout",
     "output_type": "stream",
     "text": [
      "Counter({2: 4, 6: 3, 1: 2, 3: 2, 5: 2, 4: 1, 7: 1})\n"
     ]
    }
   ],
   "source": [
    "l= [1,1,2,2,2,2,3,3,4,5,5,6,6,6,7]\n",
    "l1= Counter(l)\n",
    "print(l1)"
   ]
  },
  {
   "cell_type": "code",
   "execution_count": 13,
   "metadata": {},
   "outputs": [
    {
     "name": "stdout",
     "output_type": "stream",
     "text": [
      "[(2, 4), (6, 3), (1, 2), (3, 2), (5, 2), (4, 1), (7, 1)]\n"
     ]
    }
   ],
   "source": [
    "print(l1.most_common())"
   ]
  },
  {
   "cell_type": "code",
   "execution_count": 15,
   "metadata": {},
   "outputs": [
    {
     "name": "stdout",
     "output_type": "stream",
     "text": [
      "Counter({4: 5, 3: 3, 2: 2, 7: 2, 1: 1, 5: 1, 6: 1, 9: 1, 8: 1, 0: 1})\n",
      "[(4, 5), (3, 3), (2, 2), (7, 2), (1, 1), (5, 1), (6, 1), (9, 1), (8, 1), (0, 1)]\n"
     ]
    }
   ],
   "source": [
    "l= [2,3,3,4,4,7,7,1,2,3,4,4,4,5,6,9,8,0]\n",
    "l1= Counter(l)\n",
    "print(l1)\n",
    "print(l1.most_common())"
   ]
  },
  {
   "cell_type": "code",
   "execution_count": 22,
   "metadata": {},
   "outputs": [
    {
     "name": "stdout",
     "output_type": "stream",
     "text": [
      "Counter({'one': 476, 'sam': 365, 'nokia': 266, 'moto': 252})\n",
      "dict_keys(['sam', 'one', 'nokia', 'moto'])\n",
      "dict_values([365, 476, 266, 252])\n",
      "4\n",
      "sam moto None\n"
     ]
    }
   ],
   "source": [
    "s1= {'sam':234, 'one':231, 'nokia':24, 'moto':131}\n",
    "s2= {'sam':131, 'one':245, 'nokia':242, 'moto':121}\n",
    "d= Counter(s1)+ Counter(s2)\n",
    "print(d)\n",
    "print(d.keys())\n",
    "print(d.values())\n",
    "print(max(d), min(d), print(len(d)))"
   ]
  },
  {
   "cell_type": "code",
   "execution_count": 20,
   "metadata": {},
   "outputs": [
    {
     "name": "stdout",
     "output_type": "stream",
     "text": [
      "Counter({'one': 476, 'sam': 365, 'nokia': 266, 'moto': 252, 'vivo': 133})\n"
     ]
    }
   ],
   "source": [
    "d['vivo'] =133\n",
    "print(d)"
   ]
  },
  {
   "cell_type": "code",
   "execution_count": 25,
   "metadata": {},
   "outputs": [
    {
     "name": "stdout",
     "output_type": "stream",
     "text": [
      "sam moto 4\n"
     ]
    }
   ],
   "source": [
    "print(max(d), min(d), len(d))"
   ]
  },
  {
   "cell_type": "code",
   "execution_count": null,
   "metadata": {},
   "outputs": [],
   "source": []
  }
 ],
 "metadata": {
  "kernelspec": {
   "display_name": "Python 3 (ipykernel)",
   "language": "python",
   "name": "python3"
  },
  "language_info": {
   "codemirror_mode": {
    "name": "ipython",
    "version": 3
   },
   "file_extension": ".py",
   "mimetype": "text/x-python",
   "name": "python",
   "nbconvert_exporter": "python",
   "pygments_lexer": "ipython3",
   "version": "3.9.12"
  }
 },
 "nbformat": 4,
 "nbformat_minor": 2
}
