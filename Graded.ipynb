{
 "cells": [
  {
   "cell_type": "code",
   "execution_count": 31,
   "metadata": {},
   "outputs": [
    {
     "name": "stdout",
     "output_type": "stream",
     "text": [
      "Hello Anurag its Graded\n"
     ]
    }
   ],
   "source": [
    "print('Hello Anurag its Graded')"
   ]
  },
  {
   "cell_type": "code",
   "execution_count": 10,
   "metadata": {},
   "outputs": [
    {
     "name": "stdout",
     "output_type": "stream",
     "text": [
      "{40, 95}\n"
     ]
    }
   ],
   "source": [
    "C = [7, 8, 9, 18, 20, 21, 25, 26, 27, 31, 32, 34, 35, 36, 40, 43, 45, 47, 53, 58, 62, 67, 68, 71, 72, 74, 75, 76, 80, 81, 82, 90, 93, 95, 97, 99]\n",
    "F = [1, 7, 10, 13, 16, 22, 24, 29, 30, 32, 34, 39, 40, 43, 44, 48, 56, 60, 65, 68, 69, 73, 77, 78, 90, 93, 94, 95, 96]\n",
    "H = [5, 12, 14, 17, 20, 21, 22, 25, 28, 30, 37, 38, 39, 40, 42, 44, 57, 59, 61, 62, 67, 71, 75, 76, 77, 82, 83, 86, 87, 92, 94, 95]\n",
    "\n",
    "c= set(C)\n",
    "f= set(F)\n",
    "h= set(H)\n",
    "\n",
    "p=(c & f & h)\n",
    "print(p)## common among all three"
   ]
  },
  {
   "cell_type": "code",
   "execution_count": 2,
   "metadata": {},
   "outputs": [
    {
     "name": "stdout",
     "output_type": "stream",
     "text": [
      "{67, 71, 40, 75, 76, 82, 20, 21, 25, 62, 95}\n"
     ]
    }
   ],
   "source": [
    "d= (c & h) ## who plays c and h\n",
    "print(d)"
   ]
  },
  {
   "cell_type": "code",
   "execution_count": 3,
   "metadata": {},
   "outputs": [
    {
     "name": "stdout",
     "output_type": "stream",
     "text": [
      "{67, 71, 75, 76, 82, 20, 21, 25, 62}\n",
      "[20, 21, 25, 62, 67, 71, 75, 76, 82]\n"
     ]
    }
   ],
   "source": [
    "e= (d-f) # who plays c and h but not f\n",
    "print(e)\n",
    "print(sorted(e))"
   ]
  },
  {
   "cell_type": "code",
   "execution_count": 12,
   "metadata": {},
   "outputs": [
    {
     "name": "stdout",
     "output_type": "stream",
     "text": [
      "{67, 68, 71, 7, 75, 76, 77, 82, 20, 21, 22, 25, 90, 93, 94, 95, 32, 30, 34, 39, 40, 43, 44, 62}\n",
      "[7, 20, 21, 22, 25, 30, 32, 34, 39, 43, 44, 62, 67, 68, 71, 75, 76, 77, 82, 90, 93, 94]\n",
      "22\n"
     ]
    }
   ],
   "source": [
    "l= (c&h|c&f|h&f) ## who playes only 2 sports - plyers who playes all sports\n",
    "k= (l-p)\n",
    "print(l)\n",
    "print(sorted(k))\n",
    "print(len(k))\n"
   ]
  },
  {
   "cell_type": "code",
   "execution_count": 17,
   "metadata": {},
   "outputs": [
    {
     "name": "stdout",
     "output_type": "stream",
     "text": [
      "{39, 44, 77, 22, 30, 94}\n",
      "{32, 34, 68, 7, 43, 90, 93}\n",
      "{67, 71, 75, 76, 82, 20, 21, 25, 62}\n"
     ]
    }
   ],
   "source": [
    "print(l-c)\n",
    "print(l-h)\n",
    "print(l-f)"
   ]
  },
  {
   "cell_type": "code",
   "execution_count": 18,
   "metadata": {},
   "outputs": [
    {
     "name": "stdout",
     "output_type": "stream",
     "text": [
      "{97, 35, 36, 58, 99, 8, 9, 72, 74, 45, 47, 80, 81, 18, 53, 26, 27, 31}\n"
     ]
    }
   ],
   "source": [
    "print(c-h-f)"
   ]
  },
  {
   "cell_type": "code",
   "execution_count": 27,
   "metadata": {},
   "outputs": [
    {
     "name": "stdout",
     "output_type": "stream",
     "text": [
      "20\n"
     ]
    }
   ],
   "source": [
    "if len(C)>len(F):\n",
    "    longer=C\n",
    "if len(F)>len(H):\n",
    "    longer=F\n",
    "if len(H)>len(C):\n",
    "    longer=H\n",
    "else:\n",
    "    longer=C\n",
    "\n",
    "for i in longer:\n",
    "    if C.count(i)!=F.count(i)!=H.count(i):\n",
    "        print(i)\n",
    "        break"
   ]
  },
  {
   "cell_type": "code",
   "execution_count": 20,
   "metadata": {},
   "outputs": [
    {
     "name": "stdout",
     "output_type": "stream",
     "text": [
      "36 29 32\n"
     ]
    }
   ],
   "source": [
    "print(len(C),len(F),len(H))"
   ]
  },
  {
   "cell_type": "code",
   "execution_count": 30,
   "metadata": {},
   "outputs": [
    {
     "name": "stdout",
     "output_type": "stream",
     "text": [
      "{1, 5, 7, 8, 9, 10, 12, 13, 14, 16, 17, 18, 20, 21, 22, 24, 25, 26, 27, 28, 29, 30, 31, 32, 34, 35, 36, 37, 38, 39, 40, 42, 43, 44, 45, 47, 48, 53, 56, 57, 58, 59, 60, 61, 62, 65, 67, 68, 69, 71, 72, 73, 74, 75, 76, 77, 78, 80, 81, 82, 83, 86, 87, 90, 92, 93, 94, 95, 96, 97, 99}\n"
     ]
    },
    {
     "data": {
      "text/plain": [
       "71"
      ]
     },
     "execution_count": 30,
     "metadata": {},
     "output_type": "execute_result"
    }
   ],
   "source": [
    "g= (c|h|f)\n",
    "print(g)\n",
    "len(g)"
   ]
  },
  {
   "cell_type": "code",
   "execution_count": 26,
   "metadata": {},
   "outputs": [
    {
     "name": "stdout",
     "output_type": "stream",
     "text": [
      "2\n",
      "3\n",
      "4\n",
      "6\n",
      "11\n",
      "15\n",
      "19\n",
      "23\n",
      "33\n",
      "41\n",
      "46\n",
      "49\n",
      "50\n",
      "51\n",
      "52\n",
      "54\n",
      "55\n",
      "63\n",
      "64\n",
      "66\n",
      "70\n",
      "79\n",
      "84\n",
      "85\n",
      "88\n",
      "89\n",
      "91\n",
      "98\n",
      "100\n"
     ]
    }
   ],
   "source": [
    "for i in range(1,101):\n",
    "    if i not in g:\n",
    "        print(i)"
   ]
  },
  {
   "cell_type": "code",
   "execution_count": 32,
   "metadata": {},
   "outputs": [
    {
     "name": "stdout",
     "output_type": "stream",
     "text": [
      "[2, 3, 4, 6, 11, 15, 19, 23, 33, 41, 46, 49, 50, 51, 52, 54, 55, 63, 64, 66, 70, 79, 84, 85, 88, 89, 91, 98, 100]\n"
     ]
    }
   ],
   "source": [
    "a= set(range(1,101))\n",
    "print(sorted(a-g))"
   ]
  },
  {
   "cell_type": "code",
   "execution_count": null,
   "metadata": {},
   "outputs": [],
   "source": []
  }
 ],
 "metadata": {
  "kernelspec": {
   "display_name": "Python 3 (ipykernel)",
   "language": "python",
   "name": "python3"
  },
  "language_info": {
   "codemirror_mode": {
    "name": "ipython",
    "version": 3
   },
   "file_extension": ".py",
   "mimetype": "text/x-python",
   "name": "python",
   "nbconvert_exporter": "python",
   "pygments_lexer": "ipython3",
   "version": "3.9.12"
  }
 },
 "nbformat": 4,
 "nbformat_minor": 2
}
